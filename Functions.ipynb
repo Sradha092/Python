{
 "cells": [
  {
   "cell_type": "markdown",
   "id": "fdc47dd8",
   "metadata": {},
   "source": [
    "# Functions"
   ]
  },
  {
   "cell_type": "markdown",
   "id": "3e8c37f1",
   "metadata": {},
   "source": [
    "### return Statement in function\n",
    "\n",
    "- it is optional\n",
    "- if not used default value will be None\n",
    "- if used the the return type of the value will be that stament"
   ]
  },
  {
   "cell_type": "code",
   "execution_count": 1,
   "id": "8caee49d",
   "metadata": {
    "ExecuteTime": {
     "end_time": "2022-01-26T14:10:23.231973Z",
     "start_time": "2022-01-26T14:10:23.224483Z"
    }
   },
   "outputs": [],
   "source": [
    "def my_add():\n",
    "    num1 = int(input(\"Enter 1st number: \"))\n",
    "    num2 = int(input(\"Enter 2nd number: \"))\n",
    "    res = num1+num2\n",
    "    print(res)"
   ]
  },
  {
   "cell_type": "code",
   "execution_count": 2,
   "id": "967d8261",
   "metadata": {
    "ExecuteTime": {
     "end_time": "2022-01-26T14:22:23.049957Z",
     "start_time": "2022-01-26T14:22:20.769464Z"
    }
   },
   "outputs": [
    {
     "name": "stdout",
     "output_type": "stream",
     "text": [
      "Enter 1st number: 45\n",
      "Enter 2nd number: 56\n",
      "101\n"
     ]
    }
   ],
   "source": [
    "my_add()"
   ]
  },
  {
   "cell_type": "code",
   "execution_count": 3,
   "id": "032e4647",
   "metadata": {},
   "outputs": [],
   "source": [
    "# Type of functions\n",
    "    # Builtin function - len, type, id, int, float, eval, input, print etc\n",
    "    # User defined - "
   ]
  },
  {
   "cell_type": "code",
   "execution_count": 4,
   "id": "0b20283c",
   "metadata": {},
   "outputs": [
    {
     "ename": "SyntaxError",
     "evalue": "invalid syntax (Temp/ipykernel_6916/1715688308.py, line 3)",
     "output_type": "error",
     "traceback": [
      "\u001b[1;36m  File \u001b[1;32m\"C:\\Users\\SRADHA\\AppData\\Local\\Temp/ipykernel_6916/1715688308.py\"\u001b[1;36m, line \u001b[1;32m3\u001b[0m\n\u001b[1;33m    def func_name(param1, param2, param3...):\u001b[0m\n\u001b[1;37m                                        ^\u001b[0m\n\u001b[1;31mSyntaxError\u001b[0m\u001b[1;31m:\u001b[0m invalid syntax\n"
     ]
    }
   ],
   "source": [
    "# Syntax of defining the function\n",
    "\n",
    "def func_name(param1, param2, param3...):\n",
    "    code1\n",
    "    code2\n",
    "    code3\n",
    "    code4\n",
    "    ...\n",
    "    return stat\n",
    "\n",
    "# Parameters are optional\n",
    "# Return stat optional\n",
    "# If return stat is not written then function returns None by default\n",
    "# One function can return only once at a time\n"
   ]
  },
  {
   "cell_type": "code",
   "execution_count": null,
   "id": "ee29cfdd",
   "metadata": {},
   "outputs": [],
   "source": [
    "# Syntax of calling the function\n",
    "\n",
    "func_name(args1, args2, args3...)\n",
    "\n",
    "# args is optional\n",
    "\n",
    "# Function definition does not execute the function\n",
    "# Function call executes the function\n"
   ]
  },
  {
   "cell_type": "code",
   "execution_count": 5,
   "id": "6840273c",
   "metadata": {},
   "outputs": [],
   "source": [
    "# Input to the function - parameters and argument\n",
    "    # Parameter - is the variable which holds the argument\n",
    "    # Argument is the actual value\n",
    "\n",
    "# len('Python')\n",
    "\n",
    "\n",
    "# Output to the function - return stat\n"
   ]
  },
  {
   "cell_type": "code",
   "execution_count": 6,
   "id": "980923a7",
   "metadata": {
    "ExecuteTime": {
     "end_time": "2022-01-26T14:29:13.571699Z",
     "start_time": "2022-01-26T14:29:13.566130Z"
    }
   },
   "outputs": [],
   "source": [
    "# a = 3\n",
    "\n",
    "def my_add(num1, num2):\n",
    "    res = num1+num2\n",
    "    return res\n",
    "\n",
    "# Parameters = num1, num2"
   ]
  },
  {
   "cell_type": "code",
   "execution_count": 7,
   "id": "45044c00",
   "metadata": {
    "ExecuteTime": {
     "end_time": "2022-01-26T14:29:15.037459Z",
     "start_time": "2022-01-26T14:29:15.031156Z"
    }
   },
   "outputs": [
    {
     "name": "stdout",
     "output_type": "stream",
     "text": [
      "33\n"
     ]
    }
   ],
   "source": [
    "a = my_add(11, 22)\n",
    "print(a)\n",
    "\n",
    "# Arguments = 11, 22"
   ]
  },
  {
   "cell_type": "code",
   "execution_count": 8,
   "id": "74bd524f",
   "metadata": {
    "ExecuteTime": {
     "end_time": "2022-01-26T14:42:05.396544Z",
     "start_time": "2022-01-26T14:42:05.387186Z"
    }
   },
   "outputs": [],
   "source": [
    "# Positional parameters/arguments\n",
    "# Order should maintained\n",
    "# No of parameters and arguments should match\n",
    "\n",
    "def emp_info(emp_name, emp_id, emp_loc):\n",
    "    print('Employee name is:', emp_name)\n",
    "    print('Employee ID is:', emp_id)\n",
    "    print('Employee Location is:', emp_loc)"
   ]
  },
  {
   "cell_type": "code",
   "execution_count": 9,
   "id": "26aa501c",
   "metadata": {},
   "outputs": [
    {
     "name": "stdout",
     "output_type": "stream",
     "text": [
      "Employee name is: Krishna\n",
      "Employee ID is: 101\n",
      "Employee Location is: BLR\n"
     ]
    }
   ],
   "source": [
    "emp_info('Krishna', 101, 'BLR', )"
   ]
  },
  {
   "cell_type": "code",
   "execution_count": 10,
   "id": "8fe6f76e",
   "metadata": {},
   "outputs": [
    {
     "ename": "TypeError",
     "evalue": "emp_info() missing 1 required positional argument: 'emp_loc'",
     "output_type": "error",
     "traceback": [
      "\u001b[1;31m---------------------------------------------------------------------------\u001b[0m",
      "\u001b[1;31mTypeError\u001b[0m                                 Traceback (most recent call last)",
      "\u001b[1;32m~\\AppData\\Local\\Temp/ipykernel_6916/472771134.py\u001b[0m in \u001b[0;36m<module>\u001b[1;34m\u001b[0m\n\u001b[1;32m----> 1\u001b[1;33m \u001b[0memp_info\u001b[0m\u001b[1;33m(\u001b[0m\u001b[1;34m'Krishna'\u001b[0m\u001b[1;33m,\u001b[0m \u001b[1;36m101\u001b[0m\u001b[1;33m,\u001b[0m\u001b[1;33m)\u001b[0m  \u001b[1;31m# TypeError: emp_info() missing 1 required positional argument: 'emp_loc'\u001b[0m\u001b[1;33m\u001b[0m\u001b[1;33m\u001b[0m\u001b[0m\n\u001b[0m",
      "\u001b[1;31mTypeError\u001b[0m: emp_info() missing 1 required positional argument: 'emp_loc'"
     ]
    }
   ],
   "source": [
    "emp_info('Krishna', 101,)  "
   ]
  },
  {
   "cell_type": "code",
   "execution_count": 11,
   "id": "1606a992",
   "metadata": {},
   "outputs": [
    {
     "ename": "TypeError",
     "evalue": "emp_info() takes 3 positional arguments but 4 were given",
     "output_type": "error",
     "traceback": [
      "\u001b[1;31m---------------------------------------------------------------------------\u001b[0m",
      "\u001b[1;31mTypeError\u001b[0m                                 Traceback (most recent call last)",
      "\u001b[1;32m~\\AppData\\Local\\Temp/ipykernel_6916/464661996.py\u001b[0m in \u001b[0;36m<module>\u001b[1;34m\u001b[0m\n\u001b[1;32m----> 1\u001b[1;33m \u001b[0memp_info\u001b[0m\u001b[1;33m(\u001b[0m\u001b[1;34m'Krishna'\u001b[0m\u001b[1;33m,\u001b[0m \u001b[1;36m101\u001b[0m\u001b[1;33m,\u001b[0m \u001b[1;34m'BLR'\u001b[0m\u001b[1;33m,\u001b[0m \u001b[1;36m99999\u001b[0m\u001b[1;33m)\u001b[0m \u001b[1;31m# TypeError: emp_info() takes 3 positional arguments but 4 were given\u001b[0m\u001b[1;33m\u001b[0m\u001b[1;33m\u001b[0m\u001b[0m\n\u001b[0m",
      "\u001b[1;31mTypeError\u001b[0m: emp_info() takes 3 positional arguments but 4 were given"
     ]
    }
   ],
   "source": [
    "emp_info('Krishna', 101, 'BLR', 99999) "
   ]
  },
  {
   "cell_type": "code",
   "execution_count": 13,
   "id": "abda9417",
   "metadata": {
    "ExecuteTime": {
     "end_time": "2022-01-26T14:46:59.054276Z",
     "start_time": "2022-01-26T14:46:59.041723Z"
    }
   },
   "outputs": [
    {
     "name": "stdout",
     "output_type": "stream",
     "text": [
      "*******Python*******\n",
      "None\n"
     ]
    },
    {
     "ename": "TypeError",
     "evalue": "object of type 'int' has no len()",
     "output_type": "error",
     "traceback": [
      "\u001b[1;31m---------------------------------------------------------------------------\u001b[0m",
      "\u001b[1;31mTypeError\u001b[0m                                 Traceback (most recent call last)",
      "\u001b[1;32m~\\AppData\\Local\\Temp/ipykernel_6916/2596074205.py\u001b[0m in \u001b[0;36m<module>\u001b[1;34m\u001b[0m\n\u001b[0;32m     10\u001b[0m \u001b[1;33m\u001b[0m\u001b[0m\n\u001b[0;32m     11\u001b[0m \u001b[0mprint\u001b[0m\u001b[1;33m(\u001b[0m\u001b[0mstr_center\u001b[0m\u001b[1;33m(\u001b[0m\u001b[1;34m'Python'\u001b[0m\u001b[1;33m,\u001b[0m \u001b[1;36m20\u001b[0m\u001b[1;33m,\u001b[0m \u001b[1;34m'*'\u001b[0m\u001b[1;33m,\u001b[0m \u001b[1;33m)\u001b[0m\u001b[1;33m)\u001b[0m\u001b[1;33m\u001b[0m\u001b[1;33m\u001b[0m\u001b[0m\n\u001b[1;32m---> 12\u001b[1;33m \u001b[0mprint\u001b[0m\u001b[1;33m(\u001b[0m\u001b[0mstr_center\u001b[0m\u001b[1;33m(\u001b[0m\u001b[1;36m20\u001b[0m\u001b[1;33m,\u001b[0m \u001b[1;34m'*'\u001b[0m\u001b[1;33m,\u001b[0m \u001b[1;34m'Python'\u001b[0m\u001b[1;33m)\u001b[0m\u001b[1;33m)\u001b[0m\u001b[1;33m\u001b[0m\u001b[1;33m\u001b[0m\u001b[0m\n\u001b[0m",
      "\u001b[1;32m~\\AppData\\Local\\Temp/ipykernel_6916/2596074205.py\u001b[0m in \u001b[0;36mstr_center\u001b[1;34m(my_str, length, char)\u001b[0m\n\u001b[0;32m      1\u001b[0m \u001b[1;32mdef\u001b[0m \u001b[0mstr_center\u001b[0m\u001b[1;33m(\u001b[0m\u001b[0mmy_str\u001b[0m\u001b[1;33m,\u001b[0m \u001b[0mlength\u001b[0m\u001b[1;33m,\u001b[0m \u001b[0mchar\u001b[0m\u001b[1;33m)\u001b[0m\u001b[1;33m:\u001b[0m\u001b[1;33m\u001b[0m\u001b[1;33m\u001b[0m\u001b[0m\n\u001b[1;32m----> 2\u001b[1;33m     \u001b[0mleft_len\u001b[0m \u001b[1;33m=\u001b[0m \u001b[0mlength\u001b[0m\u001b[1;33m-\u001b[0m\u001b[0mlen\u001b[0m\u001b[1;33m(\u001b[0m\u001b[0mmy_str\u001b[0m\u001b[1;33m)\u001b[0m\u001b[1;33m\u001b[0m\u001b[1;33m\u001b[0m\u001b[0m\n\u001b[0m\u001b[0;32m      3\u001b[0m     \u001b[1;32mif\u001b[0m \u001b[0mleft_len\u001b[0m \u001b[1;33m<\u001b[0m \u001b[1;36m0\u001b[0m\u001b[1;33m:\u001b[0m\u001b[1;33m\u001b[0m\u001b[1;33m\u001b[0m\u001b[0m\n\u001b[0;32m      4\u001b[0m         \u001b[0mprint\u001b[0m\u001b[1;33m(\u001b[0m\u001b[1;34m'The value of legth should be more than length of string'\u001b[0m\u001b[1;33m)\u001b[0m\u001b[1;33m\u001b[0m\u001b[1;33m\u001b[0m\u001b[0m\n\u001b[0;32m      5\u001b[0m     \u001b[1;32melse\u001b[0m\u001b[1;33m:\u001b[0m\u001b[1;33m\u001b[0m\u001b[1;33m\u001b[0m\u001b[0m\n",
      "\u001b[1;31mTypeError\u001b[0m: object of type 'int' has no len()"
     ]
    }
   ],
   "source": [
    "def str_center(my_str, length, char):\n",
    "    left_len = length-len(my_str)\n",
    "    if left_len < 0:\n",
    "        print('The value of legth should be more than length of string')\n",
    "    else:\n",
    "        mid_left_len = left_len//2\n",
    "        leftover_len = left_len - mid_left_len\n",
    "        print((char * mid_left_len) + my_str + (char * leftover_len))\n",
    "        \n",
    "        \n",
    "print(str_center('Python', 20, '*', ))        \n",
    "print(str_center(20, '*', 'Python'))      "
   ]
  },
  {
   "cell_type": "code",
   "execution_count": 14,
   "id": "dc7c941c",
   "metadata": {
    "ExecuteTime": {
     "end_time": "2022-01-26T14:45:19.769214Z",
     "start_time": "2022-01-26T14:45:19.765206Z"
    }
   },
   "outputs": [
    {
     "ename": "TypeError",
     "evalue": "object of type 'int' has no len()",
     "output_type": "error",
     "traceback": [
      "\u001b[1;31m---------------------------------------------------------------------------\u001b[0m",
      "\u001b[1;31mTypeError\u001b[0m                                 Traceback (most recent call last)",
      "\u001b[1;32m~\\AppData\\Local\\Temp/ipykernel_6916/3338265758.py\u001b[0m in \u001b[0;36m<module>\u001b[1;34m\u001b[0m\n\u001b[1;32m----> 1\u001b[1;33m \u001b[0mlen\u001b[0m\u001b[1;33m(\u001b[0m\u001b[1;36m10\u001b[0m\u001b[1;33m)\u001b[0m\u001b[1;33m\u001b[0m\u001b[1;33m\u001b[0m\u001b[0m\n\u001b[0m",
      "\u001b[1;31mTypeError\u001b[0m: object of type 'int' has no len()"
     ]
    }
   ],
   "source": [
    "len(10)"
   ]
  },
  {
   "cell_type": "code",
   "execution_count": 15,
   "id": "81a8f9b2",
   "metadata": {
    "ExecuteTime": {
     "end_time": "2022-01-26T14:55:08.598057Z",
     "start_time": "2022-01-26T14:55:08.591934Z"
    },
    "scrolled": true
   },
   "outputs": [],
   "source": [
    "# Default Parameters/arguments\n",
    "# It is optional\n",
    "# Default parameter should always follow the positional parameters\n",
    "\n",
    "\n",
    "\n",
    "# SyntaxError: non-default argument follows default argument\n",
    "#def emp_info(emp_name, emp_id, emp_comp = 'Learnbay', emp_loc,):\n",
    "#     print('Employee name is:', emp_name)\n",
    "#     print('Employee ID is:', emp_id)\n",
    "#     print('Employee Location is:', emp_loc)\n",
    "#     print('Employee Company is:', emp_comp)\n",
    "\n",
    "#emp_info('Krishna', 101, 'CHN')\n",
    "\n",
    "#emp_info('Krishna', 101, 'CHN', 'TCS')\n",
    "\n",
    "\n",
    "def emp_info(emp_name, emp_id, emp_loc,emp_comp = 'Learnbay'):\n",
    "    print('Employee name is:', emp_name)\n",
    "    print('Employee ID is:', emp_id)\n",
    "    print('Employee Location is:', emp_loc)\n",
    "    print('Employee Company is:', emp_comp)\n",
    "\n",
    "# emp_info('Krishna', 101, 'CHN')\n",
    "\n",
    "# emp_info('Krishna', 101, 'CHN', 'TCS')\n",
    "# emp_info('Krishna', 101, 'CHN', )"
   ]
  },
  {
   "cell_type": "code",
   "execution_count": 16,
   "id": "96f2709c",
   "metadata": {
    "ExecuteTime": {
     "end_time": "2022-01-26T15:05:22.766316Z",
     "start_time": "2022-01-26T15:05:22.755558Z"
    }
   },
   "outputs": [
    {
     "name": "stdout",
     "output_type": "stream",
     "text": [
      "Employee Location is: LKO\n",
      "Employee Company is: Infosys\n",
      "Employee name is: Abhishek\n",
      "Employee ID is: 109\n"
     ]
    }
   ],
   "source": [
    "# Keyworded Arguments\n",
    "# Order is important\n",
    "# Keyworded arguments should always be passed after positional arguments\n",
    "\n",
    "\n",
    "def emp_info(emp_name, emp_id, emp_loc,emp_comp = 'Learnbay'):\n",
    "    print('Employee Location is:', emp_loc)\n",
    "    print('Employee Company is:', emp_comp)\n",
    "    print('Employee name is:', emp_name)\n",
    "    print('Employee ID is:', emp_id)\n",
    "    \n",
    "# emp_info(emp_id = 109, emp_loc = 'HYD', emp_comp = 'TCS', emp_name = 'Abhishek')\n",
    "emp_info('Abhishek', 109, emp_comp = 'Infosys', emp_loc = 'LKO')\n",
    "\n",
    "\n",
    "# SyntaxError: positional argument follows keyword argument\n",
    "# emp_info( emp_comp = 'Infosys', emp_loc = 'LKO', 'Abhishek', 109,)\n",
    "\n"
   ]
  },
  {
   "cell_type": "code",
   "execution_count": 17,
   "id": "39889cfd",
   "metadata": {
    "ExecuteTime": {
     "end_time": "2022-01-26T14:10:44.636641Z",
     "start_time": "2022-01-26T14:10:42.493334Z"
    }
   },
   "outputs": [],
   "source": [
    "# Define a function ehich takes two arguments\n",
    "# First is a string and secind is index from whoch the string will be altered\n",
    "\n",
    "my_str = 'abcde1234'\n",
    "ind = 4\n",
    "# output = '1234abcde'\n"
   ]
  },
  {
   "cell_type": "code",
   "execution_count": 18,
   "id": "c3c344f8",
   "metadata": {
    "ExecuteTime": {
     "end_time": "2022-01-26T15:06:55.791686Z",
     "start_time": "2022-01-26T15:06:55.777408Z"
    }
   },
   "outputs": [
    {
     "name": "stdout",
     "output_type": "stream",
     "text": [
      " Employee name is     : Prateek\n",
      " Employee id is       : 101\n",
      " Employee loc is      : New Delh\n",
      " Employee company is  : Cloudy Blocks\n"
     ]
    }
   ],
   "source": [
    "def emp_info(emp_loc,emp_name, emp_id, emp_comp = 'Cloudy Blocks', emp_owner = 'Meenu'):\n",
    "\n",
    "    print(' Employee name is     :', emp_name)\n",
    "    print(' Employee id is       :', emp_id)\n",
    "    print(' Employee loc is      :', emp_loc)\n",
    "    print(' Employee company is  :', emp_comp)\n",
    "emp_info('New Delh', emp_id=101, emp_name ='Prateek')"
   ]
  },
  {
   "cell_type": "code",
   "execution_count": 19,
   "id": "6ba02595",
   "metadata": {},
   "outputs": [],
   "source": [
    "my_str = 'This is Python class'\n",
    "sep = 'is'\n",
    "out_lst = ['This', 'is', 'Python class']"
   ]
  },
  {
   "cell_type": "code",
   "execution_count": 20,
   "id": "6bca6386",
   "metadata": {},
   "outputs": [],
   "source": [
    "def split_is(my_str, sep):\n",
    "    pass\n",
    "\n",
    "split_is('This is Python class', 'is')"
   ]
  },
  {
   "cell_type": "code",
   "execution_count": 21,
   "id": "e95f9747",
   "metadata": {
    "ExecuteTime": {
     "end_time": "2022-01-26T15:15:07.697162Z",
     "start_time": "2022-01-26T15:15:07.677949Z"
    }
   },
   "outputs": [],
   "source": [
    "def a():\n",
    "    my_str = input(\"Enter a string: \")\n",
    "    x = input('Enter index value: ')\n",
    "    \n",
    "    s1 = my_str[:x]\n",
    "    s2 = my_str[x:]\n",
    "    out_str = s2+s1\n",
    "    return (out_str)"
   ]
  },
  {
   "cell_type": "code",
   "execution_count": 22,
   "id": "fc75f71f",
   "metadata": {
    "ExecuteTime": {
     "end_time": "2022-01-26T15:21:49.300983Z",
     "start_time": "2022-01-26T15:21:49.280226Z"
    }
   },
   "outputs": [
    {
     "data": {
      "text/plain": [
       "['This ', 'is', ' Python class']"
      ]
     },
     "execution_count": 22,
     "metadata": {},
     "output_type": "execute_result"
    }
   ],
   "source": [
    "def split_is(my_str, sep):\n",
    "    \n",
    "    output=[]\n",
    "    word = ''\n",
    "    index = -1\n",
    "    for i in range(len(my_str)):\n",
    "        if my_str[i] != ' ':\n",
    "            word += my_str[i] \n",
    "        else:\n",
    "            if word == sep:\n",
    "                index = i - len(sep)\n",
    "                break\n",
    "            word = ''\n",
    "\n",
    "    return [my_str[:index],sep, my_str[index+len(sep):]]\n",
    "\n",
    "my_str = 'This is Python class'\n",
    "sep = 'is'\n",
    "split_is(my_str, sep)"
   ]
  },
  {
   "cell_type": "code",
   "execution_count": 24,
   "id": "b73c2f66",
   "metadata": {
    "ExecuteTime": {
     "end_time": "2022-01-26T15:25:24.553813Z",
     "start_time": "2022-01-26T15:25:24.544240Z"
    }
   },
   "outputs": [
    {
     "ename": "TypeError",
     "evalue": "slice indices must be integers or None or have an __index__ method",
     "output_type": "error",
     "traceback": [
      "\u001b[1;31m---------------------------------------------------------------------------\u001b[0m",
      "\u001b[1;31mTypeError\u001b[0m                                 Traceback (most recent call last)",
      "\u001b[1;32m~\\AppData\\Local\\Temp/ipykernel_6916/2852763914.py\u001b[0m in \u001b[0;36m<module>\u001b[1;34m\u001b[0m\n\u001b[0;32m      7\u001b[0m     \u001b[0mprint\u001b[0m\u001b[1;33m(\u001b[0m\u001b[0mmy_str\u001b[0m\u001b[1;33m[\u001b[0m\u001b[0mb\u001b[0m\u001b[1;33m:\u001b[0m\u001b[1;33m]\u001b[0m \u001b[1;33m+\u001b[0m \u001b[0mmy_str\u001b[0m\u001b[1;33m[\u001b[0m\u001b[1;36m0\u001b[0m\u001b[1;33m:\u001b[0m\u001b[0mb\u001b[0m\u001b[1;33m]\u001b[0m\u001b[1;33m)\u001b[0m\u001b[1;33m\u001b[0m\u001b[1;33m\u001b[0m\u001b[0m\n\u001b[0;32m      8\u001b[0m \u001b[1;33m\u001b[0m\u001b[0m\n\u001b[1;32m----> 9\u001b[1;33m \u001b[0mmy_alter\u001b[0m\u001b[1;33m(\u001b[0m\u001b[1;34m'ABCDE1234'\u001b[0m\u001b[1;33m)\u001b[0m\u001b[1;33m\u001b[0m\u001b[1;33m\u001b[0m\u001b[0m\n\u001b[0m",
      "\u001b[1;32m~\\AppData\\Local\\Temp/ipykernel_6916/2852763914.py\u001b[0m in \u001b[0;36mmy_alter\u001b[1;34m(string)\u001b[0m\n\u001b[0;32m      5\u001b[0m         \u001b[1;32mif\u001b[0m \u001b[0mi\u001b[0m \u001b[1;33m==\u001b[0m \u001b[0mb\u001b[0m\u001b[1;33m:\u001b[0m\u001b[1;33m\u001b[0m\u001b[1;33m\u001b[0m\u001b[0m\n\u001b[0;32m      6\u001b[0m             \u001b[0mprint\u001b[0m\u001b[1;33m(\u001b[0m\u001b[0mmy_str\u001b[0m\u001b[1;33m[\u001b[0m\u001b[0mb\u001b[0m\u001b[1;33m:\u001b[0m\u001b[1;33m]\u001b[0m\u001b[1;33m)\u001b[0m\u001b[1;33m\u001b[0m\u001b[1;33m\u001b[0m\u001b[0m\n\u001b[1;32m----> 7\u001b[1;33m     \u001b[0mprint\u001b[0m\u001b[1;33m(\u001b[0m\u001b[0mmy_str\u001b[0m\u001b[1;33m[\u001b[0m\u001b[0mb\u001b[0m\u001b[1;33m:\u001b[0m\u001b[1;33m]\u001b[0m \u001b[1;33m+\u001b[0m \u001b[0mmy_str\u001b[0m\u001b[1;33m[\u001b[0m\u001b[1;36m0\u001b[0m\u001b[1;33m:\u001b[0m\u001b[0mb\u001b[0m\u001b[1;33m]\u001b[0m\u001b[1;33m)\u001b[0m\u001b[1;33m\u001b[0m\u001b[1;33m\u001b[0m\u001b[0m\n\u001b[0m\u001b[0;32m      8\u001b[0m \u001b[1;33m\u001b[0m\u001b[0m\n\u001b[0;32m      9\u001b[0m \u001b[0mmy_alter\u001b[0m\u001b[1;33m(\u001b[0m\u001b[1;34m'ABCDE1234'\u001b[0m\u001b[1;33m)\u001b[0m\u001b[1;33m\u001b[0m\u001b[1;33m\u001b[0m\u001b[0m\n",
      "\u001b[1;31mTypeError\u001b[0m: slice indices must be integers or None or have an __index__ method"
     ]
    }
   ],
   "source": [
    "def my_alter(string):\n",
    "    a = len(my_str)\n",
    "    b = a/2\n",
    "    for i in my_str:\n",
    "        if i == b:\n",
    "            print(my_str[b:])\n",
    "    print(my_str[b:] + my_str[0:b])\n",
    "\n",
    "my_alter('ABCDE1234')"
   ]
  },
  {
   "cell_type": "code",
   "execution_count": 25,
   "id": "7f843830",
   "metadata": {
    "ExecuteTime": {
     "end_time": "2022-01-26T15:26:14.358231Z",
     "start_time": "2022-01-26T15:26:14.353733Z"
    }
   },
   "outputs": [],
   "source": [
    "# Varible legth arguments\n",
    "#     1. Variable legth positional arguments - *args\n",
    "#     2. Variable legth keyworded arguments - **kwargs"
   ]
  },
  {
   "cell_type": "code",
   "execution_count": 26,
   "id": "b910b1c5",
   "metadata": {
    "ExecuteTime": {
     "end_time": "2022-01-26T15:32:31.794596Z",
     "start_time": "2022-01-26T15:32:31.777532Z"
    }
   },
   "outputs": [
    {
     "name": "stdout",
     "output_type": "stream",
     "text": [
      "(30, 40, 50, 100)\n"
     ]
    },
    {
     "data": {
      "text/plain": [
       "6000030"
      ]
     },
     "execution_count": 26,
     "metadata": {},
     "output_type": "execute_result"
    }
   ],
   "source": [
    "# *args - can take multiple positional arguments in the form tuple\n",
    "\n",
    "def my_multi(tpl):\n",
    "    total = 1\n",
    "    for i in tpl:\n",
    "        total *= i\n",
    "    return total\n",
    "\n",
    "def my_add(a, b, *args):\n",
    "    print(args)\n",
    "    res = a+b + my_multi(args)\n",
    "    return res\n",
    "\n",
    "my_add(10, 20, 30, 40, 50, 100)"
   ]
  },
  {
   "cell_type": "code",
   "execution_count": 28,
   "id": "9df750c8",
   "metadata": {
    "ExecuteTime": {
     "end_time": "2022-01-26T15:29:51.168985Z",
     "start_time": "2022-01-26T15:29:51.164233Z"
    }
   },
   "outputs": [
    {
     "data": {
      "text/plain": [
       "60"
      ]
     },
     "execution_count": 28,
     "metadata": {},
     "output_type": "execute_result"
    }
   ],
   "source": [
    "sum([10,20,30])"
   ]
  },
  {
   "cell_type": "code",
   "execution_count": 29,
   "id": "19acd97d",
   "metadata": {
    "ExecuteTime": {
     "end_time": "2022-01-26T15:39:46.726802Z",
     "start_time": "2022-01-26T15:39:46.710210Z"
    }
   },
   "outputs": [
    {
     "name": "stdout",
     "output_type": "stream",
     "text": [
      "Employee name is Abhi\n",
      "Employee id is 101\n",
      "Employee city is BLR\n",
      "(12345,)\n",
      "{'emp_state': 'Karanataka'}\n"
     ]
    }
   ],
   "source": [
    "def emp_info(emp_name, emp_id, emp_city, *any_args, **any_kwargs, ):\n",
    "    print('Employee name is', emp_name)\n",
    "    print('Employee id is', emp_id)\n",
    "    print('Employee city is', emp_city)\n",
    "    print(any_args)\n",
    "    print(any_kwargs)\n",
    "    \n",
    "# emp_info('Abhi', 101, 'BLR')\n",
    "emp_info('Abhi', 101, 'BLR', 12345, emp_state = 'Karanataka', )"
   ]
  },
  {
   "cell_type": "code",
   "execution_count": 30,
   "id": "c0e1d1ce",
   "metadata": {
    "ExecuteTime": {
     "end_time": "2022-01-26T15:46:16.410668Z",
     "start_time": "2022-01-26T15:46:16.400657Z"
    }
   },
   "outputs": [],
   "source": [
    "def emp_info(emp_name, emp_id, emp_city, emp_country = 'India', *any_args, **any_kwargs, ):\n",
    "    print('Employee name is', emp_name)\n",
    "    print('Employee id is', emp_id)\n",
    "    print('Employee city is', emp_city)\n",
    "    print(1)\n",
    "    print(any_args)\n",
    "    print(any_kwargs)"
   ]
  },
  {
   "cell_type": "code",
   "execution_count": 31,
   "id": "31f93600",
   "metadata": {},
   "outputs": [],
   "source": [
    "# return "
   ]
  },
  {
   "cell_type": "code",
   "execution_count": 32,
   "id": "f8eb4a5a",
   "metadata": {
    "ExecuteTime": {
     "end_time": "2022-01-26T15:52:01.824576Z",
     "start_time": "2022-01-26T15:52:01.815533Z"
    }
   },
   "outputs": [
    {
     "name": "stdout",
     "output_type": "stream",
     "text": [
      "[111, 20, 30]\n",
      "[111, 20, 30]\n"
     ]
    }
   ],
   "source": [
    "# Aliasing\n",
    "\n",
    "# a = 10\n",
    "# b = a   # Aliasing\n",
    "# print(a)\n",
    "# print(b)\n",
    "# print(a is b)\n",
    "\n",
    "\n",
    "a = [10,20,30]\n",
    "b = a\n",
    "# print(a, id(a))\n",
    "# print(b, id(b))\n",
    "# print(a is b)\n",
    "\n",
    "b[0] = 111\n",
    "print(a)\n",
    "print(b)\n",
    "\n"
   ]
  },
  {
   "cell_type": "code",
   "execution_count": 33,
   "id": "80203577",
   "metadata": {
    "ExecuteTime": {
     "end_time": "2022-01-26T15:53:15.232384Z",
     "start_time": "2022-01-26T15:53:15.223287Z"
    }
   },
   "outputs": [
    {
     "name": "stdout",
     "output_type": "stream",
     "text": [
      "[10, 20, 30] 2729752510272\n",
      "[10, 20, 30] 2729753317504\n",
      "[10, 20, 30]\n",
      "[111, 20, 30]\n"
     ]
    }
   ],
   "source": [
    "# Shallow copy - copy, slicing # Mutable\n",
    "a = [10,20,30]\n",
    "b = a[::]\n",
    "print(a, id(a))\n",
    "print(b, id(b))\n",
    "# print(a is b)\n",
    "\n",
    "b[0] = 111\n",
    "print(a)\n",
    "print(b)\n",
    "\n",
    "\n"
   ]
  },
  {
   "cell_type": "code",
   "execution_count": 34,
   "id": "5e2c0bae",
   "metadata": {
    "ExecuteTime": {
     "end_time": "2022-01-26T15:55:44.303312Z",
     "start_time": "2022-01-26T15:55:44.290840Z"
    }
   },
   "outputs": [
    {
     "name": "stdout",
     "output_type": "stream",
     "text": [
      "[10, 20, [111, 2, 3], 40, 50]\n",
      "[10, 20, [111, 2, 3], 40, 50]\n"
     ]
    }
   ],
   "source": [
    "# Problem in shallow copy when we use nested list\n",
    "\n",
    "a = [10, 20, [1, 2, 3], 40, 50]\n",
    "b = a.copy()\n",
    "# print(a, id(a))\n",
    "# print(b, id(b))\n",
    "# print(a is b)\n",
    "\n",
    "# print(a[2], id(a[2]))\n",
    "# print(b[2], id(b[2]))\n",
    "# print(a[2] is b[2])\n",
    "\n",
    "b[2][0] = 111\n",
    "print(a)\n",
    "print(b)\n",
    "\n"
   ]
  },
  {
   "cell_type": "code",
   "execution_count": 35,
   "id": "e4245ea7",
   "metadata": {
    "ExecuteTime": {
     "end_time": "2022-01-26T15:57:25.185183Z",
     "start_time": "2022-01-26T15:57:25.175502Z"
    }
   },
   "outputs": [
    {
     "name": "stdout",
     "output_type": "stream",
     "text": [
      "[10, 20, [1, 2, 3], 40, 50]\n",
      "[10, 20, [111, 2, 3], 40, 50]\n"
     ]
    }
   ],
   "source": [
    "# Import deepcopy from copy\n",
    "\n",
    "from copy import deepcopy\n",
    "a = [10, 20, [1, 2, 3], 40, 50]\n",
    "b = deepcopy(a)\n",
    "# print(a, id(a))\n",
    "# print(b, id(b))\n",
    "# print(a is b)\n",
    "\n",
    "\n",
    "# print(a[2], id(a[2]))\n",
    "# print(b[2], id(b[2]))\n",
    "# print(a[2] is b[2])\n",
    "\n",
    "b[2][0] = 111\n",
    "print(a)\n",
    "print(b)"
   ]
  },
  {
   "cell_type": "code",
   "execution_count": 36,
   "id": "311e1707",
   "metadata": {},
   "outputs": [],
   "source": [
    "# Return Statments in Python\n",
    "# Scope vs Namespace\n",
    "# Annonymous functions\n",
    "# filter, map, reduce functions"
   ]
  },
  {
   "cell_type": "code",
   "execution_count": 37,
   "id": "97dccda1",
   "metadata": {},
   "outputs": [
    {
     "name": "stdout",
     "output_type": "stream",
     "text": [
      "None\n",
      "[10, 20, 30, 40, 111]\n"
     ]
    }
   ],
   "source": [
    "lst = [10,20,30,40]\n",
    "print(lst.append(111))\n",
    "print(lst)"
   ]
  },
  {
   "cell_type": "code",
   "execution_count": 38,
   "id": "b986d7d8",
   "metadata": {},
   "outputs": [
    {
     "name": "stdout",
     "output_type": "stream",
     "text": [
      "[10, 20, 30, 40, 111]\n",
      "10\n"
     ]
    }
   ],
   "source": [
    "def my_append(lst, val):\n",
    "    lst += [val]\n",
    "    return lst\n",
    "#     return None\n",
    "    \n",
    "l = [10,20,30,40]\n",
    "print(my_append(l, 111))\n",
    "print(10)"
   ]
  },
  {
   "cell_type": "code",
   "execution_count": 39,
   "id": "5596664b",
   "metadata": {},
   "outputs": [
    {
     "name": "stdout",
     "output_type": "stream",
     "text": [
      "[10, 20, 30, 40, 111]\n"
     ]
    }
   ],
   "source": [
    "print(l)"
   ]
  },
  {
   "cell_type": "code",
   "execution_count": 40,
   "id": "bb60aabb",
   "metadata": {},
   "outputs": [
    {
     "name": "stdout",
     "output_type": "stream",
     "text": [
      "10\n"
     ]
    }
   ],
   "source": [
    "a = 10\n",
    "print(a)\n",
    "b = 10"
   ]
  },
  {
   "cell_type": "code",
   "execution_count": 41,
   "id": "48efadf2",
   "metadata": {},
   "outputs": [
    {
     "name": "stdout",
     "output_type": "stream",
     "text": [
      "10\n"
     ]
    }
   ],
   "source": [
    "print(a)"
   ]
  },
  {
   "cell_type": "code",
   "execution_count": 42,
   "id": "5d918ef6",
   "metadata": {},
   "outputs": [
    {
     "data": {
      "text/plain": [
       "10"
      ]
     },
     "execution_count": 42,
     "metadata": {},
     "output_type": "execute_result"
    }
   ],
   "source": [
    "a"
   ]
  },
  {
   "cell_type": "code",
   "execution_count": 43,
   "id": "936e18ab",
   "metadata": {},
   "outputs": [
    {
     "name": "stdout",
     "output_type": "stream",
     "text": [
      "5\n",
      "4\n",
      "3\n",
      "2\n",
      "1\n",
      "0\n",
      "Hi\n"
     ]
    }
   ],
   "source": [
    "# Recursion - A function which calls itself\n",
    "\n",
    "def f1(num):\n",
    "    if num == 0:\n",
    "        print(num)\n",
    "        return 'Hi'\n",
    "    else:\n",
    "        print(num)\n",
    "        return f1(num-1)\n",
    "    \n",
    "    \n",
    "\n",
    "print(f1(5))"
   ]
  },
  {
   "cell_type": "code",
   "execution_count": 1,
   "id": "a423b4d0",
   "metadata": {},
   "outputs": [
    {
     "data": {
      "text/plain": [
       "265252859812191058636308480000000"
      ]
     },
     "execution_count": 1,
     "metadata": {},
     "output_type": "execute_result"
    }
   ],
   "source": [
    "# 5! = 5X4X3X2X1 = 120\n",
    "\n",
    "def fact(num):\n",
    "    if num == 0 or num == 1:\n",
    "        return 1\n",
    "    else:\n",
    "        return num*fact(num-1)\n",
    "\n",
    "\n",
    "fact(30)"
   ]
  },
  {
   "cell_type": "code",
   "execution_count": 3,
   "id": "3d0b0816",
   "metadata": {},
   "outputs": [
    {
     "data": {
      "text/plain": [
       "15"
      ]
     },
     "execution_count": 3,
     "metadata": {},
     "output_type": "execute_result"
    }
   ],
   "source": [
    "def f1():\n",
    "    a = 10\n",
    "    b = 20\n",
    "    c = a+b\n",
    "    return c\n",
    "#     print(c)\n",
    "    \n",
    "f1() // 2\n"
   ]
  },
  {
   "cell_type": "code",
   "execution_count": 4,
   "id": "8d423807",
   "metadata": {},
   "outputs": [
    {
     "ename": "SyntaxError",
     "evalue": "invalid syntax (Temp/ipykernel_3084/2609908585.py, line 1)",
     "output_type": "error",
     "traceback": [
      "\u001b[1;36m  File \u001b[1;32m\"C:\\Users\\SRADHA\\AppData\\Local\\Temp/ipykernel_3084/2609908585.py\"\u001b[1;36m, line \u001b[1;32m1\u001b[0m\n\u001b[1;33m    o/p of f1 -> i/p of f2 -> o/p f2 -> i/p f3 ->\u001b[0m\n\u001b[1;37m        ^\u001b[0m\n\u001b[1;31mSyntaxError\u001b[0m\u001b[1;31m:\u001b[0m invalid syntax\n"
     ]
    }
   ],
   "source": [
    "o/p of f1 -> i/p of f2 -> o/p f2 -> i/p f3 ->"
   ]
  },
  {
   "cell_type": "code",
   "execution_count": 5,
   "id": "bcb34384",
   "metadata": {},
   "outputs": [
    {
     "data": {
      "text/plain": [
       "'peter piper picked a peck of pickled peppers'"
      ]
     },
     "execution_count": 5,
     "metadata": {},
     "output_type": "execute_result"
    }
   ],
   "source": [
    "my_str = 'peter piper picked a peck of pickled peppers'\n",
    "' '.join(my_str.split())"
   ]
  },
  {
   "cell_type": "code",
   "execution_count": 6,
   "id": "3e4fd5d3",
   "metadata": {},
   "outputs": [
    {
     "data": {
      "text/plain": [
       "['peter', 'piper', 'picked', 'a', 'peck', 'of', 'pickled', 'peppers']"
      ]
     },
     "execution_count": 6,
     "metadata": {},
     "output_type": "execute_result"
    }
   ],
   "source": [
    "my_str.split()"
   ]
  },
  {
   "cell_type": "code",
   "execution_count": 7,
   "id": "ab2b2ae0",
   "metadata": {},
   "outputs": [
    {
     "data": {
      "text/plain": [
       "'peter piper picked a peck of pickled peppers'"
      ]
     },
     "execution_count": 7,
     "metadata": {},
     "output_type": "execute_result"
    }
   ],
   "source": [
    "def my_split(my_str, char):\n",
    "    return my_str.split(char)\n",
    "    \n",
    "' '.join(my_split('peter piper picked a peck of pickled peppers', ' '))"
   ]
  },
  {
   "cell_type": "code",
   "execution_count": 8,
   "id": "2c1b4596",
   "metadata": {},
   "outputs": [
    {
     "name": "stdout",
     "output_type": "stream",
     "text": [
      "['peter', 'piper', 'picked', 'a', 'peck', 'of', 'pickled', 'peppers']\n"
     ]
    }
   ],
   "source": [
    "print(my_split('peter piper picked a peck of pickled peppers', ' '))"
   ]
  },
  {
   "cell_type": "code",
   "execution_count": 9,
   "id": "b06c76ca",
   "metadata": {},
   "outputs": [
    {
     "name": "stdout",
     "output_type": "stream",
     "text": [
      "10\n"
     ]
    }
   ],
   "source": [
    "print(10)"
   ]
  },
  {
   "cell_type": "code",
   "execution_count": 10,
   "id": "2b5ba6dd",
   "metadata": {},
   "outputs": [
    {
     "name": "stdout",
     "output_type": "stream",
     "text": [
      "Krishna 101 90000\n",
      "None\n"
     ]
    }
   ],
   "source": [
    "# database\n",
    "\n",
    "def populate():\n",
    "    print(get_details(101))\n",
    "\n",
    "def get_details(emp_id):\n",
    "    print('Krishna', 101, 90000)\n",
    "\n",
    "populate()"
   ]
  },
  {
   "cell_type": "code",
   "execution_count": 11,
   "id": "f16090b8",
   "metadata": {},
   "outputs": [
    {
     "name": "stdout",
     "output_type": "stream",
     "text": [
      "['gh', 'sadksad', 'sdjskj', 'asdjjk']\n",
      "['gh', 'sadksad', 'sdjskj', 'asdjjk']\n"
     ]
    }
   ],
   "source": [
    "def my_split(str1, char):\n",
    "    return str1.split(char)\n",
    "\n",
    "print(my_split(\"gh/sadksad/sdjskj/asdjjk\", \"/\"))\n",
    "lst = my_split(\"gh/sadksad/sdjskj/asdjjk\", \"/\")\n",
    "print(lst)"
   ]
  },
  {
   "cell_type": "code",
   "execution_count": 12,
   "id": "2ceca196",
   "metadata": {},
   "outputs": [
    {
     "name": "stdout",
     "output_type": "stream",
     "text": [
      "10\n"
     ]
    }
   ],
   "source": [
    "a = 10\n",
    "a\n",
    "print(a)"
   ]
  },
  {
   "cell_type": "code",
   "execution_count": 13,
   "id": "06c0bd7c",
   "metadata": {},
   "outputs": [
    {
     "ename": "IndentationError",
     "evalue": "expected an indented block (Temp/ipykernel_3084/828815192.py, line 7)",
     "output_type": "error",
     "traceback": [
      "\u001b[1;36m  File \u001b[1;32m\"C:\\Users\\SRADHA\\AppData\\Local\\Temp/ipykernel_3084/828815192.py\"\u001b[1;36m, line \u001b[1;32m7\u001b[0m\n\u001b[1;33m    lst2 = [1, 2, 3, 4]\u001b[0m\n\u001b[1;37m    ^\u001b[0m\n\u001b[1;31mIndentationError\u001b[0m\u001b[1;31m:\u001b[0m expected an indented block\n"
     ]
    }
   ],
   "source": [
    "lst1 = [10,20,30,40]\n",
    "val = 30\n",
    "\n",
    "def my_pop(lst, val):\n",
    "#     will remove the value from the liost and returns it\n",
    "\n",
    "lst2 = [1, 2, 3, 4]\n",
    "out_lst = [1,2, 3, 4, 30]\n",
    "# Add the return value to another list\n",
    "# by using my_append function to lst 2\n",
    "\n",
    "def my_append(lst2, 30):\n",
    "    return [1, 2, 3, 4,30]"
   ]
  },
  {
   "cell_type": "code",
   "execution_count": 14,
   "id": "ab48aecd",
   "metadata": {},
   "outputs": [
    {
     "data": {
      "text/plain": [
       "[1, 2, 3, 4, 30]"
      ]
     },
     "execution_count": 14,
     "metadata": {},
     "output_type": "execute_result"
    }
   ],
   "source": [
    "lst1 = [10,20,30,40]\n",
    "val = 30\n",
    "\n",
    "def my_pop(l, v):\n",
    "    lst2 = []\n",
    "    for i in l:\n",
    "        if i == v:\n",
    "            a = i\n",
    "            continue\n",
    "        else:\n",
    "            lst2 += [i]\n",
    "    return lst2, a\n",
    "\n",
    "\n",
    "lst2 = [1, 2, 3, 4]\n",
    "\n",
    "def my_append(lst2, val_add):\n",
    "    lst2 += [val_add]\n",
    "    return lst2\n",
    "\n",
    "val_add = my_pop(lst1,val)[1]\n",
    "my_append(lst2, val_add)"
   ]
  },
  {
   "cell_type": "code",
   "execution_count": 15,
   "id": "38726613",
   "metadata": {},
   "outputs": [
    {
     "name": "stdout",
     "output_type": "stream",
     "text": [
      "30\n",
      "[10, 20, 30, 40, 30]\n"
     ]
    }
   ],
   "source": [
    "def my_pop(lst, val):\n",
    "#     lst.remove(val)\n",
    "    return val\n",
    "\n",
    "def my_append(lst, val):\n",
    "    out = lst[::]\n",
    "    out.append(val)\n",
    "    return out\n",
    "    \n",
    "lst1 = [10,20,30,40]\n",
    "val = 30\n",
    "print(my_pop(lst1, val))\n",
    "print(my_append(lst1, val))"
   ]
  },
  {
   "cell_type": "code",
   "execution_count": 16,
   "id": "c99a8fb7",
   "metadata": {},
   "outputs": [],
   "source": [
    "a = 10"
   ]
  },
  {
   "cell_type": "code",
   "execution_count": 17,
   "id": "aae034f3",
   "metadata": {},
   "outputs": [
    {
     "name": "stdout",
     "output_type": "stream",
     "text": [
      "Removed Value is 30\n",
      "[1, 2, 3, 4, 30]\n"
     ]
    }
   ],
   "source": [
    "lst1=[10,20,30,40]\n",
    "lst3=[1,2,3,4]\n",
    "lst4=[]\n",
    "def my_pop(lst1,remElement):\n",
    "    return remElement\n",
    "\n",
    "def my_append(lst,remElement):\n",
    "    lst += [remElement]\n",
    "    return lst\n",
    "    \n",
    "returned_value=my_pop(lst1,30)\n",
    "print(\"Removed Value is\",returned_value)\n",
    "print(my_append(lst3,returned_value))"
   ]
  },
  {
   "cell_type": "code",
   "execution_count": 18,
   "id": "111ddbfa",
   "metadata": {},
   "outputs": [
    {
     "data": {
      "text/plain": [
       "[1, 2, 3, 4, 30]"
      ]
     },
     "execution_count": 18,
     "metadata": {},
     "output_type": "execute_result"
    }
   ],
   "source": [
    "lst1 = [10,20,30,40]\n",
    "val = 30\n",
    "lst2 = [1,2,3,4]\n",
    "def my_pop(lst,val):\n",
    "    #function to remove the value and return it\n",
    "    return lst.pop(val)\n",
    "    # add the return value to another list using my_append function to lst2\n",
    "    def my_append(lst1,val):\n",
    "        valtoadd = my_pop([lst1], [val])\n",
    "        lst2 += valtoadd\n",
    "        return(lst2)\n",
    "\n",
    "my_append(lst2, val)"
   ]
  },
  {
   "cell_type": "code",
   "execution_count": 19,
   "id": "1c199b08",
   "metadata": {},
   "outputs": [
    {
     "name": "stdout",
     "output_type": "stream",
     "text": [
      "[10, 20, 30, 40]\n",
      "[10, 20, 30, 40]\n",
      "[1, 2, 3, 4, 20]\n"
     ]
    }
   ],
   "source": [
    "lst1 = [10,20,30,40]\n",
    "val = 20\n",
    "lst2 = [1,2,3,4]\n",
    "def my_pop(lst,val):\n",
    "    #function to remove the value and return it\n",
    "    return lst.pop(val)\n",
    "\n",
    "    # add the return value to another list using my_append function to lst2\n",
    "    def my_append(lst1,val):\n",
    "        valtoadd = my_pop(lst1, val)\n",
    "        lst2 += valtoadd\n",
    "        return(lst2)\n",
    "\n",
    "print(lst1)\n",
    "# my_pop(lst1,val)\n",
    "my_append(lst2, val)\n",
    "print(lst1)\n",
    "print(lst2)"
   ]
  },
  {
   "cell_type": "code",
   "execution_count": 20,
   "id": "b5940fa9",
   "metadata": {},
   "outputs": [
    {
     "name": "stdout",
     "output_type": "stream",
     "text": [
      "20\n"
     ]
    }
   ],
   "source": [
    "def f1():\n",
    "    a = 10\n",
    "    b = 20\n",
    "    if a>b:\n",
    "        return a\n",
    "    else:\n",
    "        return b\n",
    "        return 100\n",
    "\n",
    "print(f1())"
   ]
  },
  {
   "cell_type": "code",
   "execution_count": 21,
   "id": "38736ef2",
   "metadata": {},
   "outputs": [],
   "source": [
    "# Function Aliasing\n",
    "# Closure\n",
    "# Filter, map, aggregate"
   ]
  },
  {
   "cell_type": "code",
   "execution_count": 22,
   "id": "5608fbf6",
   "metadata": {},
   "outputs": [
    {
     "name": "stdout",
     "output_type": "stream",
     "text": [
      "['a', 'b', 'c']\n"
     ]
    },
    {
     "data": {
      "text/plain": [
       "30"
      ]
     },
     "execution_count": 22,
     "metadata": {},
     "output_type": "execute_result"
    }
   ],
   "source": [
    "def f1():\n",
    "    a = 10\n",
    "    b = 20\n",
    "    c = a+b\n",
    "    print(dir())\n",
    "    return c\n",
    "\n",
    "# f1\n",
    "f1()"
   ]
  },
  {
   "cell_type": "code",
   "execution_count": 23,
   "id": "e01f7072",
   "metadata": {},
   "outputs": [
    {
     "name": "stdout",
     "output_type": "stream",
     "text": [
      "<function f1 at 0x0000018018A0F0D0>\n",
      "['a', 'b', 'c']\n",
      "1649680642256\n",
      "1649680642256\n"
     ]
    }
   ],
   "source": [
    "a = f1    # Aliasing\n",
    "print(a)\n",
    "a()\n",
    "\n",
    "print(id(a))\n",
    "print(id(f1))"
   ]
  },
  {
   "cell_type": "code",
   "execution_count": 24,
   "id": "5a2575fd",
   "metadata": {},
   "outputs": [
    {
     "name": "stdout",
     "output_type": "stream",
     "text": [
      "1649598818896\n",
      "1649598818896\n"
     ]
    }
   ],
   "source": [
    "a = 10\n",
    "b = a\n",
    "print(id(a))\n",
    "print(id(b))"
   ]
  },
  {
   "cell_type": "code",
   "execution_count": 25,
   "id": "68e9b4b6",
   "metadata": {},
   "outputs": [
    {
     "name": "stdout",
     "output_type": "stream",
     "text": [
      "['__annotations__', '__call__', '__class__', '__closure__', '__code__', '__defaults__', '__delattr__', '__dict__', '__dir__', '__doc__', '__eq__', '__format__', '__ge__', '__get__', '__getattribute__', '__globals__', '__gt__', '__hash__', '__init__', '__init_subclass__', '__kwdefaults__', '__le__', '__lt__', '__module__', '__name__', '__ne__', '__new__', '__qualname__', '__reduce__', '__reduce_ex__', '__repr__', '__setattr__', '__sizeof__', '__str__', '__subclasshook__']\n"
     ]
    }
   ],
   "source": [
    "print(dir(f1))"
   ]
  },
  {
   "cell_type": "code",
   "execution_count": 26,
   "id": "887039e3",
   "metadata": {},
   "outputs": [
    {
     "ename": "NameError",
     "evalue": "name 'engine' is not defined",
     "output_type": "error",
     "traceback": [
      "\u001b[1;31m---------------------------------------------------------------------------\u001b[0m",
      "\u001b[1;31mNameError\u001b[0m                                 Traceback (most recent call last)",
      "\u001b[1;32m~\\AppData\\Local\\Temp/ipykernel_3084/2054743282.py\u001b[0m in \u001b[0;36m<module>\u001b[1;34m\u001b[0m\n\u001b[1;32m----> 1\u001b[1;33m \u001b[1;32mclass\u001b[0m \u001b[0mCar\u001b[0m\u001b[1;33m:\u001b[0m\u001b[1;33m\u001b[0m\u001b[1;33m\u001b[0m\u001b[0m\n\u001b[0m\u001b[0;32m      2\u001b[0m     \u001b[0mengine\u001b[0m\u001b[1;33m\u001b[0m\u001b[1;33m\u001b[0m\u001b[0m\n\u001b[0;32m      3\u001b[0m     \u001b[0msteering\u001b[0m\u001b[1;33m\u001b[0m\u001b[1;33m\u001b[0m\u001b[0m\n\u001b[0;32m      4\u001b[0m     \u001b[0mwheels\u001b[0m\u001b[1;33m\u001b[0m\u001b[1;33m\u001b[0m\u001b[0m\n\u001b[0;32m      5\u001b[0m \u001b[1;33m\u001b[0m\u001b[0m\n",
      "\u001b[1;32m~\\AppData\\Local\\Temp/ipykernel_3084/2054743282.py\u001b[0m in \u001b[0;36mCar\u001b[1;34m()\u001b[0m\n\u001b[0;32m      1\u001b[0m \u001b[1;32mclass\u001b[0m \u001b[0mCar\u001b[0m\u001b[1;33m:\u001b[0m\u001b[1;33m\u001b[0m\u001b[1;33m\u001b[0m\u001b[0m\n\u001b[1;32m----> 2\u001b[1;33m     \u001b[0mengine\u001b[0m\u001b[1;33m\u001b[0m\u001b[1;33m\u001b[0m\u001b[0m\n\u001b[0m\u001b[0;32m      3\u001b[0m     \u001b[0msteering\u001b[0m\u001b[1;33m\u001b[0m\u001b[1;33m\u001b[0m\u001b[0m\n\u001b[0;32m      4\u001b[0m     \u001b[0mwheels\u001b[0m\u001b[1;33m\u001b[0m\u001b[1;33m\u001b[0m\u001b[0m\n\u001b[0;32m      5\u001b[0m \u001b[1;33m\u001b[0m\u001b[0m\n",
      "\u001b[1;31mNameError\u001b[0m: name 'engine' is not defined"
     ]
    }
   ],
   "source": [
    "class Car:\n",
    "    engine\n",
    "    steering\n",
    "    wheels\n",
    "    \n",
    "    start_engine()\n",
    "    stop_engine()\n",
    "    accelerate()\n",
    "    apply_break()"
   ]
  },
  {
   "cell_type": "code",
   "execution_count": 27,
   "id": "b34f310a",
   "metadata": {},
   "outputs": [
    {
     "ename": "NameError",
     "evalue": "name 'Car' is not defined",
     "output_type": "error",
     "traceback": [
      "\u001b[1;31m---------------------------------------------------------------------------\u001b[0m",
      "\u001b[1;31mNameError\u001b[0m                                 Traceback (most recent call last)",
      "\u001b[1;32m~\\AppData\\Local\\Temp/ipykernel_3084/4265901987.py\u001b[0m in \u001b[0;36m<module>\u001b[1;34m\u001b[0m\n\u001b[1;32m----> 1\u001b[1;33m \u001b[0mc1\u001b[0m \u001b[1;33m=\u001b[0m \u001b[0mCar\u001b[0m\u001b[1;33m(\u001b[0m\u001b[1;33m)\u001b[0m\u001b[1;33m\u001b[0m\u001b[1;33m\u001b[0m\u001b[0m\n\u001b[0m",
      "\u001b[1;31mNameError\u001b[0m: name 'Car' is not defined"
     ]
    }
   ],
   "source": [
    "c1 = Car()"
   ]
  },
  {
   "cell_type": "code",
   "execution_count": 28,
   "id": "446c5613",
   "metadata": {},
   "outputs": [
    {
     "ename": "SyntaxError",
     "evalue": "invalid syntax (Temp/ipykernel_3084/446343884.py, line 1)",
     "output_type": "error",
     "traceback": [
      "\u001b[1;36m  File \u001b[1;32m\"C:\\Users\\SRADHA\\AppData\\Local\\Temp/ipykernel_3084/446343884.py\"\u001b[1;36m, line \u001b[1;32m1\u001b[0m\n\u001b[1;33m    list - append, insert, pop...\u001b[0m\n\u001b[1;37m                                 ^\u001b[0m\n\u001b[1;31mSyntaxError\u001b[0m\u001b[1;31m:\u001b[0m invalid syntax\n"
     ]
    }
   ],
   "source": [
    "list - append, insert, pop..."
   ]
  },
  {
   "cell_type": "code",
   "execution_count": 29,
   "id": "a5dd5974",
   "metadata": {},
   "outputs": [],
   "source": [
    "l1 = [10,20,30,40]"
   ]
  },
  {
   "cell_type": "code",
   "execution_count": 30,
   "id": "4a64a20a",
   "metadata": {},
   "outputs": [
    {
     "name": "stdout",
     "output_type": "stream",
     "text": [
      "<class 'function'>\n"
     ]
    }
   ],
   "source": [
    "print(type(f1))"
   ]
  },
  {
   "cell_type": "code",
   "execution_count": 31,
   "id": "27b41688",
   "metadata": {},
   "outputs": [],
   "source": [
    "# Namespace and Scope"
   ]
  },
  {
   "cell_type": "code",
   "execution_count": 32,
   "id": "09a8d67c",
   "metadata": {},
   "outputs": [],
   "source": [
    "# Namespace - Container - contains the references\n",
    "# Scope - set of rules which are defined inside the function for name resolutuon order"
   ]
  },
  {
   "cell_type": "code",
   "execution_count": 33,
   "id": "ab00d7ac",
   "metadata": {},
   "outputs": [
    {
     "ename": "SyntaxError",
     "evalue": "invalid syntax (Temp/ipykernel_3084/2153916634.py, line 2)",
     "output_type": "error",
     "traceback": [
      "\u001b[1;36m  File \u001b[1;32m\"C:\\Users\\SRADHA\\AppData\\Local\\Temp/ipykernel_3084/2153916634.py\"\u001b[1;36m, line \u001b[1;32m2\u001b[0m\n\u001b[1;33m    Built-in -> Global -> Local\u001b[0m\n\u001b[1;37m          ^\u001b[0m\n\u001b[1;31mSyntaxError\u001b[0m\u001b[1;31m:\u001b[0m invalid syntax\n"
     ]
    }
   ],
   "source": [
    "# Namespace - Container - contains the references\n",
    "Built-in -> Global -> Local"
   ]
  },
  {
   "cell_type": "code",
   "execution_count": 34,
   "id": "4fd36151",
   "metadata": {},
   "outputs": [
    {
     "name": "stdout",
     "output_type": "stream",
     "text": [
      "['ArithmeticError', 'AssertionError', 'AttributeError', 'BaseException', 'BlockingIOError', 'BrokenPipeError', 'BufferError', 'BytesWarning', 'ChildProcessError', 'ConnectionAbortedError', 'ConnectionError', 'ConnectionRefusedError', 'ConnectionResetError', 'DeprecationWarning', 'EOFError', 'Ellipsis', 'EnvironmentError', 'Exception', 'False', 'FileExistsError', 'FileNotFoundError', 'FloatingPointError', 'FutureWarning', 'GeneratorExit', 'IOError', 'ImportError', 'ImportWarning', 'IndentationError', 'IndexError', 'InterruptedError', 'IsADirectoryError', 'KeyError', 'KeyboardInterrupt', 'LookupError', 'MemoryError', 'ModuleNotFoundError', 'NameError', 'None', 'NotADirectoryError', 'NotImplemented', 'NotImplementedError', 'OSError', 'OverflowError', 'PendingDeprecationWarning', 'PermissionError', 'ProcessLookupError', 'RecursionError', 'ReferenceError', 'ResourceWarning', 'RuntimeError', 'RuntimeWarning', 'StopAsyncIteration', 'StopIteration', 'SyntaxError', 'SyntaxWarning', 'SystemError', 'SystemExit', 'TabError', 'TimeoutError', 'True', 'TypeError', 'UnboundLocalError', 'UnicodeDecodeError', 'UnicodeEncodeError', 'UnicodeError', 'UnicodeTranslateError', 'UnicodeWarning', 'UserWarning', 'ValueError', 'Warning', 'WindowsError', 'ZeroDivisionError', '__IPYTHON__', '__build_class__', '__debug__', '__doc__', '__import__', '__loader__', '__name__', '__package__', '__spec__', 'abs', 'all', 'any', 'ascii', 'bin', 'bool', 'breakpoint', 'bytearray', 'bytes', 'callable', 'chr', 'classmethod', 'compile', 'complex', 'copyright', 'credits', 'delattr', 'dict', 'dir', 'display', 'divmod', 'enumerate', 'eval', 'exec', 'execfile', 'filter', 'float', 'format', 'frozenset', 'get_ipython', 'getattr', 'globals', 'hasattr', 'hash', 'help', 'hex', 'id', 'input', 'int', 'isinstance', 'issubclass', 'iter', 'len', 'license', 'list', 'locals', 'map', 'max', 'memoryview', 'min', 'next', 'object', 'oct', 'open', 'ord', 'pow', 'print', 'property', 'range', 'repr', 'reversed', 'round', 'runfile', 'set', 'setattr', 'slice', 'sorted', 'staticmethod', 'str', 'sum', 'super', 'tuple', 'type', 'vars', 'zip']\n"
     ]
    }
   ],
   "source": [
    "print(dir(__builtins__))"
   ]
  },
  {
   "cell_type": "code",
   "execution_count": 35,
   "id": "58f44950",
   "metadata": {},
   "outputs": [
    {
     "name": "stdout",
     "output_type": "stream",
     "text": [
      "['In', 'Out', '_', '_1', '_14', '_18', '_22', '_3', '_5', '_6', '_7', '__', '___', '__builtin__', '__builtins__', '__doc__', '__loader__', '__name__', '__package__', '__spec__', '_dh', '_i', '_i1', '_i10', '_i11', '_i12', '_i13', '_i14', '_i15', '_i16', '_i17', '_i18', '_i19', '_i2', '_i20', '_i21', '_i22', '_i23', '_i24', '_i25', '_i26', '_i27', '_i28', '_i29', '_i3', '_i30', '_i31', '_i32', '_i33', '_i34', '_i35', '_i4', '_i5', '_i6', '_i7', '_i8', '_i9', '_ih', '_ii', '_iii', '_oh', 'a', 'b', 'exit', 'f1', 'fact', 'get_details', 'get_ipython', 'l1', 'lst', 'lst1', 'lst2', 'lst3', 'lst4', 'my_append', 'my_pop', 'my_split', 'my_str', 'populate', 'quit', 'returned_value', 'val', 'val_add']\n"
     ]
    }
   ],
   "source": [
    "print(dir())"
   ]
  },
  {
   "cell_type": "code",
   "execution_count": 36,
   "id": "32d11e52",
   "metadata": {},
   "outputs": [
    {
     "name": "stdout",
     "output_type": "stream",
     "text": [
      "['__add__', '__class__', '__class_getitem__', '__contains__', '__delattr__', '__delitem__', '__dir__', '__doc__', '__eq__', '__format__', '__ge__', '__getattribute__', '__getitem__', '__gt__', '__hash__', '__iadd__', '__imul__', '__init__', '__init_subclass__', '__iter__', '__le__', '__len__', '__lt__', '__mul__', '__ne__', '__new__', '__reduce__', '__reduce_ex__', '__repr__', '__reversed__', '__rmul__', '__setattr__', '__setitem__', '__sizeof__', '__str__', '__subclasshook__', 'append', 'clear', 'copy', 'count', 'extend', 'index', 'insert', 'pop', 'remove', 'reverse', 'sort']\n"
     ]
    }
   ],
   "source": [
    "print(dir(list))"
   ]
  },
  {
   "cell_type": "code",
   "execution_count": 37,
   "id": "d9cf644a",
   "metadata": {},
   "outputs": [
    {
     "name": "stdout",
     "output_type": "stream",
     "text": [
      "['__annotations__', '__call__', '__class__', '__closure__', '__code__', '__defaults__', '__delattr__', '__dict__', '__dir__', '__doc__', '__eq__', '__format__', '__ge__', '__get__', '__getattribute__', '__globals__', '__gt__', '__hash__', '__init__', '__init_subclass__', '__kwdefaults__', '__le__', '__lt__', '__module__', '__name__', '__ne__', '__new__', '__qualname__', '__reduce__', '__reduce_ex__', '__repr__', '__setattr__', '__sizeof__', '__str__', '__subclasshook__']\n"
     ]
    }
   ],
   "source": [
    "print(dir(f1))"
   ]
  },
  {
   "cell_type": "code",
   "execution_count": 38,
   "id": "9a69561c",
   "metadata": {},
   "outputs": [
    {
     "ename": "SyntaxError",
     "evalue": "invalid syntax (Temp/ipykernel_3084/3587218308.py, line 3)",
     "output_type": "error",
     "traceback": [
      "\u001b[1;36m  File \u001b[1;32m\"C:\\Users\\SRADHA\\AppData\\Local\\Temp/ipykernel_3084/3587218308.py\"\u001b[1;36m, line \u001b[1;32m3\u001b[0m\n\u001b[1;33m    Local -> Global -> Builtins -> NameError\u001b[0m\n\u001b[1;37m          ^\u001b[0m\n\u001b[1;31mSyntaxError\u001b[0m\u001b[1;31m:\u001b[0m invalid syntax\n"
     ]
    }
   ],
   "source": [
    "# Scope - set of rules which are defined inside the function for name resolutuon order\n",
    "\n",
    "Local -> Global -> Builtins -> NameError\n",
    "print"
   ]
  },
  {
   "cell_type": "code",
   "execution_count": 39,
   "id": "b699d2b3",
   "metadata": {},
   "outputs": [
    {
     "name": "stdout",
     "output_type": "stream",
     "text": [
      "10\n"
     ]
    }
   ],
   "source": [
    "print(a)"
   ]
  },
  {
   "cell_type": "code",
   "execution_count": 40,
   "id": "801555cf",
   "metadata": {},
   "outputs": [
    {
     "name": "stdout",
     "output_type": "stream",
     "text": [
      "['In', 'Out', '_', '_1', '_14', '_18', '_22', '_3', '_5', '_6', '_7', '__', '___', '__builtin__', '__builtins__', '__doc__', '__loader__', '__name__', '__package__', '__spec__', '_dh', '_i', '_i1', '_i10', '_i11', '_i12', '_i13', '_i14', '_i15', '_i16', '_i17', '_i18', '_i19', '_i2', '_i20', '_i21', '_i22', '_i23', '_i24', '_i25', '_i26', '_i27', '_i28', '_i29', '_i3', '_i30', '_i31', '_i32', '_i33', '_i34', '_i35', '_i36', '_i37', '_i38', '_i39', '_i4', '_i40', '_i5', '_i6', '_i7', '_i8', '_i9', '_ih', '_ii', '_iii', '_oh', 'a', 'b', 'exit', 'f1', 'fact', 'get_details', 'get_ipython', 'l1', 'lst', 'lst1', 'lst2', 'lst3', 'lst4', 'my_append', 'my_pop', 'my_split', 'my_str', 'populate', 'quit', 'returned_value', 'val', 'val_add']\n"
     ]
    }
   ],
   "source": [
    "print(dir())"
   ]
  },
  {
   "cell_type": "code",
   "execution_count": 44,
   "id": "bee8e5bd",
   "metadata": {},
   "outputs": [
    {
     "name": "stdout",
     "output_type": "stream",
     "text": [
      "10\n"
     ]
    }
   ],
   "source": [
    "def f1():\n",
    "    a = 10\n",
    "    print(a)\n",
    "f1()\n",
    "# print(a)"
   ]
  },
  {
   "cell_type": "code",
   "execution_count": 45,
   "id": "ec1921ec",
   "metadata": {},
   "outputs": [
    {
     "name": "stdout",
     "output_type": "stream",
     "text": [
      "['In', 'Out', '_', '_1', '_14', '_18', '_22', '_3', '_5', '_6', '_7', '__', '___', '__builtin__', '__builtins__', '__doc__', '__loader__', '__name__', '__package__', '__spec__', '_dh', '_i', '_i1', '_i10', '_i11', '_i12', '_i13', '_i14', '_i15', '_i16', '_i17', '_i18', '_i19', '_i2', '_i20', '_i21', '_i22', '_i23', '_i24', '_i25', '_i26', '_i27', '_i28', '_i29', '_i3', '_i30', '_i31', '_i32', '_i33', '_i34', '_i35', '_i36', '_i37', '_i38', '_i39', '_i4', '_i40', '_i41', '_i42', '_i43', '_i44', '_i45', '_i5', '_i6', '_i7', '_i8', '_i9', '_ih', '_ii', '_iii', '_oh', 'a', 'b', 'exit', 'f1', 'fact', 'get_details', 'get_ipython', 'l1', 'lst', 'lst1', 'lst2', 'lst3', 'lst4', 'my_append', 'my_pop', 'my_split', 'my_str', 'populate', 'quit', 'returned_value', 'val', 'val_add']\n"
     ]
    }
   ],
   "source": [
    "print(dir())"
   ]
  },
  {
   "cell_type": "code",
   "execution_count": 46,
   "id": "98003c69",
   "metadata": {},
   "outputs": [
    {
     "name": "stdout",
     "output_type": "stream",
     "text": [
      "['In', 'Out', '_', '_1', '_14', '_18', '_22', '_3', '_5', '_6', '_7', '__', '___', '__builtin__', '__builtins__', '__doc__', '__loader__', '__name__', '__package__', '__spec__', '_dh', '_i', '_i1', '_i10', '_i11', '_i12', '_i13', '_i14', '_i15', '_i16', '_i17', '_i18', '_i19', '_i2', '_i20', '_i21', '_i22', '_i23', '_i24', '_i25', '_i26', '_i27', '_i28', '_i29', '_i3', '_i30', '_i31', '_i32', '_i33', '_i34', '_i35', '_i36', '_i37', '_i38', '_i39', '_i4', '_i40', '_i41', '_i42', '_i43', '_i44', '_i45', '_i46', '_i5', '_i6', '_i7', '_i8', '_i9', '_ih', '_ii', '_iii', '_oh', 'a', 'b', 'exit', 'f1', 'fact', 'get_details', 'get_ipython', 'l1', 'lst', 'lst1', 'lst2', 'lst3', 'lst4', 'my_append', 'my_pop', 'my_split', 'my_str', 'populate', 'quit', 'returned_value', 'val', 'val_add']\n"
     ]
    }
   ],
   "source": [
    "print(dir())"
   ]
  },
  {
   "cell_type": "code",
   "execution_count": 47,
   "id": "c70204b3",
   "metadata": {},
   "outputs": [
    {
     "name": "stdout",
     "output_type": "stream",
     "text": [
      "Builtin Namespace\n",
      "['ArithmeticError', 'AssertionError', 'AttributeError', 'BaseException', 'BlockingIOError', 'BrokenPipeError', 'BufferError', 'BytesWarning', 'ChildProcessError', 'ConnectionAbortedError', 'ConnectionError', 'ConnectionRefusedError', 'ConnectionResetError', 'DeprecationWarning', 'EOFError', 'Ellipsis', 'EnvironmentError', 'Exception', 'False', 'FileExistsError', 'FileNotFoundError', 'FloatingPointError', 'FutureWarning', 'GeneratorExit', 'IOError', 'ImportError', 'ImportWarning', 'IndentationError', 'IndexError', 'InterruptedError', 'IsADirectoryError', 'KeyError', 'KeyboardInterrupt', 'LookupError', 'MemoryError', 'ModuleNotFoundError', 'NameError', 'None', 'NotADirectoryError', 'NotImplemented', 'NotImplementedError', 'OSError', 'OverflowError', 'PendingDeprecationWarning', 'PermissionError', 'ProcessLookupError', 'RecursionError', 'ReferenceError', 'ResourceWarning', 'RuntimeError', 'RuntimeWarning', 'StopAsyncIteration', 'StopIteration', 'SyntaxError', 'SyntaxWarning', 'SystemError', 'SystemExit', 'TabError', 'TimeoutError', 'True', 'TypeError', 'UnboundLocalError', 'UnicodeDecodeError', 'UnicodeEncodeError', 'UnicodeError', 'UnicodeTranslateError', 'UnicodeWarning', 'UserWarning', 'ValueError', 'Warning', 'WindowsError', 'ZeroDivisionError', '__IPYTHON__', '__build_class__', '__debug__', '__doc__', '__import__', '__loader__', '__name__', '__package__', '__spec__', 'abs', 'all', 'any', 'ascii', 'bin', 'bool', 'breakpoint', 'bytearray', 'bytes', 'callable', 'chr', 'classmethod', 'compile', 'complex', 'copyright', 'credits', 'delattr', 'dict', 'dir', 'display', 'divmod', 'enumerate', 'eval', 'exec', 'execfile', 'filter', 'float', 'format', 'frozenset', 'get_ipython', 'getattr', 'globals', 'hasattr', 'hash', 'help', 'hex', 'id', 'input', 'int', 'isinstance', 'issubclass', 'iter', 'len', 'license', 'list', 'locals', 'map', 'max', 'memoryview', 'min', 'next', 'object', 'oct', 'open', 'ord', 'pow', 'print', 'property', 'range', 'repr', 'reversed', 'round', 'runfile', 'set', 'setattr', 'slice', 'sorted', 'staticmethod', 'str', 'sum', 'super', 'tuple', 'type', 'vars', 'zip']\n"
     ]
    }
   ],
   "source": [
    "print('Builtin Namespace')\n",
    "print(dir(__builtins__))"
   ]
  },
  {
   "cell_type": "code",
   "execution_count": 48,
   "id": "9db0c766",
   "metadata": {},
   "outputs": [
    {
     "name": "stdout",
     "output_type": "stream",
     "text": [
      "Global Namespace in the begining\n",
      "['In', 'Out', '_', '_1', '_14', '_18', '_22', '_3', '_5', '_6', '_7', '__', '___', '__builtin__', '__builtins__', '__doc__', '__loader__', '__name__', '__package__', '__spec__', '_dh', '_i', '_i1', '_i10', '_i11', '_i12', '_i13', '_i14', '_i15', '_i16', '_i17', '_i18', '_i19', '_i2', '_i20', '_i21', '_i22', '_i23', '_i24', '_i25', '_i26', '_i27', '_i28', '_i29', '_i3', '_i30', '_i31', '_i32', '_i33', '_i34', '_i35', '_i36', '_i37', '_i38', '_i39', '_i4', '_i40', '_i41', '_i42', '_i43', '_i44', '_i45', '_i46', '_i47', '_i48', '_i5', '_i6', '_i7', '_i8', '_i9', '_ih', '_ii', '_iii', '_oh', 'a', 'b', 'exit', 'f1', 'fact', 'get_details', 'get_ipython', 'l1', 'lst', 'lst1', 'lst2', 'lst3', 'lst4', 'my_append', 'my_pop', 'my_split', 'my_str', 'populate', 'quit', 'returned_value', 'val', 'val_add']\n"
     ]
    }
   ],
   "source": [
    "print('Global Namespace in the begining')\n",
    "print(dir())"
   ]
  },
  {
   "cell_type": "code",
   "execution_count": 49,
   "id": "97119b72",
   "metadata": {},
   "outputs": [],
   "source": [
    "a = 10\n",
    "b = 20\n",
    "c = a+b\n",
    "def f1():\n",
    "    x = 11\n",
    "    y = 22\n",
    "    print('Local Name sopace of f1')\n",
    "    print(dir())"
   ]
  },
  {
   "cell_type": "code",
   "execution_count": 50,
   "id": "e2145ee2",
   "metadata": {},
   "outputs": [
    {
     "name": "stdout",
     "output_type": "stream",
     "text": [
      "Global Namesoace after eecuting abive code\n",
      "['In', 'Out', '_', '_1', '_14', '_18', '_22', '_3', '_5', '_6', '_7', '__', '___', '__builtin__', '__builtins__', '__doc__', '__loader__', '__name__', '__package__', '__spec__', '_dh', '_i', '_i1', '_i10', '_i11', '_i12', '_i13', '_i14', '_i15', '_i16', '_i17', '_i18', '_i19', '_i2', '_i20', '_i21', '_i22', '_i23', '_i24', '_i25', '_i26', '_i27', '_i28', '_i29', '_i3', '_i30', '_i31', '_i32', '_i33', '_i34', '_i35', '_i36', '_i37', '_i38', '_i39', '_i4', '_i40', '_i41', '_i42', '_i43', '_i44', '_i45', '_i46', '_i47', '_i48', '_i49', '_i5', '_i50', '_i6', '_i7', '_i8', '_i9', '_ih', '_ii', '_iii', '_oh', 'a', 'b', 'c', 'exit', 'f1', 'fact', 'get_details', 'get_ipython', 'l1', 'lst', 'lst1', 'lst2', 'lst3', 'lst4', 'my_append', 'my_pop', 'my_split', 'my_str', 'populate', 'quit', 'returned_value', 'val', 'val_add']\n"
     ]
    }
   ],
   "source": [
    "print('Global Namesoace after eecuting abive code')\n",
    "print(dir())"
   ]
  },
  {
   "cell_type": "code",
   "execution_count": 51,
   "id": "b7ca22ef",
   "metadata": {},
   "outputs": [
    {
     "name": "stdout",
     "output_type": "stream",
     "text": [
      "Local Name sopace of f1\n",
      "['x', 'y']\n"
     ]
    }
   ],
   "source": [
    "f1()"
   ]
  },
  {
   "cell_type": "code",
   "execution_count": 52,
   "id": "3c23c644",
   "metadata": {},
   "outputs": [],
   "source": [
    "# def my_func():\n",
    "#     a = 10\n",
    "# my_func()\n",
    "# print(a)"
   ]
  },
  {
   "cell_type": "code",
   "execution_count": 53,
   "id": "2febe5e6",
   "metadata": {},
   "outputs": [
    {
     "name": "stdout",
     "output_type": "stream",
     "text": [
      "10\n"
     ]
    }
   ],
   "source": [
    "def my_func():\n",
    "    a = 10\n",
    "    return a\n",
    "a = my_func()\n",
    "print(a)"
   ]
  },
  {
   "cell_type": "code",
   "execution_count": 54,
   "id": "60e5dd29",
   "metadata": {},
   "outputs": [
    {
     "name": "stdout",
     "output_type": "stream",
     "text": [
      "INside Outer function\n",
      "Insiude inner function\n",
      "None\n"
     ]
    }
   ],
   "source": [
    "def outer_func():\n",
    "    print('INside Outer function')\n",
    "    a = 10\n",
    "    b = 20\n",
    "    def inner_func():\n",
    "        print('Insiude inner function')\n",
    "        x = 11\n",
    "        y = 22\n",
    "    inner_func()\n",
    "print(outer_func())"
   ]
  },
  {
   "cell_type": "code",
   "execution_count": 55,
   "id": "66e58602",
   "metadata": {},
   "outputs": [
    {
     "name": "stdout",
     "output_type": "stream",
     "text": [
      "INside Outer function\n",
      "Insiude inner function\n"
     ]
    },
    {
     "ename": "NameError",
     "evalue": "name 'inner_func' is not defined",
     "output_type": "error",
     "traceback": [
      "\u001b[1;31m---------------------------------------------------------------------------\u001b[0m",
      "\u001b[1;31mNameError\u001b[0m                                 Traceback (most recent call last)",
      "\u001b[1;32m~\\AppData\\Local\\Temp/ipykernel_3084/795720538.py\u001b[0m in \u001b[0;36m<module>\u001b[1;34m\u001b[0m\n\u001b[0;32m      9\u001b[0m     \u001b[0minner_func\u001b[0m\u001b[1;33m(\u001b[0m\u001b[1;33m)\u001b[0m\u001b[1;33m\u001b[0m\u001b[1;33m\u001b[0m\u001b[0m\n\u001b[0;32m     10\u001b[0m \u001b[0mouter_func\u001b[0m\u001b[1;33m(\u001b[0m\u001b[1;33m)\u001b[0m\u001b[1;33m\u001b[0m\u001b[1;33m\u001b[0m\u001b[0m\n\u001b[1;32m---> 11\u001b[1;33m \u001b[0minner_func\u001b[0m\u001b[1;33m(\u001b[0m\u001b[1;33m)\u001b[0m\u001b[1;33m\u001b[0m\u001b[1;33m\u001b[0m\u001b[0m\n\u001b[0m",
      "\u001b[1;31mNameError\u001b[0m: name 'inner_func' is not defined"
     ]
    }
   ],
   "source": [
    "def outer_func():\n",
    "    print('INside Outer function')\n",
    "    a = 10\n",
    "    b = 20\n",
    "    def inner_func():\n",
    "        print('Insiude inner function')\n",
    "        x = 11\n",
    "        y = 22\n",
    "    inner_func()\n",
    "outer_func()\n",
    "inner_func()"
   ]
  },
  {
   "cell_type": "code",
   "execution_count": 56,
   "id": "f83d2f95",
   "metadata": {},
   "outputs": [
    {
     "name": "stdout",
     "output_type": "stream",
     "text": [
      "INside Outer function\n",
      "Insiude inner function\n"
     ]
    }
   ],
   "source": [
    "# Closure - A function which returns the reference of inner function\n",
    "\n",
    "def outer_func():\n",
    "    print('INside Outer function')\n",
    "    a = 10\n",
    "    b = 20\n",
    "    def inner_func():\n",
    "        print('Insiude inner function')\n",
    "        x = 11\n",
    "        y = 22\n",
    "    return inner_func\n",
    "a = outer_func()\n",
    "a()\n"
   ]
  },
  {
   "cell_type": "code",
   "execution_count": 57,
   "id": "79ded2b5",
   "metadata": {},
   "outputs": [
    {
     "name": "stderr",
     "output_type": "stream",
     "text": [
      "<>:1: SyntaxWarning: 'NoneType' object is not callable; perhaps you missed a comma?\n",
      "<>:1: SyntaxWarning: 'NoneType' object is not callable; perhaps you missed a comma?\n",
      "C:\\Users\\SRADHA\\AppData\\Local\\Temp/ipykernel_3084/744963307.py:1: SyntaxWarning: 'NoneType' object is not callable; perhaps you missed a comma?\n",
      "  None()\n"
     ]
    },
    {
     "ename": "TypeError",
     "evalue": "'NoneType' object is not callable",
     "output_type": "error",
     "traceback": [
      "\u001b[1;31m---------------------------------------------------------------------------\u001b[0m",
      "\u001b[1;31mTypeError\u001b[0m                                 Traceback (most recent call last)",
      "\u001b[1;32m~\\AppData\\Local\\Temp/ipykernel_3084/744963307.py\u001b[0m in \u001b[0;36m<module>\u001b[1;34m\u001b[0m\n\u001b[1;32m----> 1\u001b[1;33m \u001b[1;32mNone\u001b[0m\u001b[1;33m(\u001b[0m\u001b[1;33m)\u001b[0m\u001b[1;33m\u001b[0m\u001b[1;33m\u001b[0m\u001b[0m\n\u001b[0m",
      "\u001b[1;31mTypeError\u001b[0m: 'NoneType' object is not callable"
     ]
    }
   ],
   "source": [
    "None()"
   ]
  },
  {
   "cell_type": "code",
   "execution_count": 58,
   "id": "444d45ad",
   "metadata": {},
   "outputs": [],
   "source": [
    "None"
   ]
  },
  {
   "cell_type": "code",
   "execution_count": 59,
   "id": "9e1575b0",
   "metadata": {},
   "outputs": [
    {
     "name": "stdout",
     "output_type": "stream",
     "text": [
      "Inside f1\n",
      "11\n",
      "After calling f1()\n",
      "<function outer_func.<locals>.inner_func at 0x0000018018A0F670>\n"
     ]
    }
   ],
   "source": [
    "# Global Keyword\n",
    "\n",
    "# a = 10\n",
    "def f1():\n",
    "#     global a\n",
    "    a = 11\n",
    "    print('Inside f1')\n",
    "    print(a)\n",
    "# print('Before calling f1()')\n",
    "# print(a)\n",
    "f1()\n",
    "print('After calling f1()')\n",
    "print(a)\n",
    "\n"
   ]
  },
  {
   "cell_type": "code",
   "execution_count": 60,
   "id": "01811140",
   "metadata": {},
   "outputs": [
    {
     "name": "stdout",
     "output_type": "stream",
     "text": [
      "111\n",
      "111\n",
      "111\n"
     ]
    },
    {
     "ename": "NameError",
     "evalue": "name 'x' is not defined",
     "output_type": "error",
     "traceback": [
      "\u001b[1;31m---------------------------------------------------------------------------\u001b[0m",
      "\u001b[1;31mNameError\u001b[0m                                 Traceback (most recent call last)",
      "\u001b[1;32m~\\AppData\\Local\\Temp/ipykernel_3084/3247440189.py\u001b[0m in \u001b[0;36m<module>\u001b[1;34m\u001b[0m\n\u001b[0;32m     13\u001b[0m \u001b[0mf1\u001b[0m\u001b[1;33m(\u001b[0m\u001b[1;33m)\u001b[0m\u001b[1;33m\u001b[0m\u001b[1;33m\u001b[0m\u001b[0m\n\u001b[0;32m     14\u001b[0m \u001b[0mprint\u001b[0m\u001b[1;33m(\u001b[0m\u001b[0ma\u001b[0m\u001b[1;33m)\u001b[0m\u001b[1;33m\u001b[0m\u001b[1;33m\u001b[0m\u001b[0m\n\u001b[1;32m---> 15\u001b[1;33m \u001b[0mprint\u001b[0m\u001b[1;33m(\u001b[0m\u001b[0mx\u001b[0m\u001b[1;33m)\u001b[0m\u001b[1;33m\u001b[0m\u001b[1;33m\u001b[0m\u001b[0m\n\u001b[0m",
      "\u001b[1;31mNameError\u001b[0m: name 'x' is not defined"
     ]
    }
   ],
   "source": [
    "a = 11\n",
    "def f1():\n",
    "    global a, b\n",
    "    a = 90\n",
    "    x = 0\n",
    "    def f2():\n",
    "        nonlocal x\n",
    "        x = 111\n",
    "        print(x)\n",
    "    f2()\n",
    "    a = x\n",
    "    print(a)\n",
    "f1()\n",
    "print(a)\n",
    "print(x)"
   ]
  },
  {
   "cell_type": "code",
   "execution_count": 61,
   "id": "3ec38a19",
   "metadata": {},
   "outputs": [],
   "source": [
    "# Function is an object\n",
    "# We can return the function as a reference\n",
    "# We can pass a function as an argument"
   ]
  },
  {
   "cell_type": "code",
   "execution_count": 62,
   "id": "69523196",
   "metadata": {},
   "outputs": [
    {
     "name": "stdout",
     "output_type": "stream",
     "text": [
      "25\n",
      "the value of the sum is 25\n"
     ]
    }
   ],
   "source": [
    "def sum(a,b):\n",
    "    c = a+b\n",
    "    return c\n",
    "    \n",
    "print(sum(10,15))\n",
    "\n",
    "\n",
    "print(f'the value of the sum is {sum(10,15)}')"
   ]
  },
  {
   "cell_type": "code",
   "execution_count": 63,
   "id": "d479c6fc",
   "metadata": {},
   "outputs": [
    {
     "name": "stdout",
     "output_type": "stream",
     "text": [
      "25\n",
      "afsaan\n",
      "30\n"
     ]
    },
    {
     "ename": "NameError",
     "evalue": "name 'x' is not defined",
     "output_type": "error",
     "traceback": [
      "\u001b[1;31m---------------------------------------------------------------------------\u001b[0m",
      "\u001b[1;31mNameError\u001b[0m                                 Traceback (most recent call last)",
      "\u001b[1;32m~\\AppData\\Local\\Temp/ipykernel_3084/4052570358.py\u001b[0m in \u001b[0;36m<module>\u001b[1;34m\u001b[0m\n\u001b[0;32m     16\u001b[0m \u001b[0madd\u001b[0m\u001b[1;33m(\u001b[0m\u001b[1;33m)\u001b[0m\u001b[1;33m\u001b[0m\u001b[1;33m\u001b[0m\u001b[0m\n\u001b[0;32m     17\u001b[0m \u001b[0mprint\u001b[0m\u001b[1;33m(\u001b[0m\u001b[0mc\u001b[0m\u001b[1;33m)\u001b[0m\u001b[1;33m\u001b[0m\u001b[1;33m\u001b[0m\u001b[0m\n\u001b[1;32m---> 18\u001b[1;33m \u001b[0mprint\u001b[0m\u001b[1;33m(\u001b[0m\u001b[0mx\u001b[0m\u001b[1;33m)\u001b[0m\u001b[1;33m\u001b[0m\u001b[1;33m\u001b[0m\u001b[0m\n\u001b[0m",
      "\u001b[1;31mNameError\u001b[0m: name 'x' is not defined"
     ]
    }
   ],
   "source": [
    "# local and global varibale\n",
    "\n",
    "# local varibale - varibale that you can use only inside a particlular fucntion\n",
    "# global varibale - varaible that you can use in entire code\n",
    "\n",
    "#glolbal varibale\n",
    "a = 15\n",
    "b = 10\n",
    "\n",
    "def add():\n",
    "    x = 'afsaan' #local variable\n",
    "    c = a+b  # local varibale\n",
    "    print(c)\n",
    "    print(x)\n",
    "    \n",
    "add()\n",
    "print(c)\n",
    "print(x)"
   ]
  },
  {
   "cell_type": "code",
   "execution_count": 64,
   "id": "16da5bd2",
   "metadata": {},
   "outputs": [
    {
     "ename": "SyntaxError",
     "evalue": "invalid syntax (Temp/ipykernel_3084/4181779453.py, line 1)",
     "output_type": "error",
     "traceback": [
      "\u001b[1;36m  File \u001b[1;32m\"C:\\Users\\SRADHA\\AppData\\Local\\Temp/ipykernel_3084/4181779453.py\"\u001b[1;36m, line \u001b[1;32m1\u001b[0m\n\u001b[1;33m    ef sum(a,b):\u001b[0m\n\u001b[1;37m       ^\u001b[0m\n\u001b[1;31mSyntaxError\u001b[0m\u001b[1;31m:\u001b[0m invalid syntax\n"
     ]
    }
   ],
   "source": [
    "ef sum(a,b): \n",
    "    c=a+b\n",
    "    print(c)\n",
    "    return c \n",
    "x = sum(3,5)\n",
    "print(x) "
   ]
  },
  {
   "cell_type": "code",
   "execution_count": 65,
   "id": "9d031989",
   "metadata": {},
   "outputs": [
    {
     "name": "stdout",
     "output_type": "stream",
     "text": [
      "25\n"
     ]
    },
    {
     "ename": "TypeError",
     "evalue": "unsupported operand type(s) for -: 'NoneType' and 'int'",
     "output_type": "error",
     "traceback": [
      "\u001b[1;31m---------------------------------------------------------------------------\u001b[0m",
      "\u001b[1;31mTypeError\u001b[0m                                 Traceback (most recent call last)",
      "\u001b[1;32m~\\AppData\\Local\\Temp/ipykernel_3084/1046977924.py\u001b[0m in \u001b[0;36m<module>\u001b[1;34m\u001b[0m\n\u001b[0;32m      3\u001b[0m \u001b[1;33m\u001b[0m\u001b[0m\n\u001b[0;32m      4\u001b[0m \u001b[0ma\u001b[0m \u001b[1;33m=\u001b[0m \u001b[0msum\u001b[0m\u001b[1;33m(\u001b[0m\u001b[1;36m10\u001b[0m\u001b[1;33m,\u001b[0m\u001b[1;36m15\u001b[0m\u001b[1;33m)\u001b[0m\u001b[1;33m\u001b[0m\u001b[1;33m\u001b[0m\u001b[0m\n\u001b[1;32m----> 5\u001b[1;33m \u001b[0mx\u001b[0m \u001b[1;33m=\u001b[0m \u001b[0ma\u001b[0m \u001b[1;33m-\u001b[0m\u001b[1;36m10\u001b[0m\u001b[1;33m\u001b[0m\u001b[1;33m\u001b[0m\u001b[0m\n\u001b[0m",
      "\u001b[1;31mTypeError\u001b[0m: unsupported operand type(s) for -: 'NoneType' and 'int'"
     ]
    }
   ],
   "source": [
    "def sum(a,b):\n",
    "    print(a+b)\n",
    "    \n",
    "a = sum(10,15)\n",
    "x = a -10"
   ]
  },
  {
   "cell_type": "code",
   "execution_count": 66,
   "id": "c4dc8fcc",
   "metadata": {},
   "outputs": [
    {
     "name": "stdout",
     "output_type": "stream",
     "text": [
      "enter any number : 76\n"
     ]
    },
    {
     "data": {
      "text/plain": [
       "'even'"
      ]
     },
     "execution_count": 66,
     "metadata": {},
     "output_type": "execute_result"
    }
   ],
   "source": [
    "# create a function which will return even or odd based on the number given by the user\n",
    "\n",
    "\n",
    "def even_odd(num):\n",
    "    if num%2==0:\n",
    "        return 'even'\n",
    "    else:\n",
    "        return 'odd'\n",
    "\n",
    "a = int(input(\"enter any number : \"))\n",
    "even_odd(a)"
   ]
  },
  {
   "cell_type": "code",
   "execution_count": 67,
   "id": "06ed425c",
   "metadata": {},
   "outputs": [
    {
     "ename": "SyntaxError",
     "evalue": "unmatched ')' (Temp/ipykernel_3084/3856267320.py, line 4)",
     "output_type": "error",
     "traceback": [
      "\u001b[1;36m  File \u001b[1;32m\"C:\\Users\\SRADHA\\AppData\\Local\\Temp/ipykernel_3084/3856267320.py\"\u001b[1;36m, line \u001b[1;32m4\u001b[0m\n\u001b[1;33m    a = func())\u001b[0m\n\u001b[1;37m              ^\u001b[0m\n\u001b[1;31mSyntaxError\u001b[0m\u001b[1;31m:\u001b[0m unmatched ')'\n"
     ]
    }
   ],
   "source": [
    "def func():\n",
    "    return [1,2,3,4,5,6]\n",
    "\n",
    "a = func())"
   ]
  },
  {
   "cell_type": "code",
   "execution_count": 70,
   "id": "b1290403",
   "metadata": {},
   "outputs": [
    {
     "name": "stdout",
     "output_type": "stream",
     "text": [
      "sradha\n"
     ]
    }
   ],
   "source": [
    "def emp_info(emp_name ,emp_sal , emp_age):\n",
    "    return emp_name\n",
    "\n",
    "print(emp_info('sradha' , 68 , 24))"
   ]
  },
  {
   "cell_type": "code",
   "execution_count": 71,
   "id": "f474087e",
   "metadata": {},
   "outputs": [
    {
     "name": "stdout",
     "output_type": "stream",
     "text": [
      "None\n"
     ]
    }
   ],
   "source": [
    "def emp_info(emp_name , emp_sal , emp_age):\n",
    "    a = emp_name\n",
    "\n",
    "print(emp_info('sradha' , 68 , 24))"
   ]
  },
  {
   "cell_type": "code",
   "execution_count": 72,
   "id": "0bd64e4d",
   "metadata": {},
   "outputs": [
    {
     "ename": "NameError",
     "evalue": "name 'abc' is not defined",
     "output_type": "error",
     "traceback": [
      "\u001b[1;31m---------------------------------------------------------------------------\u001b[0m",
      "\u001b[1;31mNameError\u001b[0m                                 Traceback (most recent call last)",
      "\u001b[1;32m~\\AppData\\Local\\Temp/ipykernel_3084/205030792.py\u001b[0m in \u001b[0;36m<module>\u001b[1;34m\u001b[0m\n\u001b[0;32m      2\u001b[0m     \u001b[1;32mreturn\u001b[0m \u001b[0memp_name\u001b[0m \u001b[1;33m,\u001b[0m \u001b[0memp_sal\u001b[0m \u001b[1;33m,\u001b[0m \u001b[0memp_age\u001b[0m \u001b[1;33m,\u001b[0m \u001b[0mabc\u001b[0m\u001b[1;33m\u001b[0m\u001b[1;33m\u001b[0m\u001b[0m\n\u001b[0;32m      3\u001b[0m \u001b[1;33m\u001b[0m\u001b[0m\n\u001b[1;32m----> 4\u001b[1;33m \u001b[0ma\u001b[0m\u001b[1;33m,\u001b[0m\u001b[0mb\u001b[0m\u001b[1;33m,\u001b[0m\u001b[0mc\u001b[0m\u001b[1;33m,\u001b[0m\u001b[0md\u001b[0m \u001b[1;33m=\u001b[0m \u001b[0memp_info\u001b[0m\u001b[1;33m(\u001b[0m\u001b[1;34m'sradha'\u001b[0m \u001b[1;33m,\u001b[0m \u001b[1;36m68\u001b[0m \u001b[1;33m,\u001b[0m \u001b[1;36m24\u001b[0m\u001b[1;33m)\u001b[0m\u001b[1;33m\u001b[0m\u001b[1;33m\u001b[0m\u001b[0m\n\u001b[0m\u001b[0;32m      5\u001b[0m \u001b[0mprint\u001b[0m\u001b[1;33m(\u001b[0m\u001b[0ma\u001b[0m\u001b[1;33m)\u001b[0m\u001b[1;33m\u001b[0m\u001b[1;33m\u001b[0m\u001b[0m\n\u001b[0;32m      6\u001b[0m \u001b[0mprint\u001b[0m\u001b[1;33m(\u001b[0m\u001b[0mb\u001b[0m\u001b[1;33m)\u001b[0m\u001b[1;33m\u001b[0m\u001b[1;33m\u001b[0m\u001b[0m\n",
      "\u001b[1;32m~\\AppData\\Local\\Temp/ipykernel_3084/205030792.py\u001b[0m in \u001b[0;36memp_info\u001b[1;34m(emp_name, emp_sal, emp_age)\u001b[0m\n\u001b[0;32m      1\u001b[0m \u001b[1;32mdef\u001b[0m \u001b[0memp_info\u001b[0m\u001b[1;33m(\u001b[0m\u001b[0memp_name\u001b[0m \u001b[1;33m,\u001b[0m\u001b[0memp_sal\u001b[0m \u001b[1;33m,\u001b[0m \u001b[0memp_age\u001b[0m\u001b[1;33m)\u001b[0m\u001b[1;33m:\u001b[0m\u001b[1;33m\u001b[0m\u001b[1;33m\u001b[0m\u001b[0m\n\u001b[1;32m----> 2\u001b[1;33m     \u001b[1;32mreturn\u001b[0m \u001b[0memp_name\u001b[0m \u001b[1;33m,\u001b[0m \u001b[0memp_sal\u001b[0m \u001b[1;33m,\u001b[0m \u001b[0memp_age\u001b[0m \u001b[1;33m,\u001b[0m \u001b[0mabc\u001b[0m\u001b[1;33m\u001b[0m\u001b[1;33m\u001b[0m\u001b[0m\n\u001b[0m\u001b[0;32m      3\u001b[0m \u001b[1;33m\u001b[0m\u001b[0m\n\u001b[0;32m      4\u001b[0m \u001b[0ma\u001b[0m\u001b[1;33m,\u001b[0m\u001b[0mb\u001b[0m\u001b[1;33m,\u001b[0m\u001b[0mc\u001b[0m\u001b[1;33m,\u001b[0m\u001b[0md\u001b[0m \u001b[1;33m=\u001b[0m \u001b[0memp_info\u001b[0m\u001b[1;33m(\u001b[0m\u001b[1;34m'sradha'\u001b[0m \u001b[1;33m,\u001b[0m \u001b[1;36m68\u001b[0m \u001b[1;33m,\u001b[0m \u001b[1;36m24\u001b[0m\u001b[1;33m)\u001b[0m\u001b[1;33m\u001b[0m\u001b[1;33m\u001b[0m\u001b[0m\n\u001b[0;32m      5\u001b[0m \u001b[0mprint\u001b[0m\u001b[1;33m(\u001b[0m\u001b[0ma\u001b[0m\u001b[1;33m)\u001b[0m\u001b[1;33m\u001b[0m\u001b[1;33m\u001b[0m\u001b[0m\n",
      "\u001b[1;31mNameError\u001b[0m: name 'abc' is not defined"
     ]
    }
   ],
   "source": [
    "def emp_info(emp_name ,emp_sal , emp_age):\n",
    "    return emp_name , emp_sal , emp_age , abc\n",
    "\n",
    "a,b,c,d = emp_info('sradha' , 68 , 24)\n",
    "print(a)\n",
    "print(b)\n",
    "print(c)\n",
    "print(d)"
   ]
  },
  {
   "cell_type": "code",
   "execution_count": null,
   "id": "b67141aa",
   "metadata": {},
   "outputs": [],
   "source": []
  },
  {
   "cell_type": "code",
   "execution_count": null,
   "id": "7705ee13",
   "metadata": {},
   "outputs": [],
   "source": []
  }
 ],
 "metadata": {
  "kernelspec": {
   "display_name": "Python 3 (ipykernel)",
   "language": "python",
   "name": "python3"
  },
  "language_info": {
   "codemirror_mode": {
    "name": "ipython",
    "version": 3
   },
   "file_extension": ".py",
   "mimetype": "text/x-python",
   "name": "python",
   "nbconvert_exporter": "python",
   "pygments_lexer": "ipython3",
   "version": "3.9.7"
  }
 },
 "nbformat": 4,
 "nbformat_minor": 5
}
