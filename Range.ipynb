{
 "cells": [
  {
   "cell_type": "markdown",
   "id": "9fe4be4e",
   "metadata": {},
   "source": [
    "# Range Datatype"
   ]
  },
  {
   "cell_type": "code",
   "execution_count": 2,
   "id": "13dcc891",
   "metadata": {},
   "outputs": [],
   "source": [
    "# It is used in for loop\n",
    "# syntax = range(start , stop , step) - start is inclusive , stop is exculsive and step 1 and -1\n",
    "# default value of start = 0\n",
    "# default value of stop should be give by user\n",
    "# default valueof step is 1"
   ]
  },
  {
   "cell_type": "code",
   "execution_count": 3,
   "id": "8e28f2e5",
   "metadata": {},
   "outputs": [
    {
     "name": "stdout",
     "output_type": "stream",
     "text": [
      "[10, 12, 14, 16, 18]\n"
     ]
    }
   ],
   "source": [
    "print(list(range(10,20,2)))\n",
    "\n",
    "# [10,12,14,16,18]"
   ]
  },
  {
   "cell_type": "code",
   "execution_count": 4,
   "id": "3314bbff",
   "metadata": {},
   "outputs": [
    {
     "name": "stdout",
     "output_type": "stream",
     "text": [
      "10\n",
      "12\n",
      "14\n",
      "16\n",
      "18\n"
     ]
    }
   ],
   "source": [
    "for i in range(10,20,2):\n",
    "    print(i)"
   ]
  },
  {
   "cell_type": "code",
   "execution_count": 6,
   "id": "6800baf5",
   "metadata": {},
   "outputs": [
    {
     "name": "stdout",
     "output_type": "stream",
     "text": [
      "Please enter your name :\"Sradha\"\n",
      "S\n"
     ]
    }
   ],
   "source": [
    "a = eval(input('Please enter your name :'))\n",
    "\n",
    "for i in range(0,1):\n",
    "    rev = a[i]\n",
    "    print(rev)"
   ]
  },
  {
   "cell_type": "code",
   "execution_count": 2,
   "id": "767c9ffa",
   "metadata": {},
   "outputs": [
    {
     "name": "stdout",
     "output_type": "stream",
     "text": [
      "s\n",
      "r\n",
      "a\n",
      "d\n",
      "h\n",
      "a\n"
     ]
    }
   ],
   "source": [
    "a = 'sradha'\n",
    "\n",
    "print(a[0])\n",
    "print(a[1])\n",
    "print(a[2])\n",
    "print(a[3])\n",
    "print(a[4])\n",
    "print(a[5])\n"
   ]
  },
  {
   "cell_type": "code",
   "execution_count": 9,
   "id": "6a760474",
   "metadata": {},
   "outputs": [
    {
     "data": {
      "text/plain": [
       "[0, 1, 2, 3, 4, 5]"
      ]
     },
     "execution_count": 9,
     "metadata": {},
     "output_type": "execute_result"
    }
   ],
   "source": [
    "list(range(0,6))"
   ]
  },
  {
   "cell_type": "code",
   "execution_count": 1,
   "id": "12276f70",
   "metadata": {},
   "outputs": [
    {
     "data": {
      "text/plain": [
       "'sradha'"
      ]
     },
     "execution_count": 1,
     "metadata": {},
     "output_type": "execute_result"
    }
   ],
   "source": [
    "# eval will take a proper data type\n",
    "\n",
    "# eval('<datatype>')\n",
    "\n",
    "eval('\"sradha\"')"
   ]
  },
  {
   "cell_type": "code",
   "execution_count": null,
   "id": "af682767",
   "metadata": {},
   "outputs": [],
   "source": []
  }
 ],
 "metadata": {
  "kernelspec": {
   "display_name": "Python 3 (ipykernel)",
   "language": "python",
   "name": "python3"
  },
  "language_info": {
   "codemirror_mode": {
    "name": "ipython",
    "version": 3
   },
   "file_extension": ".py",
   "mimetype": "text/x-python",
   "name": "python",
   "nbconvert_exporter": "python",
   "pygments_lexer": "ipython3",
   "version": "3.9.7"
  }
 },
 "nbformat": 4,
 "nbformat_minor": 5
}
