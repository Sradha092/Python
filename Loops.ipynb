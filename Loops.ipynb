{
 "cells": [
  {
   "cell_type": "code",
   "execution_count": 1,
   "id": "55b1a3e4",
   "metadata": {},
   "outputs": [],
   "source": [
    "# for loop\n",
    "# while loop"
   ]
  },
  {
   "cell_type": "code",
   "execution_count": 4,
   "id": "a7d081d8",
   "metadata": {},
   "outputs": [
    {
     "name": "stdout",
     "output_type": "stream",
     "text": [
      "[1, 2, 3, 4, 5, 6, 7, 8, 9]\n",
      "[1, 2, 3, 4, 5, 6, 7, 8, 9]\n",
      "[1, 3, 5, 7, 9]\n",
      "[1, 4, 7]\n"
     ]
    }
   ],
   "source": [
    "# range(start, stop, step) - returns a range object - list\n",
    "\n",
    "#                                      Step size is +ve\n",
    "#      --------------------------------------------------------------------------------->\n",
    "# -inf ----------------------------------------0---------------------------------------- +inf\n",
    "#                                      Step size is -ve\n",
    "#      <---------------------------------------------------------------------------------\n",
    "        \n",
    "        \n",
    "# If step is +ve then start should be on left of stop\n",
    "# If step is -ve then start should be on right of stop\n",
    "\n",
    "\n",
    "# Step +/-1, +/-2, +/-3...\n",
    "\n",
    "# Default step is +1\n",
    "\n",
    "print(list(range(1, 10)))\n",
    "print(list(range(1, 10, 1)))\n",
    "print(list(range(1, 10, 2)))\n",
    "print(list(range(1, 10, 3)))"
   ]
  },
  {
   "cell_type": "code",
   "execution_count": 6,
   "id": "65b1338f",
   "metadata": {},
   "outputs": [
    {
     "name": "stdout",
     "output_type": "stream",
     "text": [
      "[1, -2, -5, -8]\n"
     ]
    }
   ],
   "source": [
    "print(list(range(1, -10, -3)))"
   ]
  },
  {
   "cell_type": "code",
   "execution_count": 7,
   "id": "52e87c82",
   "metadata": {},
   "outputs": [
    {
     "name": "stdout",
     "output_type": "stream",
     "text": [
      "[2, 4, 6, 8, 10, 12, 14, 16, 18, 20]\n",
      "[1, 3, 5, 7, 9, 11, 13, 15, 17, 19]\n"
     ]
    }
   ],
   "source": [
    "print(list(range(2, 21, 2)))\n",
    "print(list(range(1, 21, 2)))"
   ]
  },
  {
   "cell_type": "code",
   "execution_count": 8,
   "id": "addb6574",
   "metadata": {},
   "outputs": [
    {
     "name": "stdout",
     "output_type": "stream",
     "text": [
      "[0, 1, 2, 3, 4]\n",
      "[0, 2, 4]\n",
      "[0, -1, -2, -3, -4]\n"
     ]
    }
   ],
   "source": [
    "# range(stop) - default start = 0, step =1\n",
    "print(list(range(5)))\n",
    "print(list(range(0, 5, 2)))\n",
    "\n",
    "print(list(range(0, -5, -1)))\n"
   ]
  },
  {
   "cell_type": "markdown",
   "id": "d9f2a538",
   "metadata": {},
   "source": [
    "# For loop"
   ]
  },
  {
   "cell_type": "code",
   "execution_count": 10,
   "id": "baa11fa6",
   "metadata": {},
   "outputs": [
    {
     "ename": "TypeError",
     "evalue": "'int' object is not iterable",
     "output_type": "error",
     "traceback": [
      "\u001b[1;31m---------------------------------------------------------------------------\u001b[0m",
      "\u001b[1;31mTypeError\u001b[0m                                 Traceback (most recent call last)",
      "\u001b[1;32m~\\AppData\\Local\\Temp/ipykernel_10552/1348531749.py\u001b[0m in \u001b[0;36m<module>\u001b[1;34m\u001b[0m\n\u001b[0;32m      5\u001b[0m \u001b[1;31m# Iterable - any object which implememnts __iter__\u001b[0m\u001b[1;33m\u001b[0m\u001b[1;33m\u001b[0m\u001b[0m\n\u001b[0;32m      6\u001b[0m \u001b[1;33m\u001b[0m\u001b[0m\n\u001b[1;32m----> 7\u001b[1;33m \u001b[1;32mfor\u001b[0m \u001b[0mi\u001b[0m \u001b[1;32min\u001b[0m \u001b[1;36m10\u001b[0m\u001b[1;33m:\u001b[0m      \u001b[1;31m# TypeError: 'int' object is not iterable\u001b[0m\u001b[1;33m\u001b[0m\u001b[1;33m\u001b[0m\u001b[0m\n\u001b[0m\u001b[0;32m      8\u001b[0m     \u001b[0mprint\u001b[0m\u001b[1;33m(\u001b[0m\u001b[0mi\u001b[0m\u001b[1;33m)\u001b[0m\u001b[1;33m\u001b[0m\u001b[1;33m\u001b[0m\u001b[0m\n\u001b[0;32m      9\u001b[0m \u001b[1;33m\u001b[0m\u001b[0m\n",
      "\u001b[1;31mTypeError\u001b[0m: 'int' object is not iterable"
     ]
    }
   ],
   "source": [
    "# Syntax - \n",
    "# for var in iterable:\n",
    "#     code\n",
    "\n",
    "# Iterable - any object which implememnts __iter__\n",
    "\n",
    "for i in 10:      # TypeError: 'int' object is not iterable\n",
    "    print(i)\n",
    "\n"
   ]
  },
  {
   "cell_type": "code",
   "execution_count": 11,
   "id": "3a82fe18",
   "metadata": {},
   "outputs": [
    {
     "name": "stdout",
     "output_type": "stream",
     "text": [
      "P\n",
      "y\n",
      "t\n",
      "h\n",
      "o\n",
      "n\n",
      " \n",
      "C\n",
      "l\n",
      "a\n",
      "s\n",
      "s\n"
     ]
    }
   ],
   "source": [
    "my_str = 'Python Class'\n",
    "for a in my_str:\n",
    "    print(a)"
   ]
  },
  {
   "cell_type": "code",
   "execution_count": 12,
   "id": "3ce57dcd",
   "metadata": {},
   "outputs": [
    {
     "name": "stdout",
     "output_type": "stream",
     "text": [
      "10\n",
      "Python\n",
      "10.2\n",
      "None\n",
      "(10+20j)\n"
     ]
    }
   ],
   "source": [
    "my_lst = [10, 'Python', 10.20, None, 10+20j]\n",
    "for i in my_lst:\n",
    "    print(i)"
   ]
  },
  {
   "cell_type": "code",
   "execution_count": 13,
   "id": "193ef0e0",
   "metadata": {},
   "outputs": [
    {
     "name": "stdout",
     "output_type": "stream",
     "text": [
      "10\n",
      "Python\n",
      "10.2\n",
      "None\n",
      "(10+20j)\n"
     ]
    }
   ],
   "source": [
    "my_tpl = (10, 'Python', 10.20, None, 10+20j)\n",
    "for i in my_tpl:\n",
    "    print(i)"
   ]
  },
  {
   "cell_type": "code",
   "execution_count": 14,
   "id": "5b6c0fca",
   "metadata": {},
   "outputs": [
    {
     "name": "stdout",
     "output_type": "stream",
     "text": [
      "10\n",
      "100\n",
      "\n",
      "True\n",
      "None\n",
      "\n",
      "10.2\n",
      "Python\n",
      "\n",
      "(10+20j)\n",
      "False\n",
      "\n"
     ]
    }
   ],
   "source": [
    "my_dict = {10:100, True:None, 10.20:'Python', 10+20j:False}\n",
    "for i in my_dict:\n",
    "    print(i)\n",
    "    print(my_dict[i])\n",
    "    print()"
   ]
  },
  {
   "cell_type": "code",
   "execution_count": 15,
   "id": "af4325be",
   "metadata": {},
   "outputs": [
    {
     "name": "stdout",
     "output_type": "stream",
     "text": [
      "Hi\n",
      "Hi\n",
      "Hi\n",
      "Hi\n",
      "Hi\n"
     ]
    }
   ],
   "source": [
    "for i in range(5):\n",
    "    print('Hi')"
   ]
  },
  {
   "cell_type": "code",
   "execution_count": 17,
   "id": "50c24e25",
   "metadata": {},
   "outputs": [
    {
     "name": "stdout",
     "output_type": "stream",
     "text": [
      "Enter employee name: jhjkd\n",
      "Enter employee ID: bjdsjsh\n",
      "Enter Employee location: bjdbjh\n",
      "For employee no 1 the details are: \n",
      "\tjhjkd\n",
      "\tbjdsjsh\n",
      "\tbjdbjh\n",
      "Enter employee name: alkjskjk\n",
      "Enter employee ID: jakjska\\\n",
      "Enter Employee location: jbakjah\n",
      "For employee no 2 the details are: \n",
      "\talkjskjk\n",
      "\tjakjska\\\n",
      "\tjbakjah\n",
      "Enter employee name: kahk\n",
      "Enter employee ID: nasbj\n",
      "Enter Employee location: mxsmakj\n",
      "For employee no 3 the details are: \n",
      "\tkahk\n",
      "\tnasbj\n",
      "\tmxsmakj\n"
     ]
    }
   ],
   "source": [
    "# WAP which takes emp_name, emp_id, emp_loc for 10 employees and prints the value for each employee\n",
    "for i in range(3):\n",
    "    emp_name = input('Enter employee name: ')\n",
    "    emp_id = input('Enter employee ID: ')\n",
    "    emp_loc = input('Enter Employee location: ')\n",
    "    print(f'For employee no {i+1} the details are: ', end = '\\n\\t')\n",
    "    print(emp_name, end = '\\n\\t')\n",
    "    print(emp_id, end = '\\n\\t')\n",
    "    print(emp_loc, end = '\\n')"
   ]
  },
  {
   "cell_type": "code",
   "execution_count": 19,
   "id": "a74a2438",
   "metadata": {},
   "outputs": [
    {
     "name": "stdout",
     "output_type": "stream",
     "text": [
      "['__abs__', '__add__', '__and__', '__bool__', '__ceil__', '__class__', '__delattr__', '__dir__', '__divmod__', '__doc__', '__eq__', '__float__', '__floor__', '__floordiv__', '__format__', '__ge__', '__getattribute__', '__getnewargs__', '__gt__', '__hash__', '__index__', '__init__', '__init_subclass__', '__int__', '__invert__', '__le__', '__lshift__', '__lt__', '__mod__', '__mul__', '__ne__', '__neg__', '__new__', '__or__', '__pos__', '__pow__', '__radd__', '__rand__', '__rdivmod__', '__reduce__', '__reduce_ex__', '__repr__', '__rfloordiv__', '__rlshift__', '__rmod__', '__rmul__', '__ror__', '__round__', '__rpow__', '__rrshift__', '__rshift__', '__rsub__', '__rtruediv__', '__rxor__', '__setattr__', '__sizeof__', '__str__', '__sub__', '__subclasshook__', '__truediv__', '__trunc__', '__xor__', 'as_integer_ratio', 'bit_length', 'conjugate', 'denominator', 'from_bytes', 'imag', 'numerator', 'real', 'to_bytes']\n"
     ]
    }
   ],
   "source": [
    "# TO check an object is iterable or not\n",
    "\n",
    "print(dir(int))"
   ]
  },
  {
   "cell_type": "code",
   "execution_count": 20,
   "id": "aea2e4de",
   "metadata": {},
   "outputs": [
    {
     "name": "stdout",
     "output_type": "stream",
     "text": [
      "['__abs__', '__add__', '__bool__', '__class__', '__delattr__', '__dir__', '__divmod__', '__doc__', '__eq__', '__float__', '__floordiv__', '__format__', '__ge__', '__getattribute__', '__getnewargs__', '__gt__', '__hash__', '__init__', '__init_subclass__', '__int__', '__le__', '__lt__', '__mod__', '__mul__', '__ne__', '__neg__', '__new__', '__pos__', '__pow__', '__radd__', '__rdivmod__', '__reduce__', '__reduce_ex__', '__repr__', '__rfloordiv__', '__rmod__', '__rmul__', '__rpow__', '__rsub__', '__rtruediv__', '__setattr__', '__sizeof__', '__str__', '__sub__', '__subclasshook__', '__truediv__', 'conjugate', 'imag', 'real']\n"
     ]
    }
   ],
   "source": [
    "print(dir(complex))"
   ]
  },
  {
   "cell_type": "code",
   "execution_count": 21,
   "id": "cb1a5a13",
   "metadata": {},
   "outputs": [
    {
     "name": "stdout",
     "output_type": "stream",
     "text": [
      "['__add__', '__class__', '__contains__', '__delattr__', '__dir__', '__doc__', '__eq__', '__format__', '__ge__', '__getattribute__', '__getitem__', '__getnewargs__', '__gt__', '__hash__', '__init__', '__init_subclass__', '__iter__', '__le__', '__len__', '__lt__', '__mod__', '__mul__', '__ne__', '__new__', '__reduce__', '__reduce_ex__', '__repr__', '__rmod__', '__rmul__', '__setattr__', '__sizeof__', '__str__', '__subclasshook__', 'capitalize', 'casefold', 'center', 'count', 'encode', 'endswith', 'expandtabs', 'find', 'format', 'format_map', 'index', 'isalnum', 'isalpha', 'isascii', 'isdecimal', 'isdigit', 'isidentifier', 'islower', 'isnumeric', 'isprintable', 'isspace', 'istitle', 'isupper', 'join', 'ljust', 'lower', 'lstrip', 'maketrans', 'partition', 'removeprefix', 'removesuffix', 'replace', 'rfind', 'rindex', 'rjust', 'rpartition', 'rsplit', 'rstrip', 'split', 'splitlines', 'startswith', 'strip', 'swapcase', 'title', 'translate', 'upper', 'zfill']\n"
     ]
    }
   ],
   "source": [
    "print(dir(str))"
   ]
  },
  {
   "cell_type": "code",
   "execution_count": 22,
   "id": "ee683272",
   "metadata": {},
   "outputs": [
    {
     "name": "stdout",
     "output_type": "stream",
     "text": [
      "['__add__', '__class__', '__class_getitem__', '__contains__', '__delattr__', '__delitem__', '__dir__', '__doc__', '__eq__', '__format__', '__ge__', '__getattribute__', '__getitem__', '__gt__', '__hash__', '__iadd__', '__imul__', '__init__', '__init_subclass__', '__iter__', '__le__', '__len__', '__lt__', '__mul__', '__ne__', '__new__', '__reduce__', '__reduce_ex__', '__repr__', '__reversed__', '__rmul__', '__setattr__', '__setitem__', '__sizeof__', '__str__', '__subclasshook__', 'append', 'clear', 'copy', 'count', 'extend', 'index', 'insert', 'pop', 'remove', 'reverse', 'sort']\n"
     ]
    }
   ],
   "source": [
    "print(dir(list))"
   ]
  },
  {
   "cell_type": "code",
   "execution_count": 23,
   "id": "c0583a07",
   "metadata": {},
   "outputs": [
    {
     "name": "stdout",
     "output_type": "stream",
     "text": [
      "['__class__', '__class_getitem__', '__contains__', '__delattr__', '__delitem__', '__dir__', '__doc__', '__eq__', '__format__', '__ge__', '__getattribute__', '__getitem__', '__gt__', '__hash__', '__init__', '__init_subclass__', '__ior__', '__iter__', '__le__', '__len__', '__lt__', '__ne__', '__new__', '__or__', '__reduce__', '__reduce_ex__', '__repr__', '__reversed__', '__ror__', '__setattr__', '__setitem__', '__sizeof__', '__str__', '__subclasshook__', 'clear', 'copy', 'fromkeys', 'get', 'items', 'keys', 'pop', 'popitem', 'setdefault', 'update', 'values']\n"
     ]
    }
   ],
   "source": [
    "print(dir(dict))"
   ]
  },
  {
   "cell_type": "code",
   "execution_count": 24,
   "id": "fbc6ed1e",
   "metadata": {},
   "outputs": [
    {
     "name": "stdout",
     "output_type": "stream",
     "text": [
      "['__bool__', '__class__', '__contains__', '__delattr__', '__dir__', '__doc__', '__eq__', '__format__', '__ge__', '__getattribute__', '__getitem__', '__gt__', '__hash__', '__init__', '__init_subclass__', '__iter__', '__le__', '__len__', '__lt__', '__ne__', '__new__', '__reduce__', '__reduce_ex__', '__repr__', '__reversed__', '__setattr__', '__sizeof__', '__str__', '__subclasshook__', 'count', 'index', 'start', 'step', 'stop']\n"
     ]
    }
   ],
   "source": [
    "print(dir(range))"
   ]
  },
  {
   "cell_type": "code",
   "execution_count": 25,
   "id": "4513153a",
   "metadata": {},
   "outputs": [
    {
     "name": "stdout",
     "output_type": "stream",
     "text": [
      "['__add__', '__class__', '__class_getitem__', '__contains__', '__delattr__', '__dir__', '__doc__', '__eq__', '__format__', '__ge__', '__getattribute__', '__getitem__', '__getnewargs__', '__gt__', '__hash__', '__init__', '__init_subclass__', '__iter__', '__le__', '__len__', '__lt__', '__mul__', '__ne__', '__new__', '__reduce__', '__reduce_ex__', '__repr__', '__rmul__', '__setattr__', '__sizeof__', '__str__', '__subclasshook__', 'count', 'index']\n"
     ]
    }
   ],
   "source": [
    "print(dir(tuple))"
   ]
  },
  {
   "cell_type": "code",
   "execution_count": 26,
   "id": "74a04b28",
   "metadata": {},
   "outputs": [
    {
     "name": "stdout",
     "output_type": "stream",
     "text": [
      "['peter', 'piper', 'picked', 'a', 'peck', 'of', 'pickled', 'peppers.']\n"
     ]
    }
   ],
   "source": [
    "# Q. Write a python program to find below output using loop:-\n",
    "# Input:- 'peter piper picked a peck of pickled peppers.'\n",
    "# Output:- ['peter', 'piper', 'picked', 'a', 'peck', 'of', 'pickled',\n",
    "# 'peppers.']\n",
    "\n",
    "my_str = 'peter piper picked a peck of pickled peppers.'\n",
    "my_word = ''\n",
    "out_lst = []\n",
    "for ind in range(len(my_str)):\n",
    "    if my_str[ind] == ' ':\n",
    "        out_lst += [my_word]\n",
    "        my_word = ''\n",
    "    else:\n",
    "        my_word = my_word + my_str[ind]\n",
    "out_lst += [my_word]\n",
    "print(out_lst)\n"
   ]
  },
  {
   "cell_type": "code",
   "execution_count": 27,
   "id": "cf921878",
   "metadata": {},
   "outputs": [
    {
     "data": {
      "text/plain": [
       "range(0, 45)"
      ]
     },
     "execution_count": 27,
     "metadata": {},
     "output_type": "execute_result"
    }
   ],
   "source": [
    "range(45)"
   ]
  },
  {
   "cell_type": "code",
   "execution_count": 28,
   "id": "18e83896",
   "metadata": {},
   "outputs": [
    {
     "name": "stdout",
     "output_type": "stream",
     "text": [
      "['peppers.', 'pickled', 'of', 'peck', 'a', 'picked', 'piper', 'peter']\n"
     ]
    }
   ],
   "source": [
    "# Q. Write a python program to find below output using loop:-\n",
    "# Input:- 'peter piper picked a peck of pickled peppers.'\n",
    "# Output:- 'peppers pickled of peck a picked piper peter'\n",
    "\n",
    "my_str = 'peter piper picked a peck of pickled peppers.'\n",
    "my_word = ''\n",
    "out_lst = []\n",
    "for ind in range(len(my_str)):\n",
    "    if my_str[ind] == ' ':\n",
    "        out_lst = [my_word] + out_lst\n",
    "        my_word = ''\n",
    "    else:\n",
    "        my_word = my_word + my_str[ind]\n",
    "out_lst = [my_word] + out_lst\n",
    "print(out_lst)"
   ]
  },
  {
   "cell_type": "code",
   "execution_count": 29,
   "id": "b97d25bb",
   "metadata": {},
   "outputs": [
    {
     "name": "stdout",
     "output_type": "stream",
     "text": [
      "[10, 20]\n"
     ]
    }
   ],
   "source": [
    "a = [10]\n",
    "a = a + [20]\n",
    "print(a)"
   ]
  },
  {
   "cell_type": "code",
   "execution_count": 30,
   "id": "40698fc6",
   "metadata": {},
   "outputs": [
    {
     "name": "stdout",
     "output_type": "stream",
     "text": [
      "[20, 10]\n"
     ]
    }
   ],
   "source": [
    "a = [10]\n",
    "a = [20] + a\n",
    "print(a)"
   ]
  },
  {
   "cell_type": "code",
   "execution_count": 31,
   "id": "8101f8ec",
   "metadata": {},
   "outputs": [
    {
     "ename": "TypeError",
     "evalue": "can only concatenate str (not \"list\") to str",
     "output_type": "error",
     "traceback": [
      "\u001b[1;31m---------------------------------------------------------------------------\u001b[0m",
      "\u001b[1;31mTypeError\u001b[0m                                 Traceback (most recent call last)",
      "\u001b[1;32m~\\AppData\\Local\\Temp/ipykernel_10552/1910965888.py\u001b[0m in \u001b[0;36m<module>\u001b[1;34m\u001b[0m\n\u001b[0;32m      4\u001b[0m \u001b[1;32mfor\u001b[0m \u001b[0mind\u001b[0m \u001b[1;32min\u001b[0m \u001b[0mrange\u001b[0m\u001b[1;33m(\u001b[0m\u001b[1;33m-\u001b[0m\u001b[1;36m1\u001b[0m\u001b[1;33m,\u001b[0m \u001b[1;33m-\u001b[0m\u001b[0mlen\u001b[0m\u001b[1;33m(\u001b[0m\u001b[0mmy_input\u001b[0m\u001b[1;33m)\u001b[0m\u001b[1;33m-\u001b[0m\u001b[1;36m1\u001b[0m\u001b[1;33m,\u001b[0m \u001b[1;33m-\u001b[0m\u001b[1;36m1\u001b[0m\u001b[1;33m)\u001b[0m\u001b[1;33m:\u001b[0m\u001b[1;33m\u001b[0m\u001b[1;33m\u001b[0m\u001b[0m\n\u001b[0;32m      5\u001b[0m     \u001b[1;32mif\u001b[0m \u001b[0mmy_input\u001b[0m\u001b[1;33m[\u001b[0m\u001b[0mind\u001b[0m\u001b[1;33m]\u001b[0m \u001b[1;33m==\u001b[0m \u001b[1;34m\" \"\u001b[0m\u001b[1;33m:\u001b[0m\u001b[1;33m\u001b[0m\u001b[1;33m\u001b[0m\u001b[0m\n\u001b[1;32m----> 6\u001b[1;33m         \u001b[0mmy_output\u001b[0m \u001b[1;33m=\u001b[0m \u001b[0mmy_input\u001b[0m\u001b[1;33m[\u001b[0m\u001b[0mind\u001b[0m\u001b[1;33m]\u001b[0m \u001b[1;33m+\u001b[0m \u001b[0meach_word\u001b[0m \u001b[1;33m+\u001b[0m \u001b[0mmy_output\u001b[0m \u001b[1;33m+\u001b[0m \u001b[1;34m\",\"\u001b[0m\u001b[1;33m\u001b[0m\u001b[1;33m\u001b[0m\u001b[0m\n\u001b[0m\u001b[0;32m      7\u001b[0m         \u001b[0meach_word\u001b[0m \u001b[1;33m=\u001b[0m \u001b[1;34m\"\"\u001b[0m\u001b[1;33m\u001b[0m\u001b[1;33m\u001b[0m\u001b[0m\n\u001b[0;32m      8\u001b[0m     \u001b[1;32melse\u001b[0m\u001b[1;33m:\u001b[0m\u001b[1;33m\u001b[0m\u001b[1;33m\u001b[0m\u001b[0m\n",
      "\u001b[1;31mTypeError\u001b[0m: can only concatenate str (not \"list\") to str"
     ]
    }
   ],
   "source": [
    "my_input = 'Peter piper picked a peck of pickled peppers'\n",
    "my_output = []\n",
    "each_word = \"\"\n",
    "for ind in range(-1, -len(my_input)-1, -1):\n",
    "    if my_input[ind] == \" \":\n",
    "        my_output = my_input[ind] + each_word + my_output + \",\"\n",
    "        each_word = \"\"\n",
    "    else:\n",
    "        each_word = each_word + my_input[ind]\n",
    "        \n",
    "        \n",
    "   # my_output = my_output + \"]\"\n",
    "print(my_output)"
   ]
  },
  {
   "cell_type": "code",
   "execution_count": 32,
   "id": "be565fc5",
   "metadata": {},
   "outputs": [
    {
     "name": "stdout",
     "output_type": "stream",
     "text": [
      "sreppep delkcip fo kcep a dekcip repip reteP"
     ]
    }
   ],
   "source": [
    "my_input = 'Peter piper picked a peck of pickled peppers'\n",
    "my_output = []\n",
    "each_word = \"\"\n",
    "for ind in range(-1, -len(my_input)-1, -1):\n",
    "    print(my_input[ind], end = '')"
   ]
  },
  {
   "cell_type": "code",
   "execution_count": 33,
   "id": "5c622b20",
   "metadata": {},
   "outputs": [
    {
     "data": {
      "text/plain": [
       "[-1, -2, -3, -4, -5, -6]"
      ]
     },
     "execution_count": 33,
     "metadata": {},
     "output_type": "execute_result"
    }
   ],
   "source": [
    "my_str = 'Python'\n",
    "list(range(-1, -len(my_str)-1, -1))"
   ]
  },
  {
   "cell_type": "code",
   "execution_count": 35,
   "id": "b3e4b957",
   "metadata": {},
   "outputs": [
    {
     "data": {
      "text/plain": [
       "[0, 1, 2, 3, 4, 5]"
      ]
     },
     "execution_count": 35,
     "metadata": {},
     "output_type": "execute_result"
    }
   ],
   "source": [
    "my_str = 'Python'\n",
    "# index of n is 5, Generate a range object which has index from 0 to 5 both are inclusive\n",
    "\n",
    "list(range(0,6))\n"
   ]
  },
  {
   "cell_type": "markdown",
   "id": "b2936047",
   "metadata": {},
   "source": [
    "# While Loop"
   ]
  },
  {
   "cell_type": "code",
   "execution_count": 38,
   "id": "56695257",
   "metadata": {},
   "outputs": [
    {
     "name": "stdout",
     "output_type": "stream",
     "text": [
      "Hi\n",
      "Hi\n",
      "Hi\n",
      "Hi\n",
      "Hi\n",
      "Hi\n",
      "Hi\n",
      "Hi\n",
      "Hi\n",
      "Hi\n",
      "Hi\n",
      "Hi\n",
      "Hi\n",
      "Hi\n",
      "Hi\n",
      "Hi\n",
      "Hi\n",
      "Hi\n",
      "Hi\n",
      "Hi\n",
      "Hi\n",
      "Hi\n",
      "Hi\n",
      "Hi\n",
      "Hi\n",
      "Hi\n",
      "Hi\n",
      "Hi\n",
      "Hi\n",
      "Hi\n",
      "Hi\n",
      "Hi\n",
      "Hi\n",
      "Hi\n",
      "Hi\n",
      "Hi\n",
      "Hi\n",
      "Hi\n",
      "Hi\n",
      "Hi\n",
      "Hi\n",
      "Hi\n",
      "Hi\n",
      "Hi\n",
      "Hi\n",
      "length is 45\n"
     ]
    }
   ],
   "source": [
    "# Initialization\n",
    "# Condition checking\n",
    "# Increment/Decrement\n",
    "\n",
    "# Find the length of the string using while loop\n",
    "my_str = 'peter piper picked a peck of pickled peppers.'\n",
    "ind = 0\n",
    "while ind < len(my_str):\n",
    "    print('Hi')\n",
    "    ind += 1\n",
    "    \n",
    "print('length is', ind)\n",
    "\n"
   ]
  },
  {
   "cell_type": "code",
   "execution_count": 39,
   "id": "d7cad932",
   "metadata": {},
   "outputs": [
    {
     "name": "stdout",
     "output_type": "stream",
     "text": [
      "45\n"
     ]
    }
   ],
   "source": [
    "print(len(my_str))"
   ]
  },
  {
   "cell_type": "code",
   "execution_count": 40,
   "id": "27fefacc",
   "metadata": {},
   "outputs": [
    {
     "name": "stdout",
     "output_type": "stream",
     "text": [
      "['peter', 'piper', 'picked', 'a', 'peck', 'of', 'pickled', 'peppers.']\n"
     ]
    }
   ],
   "source": [
    "# Q. Write a python program to find below output using loop:-\n",
    "# Input:- 'peter piper picked a peck of pickled peppers.'\n",
    "# Output:- ['peter', 'piper', 'picked', 'a', 'peck', 'of', 'pickled',\n",
    "# 'peppers.']\n",
    "\n",
    "my_str = 'peter piper picked a peck of pickled peppers.'\n",
    "my_word = ''\n",
    "out_lst = []\n",
    "for ind in range(len(my_str)):\n",
    "    if my_str[ind] == ' ':\n",
    "        out_lst += [my_word]\n",
    "        my_word = ''\n",
    "    else:\n",
    "        my_word = my_word + my_str[ind]\n",
    "out_lst += [my_word]\n",
    "print(out_lst)\n"
   ]
  },
  {
   "cell_type": "code",
   "execution_count": 41,
   "id": "c197596a",
   "metadata": {},
   "outputs": [
    {
     "name": "stdout",
     "output_type": "stream",
     "text": [
      "['peppers.', 'pickled', 'of', 'peck', 'a', 'picked', 'piper', 'peter']\n"
     ]
    }
   ],
   "source": [
    "str1 = \"peter piper picked a peck of pickled peppers.\"\n",
    "lst = []\n",
    "k=\"\"\n",
    "i=0\n",
    "while i< len(str1):    \n",
    "    if str1[i] != \" \":\n",
    "        k=k+str1[i]\n",
    "    else:\n",
    "        lst = [k] + lst\n",
    "        k=\"\"\n",
    "    i+=1       \n",
    "if k!= \"\":\n",
    "    lst = [k] + lst\n",
    "        \n",
    "print(lst)\n"
   ]
  },
  {
   "cell_type": "code",
   "execution_count": 1,
   "id": "3a3ba8b6",
   "metadata": {},
   "outputs": [
    {
     "name": "stdout",
     "output_type": "stream",
     "text": [
      "Enter the password: sradha\n",
      "Incorrect passowrd!!!\n",
      "Re-enter the password!!!!\n",
      "sradha@123\n",
      "Correct password\n"
     ]
    }
   ],
   "source": [
    "# Ask the user to enter the password and prompt user to enter the password \n",
    "# until he enters the cirrect password\n",
    "\n",
    "password = 'sradha@123'\n",
    "user_input = input('Enter the password: ')\n",
    "while ' ':\n",
    "    if user_input == password:\n",
    "        print('Correct password')\n",
    "        break\n",
    "    else:\n",
    "        print('Incorrect passowrd!!!')\n",
    "        print('Re-enter the password!!!!')\n",
    "        user_input = input()\n"
   ]
  },
  {
   "cell_type": "code",
   "execution_count": 2,
   "id": "74db42a6",
   "metadata": {},
   "outputs": [
    {
     "name": "stdout",
     "output_type": "stream",
     "text": [
      "688\n"
     ]
    }
   ],
   "source": [
    "# Continue - skips the current iteration\n",
    "\n",
    "my_lst = [10, 110, 20, 90, 990, 80, 78, 708, 300]\n",
    "total_price = 0\n",
    "for ele in my_lst:\n",
    "    if ele >= 500:\n",
    "        continue\n",
    "    else:\n",
    "        total_price += ele\n",
    "print(total_price)\n",
    "\n"
   ]
  },
  {
   "cell_type": "code",
   "execution_count": 3,
   "id": "d6ac7680",
   "metadata": {},
   "outputs": [
    {
     "ename": "SyntaxError",
     "evalue": "invalid syntax (Temp/ipykernel_7456/3305932378.py, line 3)",
     "output_type": "error",
     "traceback": [
      "\u001b[1;36m  File \u001b[1;32m\"C:\\Users\\SRADHA\\AppData\\Local\\Temp/ipykernel_7456/3305932378.py\"\u001b[1;36m, line \u001b[1;32m3\u001b[0m\n\u001b[1;33m    for Loop:\u001b[0m\n\u001b[1;37m            ^\u001b[0m\n\u001b[1;31mSyntaxError\u001b[0m\u001b[1;31m:\u001b[0m invalid syntax\n"
     ]
    }
   ],
   "source": [
    "# break and continue are used in case of loop, \n",
    "\n",
    "for Loop:\n",
    "    for Loop:\n",
    "        if cond:\n",
    "            break\n",
    "    break"
   ]
  },
  {
   "cell_type": "code",
   "execution_count": 4,
   "id": "c846b657",
   "metadata": {},
   "outputs": [],
   "source": [
    "def f1():\n",
    "    pass"
   ]
  },
  {
   "cell_type": "code",
   "execution_count": 5,
   "id": "e9c90d9f",
   "metadata": {},
   "outputs": [
    {
     "name": "stdout",
     "output_type": "stream",
     "text": [
      "1\n",
      "1\n",
      "100\n",
      "20\n",
      "2\n",
      "200\n",
      "2\n",
      "100\n"
     ]
    }
   ],
   "source": [
    "lst1 = [1, 2]\n",
    "lst2 = [10, 100]\n",
    "for i in lst1:\n",
    "    for j in lst2:\n",
    "        if i%2 == 0:\n",
    "            print(i*j)\n",
    "        print(i)\n",
    "    print(j)\n",
    "    \n",
    "# i = 2\n",
    "# j = 100\n",
    "\n",
    "# 1\n",
    "# 1\n",
    "# 100\n",
    "# 20\n",
    "# 2\n",
    "# 200\n",
    "# 2\n",
    "# 100"
   ]
  },
  {
   "cell_type": "code",
   "execution_count": 6,
   "id": "4f37ae63",
   "metadata": {},
   "outputs": [
    {
     "name": "stdout",
     "output_type": "stream",
     "text": [
      "1\n",
      "1\n",
      "100\n",
      "10\n"
     ]
    }
   ],
   "source": [
    "lst1 = [1, 2]\n",
    "lst2 = [10, 100]\n",
    "for i in lst1:\n",
    "    for j in lst2:\n",
    "        if i%2 == 0:\n",
    "            break\n",
    "            print(i*j)\n",
    "        print(i)\n",
    "    print(j)\n",
    "    \n",
    "# i = 2\n",
    "# j = 10\n",
    "# 1\n",
    "# 1\n",
    "# 100\n",
    "# 10"
   ]
  },
  {
   "cell_type": "code",
   "execution_count": 7,
   "id": "f0cc1754",
   "metadata": {},
   "outputs": [
    {
     "name": "stdout",
     "output_type": "stream",
     "text": [
      "1\n",
      "1\n",
      "100\n",
      "20\n",
      "200\n",
      "100\n"
     ]
    }
   ],
   "source": [
    "lst1 = [1, 2]\n",
    "lst2 = [10, 100]\n",
    "for i in lst1:\n",
    "    for j in lst2:\n",
    "        if i%2 == 0:\n",
    "            print(i*j)\n",
    "            continue\n",
    "        print(i)\n",
    "    print(j)\n",
    "    \n",
    "# i = 2\n",
    "# j = 100\n",
    "# 1\n",
    "# 1\n",
    "# 100\n",
    "# 20\n",
    "# 200\n",
    "# 100"
   ]
  },
  {
   "cell_type": "code",
   "execution_count": 8,
   "id": "845e7953",
   "metadata": {},
   "outputs": [
    {
     "name": "stdout",
     "output_type": "stream",
     "text": [
      ".sreppep delkcip fo kcep a dekcip repip retep\n"
     ]
    }
   ],
   "source": [
    "# Q. Write a python program to find below output using loop:-\n",
    "# Input:- 'peter piper picked a peck of pickled peppers.'\n",
    "# Output:- '.sreppep delkcip fo kcep a dekcip repip retep'\n",
    "\n",
    "my_str = 'peter piper picked a peck of pickled peppers.'\n",
    "# print(my_str[-1])\n",
    "# print(my_str[-len(my_str)])\n",
    "out_str = ''\n",
    "for ind in range(-1, -len(my_str)-1, -1):\n",
    "    out_str += my_str[ind]\n",
    "print(out_str)\n",
    "\n"
   ]
  },
  {
   "cell_type": "code",
   "execution_count": 9,
   "id": "a51c89c5",
   "metadata": {},
   "outputs": [
    {
     "data": {
      "text/plain": [
       "45"
      ]
     },
     "execution_count": 9,
     "metadata": {},
     "output_type": "execute_result"
    }
   ],
   "source": [
    "len(my_str)"
   ]
  },
  {
   "cell_type": "code",
   "execution_count": 10,
   "id": "dc54a40c",
   "metadata": {},
   "outputs": [
    {
     "name": "stdout",
     "output_type": "stream",
     "text": [
      "retep repip dekcip a kcep fo delkcip .sreppep\n"
     ]
    }
   ],
   "source": [
    "# Q. Write a python program to find below output using loop:-\n",
    "# Input:- 'peter piper picked a peck of pickled peppers.'\n",
    "# Output:- 'retep repip dekcip a kcep fo delkcip sreppep'\n",
    "\n",
    "my_str = 'peter piper picked a peck of pickled peppers.'\n",
    "# ' '.join(my_str[::-1].split()[::-1])\n",
    "my_str = 'peter piper picked a peck of pickled peppers.'\n",
    "out_word = ''\n",
    "my_word = ''\n",
    "sp_flag = 1\n",
    "for i in range(len(my_str)):\n",
    "    if my_str[i] == ' ':\n",
    "        if sp_flag == 1:\n",
    "            out_word += my_word\n",
    "            my_word = ''\n",
    "            sp_flag += 1\n",
    "        else:\n",
    "            out_word = out_word + ' ' + my_word\n",
    "            my_word = ''\n",
    "    else:\n",
    "        my_word = my_str[i] + my_word\n",
    "\n",
    "out_word = out_word + ' ' + my_word\n",
    "print(out_word)\n",
    "\n",
    "# out_word = ''\n",
    "# my_word = ''\n",
    "# sp_flag = 1\n",
    "\n",
    "# when i = 0\n",
    "# sp_flag = 1\n",
    "# my_str[0] = 'p'\n",
    "# my_word = 'p'\n",
    "# out_word = ''\n",
    "\n",
    "# when i = 1\n",
    "# sp_flag = 1\n",
    "# my_str[1] = 'e'\n",
    "# my_word = 'ep'\n",
    "# out_word = ''\n",
    "\n",
    "# when i = 2\n",
    "# sp_flag = 1\n",
    "# my_str[2] = 't'\n",
    "# my_word = 'tep'\n",
    "# out_word = ''\n",
    "\n",
    "# when i = 3\n",
    "# sp_flag = 1\n",
    "# my_str[3] = 'e'\n",
    "# my_word = 'etep'\n",
    "# out_word = ''\n",
    "\n",
    "# when i = 4\n",
    "# sp_flag = 1\n",
    "# my_str[4] = 'r'\n",
    "# my_word = 'retep'\n",
    "# out_word = ''\n",
    "\n",
    "# when i = 5\n",
    "# sp_flag = 2\n",
    "# my_str[5] = ' '\n",
    "# my_word = 'retep'\n",
    "# out_word = 'retep'\n",
    "# my_word = ''"
   ]
  },
  {
   "cell_type": "code",
   "execution_count": 11,
   "id": "ed37fcb4",
   "metadata": {},
   "outputs": [
    {
     "name": "stdout",
     "output_type": "stream",
     "text": [
      "* \n",
      "* * \n",
      "* * * \n",
      "* * * * \n",
      "* * * * * \n"
     ]
    }
   ],
   "source": [
    "# *\n",
    "# **\n",
    "# ***\n",
    "# ****\n",
    "# *****\n",
    "\n",
    "for i in range(1, 6):\n",
    "    print('* '*i)"
   ]
  },
  {
   "cell_type": "code",
   "execution_count": 12,
   "id": "d7d70ec9",
   "metadata": {},
   "outputs": [],
   "source": [
    "#     *\n",
    "#    **\n",
    "#   ***\n",
    "#  ****\n",
    "# *****"
   ]
  },
  {
   "cell_type": "code",
   "execution_count": 13,
   "id": "97742bad",
   "metadata": {},
   "outputs": [],
   "source": [
    "#     *\n",
    "#    ***\n",
    "#   *****\n",
    "#  *******\n",
    "# *********"
   ]
  },
  {
   "cell_type": "code",
   "execution_count": 14,
   "id": "3e978634",
   "metadata": {},
   "outputs": [],
   "source": [
    "#  ***\n",
    "# *   *\n",
    "# *   *\n",
    "# *****\n",
    "# *   *\n",
    "# *   *\n",
    "# *   *"
   ]
  },
  {
   "cell_type": "code",
   "execution_count": 15,
   "id": "976ec1a2",
   "metadata": {},
   "outputs": [
    {
     "name": "stdout",
     "output_type": "stream",
     "text": [
      "45\n",
      "\n",
      ".sreppep delkcip fo kcep a dekcip repip retep\n"
     ]
    }
   ],
   "source": [
    "my_string='peter piper picked a peck of pickled peppers.'\n",
    "emp_str=\"\"\n",
    "print(len(my_string))\n",
    "print(emp_str)\n",
    "\n",
    "for i in range(-1,-len(my_string)-1,-1):\n",
    "    if my_string[i]==\" \":\n",
    "        emp_str=emp_str+my_string[i]\n",
    "    else: \n",
    "        emp_str= emp_str+my_string[i]\n",
    "# emp_str=emp_str+my_string[i]\n",
    "print(emp_str)"
   ]
  },
  {
   "cell_type": "code",
   "execution_count": 16,
   "id": "61f8b81f",
   "metadata": {},
   "outputs": [],
   "source": [
    "#Write a Python Program, to print all the indexes of all occurences of letter 'p' appeared in the string:-\n",
    "    \n",
    "#Input:- 'peter piper picked a peck of pickled peppers.'\n",
    "#Output:- \n",
    "# 0\n",
    "# 6\n",
    "# 8\n",
    "# 12\n",
    "# 21\n",
    "# 29\n",
    "# 37\n",
    "# 39\n",
    "# 40\n",
    "\n",
    "inp_str = 'peter piper picked a peck of pickled peppers.'\n"
   ]
  },
  {
   "cell_type": "code",
   "execution_count": null,
   "id": "587cda9b",
   "metadata": {},
   "outputs": [],
   "source": []
  }
 ],
 "metadata": {
  "kernelspec": {
   "display_name": "Python 3 (ipykernel)",
   "language": "python",
   "name": "python3"
  },
  "language_info": {
   "codemirror_mode": {
    "name": "ipython",
    "version": 3
   },
   "file_extension": ".py",
   "mimetype": "text/x-python",
   "name": "python",
   "nbconvert_exporter": "python",
   "pygments_lexer": "ipython3",
   "version": "3.9.7"
  }
 },
 "nbformat": 4,
 "nbformat_minor": 5
}
