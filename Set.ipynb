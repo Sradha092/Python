{
 "cells": [
  {
   "cell_type": "code",
   "execution_count": 4,
   "id": "fa7dedc4",
   "metadata": {},
   "outputs": [
    {
     "name": "stdout",
     "output_type": "stream",
     "text": [
      "{800, 1, 2, 3, 4, 5, 6, 700}\n"
     ]
    }
   ],
   "source": [
    "# set is enclosed inside curly brackets\n",
    "# it is not a seq\n",
    "# indexing and slicing not possible\n",
    "# immutable\n",
    "# UNORDERED DATATYPE\n",
    "# it is a collection of unqiue elements\n",
    "\n",
    "a = {1,2,3,4,5,6,700,800}\n",
    "print(a)  #order doesn't matter"
   ]
  },
  {
   "cell_type": "code",
   "execution_count": 5,
   "id": "1bbb8879",
   "metadata": {},
   "outputs": [
    {
     "ename": "TypeError",
     "evalue": "'set' object is not subscriptable",
     "output_type": "error",
     "traceback": [
      "\u001b[1;31m---------------------------------------------------------------------------\u001b[0m",
      "\u001b[1;31mTypeError\u001b[0m                                 Traceback (most recent call last)",
      "\u001b[1;32m~\\AppData\\Local\\Temp/ipykernel_9756/1109539928.py\u001b[0m in \u001b[0;36m<module>\u001b[1;34m\u001b[0m\n\u001b[1;32m----> 1\u001b[1;33m \u001b[0ma\u001b[0m\u001b[1;33m[\u001b[0m\u001b[1;36m0\u001b[0m\u001b[1;33m]\u001b[0m\u001b[1;33m\u001b[0m\u001b[1;33m\u001b[0m\u001b[0m\n\u001b[0m",
      "\u001b[1;31mTypeError\u001b[0m: 'set' object is not subscriptable"
     ]
    }
   ],
   "source": [
    "a[0]"
   ]
  },
  {
   "cell_type": "code",
   "execution_count": 6,
   "id": "15a43651",
   "metadata": {},
   "outputs": [
    {
     "name": "stdout",
     "output_type": "stream",
     "text": [
      "{1, 2, 3, 4, 5, 6, 7, 8, 9}\n"
     ]
    }
   ],
   "source": [
    "a = {1,1,1,1,1,1,1,2,2,3,3,3,4,4,5,6,6,7,4,6,8,9,}\n",
    "print(a)"
   ]
  },
  {
   "cell_type": "code",
   "execution_count": 7,
   "id": "2f1faef0",
   "metadata": {},
   "outputs": [
    {
     "data": {
      "text/plain": [
       "{1, 2, '2', 23, 234, 3, 324, '32432', 4, '4234', 5, 6, 7}"
      ]
     },
     "execution_count": 7,
     "metadata": {},
     "output_type": "execute_result"
    }
   ],
   "source": [
    "lst1 = [1,2,2,1,2,3,324,'32432','4234',324,234,324,23,'2','2',2,3,4,5,6,6,7,7,5]\n",
    "set(lst1)"
   ]
  },
  {
   "cell_type": "code",
   "execution_count": 8,
   "id": "faf362c9",
   "metadata": {},
   "outputs": [
    {
     "ename": "SyntaxError",
     "evalue": "invalid syntax (Temp/ipykernel_9756/966589035.py, line 10)",
     "output_type": "error",
     "traceback": [
      "\u001b[1;36m  File \u001b[1;32m\"C:\\Users\\SRADHA\\AppData\\Local\\Temp/ipykernel_9756/966589035.py\"\u001b[1;36m, line \u001b[1;32m10\u001b[0m\n\u001b[1;33m    if the condtion is true - 1 , 2 , 3 , 4 , 5\u001b[0m\n\u001b[1;37m           ^\u001b[0m\n\u001b[1;31mSyntaxError\u001b[0m\u001b[1;31m:\u001b[0m invalid syntax\n"
     ]
    }
   ],
   "source": [
    "#conditional statament\n",
    "\n",
    "'''\n",
    "stat1\n",
    "stat2\n",
    "stat3\n",
    "if cond:\n",
    "    stat4\n",
    "    stat5\n",
    "\n",
    "if the condtion is true - 1 , 2 , 3 , 4 , 5\n",
    "if the condtion is false - 1,2,3\n",
    "'''"
   ]
  },
  {
   "cell_type": "code",
   "execution_count": 9,
   "id": "a83a9201",
   "metadata": {},
   "outputs": [
    {
     "data": {
      "text/plain": [
       "'\\nstat1\\nstat2\\nstat3\\nif cond:\\n    stat4\\n    stat5\\nstat6\\nstat7\\n    \\nif the condtion is true - 1 , 2 , 3 , 4 , 5,6,7\\nif the condtion is false - 1,2,3 , 6 , 7\\n'"
      ]
     },
     "execution_count": 9,
     "metadata": {},
     "output_type": "execute_result"
    }
   ],
   "source": [
    "'''\n",
    "stat1\n",
    "stat2\n",
    "stat3\n",
    "if cond:\n",
    "    stat4\n",
    "    stat5\n",
    "stat6\n",
    "stat7\n",
    "    \n",
    "if the condtion is true - 1 , 2 , 3 , 4 , 5,6,7\n",
    "if the condtion is false - 1,2,3 , 6 , 7\n",
    "'''"
   ]
  },
  {
   "cell_type": "code",
   "execution_count": 10,
   "id": "0984834b",
   "metadata": {},
   "outputs": [
    {
     "data": {
      "text/plain": [
       "'\\nstat1\\nstat2\\nstat3\\nif cond:\\n    stat4\\n    stat5\\nelse:\\n    stat6\\n    stat7\\nstat8\\nstat9\\n    \\nif the condtion is true - 1,2,3,4,5,8,9\\nif the condtion is false - 1,2,3,6,7,8,9\\n'"
      ]
     },
     "execution_count": 10,
     "metadata": {},
     "output_type": "execute_result"
    }
   ],
   "source": [
    "'''\n",
    "stat1\n",
    "stat2\n",
    "stat3\n",
    "if cond:\n",
    "    stat4\n",
    "    stat5\n",
    "else:\n",
    "    stat6\n",
    "    stat7\n",
    "stat8\n",
    "stat9\n",
    "    \n",
    "if the condtion is true - 1,2,3,4,5,8,9\n",
    "if the condtion is false - 1,2,3,6,7,8,9\n",
    "'''"
   ]
  },
  {
   "cell_type": "code",
   "execution_count": 11,
   "id": "c14e5bc4",
   "metadata": {},
   "outputs": [
    {
     "data": {
      "text/plain": [
       "'\\nstat1\\nstat2\\nstat3\\nif cond1:\\n    stat4\\n    stat5\\nif cond2:\\n    stat6\\n    stat7\\nif cond3:\\n    stat8\\n    stat9\\nelse:\\n    stat10\\n    stat11\\nstat12\\nstat13\\n    \\nif the condtion1 is true - 1,2,3,4,5,10,11,12,13\\nif the condtion1 and cond2 is true ,  - 1,2,3,4,5,6,7,10,11,12,13\\n\\nif the condtion1 is false and cond2 is true  ,cond3 is true- 1,2,3,6,7,8,9,12,1,3\\n'"
      ]
     },
     "execution_count": 11,
     "metadata": {},
     "output_type": "execute_result"
    }
   ],
   "source": [
    "'''\n",
    "stat1\n",
    "stat2\n",
    "stat3\n",
    "if cond1:\n",
    "    stat4\n",
    "    stat5\n",
    "if cond2:\n",
    "    stat6\n",
    "    stat7\n",
    "if cond3:\n",
    "    stat8\n",
    "    stat9\n",
    "else:\n",
    "    stat10\n",
    "    stat11\n",
    "stat12\n",
    "stat13\n",
    "    \n",
    "if the condtion1 is true - 1,2,3,4,5,10,11,12,13\n",
    "if the condtion1 and cond2 is true ,  - 1,2,3,4,5,6,7,10,11,12,13\n",
    "\n",
    "if the condtion1 is false and cond2 is true  ,cond3 is true- 1,2,3,6,7,8,9,12,1,3\n",
    "'''"
   ]
  },
  {
   "cell_type": "code",
   "execution_count": 12,
   "id": "e9c7efa4",
   "metadata": {},
   "outputs": [
    {
     "data": {
      "text/plain": [
       "'\\nstat1\\nstat2\\nstat3\\nif cond1:\\n    stat4\\n    stat5\\nelse:\\n    stat100\\n    stat200\\nif cond2:\\n    stat6\\n    stat7\\n    if cond_2_1:\\n        stat1000\\n    else:\\n        stat2000\\nif cond3:\\n    stat8\\n    stat9\\nelse:\\n    stat10\\n    stat11\\n    \\nstat12\\nstat13\\n\\nif the condtion1 is false and cond2 is true  ,cond3 is true , cond_2_1 is false- 1,2,3,100,200,6,7,2000,8,9,12,13 \\n'"
      ]
     },
     "execution_count": 12,
     "metadata": {},
     "output_type": "execute_result"
    }
   ],
   "source": [
    "'''\n",
    "stat1\n",
    "stat2\n",
    "stat3\n",
    "if cond1:\n",
    "    stat4\n",
    "    stat5\n",
    "else:\n",
    "    stat100\n",
    "    stat200\n",
    "if cond2:\n",
    "    stat6\n",
    "    stat7\n",
    "    if cond_2_1:\n",
    "        stat1000\n",
    "    else:\n",
    "        stat2000\n",
    "if cond3:\n",
    "    stat8\n",
    "    stat9\n",
    "else:\n",
    "    stat10\n",
    "    stat11\n",
    "    \n",
    "stat12\n",
    "stat13\n",
    "\n",
    "if the condtion1 is false and cond2 is true  ,cond3 is true , cond_2_1 is false- 1,2,3,100,200,6,7,2000,8,9,12,13 \n",
    "'''"
   ]
  },
  {
   "cell_type": "code",
   "execution_count": 13,
   "id": "c00faa45",
   "metadata": {},
   "outputs": [
    {
     "data": {
      "text/plain": [
       "'\\nif elif , else\\n\\nstat1\\nstat2\\nstat3\\nif cond1:\\n    stat4\\n    stat5\\nelif cond2:\\n    stat6\\n    stat7\\nelif cond3:\\n    stat8\\n    stat9\\nelse:\\n    stat10\\n    stat11\\nstat12\\nstat13\\n\\nif cond1 is true and other condition are false - 1,2,3,4,5,12,13\\n\\nif cond2 is true and other condition are false - 1,2,3,6,7,12,13\\n\\nid all the conditions are false - 1,2,3,10,11,12,13\\n'"
      ]
     },
     "execution_count": 13,
     "metadata": {},
     "output_type": "execute_result"
    }
   ],
   "source": [
    "'''\n",
    "if elif , else\n",
    "\n",
    "stat1\n",
    "stat2\n",
    "stat3\n",
    "if cond1:\n",
    "    stat4\n",
    "    stat5\n",
    "elif cond2:\n",
    "    stat6\n",
    "    stat7\n",
    "elif cond3:\n",
    "    stat8\n",
    "    stat9\n",
    "else:\n",
    "    stat10\n",
    "    stat11\n",
    "stat12\n",
    "stat13\n",
    "\n",
    "if cond1 is true and other condition are false - 1,2,3,4,5,12,13\n",
    "\n",
    "if cond2 is true and other condition are false - 1,2,3,6,7,12,13\n",
    "\n",
    "id all the conditions are false - 1,2,3,10,11,12,13\n",
    "'''"
   ]
  },
  {
   "cell_type": "code",
   "execution_count": 14,
   "id": "fad29333",
   "metadata": {},
   "outputs": [
    {
     "name": "stdout",
     "output_type": "stream",
     "text": [
      "b is greater than a\n"
     ]
    }
   ],
   "source": [
    "a  =33\n",
    "b  =333\n",
    "if b > a:\n",
    "    print('b is greater than a')"
   ]
  },
  {
   "cell_type": "code",
   "execution_count": 15,
   "id": "4b3ef376",
   "metadata": {},
   "outputs": [
    {
     "name": "stdout",
     "output_type": "stream",
     "text": [
      "b is greater than a\n"
     ]
    }
   ],
   "source": [
    "a  =33\n",
    "b  =333\n",
    "if b > a:\n",
    "    print('b is greater than a')"
   ]
  },
  {
   "cell_type": "code",
   "execution_count": 18,
   "id": "474673ed",
   "metadata": {},
   "outputs": [
    {
     "name": "stdout",
     "output_type": "stream",
     "text": [
      "b == a\n",
      "b == a\n",
      "b is greater than a\n",
      "b is less than a\n",
      "b is greater than a\n"
     ]
    }
   ],
   "source": [
    "a  =33\n",
    "b  =33\n",
    "if b > a:\n",
    "    print('b is greater than a')\n",
    "elif b==a :\n",
    "    print('b == a')\n",
    "elif b < a:\n",
    "    print('b is less than a')\n",
    "\n",
    "    \n",
    "a  =33\n",
    "b  =33\n",
    "if b > a:\n",
    "    print('b is greater than a')\n",
    "if b==a :\n",
    "    print('b == a')\n",
    "if b < a:\n",
    "    print('b is less than a')\n",
    "    \n",
    "a  =33\n",
    "b  =333\n",
    "if b > a:\n",
    "    print('b is greater than a')\n",
    "    if b==a :\n",
    "        print('b == a')\n",
    "    else :\n",
    "        print('b is less than a')\n",
    "    \n",
    "    \n",
    "a  =33\n",
    "b  =333\n",
    "if b > a:\n",
    "    print('b is greater than a')\n",
    "elif b==a :\n",
    "    print('b == a')\n",
    "else :\n",
    "    print('b is less than a')"
   ]
  },
  {
   "cell_type": "code",
   "execution_count": 19,
   "id": "2fda7217",
   "metadata": {},
   "outputs": [
    {
     "name": "stdout",
     "output_type": "stream",
     "text": [
      "b is greater than a\n",
      "b is less than a\n"
     ]
    }
   ],
   "source": [
    "a  =33\n",
    "b  =333\n",
    "if b > a:\n",
    "    print('b is greater than a')\n",
    "    if b==a :\n",
    "        print('b == a')\n",
    "    else :\n",
    "        print('b is less than a')"
   ]
  },
  {
   "cell_type": "code",
   "execution_count": 20,
   "id": "534b0bf1",
   "metadata": {},
   "outputs": [],
   "source": [
    "# ANd\n",
    "\n",
    "a = 200\n",
    "b = 100\n",
    "c = 700\n",
    "\n",
    "if a>b and a>c:\n",
    "    print('a is greater than both b and c')"
   ]
  },
  {
   "cell_type": "code",
   "execution_count": 21,
   "id": "36b0d561",
   "metadata": {},
   "outputs": [
    {
     "name": "stdout",
     "output_type": "stream",
     "text": [
      "a is greater than both b and c\n"
     ]
    }
   ],
   "source": [
    "# or\n",
    "a = 200\n",
    "b = 100\n",
    "c = 700\n",
    "\n",
    "if a>b or a>c:\n",
    "    print('a is greater than both b and c')"
   ]
  },
  {
   "cell_type": "code",
   "execution_count": 22,
   "id": "1747e481",
   "metadata": {},
   "outputs": [
    {
     "data": {
      "text/plain": [
       "True"
      ]
     },
     "execution_count": 22,
     "metadata": {},
     "output_type": "execute_result"
    }
   ],
   "source": [
    "True or False"
   ]
  },
  {
   "cell_type": "code",
   "execution_count": 23,
   "id": "eb5c6878",
   "metadata": {},
   "outputs": [
    {
     "ename": "IndentationError",
     "evalue": "expected an indented block (Temp/ipykernel_9756/2261955752.py, line 10)",
     "output_type": "error",
     "traceback": [
      "\u001b[1;36m  File \u001b[1;32m\"C:\\Users\\SRADHA\\AppData\\Local\\Temp/ipykernel_9756/2261955752.py\"\u001b[1;36m, line \u001b[1;32m10\u001b[0m\n\u001b[1;33m    #     print('stmnt4')\u001b[0m\n\u001b[1;37m                         ^\u001b[0m\n\u001b[1;31mIndentationError\u001b[0m\u001b[1;31m:\u001b[0m expected an indented block\n"
     ]
    }
   ],
   "source": [
    "# nested if  - if inside a if\n",
    "x = 9\n",
    "if x > 10:\n",
    "#     print('statment1')\n",
    "#     if x  > 30 :\n",
    "#         print('stat2')\n",
    "#     else:\n",
    "#         print('stat3')\n",
    "# else:\n",
    "#     print('stmnt4')"
   ]
  },
  {
   "cell_type": "code",
   "execution_count": 24,
   "id": "5fceb421",
   "metadata": {},
   "outputs": [
    {
     "name": "stdout",
     "output_type": "stream",
     "text": [
      "statment_1\n"
     ]
    }
   ],
   "source": [
    "# pass - if statment cannot be empty \n",
    "\n",
    "a = 33\n",
    "b = 200\n",
    "\n",
    "if b > a:\n",
    "    pass\n",
    "if a<b:\n",
    "    print('statment_1')"
   ]
  },
  {
   "cell_type": "code",
   "execution_count": 25,
   "id": "6c770e96",
   "metadata": {},
   "outputs": [],
   "source": [
    "for i in range(5):\n",
    "    pass"
   ]
  },
  {
   "cell_type": "code",
   "execution_count": 26,
   "id": "066f7ee7",
   "metadata": {},
   "outputs": [
    {
     "name": "stdout",
     "output_type": "stream",
     "text": [
      "['Ok', 'Ok', 'Very Ok']\n",
      "{'name': ['Biswajit', 'Subrajit', 'Guru'], 'age': [24, 25, 26], 'roll': [1, 2, 3], 'occ': ['job', 'job', 'buis'], 'status': ['Ok', 'Ok', 'Very Ok']}\n"
     ]
    }
   ],
   "source": [
    "input_1={'name':[\"Biswajit\",\"Subrajit\",\"Guru\"],\"age\":[24,25,26],\"roll\":[1,2,3],\"occ\":['job','job','buis']} \n",
    "#len(input.keys()) \n",
    "a=[] \n",
    "for i in range(0,len(input_1['occ'])): \n",
    "    if (input_1['occ'][i]=='job'): \n",
    "        a.append(\"Ok\") \n",
    "    else: \n",
    "        a.append(\"Very Ok\") \n",
    "print(a) \n",
    "input_1.update({\"status\":a})\n",
    "print(input_1) "
   ]
  },
  {
   "cell_type": "code",
   "execution_count": 27,
   "id": "c716bec0",
   "metadata": {},
   "outputs": [
    {
     "name": "stdout",
     "output_type": "stream",
     "text": [
      "['Ok', 'Ok', 'Very Ok']\n",
      "{'name': ['Biswajit', 'Subrajit', 'Guru'], 'age': [24, 25, 26], 'roll': [1, 2, 3], 'occ': ['job', 'job', 'buis'], 'status': 'not ohk'}\n"
     ]
    }
   ],
   "source": [
    "input_1={'name':[\"Biswajit\",\"Subrajit\",\"Guru\"],\"age\":[24,25,26],\"roll\":[1,2,3],\"occ\":['job','job','buis']} \n",
    "#len(input.keys()) \n",
    "for i in range(0,len(input_1['occ'])): \n",
    "    if (input_1['occ'][i]=='job'): \n",
    "        input_1['status'] = 'ohk' \n",
    "    else: \n",
    "        input_1['status'] = 'not ohk'\n",
    "print(a) \n",
    "print(input_1) "
   ]
  },
  {
   "cell_type": "code",
   "execution_count": 28,
   "id": "862b118c",
   "metadata": {},
   "outputs": [
    {
     "data": {
      "text/plain": [
       "{'key1': 1, 'key2': 2, 'key3': 3, 'key4': 4}"
      ]
     },
     "execution_count": 28,
     "metadata": {},
     "output_type": "execute_result"
    }
   ],
   "source": [
    "{f'key{i}':i for i in [1,2,3,4]} "
   ]
  },
  {
   "cell_type": "code",
   "execution_count": 30,
   "id": "163c5c26",
   "metadata": {},
   "outputs": [
    {
     "name": "stdout",
     "output_type": "stream",
     "text": [
      "Enter number6\n",
      "Number doesn't exists\n",
      "Number doesn't exists\n",
      "Number doesn't exists\n",
      "Number doesn't exists\n",
      "enter number between 0-4: 3\n",
      "three\n"
     ]
    }
   ],
   "source": [
    "# Q1. take an user input as a number 0-4 and print the number in the word format\n",
    "\n",
    "\n",
    "# sol1\n",
    "dict_1 = {'1':\"one\",'2':\"Two\",'3':\"Three\",'4':\"Four\"} \n",
    "str1 = input(\"Enter number\") \n",
    "for key, value in dict_1.items(): \n",
    "    if str1 == key: \n",
    "        print(value)\n",
    "    else: \n",
    "        print(\"Number doesn't exists\")\n",
    "        \n",
    "# sol2\n",
    "abc = input(\"enter number between 0-4: \") \n",
    "if abc == '0': \n",
    "    print('zero') \n",
    "if abc == '1': \n",
    "    print('one') \n",
    "if abc == '2': \n",
    "    print('two') \n",
    "if abc == '3': \n",
    "    print('three')\n",
    "if abc == '4': \n",
    "    print('four') \n",
    "    "
   ]
  },
  {
   "cell_type": "code",
   "execution_count": 31,
   "id": "1842713d",
   "metadata": {},
   "outputs": [
    {
     "name": "stdout",
     "output_type": "stream",
     "text": [
      "Enter number7\n",
      "Number doesn't exists\n",
      "Number doesn't exists\n",
      "Number doesn't exists\n",
      "Number doesn't exists\n"
     ]
    }
   ],
   "source": [
    "dict_1 = {'1':\"one\",'2':\"Two\",'3':\"Three\",'4':\"Four\"} \n",
    "str1 = input(\"Enter number\")\n",
    "for key, value in dict_1.items(): \n",
    "    if str1 == key: \n",
    "        print(value)\n",
    "    else: \n",
    "        print(\"Number doesn't exists\")"
   ]
  },
  {
   "cell_type": "code",
   "execution_count": 32,
   "id": "68029f6f",
   "metadata": {},
   "outputs": [
    {
     "name": "stdout",
     "output_type": "stream",
     "text": [
      "enter number between 0-4: 3\n",
      "three\n"
     ]
    }
   ],
   "source": [
    "user_input = input(\"enter number between 0-4: \") \n",
    "if user_input == '0': \n",
    "    print('zero') \n",
    "elif user_input == '1': \n",
    "    print('one') \n",
    "elif user_input == '2': \n",
    "    print('two') \n",
    "elif user_input == '3': \n",
    "    print('three')\n",
    "elif user_input == '4': \n",
    "    print('four')\n",
    "else:\n",
    "    print('invalid output')"
   ]
  },
  {
   "cell_type": "code",
   "execution_count": 33,
   "id": "b2d1cf55",
   "metadata": {},
   "outputs": [
    {
     "name": "stdout",
     "output_type": "stream",
     "text": [
      "Enter a string: 'Sradha'\n",
      "no palindrome\n"
     ]
    }
   ],
   "source": [
    "# check if an user input string is a palindrome or not\n",
    "\n",
    "str = input('Enter a string: ') \n",
    "if str == str[::-1]: \n",
    "    print('palindrome') \n",
    "else:\n",
    "    print('no palindrome') "
   ]
  },
  {
   "cell_type": "code",
   "execution_count": 34,
   "id": "c24bd899",
   "metadata": {},
   "outputs": [
    {
     "ename": "SyntaxError",
     "evalue": "invalid syntax (Temp/ipykernel_9756/897143201.py, line 2)",
     "output_type": "error",
     "traceback": [
      "\u001b[1;36m  File \u001b[1;32m\"C:\\Users\\SRADHA\\AppData\\Local\\Temp/ipykernel_9756/897143201.py\"\u001b[1;36m, line \u001b[1;32m2\u001b[0m\n\u001b[1;33m    - if year is div by 4 leap\u001b[0m\n\u001b[1;37m      ^\u001b[0m\n\u001b[1;31mSyntaxError\u001b[0m\u001b[1;31m:\u001b[0m invalid syntax\n"
     ]
    }
   ],
   "source": [
    "#Q2 find a year entered by user is a leap year or not\n",
    "- if year is div by 4 leap\n",
    "- if year is div by 4 and year div by 100 and div by 400 -- leap year\n",
    "- if year is not div by 4 - no leap"
   ]
  },
  {
   "cell_type": "code",
   "execution_count": null,
   "id": "5be1af99",
   "metadata": {},
   "outputs": [],
   "source": [
    "#Q3 design a calculator wher etwo numbers will e taken by user\n",
    " operation code will be taken by user\n",
    "    1- add\n",
    "    2- sub\n",
    "    3- mul\n",
    "    5. div\n"
   ]
  }
 ],
 "metadata": {
  "kernelspec": {
   "display_name": "Python 3 (ipykernel)",
   "language": "python",
   "name": "python3"
  },
  "language_info": {
   "codemirror_mode": {
    "name": "ipython",
    "version": 3
   },
   "file_extension": ".py",
   "mimetype": "text/x-python",
   "name": "python",
   "nbconvert_exporter": "python",
   "pygments_lexer": "ipython3",
   "version": "3.9.7"
  }
 },
 "nbformat": 4,
 "nbformat_minor": 5
}
