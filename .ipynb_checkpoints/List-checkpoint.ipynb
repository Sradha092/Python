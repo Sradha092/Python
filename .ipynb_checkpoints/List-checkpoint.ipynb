{
 "cells": [
  {
   "cell_type": "markdown",
   "id": "08705a74",
   "metadata": {},
   "source": [
    "# List"
   ]
  },
  {
   "cell_type": "code",
   "execution_count": 1,
   "id": "52ea6194",
   "metadata": {
    "ExecuteTime": {
     "end_time": "2022-01-20T15:01:53.682728Z",
     "start_time": "2022-01-20T15:01:53.672189Z"
    }
   },
   "outputs": [],
   "source": [
    "# Any data kept inside [] separated by ,\n",
    "# like string it is also a sequence data type\n",
    "\n",
    "# lst = [10, 10.20, 10+20j, 'Python', True, None, [1, 2, 3]]\n",
    "# print(lst, type(lst))\n",
    "\n",
    "# List properties\n",
    "# 1. List is a collection of heterogeneous data types - (Array)\n",
    "# 2. List can have duplicate elements - (set)\n",
    "# 3. List is a sequence - \n",
    "    # 1. It is an ordered collection of the elements\n",
    "    # 2. It supports +ve and -ve index both\n",
    "    # 3. +ve index starts from 0 from Left side\n",
    "    # 4. -ve index starts from -1 from right side\n",
    "    # 5. Basic Operation - Indexing, Slicing, Concatenation, Repetition\n",
    "# 4. List is a Mutable object\n",
    "#     1. Item assignment is possible\n",
    "#     2. The changes will be done to existong objects\n",
    "\n",
    "\n"
   ]
  },
  {
   "cell_type": "code",
   "execution_count": 2,
   "id": "1687f5a7",
   "metadata": {},
   "outputs": [
    {
     "name": "stdout",
     "output_type": "stream",
     "text": [
      "[10, 20, 10, 100, 10, 90, 10, 900, 10]\n"
     ]
    }
   ],
   "source": [
    "lst = [10, 20, 10, 100,10,90,10, 900, 10]\n",
    "print(lst)"
   ]
  },
  {
   "cell_type": "code",
   "execution_count": 43,
   "id": "6e87584f",
   "metadata": {
    "ExecuteTime": {
     "end_time": "2022-01-20T15:05:54.665663Z",
     "start_time": "2022-01-20T15:05:54.651852Z"
    }
   },
   "outputs": [
    {
     "name": "stdout",
     "output_type": "stream",
     "text": [
      "Before Operation\n",
      "[10, 20, 30, 40, 50, 60] 1621914694464\n",
      "After operation\n",
      "[111, 20, 30, 40, 50, 60] 1621914694464\n"
     ]
    }
   ],
   "source": [
    "lst = [10, 20, 30, 40, 50, 60]    #stored in same memory location, as mutable object\n",
    "print('Before Operation')\n",
    "print(lst, id(lst))\n",
    "lst[0] = 111\n",
    "print('After operation')\n",
    "print(lst, id(lst))"
   ]
  },
  {
   "cell_type": "code",
   "execution_count": 44,
   "id": "17ce86ad",
   "metadata": {
    "ExecuteTime": {
     "end_time": "2022-01-20T15:07:56.214790Z",
     "start_time": "2022-01-20T15:07:56.201082Z"
    },
    "scrolled": true
   },
   "outputs": [
    {
     "name": "stdout",
     "output_type": "stream",
     "text": [
      "Before Operation:\n",
      "Python 1621755464624\n",
      "After Operation:\n",
      "Python 1621755464624\n",
      "Jython 1621914697648\n"
     ]
    }
   ],
   "source": [
    "my_str = 'Python'\n",
    "# my_str[0] = 'J' # TypeError: 'str' object does not support item assignment\n",
    "print('Before Operation:')\n",
    "print(my_str, id(my_str))\n",
    "new_str = my_str.replace('P', 'J')\n",
    "print('After Operation:')\n",
    "print(my_str, id(my_str))\n",
    "print(new_str, id(new_str))\n",
    "\n"
   ]
  },
  {
   "cell_type": "code",
   "execution_count": 3,
   "id": "24da225e",
   "metadata": {},
   "outputs": [
    {
     "name": "stdout",
     "output_type": "stream",
     "text": [
      "<class 'list'>\n"
     ]
    }
   ],
   "source": [
    "a = [1,2,3,4,5,6]\n",
    "print(type(a))"
   ]
  },
  {
   "cell_type": "code",
   "execution_count": 1,
   "id": "58241ac3",
   "metadata": {},
   "outputs": [
    {
     "name": "stdout",
     "output_type": "stream",
     "text": [
      "5\n"
     ]
    }
   ],
   "source": [
    "a = ['sradha' , 786 , True , 60+7j , None]\n",
    "print(len(a))"
   ]
  },
  {
   "cell_type": "code",
   "execution_count": 2,
   "id": "6b0882ed",
   "metadata": {},
   "outputs": [
    {
     "name": "stdout",
     "output_type": "stream",
     "text": [
      "6\n"
     ]
    }
   ],
   "source": [
    "a = 'sradha'\n",
    "print(len(a))"
   ]
  },
  {
   "cell_type": "code",
   "execution_count": 6,
   "id": "350af858",
   "metadata": {},
   "outputs": [
    {
     "ename": "TypeError",
     "evalue": "object of type 'NoneType' has no len()",
     "output_type": "error",
     "traceback": [
      "\u001b[1;31m---------------------------------------------------------------------------\u001b[0m",
      "\u001b[1;31mTypeError\u001b[0m                                 Traceback (most recent call last)",
      "\u001b[1;32m~\\AppData\\Local\\Temp/ipykernel_8476/1664024494.py\u001b[0m in \u001b[0;36m<module>\u001b[1;34m\u001b[0m\n\u001b[0;32m      1\u001b[0m \u001b[0ma\u001b[0m \u001b[1;33m=\u001b[0m \u001b[1;32mNone\u001b[0m\u001b[1;33m\u001b[0m\u001b[1;33m\u001b[0m\u001b[0m\n\u001b[1;32m----> 2\u001b[1;33m \u001b[0mlen\u001b[0m\u001b[1;33m(\u001b[0m\u001b[0ma\u001b[0m\u001b[1;33m)\u001b[0m\u001b[1;33m\u001b[0m\u001b[1;33m\u001b[0m\u001b[0m\n\u001b[0m",
      "\u001b[1;31mTypeError\u001b[0m: object of type 'NoneType' has no len()"
     ]
    }
   ],
   "source": [
    "a = None\n",
    "len(a)"
   ]
  },
  {
   "cell_type": "markdown",
   "id": "6ee23013",
   "metadata": {},
   "source": [
    "# Creation of List"
   ]
  },
  {
   "cell_type": "code",
   "execution_count": 7,
   "id": "2b162500",
   "metadata": {
    "ExecuteTime": {
     "end_time": "2022-01-20T15:46:17.572544Z",
     "start_time": "2022-01-20T15:46:17.565264Z"
    }
   },
   "outputs": [
    {
     "name": "stdout",
     "output_type": "stream",
     "text": [
      "['apple', 'mango', 'grapes', 'banana']\n",
      "<class 'list'>\n"
     ]
    }
   ],
   "source": [
    "# 1. If we know the elements\n",
    "a= ['apple' , 'mango' , 'grapes' , 'banana']\n",
    "print(a)\n",
    "print(type(a))"
   ]
  },
  {
   "cell_type": "code",
   "execution_count": 8,
   "id": "c954411f",
   "metadata": {},
   "outputs": [
    {
     "name": "stdout",
     "output_type": "stream",
     "text": [
      "enter the list: ['apple','mango','grapes','banana']\n",
      "['apple', 'mango', 'grapes', 'banana']\n",
      "['apple', 'mango', 'grapes', 'banana']\n"
     ]
    }
   ],
   "source": [
    "# 2. taking the user input\n",
    "\n",
    "a  = eval(input('enter the list: '))\n",
    "print(a)\n",
    "print(list(a))"
   ]
  },
  {
   "cell_type": "code",
   "execution_count": 46,
   "id": "f4b703dc",
   "metadata": {},
   "outputs": [
    {
     "name": "stdout",
     "output_type": "stream",
     "text": [
      "['P', 'y', 't', 'h', 'o', 'n']\n"
     ]
    }
   ],
   "source": [
    "#3. By using list(iterable)\n",
    "lst1 = list('Python')\n",
    "print(lst1)"
   ]
  },
  {
   "cell_type": "code",
   "execution_count": 47,
   "id": "587570af",
   "metadata": {},
   "outputs": [
    {
     "name": "stdout",
     "output_type": "stream",
     "text": [
      "[10, 20, 30, 40]\n"
     ]
    }
   ],
   "source": [
    "lst1 = list([10, 20, 30, 40])\n",
    "print(lst1)"
   ]
  },
  {
   "cell_type": "code",
   "execution_count": 48,
   "id": "1b31e4bf",
   "metadata": {},
   "outputs": [
    {
     "name": "stdout",
     "output_type": "stream",
     "text": [
      "[10, 20, 30, 40]\n"
     ]
    }
   ],
   "source": [
    "lst1 = list((10, 20, 30, 40))\n",
    "print(lst1)"
   ]
  },
  {
   "cell_type": "code",
   "execution_count": 49,
   "id": "a787ea46",
   "metadata": {},
   "outputs": [
    {
     "name": "stdout",
     "output_type": "stream",
     "text": [
      "[40, 10, 20, 30]\n"
     ]
    }
   ],
   "source": [
    "lst1 = list({10, 20, 30, 40})\n",
    "print(lst1)"
   ]
  },
  {
   "cell_type": "code",
   "execution_count": 50,
   "id": "f7dc3220",
   "metadata": {},
   "outputs": [
    {
     "name": "stdout",
     "output_type": "stream",
     "text": [
      "[1, 2, 3, 4]\n"
     ]
    }
   ],
   "source": [
    "lst1 = list({1:10, 2:20, 3:30, 4:40})\n",
    "print(lst1)"
   ]
  },
  {
   "cell_type": "code",
   "execution_count": 3,
   "id": "8956233b",
   "metadata": {},
   "outputs": [
    {
     "data": {
      "text/plain": [
       "['sradhanjalli', 'patra']"
      ]
     },
     "execution_count": 3,
     "metadata": {},
     "output_type": "execute_result"
    }
   ],
   "source": [
    "#4. split function\n",
    "a = 'sradhanjalli patra'\n",
    "a.split()"
   ]
  },
  {
   "cell_type": "code",
   "execution_count": 10,
   "id": "32683b34",
   "metadata": {},
   "outputs": [
    {
     "data": {
      "text/plain": [
       "[1, 2, 3, 4, 5]"
      ]
     },
     "execution_count": 10,
     "metadata": {},
     "output_type": "execute_result"
    }
   ],
   "source": [
    "#5. Using list comprehension\n",
    "# [expr for loop [if cond]]\n",
    "\n",
    "# Generate a list of numbers from 1 to 5\n",
    "[i for i in range(1, 6)]"
   ]
  },
  {
   "cell_type": "code",
   "execution_count": 54,
   "id": "d61219e7",
   "metadata": {},
   "outputs": [
    {
     "data": {
      "text/plain": [
       "[1, 4, 9, 16, 25]"
      ]
     },
     "execution_count": 54,
     "metadata": {},
     "output_type": "execute_result"
    }
   ],
   "source": [
    "# Generate a list of square of all numbers from 1 to 5\n",
    "[i**2 for i in range(1, 6)]"
   ]
  },
  {
   "cell_type": "code",
   "execution_count": 55,
   "id": "8714ae6d",
   "metadata": {},
   "outputs": [
    {
     "name": "stdout",
     "output_type": "stream",
     "text": [
      "[4, 16, 36, 64, 100]\n",
      "[4, 16, 36, 64, 100]\n"
     ]
    }
   ],
   "source": [
    "# Generate a list of square of all even numbers from 1 to 10\n",
    "print([i**2 for i in range(2, 11, 2)])\n",
    "print([i**2 for i in range(1, 11) if i%2 == 0])"
   ]
  },
  {
   "cell_type": "code",
   "execution_count": 56,
   "id": "b79448d5",
   "metadata": {},
   "outputs": [
    {
     "data": {
      "text/plain": [
       "[1, 8, 9, 64, 25, 216, 48, 512, 81, 1000]"
      ]
     },
     "execution_count": 56,
     "metadata": {},
     "output_type": "execute_result"
    }
   ],
   "source": [
    "[1, 8, 9, 64, 25, 216, 48, 512, 81, 1000]"
   ]
  },
  {
   "cell_type": "code",
   "execution_count": 57,
   "id": "ffd95562",
   "metadata": {},
   "outputs": [
    {
     "data": {
      "text/plain": [
       "[1, 8, 9, 64, 25, 216, 49, 512, 81, 1000]"
      ]
     },
     "execution_count": 57,
     "metadata": {},
     "output_type": "execute_result"
    }
   ],
   "source": [
    "[i**2 if i%2 != 0 else i**3 for i in range(1, 11)]"
   ]
  },
  {
   "cell_type": "code",
   "execution_count": 5,
   "id": "67529ebd",
   "metadata": {},
   "outputs": [],
   "source": [
    "email_lst = ['abhishek@gmail.co',\n",
    "            'krishna@gmail.co',\n",
    "            'Aditya@gmail.co',\n",
    "            'rahul@gmail.co',\n",
    "            'ravi@gmail.co',\n",
    "            'Nithish@gmail.co']\n",
    "type_lst = ['Subscriber',\n",
    "           'Customer',\n",
    "           'Customer',\n",
    "           'Subscriber',\n",
    "           'Customer',\n",
    "           'Subscriber']\n",
    "\n"
   ]
  },
  {
   "cell_type": "code",
   "execution_count": 6,
   "id": "b7e82353",
   "metadata": {},
   "outputs": [
    {
     "data": {
      "text/plain": [
       "['abhishek', 'rahul', 'Nithish']"
      ]
     },
     "execution_count": 6,
     "metadata": {},
     "output_type": "execute_result"
    }
   ],
   "source": [
    "# Extract the user name of those email id's where user type is Subscriber\n",
    "\n",
    "[email_lst[i][:email_lst[i].index('@')] for i in range(len(email_lst)) if type_lst[i]=='Subscriber']"
   ]
  },
  {
   "cell_type": "code",
   "execution_count": 7,
   "id": "594a4b9e",
   "metadata": {
    "ExecuteTime": {
     "end_time": "2022-01-20T15:21:16.116318Z",
     "start_time": "2022-01-20T15:21:16.105750Z"
    }
   },
   "outputs": [
    {
     "name": "stdout",
     "output_type": "stream",
     "text": [
      "0\n",
      "1\n",
      "2\n",
      "Here i is 3\n",
      "4\n"
     ]
    }
   ],
   "source": [
    "for i in range(5):\n",
    "    if i != 3:\n",
    "        print(i)\n",
    "    else:\n",
    "        print('Here i is 3')\n",
    "        continue"
   ]
  },
  {
   "cell_type": "code",
   "execution_count": 8,
   "id": "4fb51faf",
   "metadata": {},
   "outputs": [
    {
     "ename": "IndentationError",
     "evalue": "unexpected indent (Temp/ipykernel_9708/177318589.py, line 3)",
     "output_type": "error",
     "traceback": [
      "\u001b[1;36m  File \u001b[1;32m\"C:\\Users\\SRADHA\\AppData\\Local\\Temp/ipykernel_9708/177318589.py\"\u001b[1;36m, line \u001b[1;32m3\u001b[0m\n\u001b[1;33m    0     1       2     3     4       5          6\u001b[0m\n\u001b[1;37m    ^\u001b[0m\n\u001b[1;31mIndentationError\u001b[0m\u001b[1;31m:\u001b[0m unexpected indent\n"
     ]
    }
   ],
   "source": [
    " -7    -6      -5     -4    -3      -2         -1\n",
    "[10, 109.20, 10+20j, True, None, 'Python', [1, 2, 3]]\n",
    "  0     1       2     3     4       5          6"
   ]
  },
  {
   "cell_type": "code",
   "execution_count": 9,
   "id": "f80fac06",
   "metadata": {
    "ExecuteTime": {
     "end_time": "2022-01-20T15:51:23.891927Z",
     "start_time": "2022-01-20T15:51:23.881527Z"
    }
   },
   "outputs": [
    {
     "name": "stdout",
     "output_type": "stream",
     "text": [
      "y\n",
      "3\n",
      "[10, 109.2, (10+20j), True, None, 'Python', [1, 2, 3]]\n",
      "[[1, 2, 3], 'Python', None, True, (10+20j), 109.2, 10]\n",
      "[10, (10+20j), None, [1, 2, 3]]\n",
      "[[1, 2, 3], None, (10+20j), 10]\n",
      "[10, True, [1, 2, 3]]\n",
      "[[1, 2, 3], True, 10]\n"
     ]
    }
   ],
   "source": [
    "lst = [10, 109.20, 10+20j, True, None, 'Python', [1, 2, 3]]\n",
    "print(lst[5][1])\n",
    "print(lst[-1][-1])\n",
    "\n",
    "print(lst[::])\n",
    "print(lst[::-1])\n",
    "\n",
    "print(lst[::2])\n",
    "print(lst[::-2])\n",
    "\n",
    "print(lst[::3])\n",
    "print(lst[::-3])\n",
    "\n",
    "# Default step is +1\n",
    "# If step is +ve the default start = 0 and stop = len(lst)\n",
    "# If step is -ve the default start = -1 and stop = -len(lst)-1\n",
    "\n",
    "# If step is +ve - start should be on left compared to your stop\n",
    "# If step is -ve - start should be on right compared to your stop\n",
    "\n"
   ]
  },
  {
   "cell_type": "code",
   "execution_count": 10,
   "id": "8801e209",
   "metadata": {},
   "outputs": [
    {
     "name": "stdout",
     "output_type": "stream",
     "text": [
      "<class 'str'>\n"
     ]
    }
   ],
   "source": [
    "# indexing\n",
    "a = [1,2,3,4,5,6,100,'200']\n",
    "# i want to acces 200 from a list\n",
    "b = a[-1]\n",
    "print(type(b))"
   ]
  },
  {
   "cell_type": "code",
   "execution_count": 11,
   "id": "78e3e396",
   "metadata": {},
   "outputs": [
    {
     "data": {
      "text/plain": [
       "[]"
      ]
     },
     "execution_count": 11,
     "metadata": {},
     "output_type": "execute_result"
    }
   ],
   "source": [
    "# slicing\n",
    "a = [1,2,3,4,5,6,100,'200']\n",
    "a[-1:-6:1]"
   ]
  },
  {
   "cell_type": "code",
   "execution_count": 12,
   "id": "dda9e4cb",
   "metadata": {
    "ExecuteTime": {
     "end_time": "2022-01-20T15:54:07.624684Z",
     "start_time": "2022-01-20T15:54:07.620145Z"
    }
   },
   "outputs": [
    {
     "name": "stdout",
     "output_type": "stream",
     "text": [
      "[10, 20, 30, 1, 2, 3]\n",
      "[10, 20, 30]\n",
      "[1, 2, 3]\n"
     ]
    }
   ],
   "source": [
    "# Concatenation -> +\n",
    "# Both the operand should be list\n",
    "# It returns a new list object\n",
    "\n",
    "lst1 = [10,20,30]\n",
    "lst2 = [1, 2, 3]\n",
    "print(lst1 + lst2)\n",
    "print(lst1)\n",
    "print(lst2)\n",
    "\n",
    "# lst1+ '10'\n"
   ]
  },
  {
   "cell_type": "code",
   "execution_count": 13,
   "id": "cee0cdb1",
   "metadata": {
    "ExecuteTime": {
     "end_time": "2022-01-20T15:54:53.953770Z",
     "start_time": "2022-01-20T15:54:53.949519Z"
    }
   },
   "outputs": [
    {
     "name": "stdout",
     "output_type": "stream",
     "text": [
      "[10, 20, 30, 10, 20, 30, 10, 20, 30]\n"
     ]
    }
   ],
   "source": [
    "# Repetition -> *\n",
    "# one of the operand should be list and other should be int\n",
    "# It returns a new list object\n",
    "\n",
    "lst1 = [10,20,30]\n",
    "print(lst1*3)"
   ]
  },
  {
   "cell_type": "code",
   "execution_count": 14,
   "id": "7bdfec13",
   "metadata": {},
   "outputs": [
    {
     "name": "stdout",
     "output_type": "stream",
     "text": [
      "False\n"
     ]
    }
   ],
   "source": [
    "# Membership\n",
    "\n",
    "a= [1,2,3,4]\n",
    "print(2.6 in a)"
   ]
  },
  {
   "cell_type": "code",
   "execution_count": 15,
   "id": "b687de10",
   "metadata": {},
   "outputs": [
    {
     "name": "stdout",
     "output_type": "stream",
     "text": [
      "True\n"
     ]
    }
   ],
   "source": [
    "a= [1,2,3,4]\n",
    "print(2.6 not in a)"
   ]
  },
  {
   "cell_type": "code",
   "execution_count": 16,
   "id": "e73caf10",
   "metadata": {},
   "outputs": [
    {
     "name": "stdout",
     "output_type": "stream",
     "text": [
      "2307133204160\n",
      "2307133204352\n",
      "False\n",
      "False\n"
     ]
    }
   ],
   "source": [
    "# idenntity operator\n",
    "\n",
    "a = [1,2,3,4]\n",
    "b = [2,3,4,5]\n",
    "c = [1,2,3,4]\n",
    "\n",
    "\n",
    "print(id(a))\n",
    "print(id(c))\n",
    "print (a is b)\n",
    "print (a is c)"
   ]
  },
  {
   "cell_type": "code",
   "execution_count": 17,
   "id": "ede15ce3",
   "metadata": {},
   "outputs": [],
   "source": [
    "# nesting list - list inside a list\n",
    "\n",
    "a = [[1,2,3] , [2,3,4] , [4,7,6] , 2]\n",
    "#         0        1          2      3"
   ]
  },
  {
   "cell_type": "code",
   "execution_count": 18,
   "id": "b3e4243b",
   "metadata": {},
   "outputs": [],
   "source": [
    "list1 = [[1,2,3] , [5,6,7] , [8,[9,10,['a','b']]]]"
   ]
  },
  {
   "cell_type": "code",
   "execution_count": 19,
   "id": "2d02246b",
   "metadata": {},
   "outputs": [
    {
     "data": {
      "text/plain": [
       "'b'"
      ]
     },
     "execution_count": 19,
     "metadata": {},
     "output_type": "execute_result"
    }
   ],
   "source": [
    "# i want to extract b\n",
    "list1[2][1][2][1]"
   ]
  },
  {
   "cell_type": "code",
   "execution_count": 20,
   "id": "a59f92c0",
   "metadata": {},
   "outputs": [
    {
     "data": {
      "text/plain": [
       "'b'"
      ]
     },
     "execution_count": 20,
     "metadata": {},
     "output_type": "execute_result"
    }
   ],
   "source": [
    "list1[-1][-1][-1][-1]"
   ]
  },
  {
   "cell_type": "code",
   "execution_count": 21,
   "id": "6b9e4a29",
   "metadata": {
    "ExecuteTime": {
     "end_time": "2022-01-20T15:55:09.264702Z",
     "start_time": "2022-01-20T15:55:09.252820Z"
    }
   },
   "outputs": [
    {
     "name": "stdout",
     "output_type": "stream",
     "text": [
      "['__add__', '__class__', '__class_getitem__', '__contains__', '__delattr__', '__delitem__', '__dir__', '__doc__', '__eq__', '__format__', '__ge__', '__getattribute__', '__getitem__', '__gt__', '__hash__', '__iadd__', '__imul__', '__init__', '__init_subclass__', '__iter__', '__le__', '__len__', '__lt__', '__mul__', '__ne__', '__new__', '__reduce__', '__reduce_ex__', '__repr__', '__reversed__', '__rmul__', '__setattr__', '__setitem__', '__sizeof__', '__str__', '__subclasshook__', 'append', 'clear', 'copy', 'count', 'extend', 'index', 'insert', 'pop', 'remove', 'reverse', 'sort']\n"
     ]
    }
   ],
   "source": [
    "# List methods\n",
    "print(dir(list))\n",
    "\n",
    "# 'append', 'clear', 'copy', 'count', 'extend', 'index', 'insert', 'pop', 'remove', 'reverse', 'sort'\n"
   ]
  },
  {
   "cell_type": "code",
   "execution_count": 22,
   "id": "4a49f622",
   "metadata": {
    "ExecuteTime": {
     "end_time": "2022-01-20T15:58:48.501131Z",
     "start_time": "2022-01-20T15:58:48.494634Z"
    }
   },
   "outputs": [
    {
     "name": "stdout",
     "output_type": "stream",
     "text": [
      "[109.2, (10+20j)]\n",
      "[(10+20j), 109.2, 10]\n"
     ]
    }
   ],
   "source": [
    "lst = [10, 109.20, 10+20j, True, None, 'Python', [1, 2, 3]]\n",
    "print(lst[1:3])\n",
    "print(lst[-5:-8:-1])\n",
    "\n"
   ]
  },
  {
   "cell_type": "code",
   "execution_count": 23,
   "id": "14572418",
   "metadata": {
    "ExecuteTime": {
     "end_time": "2022-01-20T16:02:03.423520Z",
     "start_time": "2022-01-20T16:02:03.413012Z"
    }
   },
   "outputs": [
    {
     "data": {
      "text/plain": [
       "7"
      ]
     },
     "execution_count": 23,
     "metadata": {},
     "output_type": "execute_result"
    }
   ],
   "source": [
    "my_str = \"Although 8 that way may not be obvious at first unless you're Dutch\"\n",
    "my_str1 = \"although 8 that way may not be obvious at first unless you're Dutch\"\n",
    "# Write the code to get the total count of 't' in above string. \n",
    "my_str.count('t')"
   ]
  },
  {
   "cell_type": "code",
   "execution_count": 24,
   "id": "9cd57490",
   "metadata": {
    "ExecuteTime": {
     "end_time": "2022-01-20T16:02:11.514422Z",
     "start_time": "2022-01-20T16:02:11.509427Z"
    }
   },
   "outputs": [
    {
     "name": "stdout",
     "output_type": "stream",
     "text": [
      "False\n",
      "True\n"
     ]
    }
   ],
   "source": [
    "print(my_str == my_str1)\n",
    "print(my_str <= my_str1)"
   ]
  },
  {
   "cell_type": "code",
   "execution_count": 25,
   "id": "5aa02d30",
   "metadata": {},
   "outputs": [
    {
     "ename": "SyntaxError",
     "evalue": "invalid syntax (Temp/ipykernel_9708/1678938457.py, line 1)",
     "output_type": "error",
     "traceback": [
      "\u001b[1;36m  File \u001b[1;32m\"C:\\Users\\SRADHA\\AppData\\Local\\Temp/ipykernel_9708/1678938457.py\"\u001b[1;36m, line \u001b[1;32m1\u001b[0m\n\u001b[1;33m    is not, is\u001b[0m\n\u001b[1;37m    ^\u001b[0m\n\u001b[1;31mSyntaxError\u001b[0m\u001b[1;31m:\u001b[0m invalid syntax\n"
     ]
    }
   ],
   "source": [
    "is not, is "
   ]
  },
  {
   "cell_type": "code",
   "execution_count": 26,
   "id": "01d934c9",
   "metadata": {},
   "outputs": [
    {
     "ename": "SyntaxError",
     "evalue": "invalid syntax (Temp/ipykernel_9708/2760305166.py, line 1)",
     "output_type": "error",
     "traceback": [
      "\u001b[1;36m  File \u001b[1;32m\"C:\\Users\\SRADHA\\AppData\\Local\\Temp/ipykernel_9708/2760305166.py\"\u001b[1;36m, line \u001b[1;32m1\u001b[0m\n\u001b[1;33m    !=, ==\u001b[0m\n\u001b[1;37m    ^\u001b[0m\n\u001b[1;31mSyntaxError\u001b[0m\u001b[1;31m:\u001b[0m invalid syntax\n"
     ]
    }
   ],
   "source": [
    "!=, =="
   ]
  },
  {
   "cell_type": "markdown",
   "id": "224d09e8",
   "metadata": {},
   "source": [
    "# List Comprehension"
   ]
  },
  {
   "cell_type": "code",
   "execution_count": 27,
   "id": "f4c65ecd",
   "metadata": {},
   "outputs": [
    {
     "name": "stdout",
     "output_type": "stream",
     "text": [
      "sradha\n",
      "gmail\n"
     ]
    }
   ],
   "source": [
    "# [expr for loop [if cond]]\n",
    "\n",
    "# [i**2 for i in range(1, 6)]\n",
    "\n",
    "email = 'sradha@gmail.co'\n",
    "print(email[:email.index('@')])\n",
    "print(email[email.index('@')+1:email.index('.')])\n"
   ]
  },
  {
   "cell_type": "code",
   "execution_count": 28,
   "id": "77adea58",
   "metadata": {},
   "outputs": [
    {
     "data": {
      "text/plain": [
       "[16.99, 10.34, 21.01, 23.68, 24.59]"
      ]
     },
     "execution_count": 28,
     "metadata": {},
     "output_type": "execute_result"
    }
   ],
   "source": [
    "import seaborn as sns\n",
    "tips = sns.load_dataset('tips')\n",
    "total_bill_list = list(tips['total_bill'].head(5))\n",
    "total_bill_list"
   ]
  },
  {
   "cell_type": "code",
   "execution_count": 29,
   "id": "83a7e424",
   "metadata": {},
   "outputs": [
    {
     "name": "stdout",
     "output_type": "stream",
     "text": [
      "[21.01, 23.68, 24.59]\n",
      "[16.99, 21.01, 24.59]\n"
     ]
    }
   ],
   "source": [
    "print(total_bill_list[2:5])\n",
    "print(total_bill_list[::2])\n"
   ]
  },
  {
   "cell_type": "code",
   "execution_count": 30,
   "id": "75eb7dd6",
   "metadata": {},
   "outputs": [
    {
     "name": "stdout",
     "output_type": "stream",
     "text": [
      "Python\n",
      "Python\n",
      "Pto\n",
      "Ph\n",
      "nohtyP\n",
      "nhy\n",
      "nt\n"
     ]
    }
   ],
   "source": [
    "# Slicing - Sequence - string, list, tuple\n",
    "# seq[start:stop:step]\n",
    "\n",
    "# Default value of step is 1\n",
    "# When step is +ve slicing is done from left to right\n",
    "# When step is -ve slicing is done from right to left\n",
    "\n",
    "\n",
    "# If step is +ve the start should be on left compared to stop\n",
    "# If step is -ve the start should be on right compared to stop\n",
    "\n",
    "\n",
    "# Step can be +/-1, +/-2, +/-3...\n",
    "\n",
    "\n",
    "\n",
    "my_str = 'This is Python class'\n",
    "\n",
    "print(my_str[8:14])\n",
    "print(my_str[8:14:1])\n",
    "\n",
    "print(my_str[8:14:2])\n",
    "print(my_str[8:14:3])\n",
    "\n",
    "print(my_str[-7:-13:-1])\n",
    "print(my_str[-7:-13:-2])\n",
    "print(my_str[-7:-13:-3])\n",
    "\n"
   ]
  },
  {
   "cell_type": "code",
   "execution_count": 31,
   "id": "39d44be4",
   "metadata": {},
   "outputs": [
    {
     "name": "stdout",
     "output_type": "stream",
     "text": [
      "*******Python*******\n",
      "++++++++Python+++++++\n",
      "--------------Python\n",
      "Python::::::::::::::\n",
      "00000000000000Python\n"
     ]
    }
   ],
   "source": [
    "# center, rjust, ljust, zfill\n",
    "\n",
    "my_str = 'Python'\n",
    "print(my_str.center(20, '*'))\n",
    "print(my_str.center(21, '+'))\n",
    "print(my_str.rjust(20, '-'))\n",
    "print(my_str.ljust(20, ':'))\n",
    "\n",
    "print(my_str.zfill(20))\n"
   ]
  },
  {
   "cell_type": "code",
   "execution_count": 32,
   "id": "c5fa22f2",
   "metadata": {},
   "outputs": [
    {
     "name": "stdout",
     "output_type": "stream",
     "text": [
      "The strings are equal.\n"
     ]
    }
   ],
   "source": [
    "#What will be the output of below code?\n",
    "firstString = \"der Fluß\"\n",
    "secondString = \"der Fluss\"\n",
    "if firstString.casefold() == secondString.casefold():\n",
    "    print('The strings are equal.')\n",
    "else:\n",
    "    print('The strings are not equal.')"
   ]
  },
  {
   "cell_type": "code",
   "execution_count": 33,
   "id": "d5902c13",
   "metadata": {},
   "outputs": [
    {
     "data": {
      "text/plain": [
       "'der fluss'"
      ]
     },
     "execution_count": 33,
     "metadata": {},
     "output_type": "execute_result"
    }
   ],
   "source": [
    "firstString.casefold()"
   ]
  },
  {
   "cell_type": "markdown",
   "id": "a5bb4939",
   "metadata": {},
   "source": [
    "# List methods"
   ]
  },
  {
   "cell_type": "markdown",
   "id": "6b182327",
   "metadata": {},
   "source": [
    "## 'append', 'clear', 'copy', 'count', 'extend', 'index', 'insert', 'pop', 'remove', 'reverse', 'sort'"
   ]
  },
  {
   "cell_type": "code",
   "execution_count": 34,
   "id": "778d828d",
   "metadata": {},
   "outputs": [
    {
     "data": {
      "text/plain": [
       "[16.99, 10.34, 21.01, 23.68, 24.59]"
      ]
     },
     "execution_count": 34,
     "metadata": {},
     "output_type": "execute_result"
    }
   ],
   "source": [
    "import seaborn as sns\n",
    "tips = sns.load_dataset('tips')\n",
    "total_bill_list = list(tips['total_bill'].head(5))\n",
    "total_bill_list"
   ]
  },
  {
   "cell_type": "markdown",
   "id": "fe653cbe",
   "metadata": {},
   "source": [
    "# Add the elements to the list - append, insert, extend"
   ]
  },
  {
   "cell_type": "code",
   "execution_count": 35,
   "id": "476e7ba1",
   "metadata": {},
   "outputs": [
    {
     "name": "stdout",
     "output_type": "stream",
     "text": [
      "[16.99, 10.34, 21.01, 23.68, 24.59, 111]\n",
      "[16.99, 10.34, 21.01, 23.68, 24.59, 111, [111, 222, 333]]\n"
     ]
    }
   ],
   "source": [
    "# lst.append(ele) - ele will be added to the end of the list\n",
    "# Returns None\n",
    "\n",
    "\n",
    "total_bill_list.append(111)\n",
    "print(total_bill_list)\n",
    "\n",
    "lst1 = [111, 222, 333]\n",
    "total_bill_list.append(lst1)\n",
    "print(total_bill_list)"
   ]
  },
  {
   "cell_type": "code",
   "execution_count": 36,
   "id": "c52e8d91",
   "metadata": {},
   "outputs": [
    {
     "name": "stdout",
     "output_type": "stream",
     "text": [
      "[16.99, 10.34, 21.01, 23.68, 24.59, 111, [111, 222, 333], 111, 222, 333]\n"
     ]
    }
   ],
   "source": [
    "# main_lst.extend(sub_lst)\n",
    "# elements of sub_lst is added at the end of main_lst as individual elements\n",
    "# Returns None\n",
    "# Changes will be done in main_lst but sub_lst will remain unaffected\n",
    "\n",
    "lst1 = [111, 222, 333]\n",
    "total_bill_list.extend(lst1)\n",
    "print(total_bill_list)"
   ]
  },
  {
   "cell_type": "code",
   "execution_count": 37,
   "id": "2996835d",
   "metadata": {},
   "outputs": [
    {
     "name": "stdout",
     "output_type": "stream",
     "text": [
      "None\n",
      "[16.99, 10.34, 111, 21.01, 23.68, 24.59, 111, [111, 222, 333], 111, 222, 333]\n"
     ]
    }
   ],
   "source": [
    "# lst.insert(ind, val) - it adds the value at specified index and \n",
    "# shifts rest of the value towards right\n",
    "\n",
    "print(total_bill_list.insert(2, 111))\n",
    "print(total_bill_list)"
   ]
  },
  {
   "cell_type": "code",
   "execution_count": 38,
   "id": "bf64fbdf",
   "metadata": {},
   "outputs": [
    {
     "name": "stdout",
     "output_type": "stream",
     "text": [
      "333\n"
     ]
    }
   ],
   "source": [
    "# Methods to remove the elements from the list - pop, remove\n",
    "\n",
    "total_bill_list\n",
    "\n",
    "# lst.pop() - By defaault it removes the last element from the list\n",
    "# This is the only method which does some operation on the list and returns a value\n",
    "# It returns the removed value\n",
    "\n",
    "print(total_bill_list.pop())\n",
    "\n"
   ]
  },
  {
   "cell_type": "code",
   "execution_count": 39,
   "id": "5c469c6c",
   "metadata": {},
   "outputs": [
    {
     "name": "stdout",
     "output_type": "stream",
     "text": [
      "[16.99, 10.34, 111, 21.01, 23.68, 24.59, 111, [111, 222, 333], 111, 222]\n"
     ]
    }
   ],
   "source": [
    "print(total_bill_list)"
   ]
  },
  {
   "cell_type": "code",
   "execution_count": 40,
   "id": "ba8f08a3",
   "metadata": {},
   "outputs": [
    {
     "name": "stdout",
     "output_type": "stream",
     "text": [
      "111\n"
     ]
    }
   ],
   "source": [
    "# lst.pop(index) - it removes the value from specified index\n",
    "print(total_bill_list.pop(2))"
   ]
  },
  {
   "cell_type": "code",
   "execution_count": 41,
   "id": "d91921c6",
   "metadata": {},
   "outputs": [
    {
     "data": {
      "text/plain": [
       "[16.99, 10.34, 21.01, 23.68, 24.59, 111, [111, 222, 333], 111, 222]"
      ]
     },
     "execution_count": 41,
     "metadata": {},
     "output_type": "execute_result"
    }
   ],
   "source": [
    "total_bill_list"
   ]
  },
  {
   "cell_type": "code",
   "execution_count": 42,
   "id": "eca33984",
   "metadata": {},
   "outputs": [
    {
     "name": "stdout",
     "output_type": "stream",
     "text": [
      "[20, 30, 10, 100, 20, 90, 80, 10, 10, 10]\n"
     ]
    }
   ],
   "source": [
    "# lst.remove(val) - remoes the first occurrence of the value from the list\n",
    "# This returns None\n",
    "\n",
    "lst = [10, 20, 30, 10, 100, 20, 90, 80, 10, 10, 10]\n",
    "lst.remove(10)\n",
    "print(lst)\n",
    "\n",
    "\n"
   ]
  },
  {
   "cell_type": "code",
   "execution_count": 43,
   "id": "d7fabe5a",
   "metadata": {},
   "outputs": [
    {
     "name": "stdout",
     "output_type": "stream",
     "text": [
      "[]\n"
     ]
    }
   ],
   "source": [
    "# lst.clear() - Clears the list\n",
    "# It removes all the elements from the list and leaves the empty list behind\n",
    "\n",
    "lst = [10, 20, 30, 10, 100, 20, 90, 80, 10, 10, 10]\n",
    "lst.clear()\n",
    "print(lst)\n",
    "\n",
    "\n",
    "\n"
   ]
  },
  {
   "cell_type": "code",
   "execution_count": 44,
   "id": "54bc28de",
   "metadata": {},
   "outputs": [
    {
     "name": "stdout",
     "output_type": "stream",
     "text": [
      "5\n",
      "[10, 20, 30, 10, 100, 20, 90, 80, 10, 10, 10]\n"
     ]
    }
   ],
   "source": [
    "# lst.count(ele) - it returns the no of times ele is repeated in the list\n",
    "lst = [10, 20, 30, 10, 100, 20, 90, 80, 10, 10, 10]\n",
    "print(lst.count(10))\n",
    "print(lst)"
   ]
  },
  {
   "cell_type": "code",
   "execution_count": 45,
   "id": "730cd66e",
   "metadata": {},
   "outputs": [
    {
     "ename": "ValueError",
     "evalue": "1000 is not in list",
     "output_type": "error",
     "traceback": [
      "\u001b[1;31m---------------------------------------------------------------------------\u001b[0m",
      "\u001b[1;31mValueError\u001b[0m                                Traceback (most recent call last)",
      "\u001b[1;32m~\\AppData\\Local\\Temp/ipykernel_9708/3007306400.py\u001b[0m in \u001b[0;36m<module>\u001b[1;34m\u001b[0m\n\u001b[0;32m      3\u001b[0m \u001b[1;33m\u001b[0m\u001b[0m\n\u001b[0;32m      4\u001b[0m \u001b[0mlst\u001b[0m \u001b[1;33m=\u001b[0m \u001b[1;33m[\u001b[0m\u001b[1;36m10\u001b[0m\u001b[1;33m,\u001b[0m \u001b[1;36m20\u001b[0m\u001b[1;33m,\u001b[0m \u001b[1;36m30\u001b[0m\u001b[1;33m,\u001b[0m \u001b[1;36m10\u001b[0m\u001b[1;33m,\u001b[0m \u001b[1;36m100\u001b[0m\u001b[1;33m,\u001b[0m \u001b[1;36m20\u001b[0m\u001b[1;33m,\u001b[0m \u001b[1;36m90\u001b[0m\u001b[1;33m,\u001b[0m \u001b[1;36m80\u001b[0m\u001b[1;33m,\u001b[0m \u001b[1;36m10\u001b[0m\u001b[1;33m,\u001b[0m \u001b[1;36m10\u001b[0m\u001b[1;33m,\u001b[0m \u001b[1;36m10\u001b[0m\u001b[1;33m]\u001b[0m\u001b[1;33m\u001b[0m\u001b[1;33m\u001b[0m\u001b[0m\n\u001b[1;32m----> 5\u001b[1;33m \u001b[0mprint\u001b[0m\u001b[1;33m(\u001b[0m\u001b[0mlst\u001b[0m\u001b[1;33m.\u001b[0m\u001b[0mindex\u001b[0m\u001b[1;33m(\u001b[0m\u001b[1;36m1000\u001b[0m\u001b[1;33m)\u001b[0m\u001b[1;33m)\u001b[0m\u001b[1;33m\u001b[0m\u001b[1;33m\u001b[0m\u001b[0m\n\u001b[0m",
      "\u001b[1;31mValueError\u001b[0m: 1000 is not in list"
     ]
    }
   ],
   "source": [
    "# lst.index(ele) - it returns the index of first occurenec of the ele from  the list\n",
    "# If the ele is not found then it return ValueError\n",
    "\n",
    "lst = [10, 20, 30, 10, 100, 20, 90, 80, 10, 10, 10]\n",
    "print(lst.index(1000))"
   ]
  },
  {
   "cell_type": "code",
   "execution_count": null,
   "id": "e1d9f4d6",
   "metadata": {},
   "outputs": [],
   "source": [
    "# lst.reverse() - it reverses the list and returns None\n",
    "\n",
    "lst = [10, 10.20, 10+20j, 'Python', True, None, [1, 2, 3]]\n",
    "lst.reverse()\n",
    "print(lst)"
   ]
  },
  {
   "cell_type": "code",
   "execution_count": 46,
   "id": "9bd829db",
   "metadata": {},
   "outputs": [
    {
     "name": "stdout",
     "output_type": "stream",
     "text": [
      "[10, 10, 10, 10, 10, 20, 20, 30, 80, 90, 100]\n"
     ]
    }
   ],
   "source": [
    "# lst.sort() - it sorts the list in ascending order(default)\n",
    "# lst.sort(reverse = True) - it sorts the list in descending order\n",
    "\n",
    "# sort method internally implements comparison operator, so list with difefrent data type will give type Error\n",
    "\n",
    "lst = [10, 20, 30, 10, 100, 20, 90, 80, 10, 10, 10]\n",
    "lst.sort()\n",
    "print(lst)"
   ]
  },
  {
   "cell_type": "code",
   "execution_count": 47,
   "id": "aca78306",
   "metadata": {},
   "outputs": [
    {
     "ename": "TypeError",
     "evalue": "'<' not supported between instances of 'str' and 'int'",
     "output_type": "error",
     "traceback": [
      "\u001b[1;31m---------------------------------------------------------------------------\u001b[0m",
      "\u001b[1;31mTypeError\u001b[0m                                 Traceback (most recent call last)",
      "\u001b[1;32m~\\AppData\\Local\\Temp/ipykernel_9708/2847752485.py\u001b[0m in \u001b[0;36m<module>\u001b[1;34m\u001b[0m\n\u001b[0;32m      3\u001b[0m \u001b[1;33m\u001b[0m\u001b[0m\n\u001b[0;32m      4\u001b[0m \u001b[0mlst\u001b[0m \u001b[1;33m=\u001b[0m \u001b[1;33m[\u001b[0m\u001b[1;36m10\u001b[0m\u001b[1;33m,\u001b[0m \u001b[1;36m20\u001b[0m\u001b[1;33m,\u001b[0m \u001b[1;36m30\u001b[0m\u001b[1;33m,\u001b[0m \u001b[1;36m10\u001b[0m\u001b[1;33m,\u001b[0m \u001b[1;34m'100'\u001b[0m\u001b[1;33m,\u001b[0m \u001b[1;36m20\u001b[0m\u001b[1;33m,\u001b[0m \u001b[1;36m90\u001b[0m\u001b[1;33m,\u001b[0m \u001b[1;36m80\u001b[0m\u001b[1;33m+\u001b[0m\u001b[1;36m30j\u001b[0m\u001b[1;33m,\u001b[0m \u001b[1;36m10\u001b[0m\u001b[1;33m,\u001b[0m \u001b[1;36m10\u001b[0m\u001b[1;33m,\u001b[0m \u001b[1;36m10\u001b[0m\u001b[1;33m]\u001b[0m\u001b[1;33m\u001b[0m\u001b[1;33m\u001b[0m\u001b[0m\n\u001b[1;32m----> 5\u001b[1;33m \u001b[0mlst\u001b[0m\u001b[1;33m.\u001b[0m\u001b[0msort\u001b[0m\u001b[1;33m(\u001b[0m\u001b[1;33m)\u001b[0m\u001b[1;33m\u001b[0m\u001b[1;33m\u001b[0m\u001b[0m\n\u001b[0m",
      "\u001b[1;31mTypeError\u001b[0m: '<' not supported between instances of 'str' and 'int'"
     ]
    }
   ],
   "source": [
    "# lst.sort(reverse = True)\n",
    "# print(lst)\n",
    "\n",
    "lst = [10, 20, 30, 10, '100', 20, 90, 80+30j, 10, 10, 10]\n",
    "lst.sort()"
   ]
  },
  {
   "cell_type": "code",
   "execution_count": 48,
   "id": "f2542054",
   "metadata": {},
   "outputs": [
    {
     "data": {
      "text/plain": [
       "[100, 90, 80, 30, 20, 20, 10, 10, 10, 10, 10]"
      ]
     },
     "execution_count": 48,
     "metadata": {},
     "output_type": "execute_result"
    }
   ],
   "source": [
    "lst = [10, 20, 30, 10, 100, 20, 90, 80, 10, 10, 10]\n",
    "lst.sort(reverse=True)\n",
    "lst"
   ]
  },
  {
   "cell_type": "code",
   "execution_count": 49,
   "id": "25acdb0c",
   "metadata": {},
   "outputs": [],
   "source": [
    "lst = [10, 20, 30, 10, 100, 20, 90, 80, 10, 10, 10]\n"
   ]
  },
  {
   "cell_type": "code",
   "execution_count": 50,
   "id": "588948f5",
   "metadata": {},
   "outputs": [],
   "source": [
    "# Find and display the largest number of a list without using \n",
    "# built-in function max(). Your program should ask the user to \n",
    "# input values in list from keyboard."
   ]
  },
  {
   "cell_type": "code",
   "execution_count": 51,
   "id": "040726d9",
   "metadata": {},
   "outputs": [
    {
     "data": {
      "text/plain": [
       "True"
      ]
     },
     "execution_count": 51,
     "metadata": {},
     "output_type": "execute_result"
    }
   ],
   "source": [
    "#Write a Python program to count the number of strings \n",
    "# having length more than 2 and are palindrome in a list using loop.\n",
    "#Input:- ['ab', 'abc', 'aba', 'xyz', '1991']\n",
    "#Output:- 2\n",
    "\n",
    "lst = ['ab', 'abc', 'aba', 'xyz', '1991']\n",
    "sum([True for i in lst if (len(i) >2) and (i == i[::-1])])\n",
    "\n",
    "\n",
    "# i = 'aba'\n",
    "# i == i[::-1]\n",
    "'aba' == 'aba'"
   ]
  },
  {
   "cell_type": "code",
   "execution_count": 52,
   "id": "32b40969",
   "metadata": {},
   "outputs": [
    {
     "name": "stdout",
     "output_type": "stream",
     "text": [
      "['much', 'wood', 'would', 'woodchuck', 'chuck', 'could']\n"
     ]
    },
    {
     "data": {
      "text/plain": [
       "['How',\n",
       " 'much',\n",
       " 'wood',\n",
       " 'would',\n",
       " 'a',\n",
       " 'woodchuck',\n",
       " 'chuck',\n",
       " 'if',\n",
       " 'a',\n",
       " 'woodchuck',\n",
       " 'could',\n",
       " 'chuck',\n",
       " 'wood']"
      ]
     },
     "execution_count": 52,
     "metadata": {},
     "output_type": "execute_result"
    }
   ],
   "source": [
    "#Write a Python program to find the list of words that are longer than or equal to 4 from a given string.\n",
    "#Input:- 'How much wood would a woodchuck chuck if a woodchuck could chuck wood'\n",
    "#Output:- ['much', 'wood', 'would', 'woodchuck', 'chuck', 'could']\n",
    "#Note:- Duplicate should be avoided.\n",
    "\n",
    "my_str = 'How much wood would a woodchuck chuck if a woodchuck could chuck wood'\n",
    "lst = []\n",
    "[lst.append(i) for i in my_str.split() if (len(i)>=4) and (i not in lst)]\n",
    "print(lst)\n",
    "\n",
    "my_str.split()\n",
    "\n"
   ]
  },
  {
   "cell_type": "code",
   "execution_count": 53,
   "id": "8e187243",
   "metadata": {},
   "outputs": [
    {
     "name": "stdout",
     "output_type": "stream",
     "text": [
      "[[0, 0, 0, 0], [0, 1, 2, 3], [0, 2, 4, 6], [0, 3, 6, 9]]\n"
     ]
    },
    {
     "data": {
      "text/plain": [
       "[[0, 0, 0, 0], [0, 1, 2, 3], [0, 2, 4, 6], [0, 3, 6, 9]]"
      ]
     },
     "execution_count": 53,
     "metadata": {},
     "output_type": "execute_result"
    }
   ],
   "source": [
    "# Write a Python program to create a 4X4 2D matrix with below elements using loop and list comprehension both.\n",
    "# Output:- [[0,0,0,0],[0,1,2,3],[0,2,4,6],[0,3,6,9]]\n",
    "\n",
    "# print([[0,0,0,0],[0,1,2,3],[0,2,4,6],[0,3,6,9]])\n",
    "\n",
    "# One outer list\n",
    "# Outer list has four inner lists\n",
    "# and each inner list has four element\n",
    "# Each element has some value\n",
    "\n",
    "out_lst = []\n",
    "for i in range(4):\n",
    "    in_lst= []\n",
    "    for j in range(4):\n",
    "        in_lst.append(i*j)\n",
    "    out_lst.append(in_lst)\n",
    "    \n",
    "print(out_lst)\n",
    "\n",
    "\n",
    "[[i*j for j in range(4)] for i in range(4)]"
   ]
  },
  {
   "cell_type": "code",
   "execution_count": 54,
   "id": "09326dce",
   "metadata": {},
   "outputs": [],
   "source": [
    "# Methods\n",
    "# Comprehension\n",
    "# Loop"
   ]
  },
  {
   "cell_type": "code",
   "execution_count": 55,
   "id": "7dd42f2a",
   "metadata": {},
   "outputs": [
    {
     "data": {
      "text/plain": [
       "60"
      ]
     },
     "execution_count": 55,
     "metadata": {},
     "output_type": "execute_result"
    }
   ],
   "source": [
    "sum([10,20,30])"
   ]
  },
  {
   "cell_type": "code",
   "execution_count": 56,
   "id": "c7afc3e2",
   "metadata": {},
   "outputs": [
    {
     "data": {
      "text/plain": [
       "2"
      ]
     },
     "execution_count": 56,
     "metadata": {},
     "output_type": "execute_result"
    }
   ],
   "source": [
    "True + True"
   ]
  },
  {
   "cell_type": "code",
   "execution_count": 57,
   "id": "6a6f9b7e",
   "metadata": {},
   "outputs": [
    {
     "data": {
      "text/plain": [
       "'ssalc nohtyP si sihT'"
      ]
     },
     "execution_count": 57,
     "metadata": {},
     "output_type": "execute_result"
    }
   ],
   "source": [
    "my_str = 'This is Python class'\n",
    "\n",
    "out_str = 'sihT si nohtyP ss'\n",
    "\n",
    "my_str[::-1]"
   ]
  },
  {
   "cell_type": "code",
   "execution_count": 58,
   "id": "219354f8",
   "metadata": {},
   "outputs": [
    {
     "name": "stdout",
     "output_type": "stream",
     "text": [
      "P\n",
      "yy\n",
      "ttt\n",
      "hhhh\n",
      "ooooo\n",
      "nnnnnn\n"
     ]
    }
   ],
   "source": [
    "my_str = 'Python'\n",
    "# last_index = 5\n",
    "# list(range(len(my_str)))\n",
    "# P\n",
    "# yy\n",
    "# ttt\n",
    "# hhhh\n",
    "# ooooo\n",
    "# nnnnnn\n",
    "\n",
    "for i in range(1, len(my_str)+1):\n",
    "    print(my_str[i-1] * i)"
   ]
  },
  {
   "cell_type": "code",
   "execution_count": 59,
   "id": "3ac19df9",
   "metadata": {},
   "outputs": [
    {
     "name": "stdout",
     "output_type": "stream",
     "text": [
      "P\n",
      "y\n",
      "t\n",
      "h\n",
      "o\n",
      "n\n"
     ]
    }
   ],
   "source": [
    "# P\n",
    "# y\n",
    "# t\n",
    "# h\n",
    "# o\n",
    "# n\n",
    "for i in range(len(my_str)):\n",
    "    print(my_str[i])"
   ]
  },
  {
   "cell_type": "code",
   "execution_count": 60,
   "id": "056a19bc",
   "metadata": {},
   "outputs": [
    {
     "name": "stdout",
     "output_type": "stream",
     "text": [
      " 10 20 30\n"
     ]
    }
   ],
   "source": [
    "my_str = ''\n",
    "for i in [10,20,30]:\n",
    "    my_str = my_str + ' ' + str(i)\n",
    "print(my_str)\n"
   ]
  },
  {
   "cell_type": "code",
   "execution_count": 61,
   "id": "74c58a36",
   "metadata": {},
   "outputs": [
    {
     "name": "stdout",
     "output_type": "stream",
     "text": [
      "*********************Peck********************\n"
     ]
    }
   ],
   "source": [
    "# Write a python program to find below output (implements rjust and ljust) using loop:-\n",
    "    \n",
    "# my_str = 'Peter Piper Picked A Peck Of Pickled Peppers.'\n",
    "# sub_str = 'Peck'\n",
    "# Output: *********************Peck************************\n",
    "\n",
    "my_str = 'Peter Piper Picked A Peck Of Pickled Peppers.'\n",
    "sub_str = 'Peck'\n",
    "new_str = ''\n",
    "j = 0\n",
    "res_str = ''\n",
    "for i in range(len(my_str)):\n",
    "    if my_str[i] == sub_str[j]:\n",
    "        new_str += my_str[i]\n",
    "        j += 1\n",
    "        if new_str == sub_str:\n",
    "            res_str = ('*' * (i-(len(sub_str)-1))) + sub_str + ('*' * ((len(my_str)-i-1)))\n",
    "            break\n",
    "    elif i == len(my_str):\n",
    "        print('substring is not found')\n",
    "    else:\n",
    "        new_str = ''\n",
    "        j = 0\n",
    "print(res_str)"
   ]
  },
  {
   "cell_type": "code",
   "execution_count": 62,
   "id": "63efc75a",
   "metadata": {},
   "outputs": [
    {
     "name": "stdout",
     "output_type": "stream",
     "text": [
      "*********************Peck********************\n"
     ]
    }
   ],
   "source": [
    "my_str = 'Peter Piper Picked A Peck Of Pickled Peppers.'\n",
    "# print(my_str.index('Peck'))  # to know the index of 'P' in Peck\n",
    "out_str = ''\n",
    "a= '*'\n",
    "b= 'Peck'\n",
    "for i in range(len(my_str)):\n",
    "    if i < 21:\n",
    "        out_str += a\n",
    "    elif i == 21:\n",
    "        out_str += b\n",
    "    elif (22 <= i <= 24):\n",
    "        continue\n",
    "    elif i >= 25:\n",
    "        out_str = out_str + a\n",
    "print(out_str)\n"
   ]
  },
  {
   "cell_type": "code",
   "execution_count": 63,
   "id": "635dc31e",
   "metadata": {},
   "outputs": [
    {
     "data": {
      "text/plain": [
       "'*********************Peck********************'"
      ]
     },
     "execution_count": 63,
     "metadata": {},
     "output_type": "execute_result"
    }
   ],
   "source": [
    "my_str = 'Peter Piper Picked A Peck Of Pickled Peppers.'\n",
    "sub_str = 'Peck'\n",
    "sub_str.rjust(my_str.find(sub_str)+(len(sub_str)), '*').ljust((len(my_str)), '*')"
   ]
  },
  {
   "cell_type": "code",
   "execution_count": null,
   "id": "37e6981d",
   "metadata": {},
   "outputs": [],
   "source": []
  }
 ],
 "metadata": {
  "kernelspec": {
   "display_name": "Python 3 (ipykernel)",
   "language": "python",
   "name": "python3"
  },
  "language_info": {
   "codemirror_mode": {
    "name": "ipython",
    "version": 3
   },
   "file_extension": ".py",
   "mimetype": "text/x-python",
   "name": "python",
   "nbconvert_exporter": "python",
   "pygments_lexer": "ipython3",
   "version": "3.9.7"
  }
 },
 "nbformat": 4,
 "nbformat_minor": 5
}
