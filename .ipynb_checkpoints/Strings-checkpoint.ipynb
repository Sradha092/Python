{
 "cells": [
  {
   "cell_type": "code",
   "execution_count": 1,
   "id": "60790455",
   "metadata": {
    "ExecuteTime": {
     "end_time": "2022-01-13T14:09:09.294301Z",
     "start_time": "2022-01-13T14:09:09.287896Z"
    }
   },
   "outputs": [
    {
     "name": "stdout",
     "output_type": "stream",
     "text": [
      "Python <class 'str'>\n",
      "Python <class 'str'>\n",
      "Python <class 'str'>\n",
      "Python <class 'str'>\n"
     ]
    }
   ],
   "source": [
    "# String - '...', \"...\", '''...''', \"\"\"...\"\"\"\n",
    "\n",
    "a = 'Python'\n",
    "print(a, type(a))\n",
    "\n",
    "a = \"Python\"\n",
    "print(a, type(a))\n",
    "\n",
    "a = '''Python'''\n",
    "print(a, type(a))\n",
    "\n",
    "a = \"\"\"Python\"\"\"\n",
    "print(a, type(a))"
   ]
  },
  {
   "cell_type": "code",
   "execution_count": 2,
   "id": "f0caefe3",
   "metadata": {
    "ExecuteTime": {
     "end_time": "2022-01-13T14:15:41.238733Z",
     "start_time": "2022-01-13T14:15:41.232782Z"
    }
   },
   "outputs": [
    {
     "name": "stdout",
     "output_type": "stream",
     "text": [
      "This is Python's class\n",
      "This is \"Python\" class\n",
      "This is 'Python' and \"Java\" class\n",
      "This is python class This is python class This is python class This is python class This is python classThis is python class\n"
     ]
    }
   ],
   "source": [
    "a = \"This is Python's class\"\n",
    "print(a)\n",
    "\n",
    "a = 'This is \"Python\" class'\n",
    "print(a)\n",
    "\n",
    "a = '''This is 'Python' and \"Java\" class'''\n",
    "print(a)\n",
    "\n",
    "'''Case 2\n",
    "To define multiline string we use triple quotation'''\n",
    "\n",
    "a = 'This is python class This is python class This is python class This is python class This is python class\\\n",
    "This is python class'\n",
    "print(a)\n"
   ]
  },
  {
   "cell_type": "code",
   "execution_count": 3,
   "id": "13bf6ee1",
   "metadata": {
    "ExecuteTime": {
     "end_time": "2022-01-13T14:33:08.190470Z",
     "start_time": "2022-01-13T14:33:08.169629Z"
    }
   },
   "outputs": [
    {
     "name": "stdout",
     "output_type": "stream",
     "text": [
      "This is Python class 2479664941616\n",
      "P 2479585705392\n",
      "P 2479585705392\n"
     ]
    }
   ],
   "source": [
    "a = 'This is Python class'\n",
    "print(a, id(a))\n",
    "print(a[8], id(a[8]))\n",
    "b = 'P'\n",
    "print(b, id(b))"
   ]
  },
  {
   "cell_type": "code",
   "execution_count": 4,
   "id": "093bd983",
   "metadata": {
    "ExecuteTime": {
     "end_time": "2022-01-13T14:33:10.262092Z",
     "start_time": "2022-01-13T14:33:10.256489Z"
    }
   },
   "outputs": [
    {
     "name": "stdout",
     "output_type": "stream",
     "text": [
      "P 2479585705392\n"
     ]
    }
   ],
   "source": [
    "b = 'P'\n",
    "print(b, id(b))"
   ]
  },
  {
   "cell_type": "markdown",
   "id": "6d733a32",
   "metadata": {},
   "source": [
    "# String Properties"
   ]
  },
  {
   "cell_type": "code",
   "execution_count": null,
   "id": "3b718100",
   "metadata": {},
   "outputs": [],
   "source": [
    "#1. String is sequence- as it allows positive and negative indexing."
   ]
  },
  {
   "cell_type": "code",
   "execution_count": null,
   "id": "ec42734f",
   "metadata": {},
   "outputs": [],
   "source": [
    "#2. Indexing- Extracting the subsequence from a sequence"
   ]
  },
  {
   "cell_type": "code",
   "execution_count": 1,
   "id": "b6376955",
   "metadata": {},
   "outputs": [
    {
     "name": "stdout",
     "output_type": "stream",
     "text": [
      "python class\n",
      "python\n",
      "class\n"
     ]
    }
   ],
   "source": [
    "s1 = 'this is a python class'\n",
    "\n",
    "#+ve\n",
    "print(s1[10:])\n",
    "\n",
    "#ive\n",
    "print(s1[-12:-6])\n",
    "\n",
    "print(s1[-5:])"
   ]
  },
  {
   "cell_type": "code",
   "execution_count": 2,
   "id": "cfff4b1e",
   "metadata": {},
   "outputs": [
    {
     "name": "stdout",
     "output_type": "stream",
     "text": [
      "pto\n",
      "ph\n"
     ]
    }
   ],
   "source": [
    "# step\n",
    "\n",
    "s1 = 'python'\n",
    "\n",
    "print(s1[0::2]) # evrty 2nd char from l - R\n",
    "print(s1[0::3]) # evrty 3nd char from l - R"
   ]
  },
  {
   "cell_type": "code",
   "execution_count": 3,
   "id": "7ef24bd4",
   "metadata": {},
   "outputs": [
    {
     "name": "stdout",
     "output_type": "stream",
     "text": [
      "nohtyp\n"
     ]
    }
   ],
   "source": [
    "print(s1[-1:-len(s1)-1:-1]) # evrty 2nd char from l - R\n",
    "# print(s1[0::3]) # evrty 3nd char from l - R"
   ]
  },
  {
   "cell_type": "code",
   "execution_count": 4,
   "id": "f54e321d",
   "metadata": {},
   "outputs": [
    {
     "name": "stdout",
     "output_type": "stream",
     "text": [
      "python\n"
     ]
    }
   ],
   "source": [
    "print(s1[0:len(s1):1])"
   ]
  },
  {
   "cell_type": "code",
   "execution_count": 5,
   "id": "247cc30d",
   "metadata": {},
   "outputs": [
    {
     "ename": "SyntaxError",
     "evalue": "invalid syntax (Temp/ipykernel_7936/1650956802.py, line 1)",
     "output_type": "error",
     "traceback": [
      "\u001b[1;36m  File \u001b[1;32m\"C:\\Users\\SRADHA\\AppData\\Local\\Temp/ipykernel_7936/1650956802.py\"\u001b[1;36m, line \u001b[1;32m1\u001b[0m\n\u001b[1;33m    default values\u001b[0m\n\u001b[1;37m            ^\u001b[0m\n\u001b[1;31mSyntaxError\u001b[0m\u001b[1;31m:\u001b[0m invalid syntax\n"
     ]
    }
   ],
   "source": [
    "default values\n",
    "\n",
    "when step size is +ve  (l to r)\n",
    "default start_index = 0\n",
    "deafult stop index - len(str)\n",
    "\n",
    "when step size is -ve  (r to l)\n",
    "default start_index = -1\n",
    "deafult stop index - -len(str)-1"
   ]
  },
  {
   "cell_type": "code",
   "execution_count": 6,
   "id": "5f1164ff",
   "metadata": {},
   "outputs": [
    {
     "name": "stdout",
     "output_type": "stream",
     "text": [
      "yp\n"
     ]
    }
   ],
   "source": [
    "s1 = 'python'\n",
    "\n",
    "print(s1[1::-1])"
   ]
  },
  {
   "cell_type": "code",
   "execution_count": 7,
   "id": "6893bdeb",
   "metadata": {},
   "outputs": [
    {
     "name": "stdout",
     "output_type": "stream",
     "text": [
      "ssalc nohtyp eht si siht\n"
     ]
    }
   ],
   "source": [
    "a = 'this is the python class'\n",
    "\n",
    "print(a[::-1])"
   ]
  },
  {
   "cell_type": "code",
   "execution_count": 8,
   "id": "111451d8",
   "metadata": {},
   "outputs": [
    {
     "name": "stdout",
     "output_type": "stream",
     "text": [
      "python class\n"
     ]
    }
   ],
   "source": [
    "a = 'this is the python class'\n",
    "\n",
    "print(a[12:])"
   ]
  },
  {
   "cell_type": "code",
   "execution_count": 9,
   "id": "d1d9c6fa",
   "metadata": {},
   "outputs": [
    {
     "name": "stdout",
     "output_type": "stream",
     "text": [
      "sacnhy h ish\n"
     ]
    }
   ],
   "source": [
    "#slice every second character in reverse order\n",
    "a = 'this is the python class'\n",
    "print(a[::-2])"
   ]
  },
  {
   "cell_type": "code",
   "execution_count": 10,
   "id": "84b49be5",
   "metadata": {},
   "outputs": [],
   "source": [
    "#3. Concatenation - Both the operands should be string type"
   ]
  },
  {
   "cell_type": "code",
   "execution_count": 1,
   "id": "54e4cc75",
   "metadata": {},
   "outputs": [
    {
     "name": "stdout",
     "output_type": "stream",
     "text": [
      "sradha patra\n"
     ]
    }
   ],
   "source": [
    "s1 = 'sradha'\n",
    "s2 = 'patra'\n",
    "s3 = ' '\n",
    "print(s1+s3+s2)"
   ]
  },
  {
   "cell_type": "code",
   "execution_count": 12,
   "id": "7e5c3892",
   "metadata": {},
   "outputs": [],
   "source": [
    "#4.Repetition- One operand should be string and another should be int"
   ]
  },
  {
   "cell_type": "code",
   "execution_count": 2,
   "id": "5f9d7a3b",
   "metadata": {},
   "outputs": [
    {
     "name": "stdout",
     "output_type": "stream",
     "text": [
      "sradha sradha sradha sradha sradha \n"
     ]
    }
   ],
   "source": [
    "s1 = 'sradha'\n",
    "print(5*(s1+s3))"
   ]
  },
  {
   "cell_type": "code",
   "execution_count": 14,
   "id": "7d0cb354",
   "metadata": {},
   "outputs": [],
   "source": [
    "#5.Membership Operator- Tells us whether a particular string is present or not in the existing sting\n",
    "#in and not in\n",
    "#returns Boolean Value"
   ]
  },
  {
   "cell_type": "code",
   "execution_count": 3,
   "id": "6443658a",
   "metadata": {},
   "outputs": [
    {
     "data": {
      "text/plain": [
       "True"
      ]
     },
     "execution_count": 3,
     "metadata": {},
     "output_type": "execute_result"
    }
   ],
   "source": [
    "s1 = 'sradha'\n",
    "'ad' in s1"
   ]
  },
  {
   "cell_type": "code",
   "execution_count": 17,
   "id": "a4c8c955",
   "metadata": {},
   "outputs": [],
   "source": [
    "#String is immutable- string cannot be modified."
   ]
  },
  {
   "cell_type": "code",
   "execution_count": 18,
   "id": "61222633",
   "metadata": {},
   "outputs": [
    {
     "name": "stdout",
     "output_type": "stream",
     "text": [
      "2624429158576\n",
      "2624467002032\n",
      "2624429158576\n"
     ]
    }
   ],
   "source": [
    "s1 = 'python'\n",
    "print(id(s1))\n",
    "s2 = s1[0:5]\n",
    "print(id(s2))\n",
    "print(id(s1))"
   ]
  },
  {
   "cell_type": "code",
   "execution_count": 4,
   "id": "fc7d9cd7",
   "metadata": {},
   "outputs": [
    {
     "name": "stdout",
     "output_type": "stream",
     "text": [
      "s\n"
     ]
    }
   ],
   "source": [
    "# how to identify the immutabiltiy\n",
    "# assignment operators will never work\n",
    "# try to check if modifciation is not done in the exixtig object\n",
    "\n",
    "s1 = 'sradha'\n",
    "s2 = s1[0]\n",
    "print(s2)"
   ]
  },
  {
   "cell_type": "markdown",
   "id": "f4a863fc",
   "metadata": {},
   "source": [
    "# String Methods"
   ]
  },
  {
   "cell_type": "code",
   "execution_count": 5,
   "id": "b4fe12d2",
   "metadata": {},
   "outputs": [
    {
     "name": "stdout",
     "output_type": "stream",
     "text": [
      "['__add__', '__class__', '__contains__', '__delattr__', '__dir__', '__doc__', '__eq__', '__format__', '__ge__', '__getattribute__', '__getitem__', '__getnewargs__', '__gt__', '__hash__', '__init__', '__init_subclass__', '__iter__', '__le__', '__len__', '__lt__', '__mod__', '__mul__', '__ne__', '__new__', '__reduce__', '__reduce_ex__', '__repr__', '__rmod__', '__rmul__', '__setattr__', '__sizeof__', '__str__', '__subclasshook__', 'capitalize', 'casefold', 'center', 'count', 'encode', 'endswith', 'expandtabs', 'find', 'format', 'format_map', 'index', 'isalnum', 'isalpha', 'isascii', 'isdecimal', 'isdigit', 'isidentifier', 'islower', 'isnumeric', 'isprintable', 'isspace', 'istitle', 'isupper', 'join', 'ljust', 'lower', 'lstrip', 'maketrans', 'partition', 'removeprefix', 'removesuffix', 'replace', 'rfind', 'rindex', 'rjust', 'rpartition', 'rsplit', 'rstrip', 'split', 'splitlines', 'startswith', 'strip', 'swapcase', 'title', 'translate', 'upper', 'zfill']\n"
     ]
    }
   ],
   "source": [
    "print(dir(str))"
   ]
  },
  {
   "cell_type": "code",
   "execution_count": 21,
   "id": "cd6ff7e4",
   "metadata": {},
   "outputs": [
    {
     "name": "stdout",
     "output_type": "stream",
     "text": [
      "This is a python class\n",
      "this is a PYTHON class\n",
      "THIS IS A PYTHON CLASS\n",
      "this is a python class\n",
      "THIS IS A python CLASS\n",
      "This Is A Python Class\n",
      "this is a PYTHON class\n"
     ]
    }
   ],
   "source": [
    "s1 = 'this is a PYTHON class'\n",
    "\n",
    "# capitalize\n",
    "print(s1.capitalize())\n",
    "print(s1)\n",
    "\n",
    "# upper - it converts eveything into a upper case\n",
    "print(s1.upper())\n",
    "\n",
    "# lower - it converts eveything into a lower case\n",
    "print(s1.lower())\n",
    "\n",
    "\n",
    "# swapcase - convert upper caset o lowercase and vice versa\n",
    "print(s1.swapcase())\n",
    "\n",
    "\n",
    "# title - convert all the first letter of the word to caps\n",
    "print(s1.title())\n",
    "\n",
    "print(s1)  #same string as the string is immutable"
   ]
  },
  {
   "cell_type": "code",
   "execution_count": 25,
   "id": "f675acbb",
   "metadata": {},
   "outputs": [
    {
     "name": "stdout",
     "output_type": "stream",
     "text": [
      "True\n",
      "True\n",
      "False\n",
      "False\n",
      "---------------------------\n",
      "True\n",
      "False\n",
      "False\n",
      "False\n",
      "---------------------------\n",
      "False\n",
      "False\n",
      "False\n",
      "False\n",
      "---------------------------\n",
      "True\n",
      "False\n",
      "False\n",
      "True\n",
      "---------------------------\n",
      "True\n",
      "True\n",
      "True\n",
      "True\n",
      "False\n"
     ]
    }
   ],
   "source": [
    "# fucntion that returns boolean value\n",
    "\n",
    "s1 = 'abc'\n",
    "s2 = '123abc'\n",
    "s3 = '*'\n",
    "s4 = '_11'\n",
    "\n",
    "# isalnum - return true if string has alphabtes , numbers 0-9 , alphanum\n",
    "print(s1.isalnum())\n",
    "print(s2.isalnum())\n",
    "print(s3.isalnum())\n",
    "print(s4.isalnum())\n",
    "\n",
    "print('---------------------------')\n",
    "# isalpha - return true if string has alphabtes\n",
    "print(s1.isalpha())\n",
    "print(s2.isalpha())\n",
    "print(s3.isalpha())\n",
    "print(s4.isalpha())\n",
    "\n",
    "\n",
    "print('---------------------------')\n",
    "# isnumeric - return true if string has numbers\n",
    "print(s1.isnumeric())\n",
    "print(s2.isnumeric())\n",
    "print(s3.isnumeric())\n",
    "print(s4.isnumeric())\n",
    "\n",
    "\n",
    "print('---------------------------')\n",
    "# isidentifier - return true if string is an identifier\n",
    "print(s1.isidentifier())\n",
    "print(s2.isidentifier())\n",
    "print(s3.isidentifier())\n",
    "print(s4.isidentifier())\n",
    "\n",
    "\n",
    "print('---------------------------')\n",
    "# isascii - return true if all the char are from ascii table\n",
    "print(s1.isascii())\n",
    "print(s2.isascii())\n",
    "print(s3.isascii())\n",
    "print(s4.isascii())\n",
    "print('fließen'.isascii())"
   ]
  },
  {
   "cell_type": "code",
   "execution_count": 24,
   "id": "b0d6f684",
   "metadata": {},
   "outputs": [
    {
     "name": "stdout",
     "output_type": "stream",
     "text": [
      "True\n",
      "True\n",
      "False\n",
      "False\n",
      "---------------------------\n",
      "True\n",
      "False\n",
      "False\n",
      "False\n",
      "---------------------------\n",
      "False\n",
      "False\n",
      "False\n",
      "False\n",
      "---------------------------\n",
      "True\n",
      "False\n",
      "False\n",
      "False\n",
      "---------------------------\n",
      "True\n",
      "True\n",
      "True\n",
      "True\n",
      "False\n"
     ]
    }
   ],
   "source": [
    "s1 = 'abc'\n",
    "s2 = '123abc'\n",
    "s3 = '*'\n",
    "s4 = '11.2'\n",
    "\n",
    "# isalnum - return true if string has alphabtes , numbers 0-9 , alphanum\n",
    "print(s1.isalnum())\n",
    "print(s2.isalnum())\n",
    "print(s3.isalnum())\n",
    "print(s4.isalnum())\n",
    "\n",
    "print('---------------------------')\n",
    "# isalpha - return true if string has alphabtes\n",
    "print(s1.isalpha())\n",
    "print(s2.isalpha())\n",
    "print(s3.isalpha())\n",
    "print(s4.isalpha())\n",
    "\n",
    "\n",
    "print('---------------------------')\n",
    "# isnumeric - return true if string has numbers\n",
    "print(s1.isnumeric())\n",
    "print(s2.isnumeric())\n",
    "print(s3.isnumeric())\n",
    "print(s4.isnumeric())\n",
    "\n",
    "\n",
    "print('---------------------------')\n",
    "# isidentifier - return true if string is an identifier\n",
    "print(s1.isidentifier())\n",
    "print(s2.isidentifier())\n",
    "print(s3.isidentifier())\n",
    "print(s4.isidentifier())\n",
    "\n",
    "\n",
    "print('---------------------------')\n",
    "# isascii - return true if all the char are from ascii table\n",
    "print(s1.isascii())\n",
    "print(s2.isascii())\n",
    "print(s3.isascii())\n",
    "print(s4.isascii())\n",
    "print('fließen'.isascii())"
   ]
  },
  {
   "cell_type": "code",
   "execution_count": 27,
   "id": "30507386",
   "metadata": {},
   "outputs": [
    {
     "name": "stdout",
     "output_type": "stream",
     "text": [
      "False\n",
      "True\n"
     ]
    }
   ],
   "source": [
    "s = 'hello world'\n",
    "\n",
    "# startwith = return true if string starts with the specified prefix , false otherwise\n",
    "print(s.startswith('heo'))\n",
    "\n",
    "# endswith = return true if string ends with the specified suffix , false otherwise\n",
    "print(s.endswith('ld'))"
   ]
  },
  {
   "cell_type": "code",
   "execution_count": 43,
   "id": "c4096e15",
   "metadata": {},
   "outputs": [],
   "source": [
    "# Escape Characters"
   ]
  },
  {
   "cell_type": "code",
   "execution_count": 29,
   "id": "7089654b",
   "metadata": {},
   "outputs": [
    {
     "name": "stdout",
     "output_type": "stream",
     "text": [
      "hello wordl\n",
      "hello\n",
      "world\n"
     ]
    }
   ],
   "source": [
    "# \\n - new line\n",
    "\n",
    "print('hello wordl')\n",
    "print('hello\\nworld')"
   ]
  },
  {
   "cell_type": "code",
   "execution_count": 30,
   "id": "453e7cce",
   "metadata": {},
   "outputs": [
    {
     "name": "stdout",
     "output_type": "stream",
     "text": [
      "abcxyzyoo\n",
      "hello\\nworld\n"
     ]
    }
   ],
   "source": [
    "# \\ - back slash - escape a new line\n",
    "\n",
    "a = 'abc\\\n",
    "xyz\\\n",
    "yoo'\n",
    "\n",
    "print(a)\n",
    "\n",
    "print('hello\\\\nworld')"
   ]
  },
  {
   "cell_type": "code",
   "execution_count": 31,
   "id": "1784dfd1",
   "metadata": {},
   "outputs": [
    {
     "name": "stdout",
     "output_type": "stream",
     "text": [
      "python's class\n"
     ]
    }
   ],
   "source": [
    "# \\' - Considers ' as char\n",
    "\n",
    "a = 'python\\'s class'\n",
    "print(a)"
   ]
  },
  {
   "cell_type": "code",
   "execution_count": 32,
   "id": "149734ab",
   "metadata": {},
   "outputs": [
    {
     "name": "stdout",
     "output_type": "stream",
     "text": [
      "python\"s class\n"
     ]
    }
   ],
   "source": [
    "# \\\" - Considers \" as char\n",
    "\n",
    "a = \"python\\\"s class\"\n",
    "print(a)"
   ]
  },
  {
   "cell_type": "code",
   "execution_count": 6,
   "id": "bc76b603",
   "metadata": {},
   "outputs": [
    {
     "name": "stdout",
     "output_type": "stream",
     "text": [
      "ab\bc\n",
      "sradh\ba patra\n"
     ]
    }
   ],
   "source": [
    "# \\b - backspace - deletes the previous char\n",
    "\n",
    "print('ab'+'\\b'+'c')\n",
    "print('sradh\\ba patra')"
   ]
  },
  {
   "cell_type": "code",
   "execution_count": 7,
   "id": "0be31459",
   "metadata": {},
   "outputs": [
    {
     "name": "stdout",
     "output_type": "stream",
     "text": [
      "hello\r",
      "XX_XX\n",
      "helloworld\r",
      "XX_XX\n",
      "Sradha\r",
      "Patra\n"
     ]
    }
   ],
   "source": [
    "# \\r - carriage return \n",
    "\n",
    "print('hello\\rXX_XX')\n",
    "print('helloworld\\rXX_XX')\n",
    "print('Sradha\\rPatra')"
   ]
  },
  {
   "cell_type": "code",
   "execution_count": 35,
   "id": "c81deacb",
   "metadata": {},
   "outputs": [
    {
     "name": "stdout",
     "output_type": "stream",
     "text": [
      "hello\tworld\n"
     ]
    }
   ],
   "source": [
    "# \\t - this represents 4space - tab\n",
    "\n",
    "print('hello\\tworld')"
   ]
  },
  {
   "cell_type": "code",
   "execution_count": 36,
   "id": "8795caa1",
   "metadata": {},
   "outputs": [
    {
     "name": "stdout",
     "output_type": "stream",
     "text": [
      "hello\\n\\nworld\n"
     ]
    }
   ],
   "source": [
    "# r - Raw string\n",
    "\n",
    "a = r'hello\\n\\nworld'\n",
    "print(a)"
   ]
  },
  {
   "cell_type": "code",
   "execution_count": 37,
   "id": "ce50f1da",
   "metadata": {},
   "outputs": [
    {
     "data": {
      "text/plain": [
       "True"
      ]
     },
     "execution_count": 37,
     "metadata": {},
     "output_type": "execute_result"
    }
   ],
   "source": [
    "# startswith - return Boolean\n",
    "s = 'hello world'\n",
    "\n",
    "s.startswith('he',-len(s),-1)\n",
    "\n",
    "\n",
    "# endswith - return Boolean\n",
    "s = 'python'\n",
    "\n",
    "\n",
    "s.endswith('th',-len(s),-2)"
   ]
  },
  {
   "cell_type": "code",
   "execution_count": 38,
   "id": "69dd5626",
   "metadata": {},
   "outputs": [
    {
     "name": "stdout",
     "output_type": "stream",
     "text": [
      "False\n",
      "True\n",
      "False\n",
      "False\n",
      "------------------------\n",
      "True\n",
      "False\n",
      "False\n",
      "False\n",
      "------------------------\n",
      "False\n",
      "False\n",
      "False\n",
      "False\n",
      "True\n",
      "------------------------\n",
      "False\n",
      "True\n",
      "True\n",
      "True\n",
      "False\n",
      "False\n",
      "------------------------\n",
      "True\n",
      "True\n",
      "False\n",
      "False\n",
      "False\n",
      "------------------------\n"
     ]
    }
   ],
   "source": [
    "s1 = 'abc'\n",
    "s2 = 'ABC'\n",
    "s3 = '*'\n",
    "s4 = '112'\n",
    "\n",
    "# isupper - return Bolean\n",
    "print(s1.isupper())\n",
    "print(s2.isupper())\n",
    "print(s3.isupper())\n",
    "print(s4.isupper())\n",
    "\n",
    "print('------------------------')\n",
    "\n",
    "\n",
    "# islower - return Bolean\n",
    "print(s1.islower())\n",
    "print(s2.islower())\n",
    "print(s3.islower())\n",
    "print(s4.islower())\n",
    "\n",
    "print('------------------------')\n",
    "\n",
    "\n",
    "# istitle - return Bolean\n",
    "print(s1.istitle())\n",
    "print(s2.istitle())\n",
    "print(s3.istitle())\n",
    "print(s4.istitle())\n",
    "print('Python Class'.istitle())\n",
    "\n",
    "\n",
    "print('------------------------')\n",
    "\n",
    "\n",
    "# isspace - return Bolean - to check wether string has only space characters\n",
    "print(''.isspace())\n",
    "print(' '.isspace())\n",
    "print('\\n'.isspace())\n",
    "print('\\t'.isspace())\n",
    "print('\\b'.isspace())\n",
    "print('  a'.isspace())\n",
    "\n",
    "print('------------------------')\n",
    "\n",
    "\n",
    "# isprintable - return Bolean - to check if all char are printabale or not \n",
    "print(''.isprintable())\n",
    "print(' '.isprintable()) # true\n",
    "print('\\n'.isprintable())\n",
    "print('\\t'.isprintable())\n",
    "print('\\b'.isprintable())\n",
    "print('------------------------')"
   ]
  },
  {
   "cell_type": "code",
   "execution_count": 39,
   "id": "4505d88e",
   "metadata": {},
   "outputs": [
    {
     "name": "stdout",
     "output_type": "stream",
     "text": [
      "      hello       7\n",
      "hello 5\n",
      "      hello       7\n",
      " hello 6\n",
      "      hello       7\n",
      "hello  6\n"
     ]
    }
   ],
   "source": [
    "# strip , rstrip , lstrip\n",
    "\n",
    "#removes spaces from the end\n",
    "\n",
    "#strip - remove spaces from both the ends\n",
    "\n",
    "print('      hello      ' , len(' hello '))\n",
    "print(' hello '.strip() , len(' hello '.strip()) )\n",
    "\n",
    "\n",
    "#rstrip - remove spaces from right side\n",
    "\n",
    "print('      hello      ' , len(' hello '))\n",
    "print(' hello '.rstrip() , len(' hello '.rstrip()) )\n",
    "\n",
    "\n",
    "#lstrip - remove spaces from left side\n",
    "\n",
    "print('      hello      ' , len(' hello '))\n",
    "print(' hello '.lstrip() , len(' hello '.lstrip()) )"
   ]
  },
  {
   "cell_type": "code",
   "execution_count": 8,
   "id": "ec62d558",
   "metadata": {},
   "outputs": [
    {
     "name": "stdout",
     "output_type": "stream",
     "text": [
      "0\n",
      "0\n"
     ]
    }
   ],
   "source": [
    "#count \n",
    "str_1 = 'sradha loves to watch football'\n",
    "print(str_1.count('aa'))\n",
    "\n",
    "\n",
    "str_1 = 'sradha loves to watch football'\n",
    "print(str_1.count('aa' , 12 ,))"
   ]
  },
  {
   "cell_type": "code",
   "execution_count": 9,
   "id": "99c4e6f1",
   "metadata": {},
   "outputs": [
    {
     "name": "stdout",
     "output_type": "stream",
     "text": [
      "12\n",
      "31\n"
     ]
    },
    {
     "ename": "ValueError",
     "evalue": "substring not found",
     "output_type": "error",
     "traceback": [
      "\u001b[1;31m---------------------------------------------------------------------------\u001b[0m",
      "\u001b[1;31mValueError\u001b[0m                                Traceback (most recent call last)",
      "\u001b[1;32m~\\AppData\\Local\\Temp/ipykernel_11636/1277782580.py\u001b[0m in \u001b[0;36m<module>\u001b[1;34m\u001b[0m\n\u001b[0;32m     24\u001b[0m \u001b[1;33m\u001b[0m\u001b[0m\n\u001b[0;32m     25\u001b[0m \u001b[0mstr_1\u001b[0m \u001b[1;33m=\u001b[0m \u001b[1;34m'sradha lovesn to watch football'\u001b[0m\u001b[1;33m\u001b[0m\u001b[1;33m\u001b[0m\u001b[0m\n\u001b[1;32m---> 26\u001b[1;33m \u001b[0mstr_1\u001b[0m\u001b[1;33m.\u001b[0m\u001b[0mindex\u001b[0m\u001b[1;33m(\u001b[0m\u001b[1;34m'z'\u001b[0m\u001b[1;33m)\u001b[0m  \u001b[1;31m# l to R\u001b[0m\u001b[1;33m\u001b[0m\u001b[1;33m\u001b[0m\u001b[0m\n\u001b[0m",
      "\u001b[1;31mValueError\u001b[0m: substring not found"
     ]
    }
   ],
   "source": [
    "# find , rfind , index, rindex - starting index of a char or group of char\n",
    "\n",
    "str_1 = 'sradha lovesn to watch football'\n",
    "str_1.find('n')  # l to R\n",
    "\n",
    "str_1 = 'sradha loves to watch footnballn'\n",
    "str_1.rfind('n') # r to l\n",
    "\n",
    "\n",
    "str_1 = 'sradha lovesn to watch football'\n",
    "print(str_1.index('n'))  # l to R\n",
    "\n",
    "str_1 = 'sradha loves to watch footnballn'\n",
    "print(str_1.rindex('n')) # r to l\n",
    "\n",
    "\n",
    "\n",
    "# in find whenever a char is not found it will return -1\n",
    "# in index whenever a char is not found it will return error\n",
    "\n",
    "str_1 = 'sradha lovesn to watch football'\n",
    "str_1.find('z')  # l to R\n",
    "\n",
    "\n",
    "str_1 = 'sradha lovesn to watch football'\n",
    "str_1.index('z')  # l to R"
   ]
  },
  {
   "cell_type": "code",
   "execution_count": 10,
   "id": "799d461c",
   "metadata": {},
   "outputs": [
    {
     "name": "stdout",
     "output_type": "stream",
     "text": [
      "srabcdhabc loves to wabctch footbabcll\n"
     ]
    }
   ],
   "source": [
    "# replace\n",
    "str_1 = 'sradha loves to watch football'\n",
    "\n",
    "print(str_1.replace('a' , 'abc' , 999))"
   ]
  },
  {
   "cell_type": "code",
   "execution_count": 11,
   "id": "18ce389f",
   "metadata": {},
   "outputs": [
    {
     "name": "stdout",
     "output_type": "stream",
     "text": [
      "['sradha', 'loves', 'to', 'watch', 'football']\n"
     ]
    }
   ],
   "source": [
    "# split\n",
    "\n",
    "str_1 = 'sradha loves to watch football\\t'\n",
    "print(str_1.split()) #defaly value is space"
   ]
  },
  {
   "cell_type": "code",
   "execution_count": 12,
   "id": "d6f42c53",
   "metadata": {},
   "outputs": [
    {
     "name": "stdout",
     "output_type": "stream",
     "text": [
      "['sradha', 'loves', 'to', 'watch', 'football']\n"
     ]
    },
    {
     "data": {
      "text/plain": [
       "'a\\nf\\ns\\na\\na\\nn\\n\\n'"
      ]
     },
     "execution_count": 12,
     "metadata": {},
     "output_type": "execute_result"
    }
   ],
   "source": [
    "# join funtion\n",
    "\n",
    "str_1 = 'sradha loves to watch football\\t'\n",
    "a = str_1.split()\n",
    "print(a)\n",
    "\n",
    "\"\\n\".join('afsaan\\n')"
   ]
  },
  {
   "cell_type": "code",
   "execution_count": 3,
   "id": "2ee8e3d1",
   "metadata": {
    "ExecuteTime": {
     "end_time": "2022-01-13T14:35:39.167012Z",
     "start_time": "2022-01-13T14:35:39.148613Z"
    }
   },
   "outputs": [
    {
     "data": {
      "text/plain": [
       "'tHIS IS pYTHON CLASS'"
      ]
     },
     "execution_count": 3,
     "metadata": {},
     "output_type": "execute_result"
    }
   ],
   "source": [
    "a = 'This is Python class'\n",
    "a.swapcase()"
   ]
  },
  {
   "cell_type": "code",
   "execution_count": 5,
   "id": "90d5d11a",
   "metadata": {},
   "outputs": [
    {
     "name": "stdout",
     "output_type": "stream",
     "text": [
      "sreppep\n",
      "delkcip\n",
      "fo\n",
      "kcep\n",
      "a\n",
      "dekcip\n",
      "repip\n"
     ]
    }
   ],
   "source": [
    "my_str = 'peter piper picked a peck of pickled peppers'\n",
    "word = ''\n",
    "for i in range(-1, -len(my_str)-1, -1):\n",
    "    if my_str[i] == ' ':\n",
    "        print(word)\n",
    "        word = ''\n",
    "    else:\n",
    "        word += my_str[i]"
   ]
  },
  {
   "cell_type": "code",
   "execution_count": 13,
   "id": "07bd4a2f",
   "metadata": {},
   "outputs": [
    {
     "name": "stdout",
     "output_type": "stream",
     "text": [
      "bananaxxxxxxxxxxxxxxxxxxxxxxxxxxxxxxxxxxxxxxxxxxxx Sradha\n"
     ]
    }
   ],
   "source": [
    "text = 'banana'\n",
    "x = text.ljust(50 ,'x')  # return a 20 charc long , left adjusted \n",
    "print(x , 'Sradha')"
   ]
  },
  {
   "cell_type": "code",
   "execution_count": 14,
   "id": "86907129",
   "metadata": {},
   "outputs": [
    {
     "name": "stdout",
     "output_type": "stream",
     "text": [
      "yyyyyyyyyyyyyyyyyyyyyyyyyyyyyyyyyyyyyyyyyyyybanana\n"
     ]
    }
   ],
   "source": [
    "text = 'banana'\n",
    "x = text.rjust(50 , 'y')  # return a 20 charc long , left adjusted \n",
    "print(x)"
   ]
  }
 ],
 "metadata": {
  "kernelspec": {
   "display_name": "Python 3 (ipykernel)",
   "language": "python",
   "name": "python3"
  },
  "language_info": {
   "codemirror_mode": {
    "name": "ipython",
    "version": 3
   },
   "file_extension": ".py",
   "mimetype": "text/x-python",
   "name": "python",
   "nbconvert_exporter": "python",
   "pygments_lexer": "ipython3",
   "version": "3.9.7"
  }
 },
 "nbformat": 4,
 "nbformat_minor": 5
}
