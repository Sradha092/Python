{
 "cells": [
  {
   "cell_type": "code",
   "execution_count": 1,
   "id": "6fbb1c56",
   "metadata": {},
   "outputs": [],
   "source": [
    "#pickle is a module which is used to write the textual data into the python object intro binary file\n",
    "#Binary file is a form of unicode data\n",
    "#pickle.dump to write the python objects in the form of binary file\n",
    "#pickle load-used to load the binary file into the python object"
   ]
  },
  {
   "cell_type": "code",
   "execution_count": 3,
   "id": "fe3f0374",
   "metadata": {},
   "outputs": [],
   "source": [
    "import pickle"
   ]
  },
  {
   "cell_type": "code",
   "execution_count": 4,
   "id": "7a9c4197",
   "metadata": {},
   "outputs": [
    {
     "name": "stdout",
     "output_type": "stream",
     "text": [
      "[10, 20, 30, 40]\n"
     ]
    }
   ],
   "source": [
    "f=open('my_file.dat','w+b')    #write and read format of the binary file\n",
    "lst=[10,20,30,40]\n",
    "#f.write(lst)\n",
    "pickle.dump(lst,f)\n",
    "f.seek(0)\n",
    "#print(f.read())\n",
    "print(pickle.load(f))\n",
    "f.close()"
   ]
  },
  {
   "cell_type": "code",
   "execution_count": 6,
   "id": "184a3d0d",
   "metadata": {},
   "outputs": [],
   "source": [
    "#Binary files are comparatively faster\n",
    "#stored in 0 and 1 format\n",
    "#contains images and videos"
   ]
  },
  {
   "cell_type": "code",
   "execution_count": null,
   "id": "d97ed471",
   "metadata": {},
   "outputs": [],
   "source": []
  }
 ],
 "metadata": {
  "kernelspec": {
   "display_name": "Python 3 (ipykernel)",
   "language": "python",
   "name": "python3"
  },
  "language_info": {
   "codemirror_mode": {
    "name": "ipython",
    "version": 3
   },
   "file_extension": ".py",
   "mimetype": "text/x-python",
   "name": "python",
   "nbconvert_exporter": "python",
   "pygments_lexer": "ipython3",
   "version": "3.9.7"
  }
 },
 "nbformat": 4,
 "nbformat_minor": 5
}
