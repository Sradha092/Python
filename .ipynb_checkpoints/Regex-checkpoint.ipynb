{
 "cells": [
  {
   "cell_type": "code",
   "execution_count": null,
   "metadata": {},
   "outputs": [],
   "source": [
    "# Regular Expression\n",
    "1. A regular expression is a string which contains:-\n",
    "    - Special Symbol\n",
    "    - Characters to find and\n",
    "    - extract the information needed by us from the given data.\n",
    "\n",
    "2. Regular Expression helps us:-\n",
    "    - to search \n",
    "    - to match\n",
    "    - to find and\n",
    "    - to split information as per our requirements.\n",
    "    \n",
    "Sequence characters in regular expression:-\n",
    "    1. \\d - any digit from 0 to 9\n",
    "    2. \\D - any non-digit -\n",
    "    3. \\s - white space e.g.:- \\t,\\n,\\r,\\v,\\f\n",
    "    4. \\S - non white space character\n",
    "    5. \\w - any alphanumeric character e.g.:- (A to Z, a to z, 0 to 9)\n",
    "    6. \\W - any non alphanumeric character\n",
    "    7. \\b - represents a space around words\n",
    "    8. \\A - matches only at the start of the string\n",
    "    9. \\Z - matches only at the end of the string\n",
    "\n",
    "Characters represents more than one character to be matched in the string is called Quantifiers.\n",
    "    1. + - represents 1 or more repetitions of the preceding regex exp\n",
    "    2. * - 0 or more repetitions of the preceding regex exp\n",
    "    3. ? - 0 or 1 repetitions of the preceding regex exp\n",
    "    4. {m} - exactly m occurences\n",
    "    5. {m,n} - from m to n. m defaults to 0 n to infinity. Always goes for higher bound i.e n and then m\n",
    "    \n",
    "Special Characters in regex:-\n",
    "    1. \\ - Escape special character\n",
    "    2. . - matches any character except new line\n",
    "    3. ^ - matches begining of the string\n",
    "    4. $ - matches ending of a string\n",
    "    5. [...] - Denotes set of possible charcaters. e.g. [6p-t]matches any characters from 6,p,q,r,s or t.\n",
    "    6. [^...] - Matches every characters except the ones inside brackets. e.g [^6p-t]matches every characters\n",
    "    except 6,p,q,r,s or t.\n",
    "    7. (...) - Matches the regular expression inside the parenthesis and the result can be captured.\n",
    "    8. R|S - Matches the regex either R or S."
   ]
  },
  {
   "cell_type": "code",
   "execution_count": 1,
   "metadata": {},
   "outputs": [
    {
     "ename": "SyntaxError",
     "evalue": "unexpected character after line continuation character (Temp/ipykernel_1668/773188314.py, line 3)",
     "output_type": "error",
     "traceback": [
      "\u001b[1;36m  File \u001b[1;32m\"C:\\Users\\SRADHA\\AppData\\Local\\Temp/ipykernel_1668/773188314.py\"\u001b[1;36m, line \u001b[1;32m3\u001b[0m\n\u001b[1;33m    \\n,\\t,\\v,\\f,\\,\\w\u001b[0m\n\u001b[1;37m                   ^\u001b[0m\n\u001b[1;31mSyntaxError\u001b[0m\u001b[1;31m:\u001b[0m unexpected character after line continuation character\n"
     ]
    }
   ],
   "source": [
    "# import re\n",
    "# reg = r'c\\w\\w'\n",
    "# \\n,\\t,\\v,\\f,\\,\\w"
   ]
  },
  {
   "cell_type": "code",
   "execution_count": null,
   "metadata": {},
   "outputs": [],
   "source": [
    "Sequence characters in regular expression:-\n",
    "    1. \\d - any digit from 0 to 9\n",
    "    2. \\D - any non-digit -\n",
    "    3. \\s - white space e.g.:- \\t,\\n,\\r,\\v,\\f\n",
    "    4. \\S - non white space character\n",
    "    5. \\w - any alphanumeric character e.g.:- (A to Z, a to z, 0 to 9)\n",
    "    6. \\W - any non alphanumeric character\n",
    "    7. \\b - represents a space around words\n",
    "    8. \\A - matches only at the start of the string\n",
    "    9. \\Z - matches only at the end of the string\n",
    "\n",
    "Characters represents more than one character to be matched in the string is called Quantifiers.\n",
    "    1. + - represents 1 or more repetitions of the preceding regex exp\n",
    "    2. * - 0 or more repetitions of the preceding regex exp\n",
    "    3. ? - 0 or 1 repetitions of the preceding regex exp\n",
    "    4. {m} - exactly m occurences\n",
    "    5. {m,n} - from m to n. m defaults to 0 n to infinity. Always goes for higher bound i.e n and then m\n",
    "    \n",
    "Special Characters in regex:-\n",
    "    1. \\ - Escape special character\n",
    "    2. . - matches any character except new line\n",
    "    3. ^ - matches begining of the string\n",
    "    4. $ - matches ending of a string\n",
    "    5. [...] - Denotes set of possible charcaters. e.g. [6p-t]matches any characters from 6,p,q,r,s or t.\n",
    "    6. [^...] - Matches every characters except the ones inside brackets. e.g [^6p-t]matches every characters\n",
    "    except 6,p,q,r,s or t.\n",
    "    7. (...) - Matches the regular expression inside the parenthesis and the result can be captured.\n",
    "    8. R|S - Matches the regex either R or S."
   ]
  },
  {
   "cell_type": "code",
   "execution_count": 20,
   "metadata": {},
   "outputs": [
    {
     "name": "stdout",
     "output_type": "stream",
     "text": [
      "['cy5']\n"
     ]
    }
   ],
   "source": [
    "import re\n",
    "mystr = 'cat mat rat hat bat can cap cp9 cy5'\n",
    "reg = r'c\\w\\w$'\n",
    "print(re.findall(reg, mystr))"
   ]
  },
  {
   "cell_type": "code",
   "execution_count": 32,
   "metadata": {},
   "outputs": [
    {
     "name": "stdout",
     "output_type": "stream",
     "text": [
      "['peterpiper', 'pepper']\n"
     ]
    }
   ],
   "source": [
    "import re\n",
    "my_str = 'peterpiper picked a peck of pickled peppers.'\n",
    "reg = r'[Pp]\\w{3,}r'\n",
    "print(re.findall(reg, my_str))"
   ]
  },
  {
   "cell_type": "code",
   "execution_count": 7,
   "metadata": {},
   "outputs": [
    {
     "name": "stdout",
     "output_type": "stream",
     "text": [
      "['peter', 'piper']\n"
     ]
    }
   ],
   "source": [
    "import re\n",
    "my_str = 'peter piper picked a peck of pickled peppers.'\n",
    "reg = r'[Pp]\\w{3,}r\\b'\n",
    "print(re.findall(reg, my_str))"
   ]
  },
  {
   "cell_type": "code",
   "execution_count": 28,
   "metadata": {},
   "outputs": [
    {
     "name": "stdout",
     "output_type": "stream",
     "text": [
      "['peter', 'piper', 'pepper']\n",
      "peter piper picked a peck of pickled peppers  pry675tgfd.\n"
     ]
    }
   ],
   "source": [
    "import re\n",
    "my_str = 'peter piper picked a peck of pickled peppers  pry675tgfd.'\n",
    "reg = r'[Pp]\\w{3,}r'\n",
    "print(re.findall(reg, my_str))\n",
    "print(my_str)"
   ]
  },
  {
   "cell_type": "code",
   "execution_count": 11,
   "metadata": {},
   "outputs": [
    {
     "name": "stdout",
     "output_type": "stream",
     "text": [
      "['peter', 'piper', 'picke', 'peck', 'pickl', 'peppe']\n"
     ]
    }
   ],
   "source": [
    "import re\n",
    "my_str = 'peter piper picked a peck of pickled peppers.'\n",
    "reg = r'[Pp]\\w{3,4}'\n",
    "print(re.findall(reg, my_str))"
   ]
  },
  {
   "cell_type": "code",
   "execution_count": null,
   "metadata": {},
   "outputs": [],
   "source": [
    "# \\w\\w\\w = \\w{3}"
   ]
  },
  {
   "cell_type": "code",
   "execution_count": 29,
   "metadata": {},
   "outputs": [
    {
     "name": "stdout",
     "output_type": "stream",
     "text": [
      "['peter', 'piper', 'picked', 'peck', 'pickled', 'peppers', 'p98', 'pgf56']\n"
     ]
    }
   ],
   "source": [
    "import re\n",
    "my_str = 'peter piper picked a peck of pickled peppers. p p98 pgf56'\n",
    "reg = r'[Pp]\\w+'\n",
    "print(re.findall(reg, my_str))"
   ]
  },
  {
   "cell_type": "code",
   "execution_count": 31,
   "metadata": {},
   "outputs": [
    {
     "name": "stdout",
     "output_type": "stream",
     "text": [
      "['pe', 'pi', 'pe', 'pi', 'pe', 'pi', 'pe', 'pp', 'p', 'p9', 'pg']\n"
     ]
    }
   ],
   "source": [
    "import re\n",
    "my_str = 'peter piper picked a peck of pickled peppers. p p98 pgf56'\n",
    "reg = r'[Pp]\\w?'\n",
    "print(re.findall(reg, my_str))"
   ]
  },
  {
   "cell_type": "code",
   "execution_count": 21,
   "metadata": {},
   "outputs": [
    {
     "name": "stdout",
     "output_type": "stream",
     "text": [
      "<re.Match object; span=(4, 7), match='pet'>\n",
      "petttt\n",
      "petpetpet\n"
     ]
    }
   ],
   "source": [
    "import re\n",
    "# my_str = 'peter piper pic\\nked a peck of pick\\nled peppers.'\n",
    "my_str = 'abc pet xyz'\n",
    "reg = r'(pet)+'\n",
    "print(re.search(reg, my_str))\n",
    "\n",
    "\n",
    "my_str1 = 'abc petttt xyz'\n",
    "reg = r'(pet+)'\n",
    "print(re.search(reg, my_str1).group())\n",
    "\n",
    "my_str2 = 'abc petpetpet xyz'\n",
    "reg = r'(pet)+'\n",
    "print(re.search(reg, my_str2).group())"
   ]
  },
  {
   "cell_type": "code",
   "execution_count": 23,
   "metadata": {},
   "outputs": [
    {
     "name": "stdout",
     "output_type": "stream",
     "text": [
      "This is Python \\nclass\n"
     ]
    }
   ],
   "source": [
    "reg = r'This is Python \\nclass'\n",
    "print(reg)"
   ]
  },
  {
   "cell_type": "code",
   "execution_count": 35,
   "metadata": {},
   "outputs": [
    {
     "name": "stdout",
     "output_type": "stream",
     "text": [
      "['peter', 'giper']\n"
     ]
    }
   ],
   "source": [
    "#Write the regular expression and use proper method which Retrieves all words having 5 characters.\n",
    "#Output:- ['peter', 'giper']\n",
    "import re\n",
    "str = \"peter giper picked a peck of pickled peppers\"\n",
    "reg = r'\\b\\w{5}\\b'\n",
    "print(re.findall(reg,str))"
   ]
  },
  {
   "cell_type": "code",
   "execution_count": 39,
   "metadata": {},
   "outputs": [
    {
     "name": "stdout",
     "output_type": "stream",
     "text": [
      "['Retrieving', 'having', 'least', 'characters']\n"
     ]
    }
   ],
   "source": [
    "#Write the regular expression and use proper method which Retrieves all words having at least 4 characters.\n",
    "#Output:- ['Retrieving', 'wor$ds', 'having', 'least', 'characters']\n",
    "import re\n",
    "str = \"Retrieving all wor$ds having at least 4 characters\"\n",
    "reg = r'\\w{4,}'\n",
    "print(re.findall(reg,str))"
   ]
  },
  {
   "cell_type": "code",
   "execution_count": 41,
   "metadata": {},
   "outputs": [
    {
     "name": "stdout",
     "output_type": "stream",
     "text": [
      "['8', '11']\n"
     ]
    }
   ],
   "source": [
    "#Write the regular expression and use proper method which Retrieves only digits from the string.\n",
    "#Output:- ['8', '11']\n",
    "import re\n",
    "str = 'The election in delhi will be held on 8 and result for the same will be declared on 11'\n",
    "reg = r'\\d+'\n",
    "print(re.findall(reg,str))"
   ]
  },
  {
   "cell_type": "code",
   "execution_count": 43,
   "metadata": {},
   "outputs": [
    {
     "name": "stdout",
     "output_type": "stream",
     "text": [
      "['8th', '11th']\n"
     ]
    }
   ],
   "source": [
    "#Write the regular expression and use proper method which Retrieves all words starting with a digit.\n",
    "#Output:- ['8th', '11th']\n",
    "import re\n",
    "str = 'The election in delhi will be held on 8th and result for the same will be declared on 11th'\n",
    "reg = r'\\b\\d+\\w+\\b'\n",
    "print(re.findall(reg,str))\n"
   ]
  },
  {
   "cell_type": "code",
   "execution_count": 71,
   "metadata": {},
   "outputs": [
    {
     "name": "stdout",
     "output_type": "stream",
     "text": [
      "['anil', 'akhil ', 'anant', 'ankur']\n"
     ]
    }
   ],
   "source": [
    "##Write the regular expression and use proper method which Retrieves name starting with 'an' or 'ak'.\n",
    "#Output:- ['anil', 'akhil', 'anant', 'ankur']\n",
    "import re\n",
    "str = 'anil akhil anant abhi arun arati arundhati abhijit ankur '\n",
    "reg = r'an\\w+|ak\\w+ '\n",
    "print(re.findall(reg,str))\n"
   ]
  },
  {
   "cell_type": "code",
   "execution_count": 72,
   "metadata": {},
   "outputs": [
    {
     "name": "stdout",
     "output_type": "stream",
     "text": [
      "['pe', 'te', 'pe', 'pe', 'of', 'pe', 'pe']\n"
     ]
    }
   ],
   "source": [
    "str = \"petergiperpickedapeckofpickledpeppers\"\n",
    "# pe/of/te\n",
    "reg = r'pe|of|te'\n",
    "print(re.findall(reg,str))"
   ]
  },
  {
   "cell_type": "code",
   "execution_count": 73,
   "metadata": {},
   "outputs": [
    {
     "name": "stdout",
     "output_type": "stream",
     "text": [
      "['peter', 'picked', 'peck', 'pickle', 'pepper']\n"
     ]
    }
   ],
   "source": [
    "str = \"peter giper picked a peck of pickled peppers\"\n",
    "reg = r'p\\w{3,5}'\n",
    "print(re.findall(reg,str))"
   ]
  },
  {
   "cell_type": "code",
   "execution_count": 80,
   "metadata": {},
   "outputs": [
    {
     "name": "stdout",
     "output_type": "stream",
     "text": [
      "['petper', 'picked', 'peck', 'pickle', 'pepper']\n"
     ]
    }
   ],
   "source": [
    "str = \"petper giper picked a peck of pickled peppers\"\n",
    "reg = r'p\\w{3,5}?'\n",
    "print(re.findall(reg,str))"
   ]
  },
  {
   "cell_type": "code",
   "execution_count": 84,
   "metadata": {},
   "outputs": [
    {
     "name": "stdout",
     "output_type": "stream",
     "text": [
      "['p', 'p', 'p', 'p', 'p', 'p', 'p', 'p', 'p']\n"
     ]
    }
   ],
   "source": [
    "str = \"petper giper picked a peck of pickled peppers\"\n",
    "reg = r'p\\w??'\n",
    "print(re.findall(reg,str))"
   ]
  },
  {
   "cell_type": "code",
   "execution_count": 86,
   "metadata": {},
   "outputs": [
    {
     "name": "stdout",
     "output_type": "stream",
     "text": [
      "['p', 'p', 'p', 'p', 'p', 'p', 'p', 'p', 'p']\n"
     ]
    }
   ],
   "source": [
    "str = \"petper giper picked a peck of pickled peppers\"\n",
    "reg = r'p\\w*?'\n",
    "print(re.findall(reg,str))"
   ]
  },
  {
   "cell_type": "code",
   "execution_count": 85,
   "metadata": {},
   "outputs": [
    {
     "name": "stdout",
     "output_type": "stream",
     "text": [
      "['pe', 'pe', 'pe', 'pi', 'pe', 'pi', 'pe', 'pp']\n"
     ]
    }
   ],
   "source": [
    "str = \"petper giper picked a peck of pickled peppers\"\n",
    "reg = r'p\\w+?'\n",
    "print(re.findall(reg,str))"
   ]
  },
  {
   "cell_type": "code",
   "execution_count": 3,
   "metadata": {},
   "outputs": [
    {
     "name": "stdout",
     "output_type": "stream",
     "text": [
      "This is \n",
      " Python class\n"
     ]
    }
   ],
   "source": [
    "s = 'This is \\n Python class'\n",
    "print(s)"
   ]
  },
  {
   "cell_type": "code",
   "execution_count": 4,
   "metadata": {},
   "outputs": [
    {
     "name": "stdout",
     "output_type": "stream",
     "text": [
      "This is \\n Python class\n"
     ]
    }
   ],
   "source": [
    "s = r'This is \\n Python class'\n",
    "print(s)"
   ]
  },
  {
   "cell_type": "code",
   "execution_count": 5,
   "metadata": {},
   "outputs": [
    {
     "name": "stdout",
     "output_type": "stream",
     "text": [
      "['cat', 'can', 'cap', 'cp9']\n"
     ]
    }
   ],
   "source": [
    "import re\n",
    "mystr = 'cat mat rat hat bat can cap cp9 c&5'\n",
    "reg = r'c\\w\\w'\n",
    "# Find all the occurrences of above pattern\n",
    "print(re.findall(reg, mystr))    # returns a list"
   ]
  },
  {
   "cell_type": "code",
   "execution_count": 6,
   "metadata": {},
   "outputs": [],
   "source": [
    "# search - returns a match object, so to get the output we need to apply group()\n",
    "# match - returns a match object, so to get the output we need to apply group()\n",
    "# findall - returns a list object\n",
    "# split - returns a list object\n",
    "# sub - returns a string object"
   ]
  },
  {
   "cell_type": "code",
   "execution_count": 7,
   "metadata": {},
   "outputs": [
    {
     "ename": "AttributeError",
     "evalue": "'NoneType' object has no attribute 'span'",
     "output_type": "error",
     "traceback": [
      "\u001b[1;31m---------------------------------------------------------------------------\u001b[0m",
      "\u001b[1;31mAttributeError\u001b[0m                            Traceback (most recent call last)",
      "\u001b[1;32m~\\AppData\\Local\\Temp/ipykernel_1668/514913607.py\u001b[0m in \u001b[0;36m<module>\u001b[1;34m\u001b[0m\n\u001b[0;32m      4\u001b[0m \u001b[0mmystr\u001b[0m \u001b[1;33m=\u001b[0m \u001b[1;34m'cat mat rat hat bat can cap cp9 c&5'\u001b[0m\u001b[1;33m\u001b[0m\u001b[1;33m\u001b[0m\u001b[0m\n\u001b[0;32m      5\u001b[0m \u001b[0mreg\u001b[0m \u001b[1;33m=\u001b[0m \u001b[1;34mr'b\\w\\w'\u001b[0m\u001b[1;33m\u001b[0m\u001b[1;33m\u001b[0m\u001b[0m\n\u001b[1;32m----> 6\u001b[1;33m \u001b[0mprint\u001b[0m\u001b[1;33m(\u001b[0m\u001b[0mre\u001b[0m\u001b[1;33m.\u001b[0m\u001b[0mmatch\u001b[0m\u001b[1;33m(\u001b[0m\u001b[0mreg\u001b[0m\u001b[1;33m,\u001b[0m \u001b[0mmystr\u001b[0m\u001b[1;33m)\u001b[0m\u001b[1;33m.\u001b[0m\u001b[0mspan\u001b[0m\u001b[1;33m(\u001b[0m\u001b[1;33m)\u001b[0m\u001b[1;33m)\u001b[0m\u001b[1;33m\u001b[0m\u001b[1;33m\u001b[0m\u001b[0m\n\u001b[0m",
      "\u001b[1;31mAttributeError\u001b[0m: 'NoneType' object has no attribute 'span'"
     ]
    }
   ],
   "source": [
    "# match() - it returns the match object if reg expression is found in the begining lese it returns None\n",
    "\n",
    "import re\n",
    "mystr = 'cat mat rat hat bat can cap cp9 c&5'\n",
    "reg = r'b\\w\\w'\n",
    "print(re.match(reg, mystr).span())"
   ]
  },
  {
   "cell_type": "code",
   "execution_count": 8,
   "metadata": {},
   "outputs": [
    {
     "name": "stdout",
     "output_type": "stream",
     "text": [
      "None\n"
     ]
    }
   ],
   "source": [
    "# search() - it returns the match object of the first occurrnec of the reg expression in the string\n",
    "\n",
    "import re\n",
    "mystr = 'cat mat rat hat bat can cap cp9 c&5 bag'\n",
    "reg = r'z\\w\\w'\n",
    "print(re.search(reg, mystr))"
   ]
  },
  {
   "cell_type": "code",
   "execution_count": 9,
   "metadata": {},
   "outputs": [
    {
     "name": "stdout",
     "output_type": "stream",
     "text": [
      "['cat', 'can', 'cap', 'cp9']\n"
     ]
    }
   ],
   "source": [
    "# findall()- returns the list object\n",
    "import re\n",
    "mystr = 'cat mat rat hat bat can cap cp9 c&5 bag'\n",
    "reg = r'c\\w\\w'\n",
    "print(re.findall(reg, mystr))"
   ]
  },
  {
   "cell_type": "code",
   "execution_count": 10,
   "metadata": {},
   "outputs": [
    {
     "name": "stdout",
     "output_type": "stream",
     "text": [
      "['cat mat rat hat ', 't can cap cp9 c&5 ', 'g']\n"
     ]
    }
   ],
   "source": [
    "# split()- returns the list object\n",
    "import re\n",
    "mystr = 'cat mat rat hat bat can cap cp9 c&5 bag'\n",
    "reg = r'b\\w'\n",
    "print(re.split(reg, mystr))"
   ]
  },
  {
   "cell_type": "code",
   "execution_count": 11,
   "metadata": {},
   "outputs": [
    {
     "name": "stdout",
     "output_type": "stream",
     "text": [
      "z98wjhegfw mat rat hat bat z98wjhegfw z98wjhegfw z98wjhegfw c&5 bag\n"
     ]
    }
   ],
   "source": [
    "# re.sub(reg, new_str, s) - \n",
    "import re\n",
    "mystr = 'cat mat rat hat bat can cap cp9 c&5 bag'\n",
    "reg = r'c\\w\\w'\n",
    "print(re.sub(reg, 'z98wjhegfw' ,mystr))"
   ]
  },
  {
   "cell_type": "code",
   "execution_count": 12,
   "metadata": {},
   "outputs": [
    {
     "name": "stdout",
     "output_type": "stream",
     "text": [
      "Enter your Age: 29\n",
      "Allowed\n",
      "29\n"
     ]
    }
   ],
   "source": [
    "# Using the try and else block with eval function\n",
    "try:\n",
    "    emp_age = eval(input('Enter your Age: '))\n",
    "    if type(emp_age) == int:\n",
    "        print('Allowed')\n",
    "        print(emp_age)\n",
    "    elif type(emp_age) == float:\n",
    "        print('Allowed with rounding data')\n",
    "        print(round(emp_age))\n",
    "    else:\n",
    "        print('Not Alllowed')\n",
    "        exit()\n",
    "            \n",
    "except Exception as e:\n",
    "    print(e)"
   ]
  },
  {
   "cell_type": "code",
   "execution_count": 13,
   "metadata": {},
   "outputs": [
    {
     "name": "stdout",
     "output_type": "stream",
     "text": [
      "Enter your Age: 29\n",
      "Allowed\n",
      "29\n"
     ]
    }
   ],
   "source": [
    "# Using the try and else block with eval function\n",
    "cond = False\n",
    "while cond==False:\n",
    "    try:\n",
    "        emp_age = eval(input('Enter your Age: '))\n",
    "        if type(emp_age) == int:\n",
    "            print('Allowed')\n",
    "            print(emp_age)\n",
    "            cond=True\n",
    "        elif type(emp_age) == float:\n",
    "            print('Allowed with rounding data')\n",
    "            print(round(emp_age))\n",
    "            cond=True\n",
    "        else:\n",
    "            print('Not Alllowed')\n",
    "            quit()\n",
    "            cond=True\n",
    "    except:\n",
    "        print('Please enter correct data type')"
   ]
  },
  {
   "cell_type": "code",
   "execution_count": null,
   "metadata": {},
   "outputs": [],
   "source": []
  }
 ],
 "metadata": {
  "kernelspec": {
   "display_name": "Python 3 (ipykernel)",
   "language": "python",
   "name": "python3"
  },
  "language_info": {
   "codemirror_mode": {
    "name": "ipython",
    "version": 3
   },
   "file_extension": ".py",
   "mimetype": "text/x-python",
   "name": "python",
   "nbconvert_exporter": "python",
   "pygments_lexer": "ipython3",
   "version": "3.9.7"
  }
 },
 "nbformat": 4,
 "nbformat_minor": 2
}
