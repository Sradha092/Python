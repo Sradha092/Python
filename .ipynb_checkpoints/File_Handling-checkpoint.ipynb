{
 "cells": [
  {
   "cell_type": "code",
   "execution_count": 1,
   "id": "443e86dd",
   "metadata": {},
   "outputs": [],
   "source": [
    "# textfile = normal.txt\n",
    "# binary - images , videos"
   ]
  },
  {
   "cell_type": "code",
   "execution_count": 2,
   "id": "a5c48945",
   "metadata": {},
   "outputs": [],
   "source": [
    "# 1 . to read a file we have to open the file\n",
    "\n",
    "# synatx  f = open('file_name.ext' , 'mode')\n",
    "#         f.close()-compulsary\n",
    "    \n",
    "# # closing is important\n",
    "\n",
    "\n",
    "# 2. data read from file is in string format\n",
    "\n",
    "# 3. Modes of operation - text file\n",
    "\n",
    "# read mode = 'r'\n",
    "# write - 'w'\n",
    "# append - 'a'\n",
    "# read and write - 'r+'\n",
    "# write and read - 'w+'\n",
    "# Append and read - 'a+'\n",
    "\n",
    "# 4. Modes of operation - binary file\n",
    "\n",
    "# read mode = 'rb'\n",
    "# write - 'wb'\n",
    "# append - 'ab'\n",
    "# read and write - 'r+b'\n",
    "# write and read - 'w+b'\n",
    "# Append and read - 'a+b'\n",
    "\n",
    "# 4. method on file object\n",
    "\n",
    "# - read() - reading a content from a file\n",
    "# - write() - writing a content to a file\n",
    "# - tell() - tell will give you the cursor postion\n",
    "# - seek() - is used to chnage postion of the cursor"
   ]
  },
  {
   "cell_type": "code",
   "execution_count": 3,
   "id": "80b8679d",
   "metadata": {},
   "outputs": [
    {
     "name": "stdout",
     "output_type": "stream",
     "text": [
      "Lorem ipsum dolor sit amet. Est consectetur omnis nam voluptatem excepturi ut esse doloribus eos nesciunt dicta. Et tenetur minus et aperiam doloribus ut quam tempore eos amet eius aut blanditiis alias sed galisum amet et eaque nobis. Sed quos asperiores quo expedita aperiam sit cupiditate molestiae et tempora sunt sit dolorem ducimus eum tenetur consequuntur?\n"
     ]
    }
   ],
   "source": [
    " f = open('my_mod.py' , 'r')\n",
    "print(f.read())"
   ]
  },
  {
   "cell_type": "markdown",
   "id": "b5aacc1b",
   "metadata": {},
   "source": [
    "# Modes of operation"
   ]
  },
  {
   "cell_type": "markdown",
   "id": "b1a0873d",
   "metadata": {},
   "source": [
    "### 1. Read mode - 'r'\n",
    "- If the file exists then it will open the file in read mode and places the cursor at the begining of the file\n",
    "- if the file does not exists then it will give FileNotFoundError\n",
    "- You are allowed only to read from the file but not allowed to write into the file"
   ]
  },
  {
   "cell_type": "code",
   "execution_count": 4,
   "id": "66e98862",
   "metadata": {},
   "outputs": [
    {
     "data": {
      "text/plain": [
       "'Lorem ipsum dolor sit amet. Est consectetur omnis nam voluptatem excepturi ut esse doloribus eos nesciunt dicta. Et tenetur minus et aperiam doloribus ut quam tempore eos amet eius aut blanditiis alias sed galisum amet et eaque nobis. Sed quos asperiores quo expedita aperiam sit cupiditate molestiae et tempora sunt sit dolorem ducimus eum tenetur consequuntur?'"
      ]
     },
     "execution_count": 4,
     "metadata": {},
     "output_type": "execute_result"
    }
   ],
   "source": [
    "f = open('my_mod.py' , 'r')\n",
    "f.read()"
   ]
  },
  {
   "cell_type": "code",
   "execution_count": 5,
   "id": "058c1f76",
   "metadata": {},
   "outputs": [
    {
     "name": "stdout",
     "output_type": "stream",
     "text": [
      "0\n",
      "Lorem ipsum dolor sit amet. Est consectetur omnis nam voluptatem excepturi ut esse doloribus eos nesciunt dicta. Et tenetur minus et aperiam doloribus ut quam tempore eos amet eius aut blanditiis alias sed galisum amet et eaque nobis. Sed quos asperiores quo expedita aperiam sit cupiditate molestiae et tempora sunt sit dolorem ducimus eum tenetur consequuntur?\n",
      "362\n",
      "10\n",
      "m dolor sit amet. Est consectetur omnis nam voluptatem excepturi ut esse doloribus eos nesciunt dicta. Et tenetur minus et aperiam doloribus ut quam tempore eos amet eius aut blanditiis alias sed galisum amet et eaque nobis. Sed quos asperiores quo expedita aperiam sit cupiditate molestiae et tempora sunt sit dolorem ducimus eum tenetur consequuntur?\n"
     ]
    },
    {
     "ename": "UnsupportedOperation",
     "evalue": "not writable",
     "output_type": "error",
     "traceback": [
      "\u001b[1;31m---------------------------------------------------------------------------\u001b[0m",
      "\u001b[1;31mUnsupportedOperation\u001b[0m                      Traceback (most recent call last)",
      "\u001b[1;32m~\\AppData\\Local\\Temp/ipykernel_8900/4178497157.py\u001b[0m in \u001b[0;36m<module>\u001b[1;34m\u001b[0m\n\u001b[0;32m      5\u001b[0m \u001b[0mprint\u001b[0m\u001b[1;33m(\u001b[0m\u001b[0mf\u001b[0m\u001b[1;33m.\u001b[0m\u001b[0mseek\u001b[0m\u001b[1;33m(\u001b[0m\u001b[1;36m10\u001b[0m\u001b[1;33m)\u001b[0m\u001b[1;33m)\u001b[0m\u001b[1;33m\u001b[0m\u001b[1;33m\u001b[0m\u001b[0m\n\u001b[0;32m      6\u001b[0m \u001b[0mprint\u001b[0m\u001b[1;33m(\u001b[0m\u001b[0mf\u001b[0m\u001b[1;33m.\u001b[0m\u001b[0mread\u001b[0m\u001b[1;33m(\u001b[0m\u001b[1;33m)\u001b[0m\u001b[1;33m)\u001b[0m\u001b[1;33m\u001b[0m\u001b[1;33m\u001b[0m\u001b[0m\n\u001b[1;32m----> 7\u001b[1;33m \u001b[0mf\u001b[0m\u001b[1;33m.\u001b[0m\u001b[0mwrite\u001b[0m\u001b[1;33m(\u001b[0m\u001b[1;34m'afsaan'\u001b[0m\u001b[1;33m)\u001b[0m\u001b[1;33m\u001b[0m\u001b[1;33m\u001b[0m\u001b[0m\n\u001b[0m",
      "\u001b[1;31mUnsupportedOperation\u001b[0m: not writable"
     ]
    }
   ],
   "source": [
    "f = open('my_mod.py' , 'r')\n",
    "print(f.tell())\n",
    "print(f.read())\n",
    "print(f.tell())\n",
    "print(f.seek(10))\n",
    "print(f.read())\n",
    "f.write('afsaan')"
   ]
  },
  {
   "cell_type": "markdown",
   "id": "ee5b6cf6",
   "metadata": {},
   "source": [
    "### 2. Write mode - 'w'\n",
    "- If the file exists then it will open the file in write mode and deletes the content of the file\n",
    "- if the file does not exists then it will create a file with given name and extension\n",
    "- You are allowed only to write into the file but not allowed to read from the file"
   ]
  },
  {
   "cell_type": "code",
   "execution_count": 6,
   "id": "968b8305",
   "metadata": {},
   "outputs": [],
   "source": [
    "# if file is not der\n",
    "\n",
    "f = open('my_mod_1.py' , 'w')"
   ]
  },
  {
   "cell_type": "code",
   "execution_count": 7,
   "id": "43dc1ef3",
   "metadata": {},
   "outputs": [
    {
     "name": "stdout",
     "output_type": "stream",
     "text": [
      "6\n",
      "100\n"
     ]
    }
   ],
   "source": [
    "# if file is der\n",
    "f = open('my_mod.py' , 'w')\n",
    "f.write('afsaan')\n",
    "print(f.tell())\n",
    "print(f.seek(100))\n",
    "f.write('khan')\n",
    "f.close()"
   ]
  },
  {
   "cell_type": "markdown",
   "id": "623006dd",
   "metadata": {},
   "source": [
    "### 3. Append mode - 'a'\n",
    "- If the file exists then it will open the file in write mode and places the cursor at the end of the file\n",
    "- if the file does not exists then it will create a file with given name and extension\n",
    "- You are allowed only to write into the file but not allowed to read from the file\n",
    "- append will always write the the content at the end of the file so seek() will not here"
   ]
  },
  {
   "cell_type": "code",
   "execution_count": 8,
   "id": "9995eff2",
   "metadata": {},
   "outputs": [],
   "source": [
    "# if file is not der\n",
    "\n",
    "f = open('my_mod_2.py' , 'a')"
   ]
  },
  {
   "cell_type": "code",
   "execution_count": 9,
   "id": "426bd8da",
   "metadata": {},
   "outputs": [
    {
     "name": "stdout",
     "output_type": "stream",
     "text": [
      "104\n",
      "110\n",
      "100\n"
     ]
    }
   ],
   "source": [
    "# if file is der\n",
    "f = open('my_mod.py' , 'a')\n",
    "print(f.tell())\n",
    "f.write('afsaan')\n",
    "print(f.tell())\n",
    "print(f.seek(100))\n",
    "f.write('khan')\n",
    "f.close()"
   ]
  },
  {
   "cell_type": "code",
   "execution_count": 10,
   "id": "e06de4aa",
   "metadata": {},
   "outputs": [
    {
     "name": "stdout",
     "output_type": "stream",
     "text": [
      "114\n"
     ]
    }
   ],
   "source": [
    "f = open('my_mod.py' , 'a')\n",
    "print(f.tell())\n",
    "f.write('afsaan')\n",
    "f.seek(0)\n",
    "f.write('xyz')\n",
    "f.close()"
   ]
  },
  {
   "cell_type": "markdown",
   "id": "339f4e29",
   "metadata": {},
   "source": [
    "### 4. Write and read mode - 'w+'\n",
    "- If the file exists then it will open the file in write mode and deletes the content of teh file\n",
    "- if the file does not exists then it will create a file with given name and extension\n",
    "- You are allowed to write into the file and also allowed to read from the file"
   ]
  },
  {
   "cell_type": "code",
   "execution_count": 11,
   "id": "6cc240d0",
   "metadata": {},
   "outputs": [],
   "source": [
    "# if file is not der\n",
    "\n",
    "f = open('my_mod_3.py' , 'w+')"
   ]
  },
  {
   "cell_type": "code",
   "execution_count": 12,
   "id": "6b70225d",
   "metadata": {},
   "outputs": [
    {
     "name": "stdout",
     "output_type": "stream",
     "text": [
      "0\n",
      "xyzaan\n"
     ]
    }
   ],
   "source": [
    "f = open('my_mod_3.py' , 'w+')\n",
    "print(f.tell())\n",
    "f.write('afsaan')\n",
    "f.seek(0)\n",
    "f.write('xyz')\n",
    "f.seek(0)\n",
    "print(f.read())\n",
    "f.close()"
   ]
  },
  {
   "cell_type": "markdown",
   "id": "86771768",
   "metadata": {},
   "source": [
    "### 5. read and write - 'r+'\n",
    "- If the file exists then it will open the file in read mode and places the cursor at the begining of the file\n",
    "- if the file does not exists then it will give FileNotFoundError\n",
    "- You are allowed to write into the file and also allowed to read from the file"
   ]
  },
  {
   "cell_type": "code",
   "execution_count": 13,
   "id": "b1402fd1",
   "metadata": {},
   "outputs": [
    {
     "name": "stdout",
     "output_type": "stream",
     "text": [
      "0\n",
      "xyzaan\n"
     ]
    }
   ],
   "source": [
    "f = open('my_mod_3.py' , 'r+')\n",
    "print(f.tell())\n",
    "f.write('afsaan')\n",
    "f.seek(0)\n",
    "f.write('xyz')\n",
    "f.seek(0)\n",
    "print(f.read())\n",
    "f.close()"
   ]
  },
  {
   "cell_type": "markdown",
   "id": "4658e374",
   "metadata": {},
   "source": [
    "### 6. Append and read mode - 'a+'\n",
    "- If the file exists then it will open the file in append mode and places the cursor at the end of the file\n",
    "- if the file does not exists then it will create a file with given name and extension\n",
    "- You are allowed to write into the file and also allowed to read from the file\n",
    "- append will always write the the content at the end of the file so seek() will not here"
   ]
  },
  {
   "cell_type": "code",
   "execution_count": 14,
   "id": "e9cf7a16",
   "metadata": {},
   "outputs": [
    {
     "name": "stdout",
     "output_type": "stream",
     "text": [
      "6\n",
      "xyzaanafsaanxyz\n",
      "\n"
     ]
    }
   ],
   "source": [
    "f = open('my_mod_3.py' , 'a+')\n",
    "print(f.tell())\n",
    "f.write('afsaan')\n",
    "f.seek(0)\n",
    "f.write('xyz')\n",
    "f.seek(0)\n",
    "print(f.read())\n",
    "f.close()\n",
    "\n",
    "print()"
   ]
  },
  {
   "cell_type": "code",
   "execution_count": 15,
   "id": "11059d1a",
   "metadata": {},
   "outputs": [],
   "source": [
    "# example 1\n",
    "\n",
    "content = \"\"\"Lorem Ipsum is simply dummy text of the printing and typesetting industry. \n",
    "Lorem Ipsum has been the industry standard dummy text ever since the 1500s, when an unknown printer took a galley of type and scrambled it to make a type specimen book. \n",
    "It has survived not only five centuries, but also the leap into electronic typesetting, remaining essentially unchanged. \n",
    "It was popularised in the 1960s with the release of Letraset sheets containing Lorem Ipsum passages, and more recently with desktop publishing software like Aldus PageMaker including versions of Lorem Ipsum.\"\"\"\n",
    "\n",
    "\n",
    "# question 1 - Count the number of chararcters , words and lines from a file\n",
    "# question 2 - Insert the line at line number 6, do not replace it\n",
    "# question 3 - take one image file , copy the content of image.png to new.jpg"
   ]
  },
  {
   "cell_type": "code",
   "execution_count": 16,
   "id": "1054078f",
   "metadata": {},
   "outputs": [
    {
     "ename": "FileNotFoundError",
     "evalue": "[Errno 2] No such file or directory: 'image.png'",
     "output_type": "error",
     "traceback": [
      "\u001b[1;31m---------------------------------------------------------------------------\u001b[0m",
      "\u001b[1;31mFileNotFoundError\u001b[0m                         Traceback (most recent call last)",
      "\u001b[1;32m~\\AppData\\Local\\Temp/ipykernel_8900/306048397.py\u001b[0m in \u001b[0;36m<module>\u001b[1;34m\u001b[0m\n\u001b[0;32m      5\u001b[0m \u001b[1;33m\u001b[0m\u001b[0m\n\u001b[0;32m      6\u001b[0m \u001b[1;31m# sol 3\u001b[0m\u001b[1;33m\u001b[0m\u001b[1;33m\u001b[0m\u001b[0m\n\u001b[1;32m----> 7\u001b[1;33m \u001b[1;32mwith\u001b[0m \u001b[0mopen\u001b[0m\u001b[1;33m(\u001b[0m\u001b[1;34m'image.png'\u001b[0m \u001b[1;33m,\u001b[0m \u001b[1;34m'rb'\u001b[0m\u001b[1;33m)\u001b[0m \u001b[1;32mas\u001b[0m \u001b[0mf1\u001b[0m\u001b[1;33m:\u001b[0m\u001b[1;33m\u001b[0m\u001b[1;33m\u001b[0m\u001b[0m\n\u001b[0m\u001b[0;32m      8\u001b[0m     \u001b[1;32mwith\u001b[0m \u001b[0mopen\u001b[0m\u001b[1;33m(\u001b[0m\u001b[1;34m'new.jpg'\u001b[0m \u001b[1;33m,\u001b[0m \u001b[1;34m'wb'\u001b[0m \u001b[1;33m)\u001b[0m \u001b[1;32mas\u001b[0m \u001b[0mf2\u001b[0m\u001b[1;33m:\u001b[0m\u001b[1;33m\u001b[0m\u001b[1;33m\u001b[0m\u001b[0m\n\u001b[0;32m      9\u001b[0m         \u001b[0mf2\u001b[0m\u001b[1;33m.\u001b[0m\u001b[0mwrite\u001b[0m\u001b[1;33m(\u001b[0m\u001b[0mf1\u001b[0m\u001b[1;33m.\u001b[0m\u001b[0mread\u001b[0m\u001b[1;33m(\u001b[0m\u001b[1;33m)\u001b[0m\u001b[1;33m)\u001b[0m\u001b[1;33m\u001b[0m\u001b[1;33m\u001b[0m\u001b[0m\n",
      "\u001b[1;31mFileNotFoundError\u001b[0m: [Errno 2] No such file or directory: 'image.png'"
     ]
    }
   ],
   "source": [
    "# solution 1\n",
    "\n",
    "\n",
    "#solution 2\n",
    "\n",
    "# sol 3\n",
    "with open('image.png' , 'rb') as f1:\n",
    "    with open('new.jpg' , 'wb' ) as f2:\n",
    "        f2.write(f1.read())"
   ]
  },
  {
   "cell_type": "markdown",
   "id": "340e40aa",
   "metadata": {},
   "source": [
    "## Methods to do the operation on Read mode\n",
    "- read() - reads the whoe content of teh file and returns a string object\n",
    "- read(char) - reads the specified no of characters from current position and returns string\n",
    "- readline() - reads the current line from the current position of teh cursor and retruns a string object\n",
    "- readlines() - reads the whole content of ten file and retuns a list of string where everyu element is a string and represents a line"
   ]
  },
  {
   "cell_type": "code",
   "execution_count": 17,
   "id": "ee9da845",
   "metadata": {},
   "outputs": [
    {
     "name": "stdout",
     "output_type": "stream",
     "text": [
      "afsaan\u0000\u0000\u0000\u0000\u0000\u0000\u0000\u0000\u0000\u0000\u0000\u0000\u0000\u0000\u0000\u0000\u0000\u0000\u0000\u0000\u0000\u0000\u0000\u0000\u0000\u0000\u0000\u0000\u0000\u0000\u0000\u0000\u0000\u0000\u0000\u0000\u0000\u0000\u0000\u0000\u0000\u0000\u0000\u0000\u0000\u0000\u0000\u0000\u0000\u0000\u0000\u0000\u0000\u0000\u0000\u0000\u0000\u0000\u0000\u0000\u0000\u0000\u0000\u0000\u0000\u0000\u0000\u0000\u0000\u0000\u0000\u0000\u0000\u0000\u0000\u0000\u0000\u0000\u0000\u0000\u0000\u0000\u0000\u0000\u0000\u0000\u0000\u0000\u0000\u0000\u0000\u0000\u0000\u0000khanafsaankhanafsaanxyz\n"
     ]
    }
   ],
   "source": [
    "f = open('my_mod.py')\n",
    "print(f.read())"
   ]
  },
  {
   "cell_type": "code",
   "execution_count": 18,
   "id": "79378a3b",
   "metadata": {},
   "outputs": [
    {
     "name": "stdout",
     "output_type": "stream",
     "text": [
      "n\u0000\u0000\u0000\u0000\u0000\u0000\u0000\u0000\u0000\u0000\u0000\u0000\u0000\u0000\u0000\u0000\u0000\u0000\u0000\u0000\u0000\u0000\u0000\u0000\u0000\u0000\u0000\u0000\u0000\u0000\u0000\u0000\u0000\u0000\u0000\u0000\u0000\u0000\u0000\u0000\u0000\u0000\u0000\u0000\u0000\u0000\u0000\u0000\u0000\u0000\u0000\u0000\u0000\u0000\u0000\u0000\u0000\u0000\u0000\u0000\u0000\u0000\u0000\u0000\u0000\u0000\u0000\u0000\u0000\u0000\u0000\u0000\u0000\u0000\u0000\u0000\u0000\u0000\u0000\u0000\u0000\u0000\u0000\u0000\u0000\u0000\u0000\u0000\u0000\u0000\u0000\u0000\u0000\u0000khanafsaankhanafsaanxyz\n"
     ]
    }
   ],
   "source": [
    "f = open('my_mod.py')\n",
    "f.seek(5)\n",
    "print(f.readline())"
   ]
  },
  {
   "cell_type": "code",
   "execution_count": 19,
   "id": "0d8abde0",
   "metadata": {},
   "outputs": [
    {
     "name": "stdout",
     "output_type": "stream",
     "text": [
      "['afsaan\\x00\\x00\\x00\\x00\\x00\\x00\\x00\\x00\\x00\\x00\\x00\\x00\\x00\\x00\\x00\\x00\\x00\\x00\\x00\\x00\\x00\\x00\\x00\\x00\\x00\\x00\\x00\\x00\\x00\\x00\\x00\\x00\\x00\\x00\\x00\\x00\\x00\\x00\\x00\\x00\\x00\\x00\\x00\\x00\\x00\\x00\\x00\\x00\\x00\\x00\\x00\\x00\\x00\\x00\\x00\\x00\\x00\\x00\\x00\\x00\\x00\\x00\\x00\\x00\\x00\\x00\\x00\\x00\\x00\\x00\\x00\\x00\\x00\\x00\\x00\\x00\\x00\\x00\\x00\\x00\\x00\\x00\\x00\\x00\\x00\\x00\\x00\\x00\\x00\\x00\\x00\\x00\\x00\\x00khanafsaankhanafsaanxyz']\n"
     ]
    }
   ],
   "source": [
    "f = open('my_mod.py')\n",
    "print(f.readlines())"
   ]
  },
  {
   "cell_type": "code",
   "execution_count": 20,
   "id": "b7a24bd3",
   "metadata": {},
   "outputs": [
    {
     "name": "stdout",
     "output_type": "stream",
     "text": [
      "afsaan\u0000\u0000\u0000\u0000\u0000\u0000\u0000\u0000\u0000\u0000\u0000\u0000\u0000\u0000\u0000\u0000\u0000\u0000\u0000\u0000\u0000\u0000\u0000\u0000\u0000\u0000\u0000\u0000\u0000\u0000\u0000\u0000\u0000\u0000\u0000\u0000\u0000\u0000\u0000\u0000\u0000\u0000\u0000\u0000\u0000\u0000\u0000\u0000\u0000\u0000\u0000\u0000\u0000\u0000\u0000\u0000\u0000\u0000\u0000\u0000\u0000\u0000\u0000\u0000\u0000\u0000\u0000\u0000\u0000\u0000\u0000\u0000\u0000\u0000\u0000\u0000\u0000\u0000\u0000\u0000\u0000\u0000\u0000\u0000\u0000\u0000\u0000\u0000\u0000\u0000\u0000\u0000\u0000\u0000\n"
     ]
    }
   ],
   "source": [
    "f = open('my_mod.py')\n",
    "print(f.read(100))"
   ]
  },
  {
   "cell_type": "markdown",
   "id": "7058f710",
   "metadata": {},
   "source": [
    "## Methods to do the operation on Write mode\n",
    "- write('str')\n",
    "- writelines(['str1\\n', 'str2\\n', 'str3\\n'])"
   ]
  },
  {
   "cell_type": "code",
   "execution_count": 21,
   "id": "783eb4aa",
   "metadata": {},
   "outputs": [],
   "source": [
    "f = open('my_mod.py' , 'w')\n",
    "f.write('afsan\\nkhan')\n",
    "f.close()"
   ]
  },
  {
   "cell_type": "code",
   "execution_count": 22,
   "id": "8d472b92",
   "metadata": {},
   "outputs": [],
   "source": [
    "f = open('my_mod.py' , 'w')\n",
    "f.writelines(['afsan\\nkhan' , 'khan\\n' , 'footbal\\n'])\n",
    "f.close()"
   ]
  },
  {
   "cell_type": "code",
   "execution_count": 1,
   "id": "f5565a4f",
   "metadata": {},
   "outputs": [],
   "source": [
    "#pickle is a module which is used to write the textual data into the python object intro binary file\n",
    "#Binary file is a form of unicode data\n",
    "#pickle.dump to write the python objects in the form of binary file\n",
    "#pickle load-used to load the binary file into the python object"
   ]
  },
  {
   "cell_type": "code",
   "execution_count": 2,
   "id": "8909da76",
   "metadata": {},
   "outputs": [],
   "source": [
    "import pickle"
   ]
  },
  {
   "cell_type": "code",
   "execution_count": 3,
   "id": "4e86b850",
   "metadata": {},
   "outputs": [
    {
     "name": "stdout",
     "output_type": "stream",
     "text": [
      "[10, 20, 30, 40]\n"
     ]
    }
   ],
   "source": [
    "f=open('my_file.dat','w+b')    #write and read format of the binary file\n",
    "lst=[10,20,30,40]\n",
    "#f.write(lst)\n",
    "pickle.dump(lst,f)\n",
    "f.seek(0)\n",
    "#print(f.read())\n",
    "print(pickle.load(f))\n",
    "f.close()"
   ]
  },
  {
   "cell_type": "code",
   "execution_count": 4,
   "id": "5ee15c36",
   "metadata": {},
   "outputs": [],
   "source": [
    "#Binary files are comparatively faster\n",
    "#stored in 0 and 1 format\n",
    "#contains images and videos"
   ]
  },
  {
   "cell_type": "code",
   "execution_count": null,
   "id": "753845c0",
   "metadata": {},
   "outputs": [],
   "source": []
  }
 ],
 "metadata": {
  "kernelspec": {
   "display_name": "Python 3 (ipykernel)",
   "language": "python",
   "name": "python3"
  },
  "language_info": {
   "codemirror_mode": {
    "name": "ipython",
    "version": 3
   },
   "file_extension": ".py",
   "mimetype": "text/x-python",
   "name": "python",
   "nbconvert_exporter": "python",
   "pygments_lexer": "ipython3",
   "version": "3.9.7"
  }
 },
 "nbformat": 4,
 "nbformat_minor": 5
}
