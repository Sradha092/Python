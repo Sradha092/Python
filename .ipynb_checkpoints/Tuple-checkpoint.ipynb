{
 "cells": [
  {
   "cell_type": "markdown",
   "id": "49eb44bb",
   "metadata": {},
   "source": [
    "# Tuple"
   ]
  },
  {
   "cell_type": "code",
   "execution_count": 40,
   "id": "59cb87f4",
   "metadata": {
    "ExecuteTime": {
     "end_time": "2022-01-24T14:37:29.785423Z",
     "start_time": "2022-01-24T14:37:29.775607Z"
    }
   },
   "outputs": [
    {
     "data": {
      "text/plain": [
       "20"
      ]
     },
     "execution_count": 40,
     "metadata": {},
     "output_type": "execute_result"
    }
   ],
   "source": [
    "len('********************')"
   ]
  },
  {
   "cell_type": "code",
   "execution_count": 44,
   "id": "21309a68",
   "metadata": {
    "ExecuteTime": {
     "end_time": "2022-01-24T14:50:08.580345Z",
     "start_time": "2022-01-24T14:50:08.576056Z"
    }
   },
   "outputs": [],
   "source": [
    "# my_str = 'Python'\n",
    "\n",
    "# # Total length should be 20\n",
    "# # Out pf that 6 characters from my_str and 14 characters '*'\n",
    "\n",
    "# my_str.rjust(20, '*')\n"
   ]
  },
  {
   "cell_type": "code",
   "execution_count": null,
   "id": "a15c734d",
   "metadata": {},
   "outputs": [],
   "source": [
    "my_str = 'Peter Piper Picked A Peck Of Pickled Peppers.' \n",
    "\n",
    "sub_str ='Peck'\n",
    "\n",
    "# determining index for p in 'peck'\n",
    "result = my_str.find(sub_str)\n",
    "print (result)\n",
    "\n",
    "result_1 = result+len(sub_str)\n",
    "print (result_1)\n",
    "\n",
    "length_str = len(my_str)\n",
    "print (length_str)\n",
    "\n",
    "print((result-1) * '*', end='')\n",
    "print(sub_str, end='')\n",
    "print(((length_str)-(result_1))*'*')"
   ]
  },
  {
   "cell_type": "code",
   "execution_count": 50,
   "id": "88f27847",
   "metadata": {
    "ExecuteTime": {
     "end_time": "2022-01-24T14:58:26.999248Z",
     "start_time": "2022-01-24T14:58:26.991486Z"
    }
   },
   "outputs": [
    {
     "name": "stdout",
     "output_type": "stream",
     "text": [
      "(10, 20, 30) <class 'tuple'>\n"
     ]
    }
   ],
   "source": [
    "# Multiple assignment\n",
    "# a, b, c = 10, 20, 30\n",
    "# print(a, b, c)\n",
    "\n",
    "a = 10, 20, 30\n",
    "print(a, type(a))"
   ]
  },
  {
   "cell_type": "code",
   "execution_count": 47,
   "id": "df589f9d",
   "metadata": {
    "ExecuteTime": {
     "end_time": "2022-01-24T14:54:22.017730Z",
     "start_time": "2022-01-24T14:54:22.008937Z"
    }
   },
   "outputs": [
    {
     "name": "stdout",
     "output_type": "stream",
     "text": [
      "(10, 20, 30, 40, 50) <class 'tuple'>\n"
     ]
    }
   ],
   "source": [
    "# Tuple - Any value kept inside [()] sepearetd by ,\n",
    "\n",
    "# tpl = (10, 10.20, 10+20j, None, True, 'Python')\n",
    "# print(tpl, type(tpl))\n",
    "\n",
    "# tpl = 10, 10.20, 10+20j, None, True, 'Python'\n",
    "# print(tpl, type(tpl))\n",
    "\n",
    "a = 10, 20, 30, 40, 50\n",
    "print(a, type(a))\n"
   ]
  },
  {
   "cell_type": "code",
   "execution_count": 48,
   "id": "7e099215",
   "metadata": {
    "ExecuteTime": {
     "end_time": "2022-01-24T14:57:45.914816Z",
     "start_time": "2022-01-24T14:57:45.909881Z"
    }
   },
   "outputs": [],
   "source": [
    "# Tuple is similar to this list, Except tuple is immutable\n",
    "\n",
    "# Tuple can have duplicate elements\n",
    "# Tuple is a collection of heterogeneous elements\n",
    "# Tuple is a sequence\n",
    "#     1. Tuple is an ordered collection of the elements\n",
    "#     2. Tuple supports +ve and -ve indexing both\n",
    "#     3. +ve indexing starts from 0 from left side\n",
    "#     4. +ve indexing starts from -1 from right side\n",
    "#     5. Basic - INdexing, slicing, concatenation, Repetition\n",
    "\n",
    "\n"
   ]
  },
  {
   "cell_type": "code",
   "execution_count": 66,
   "id": "f6d2e3cf",
   "metadata": {
    "ExecuteTime": {
     "end_time": "2022-01-24T15:05:54.399763Z",
     "start_time": "2022-01-24T15:05:54.389635Z"
    }
   },
   "outputs": [
    {
     "name": "stdout",
     "output_type": "stream",
     "text": [
      "(10,) <class 'tuple'>\n"
     ]
    }
   ],
   "source": [
    "# Tuple creation\n",
    "\n",
    "# If you know the lements\n",
    "# tpl = (10, 10.20, 10+20j, None, True, 'Python')\n",
    "# print(tpl, type(tpl))\n",
    "\n",
    "\n",
    "# Using tuple function\n",
    "# tpl1 = tuple('Python')\n",
    "# print(tpl1, type(tpl1))\n",
    "\n",
    "\n",
    "# tpl1 = tuple([10,20,30,40])\n",
    "# print(tpl1, type(tpl1))\n",
    "\n",
    "# tpl1 = tuple((10,20,30,40))\n",
    "# print(tpl1, type(tpl1))\n",
    "\n",
    "# tpl1 = tuple({1:10,2:20,3:30,4:40})\n",
    "# print(tpl1, type(tpl1))\n",
    "\n",
    "# tpl1 = tuple({10,20,30,30,40,30})\n",
    "# print(tpl1)\n",
    "\n",
    "# taking tuple as user input\n",
    "# tpl = eval(input('Enter a tuple:'))\n",
    "# print(tpl, type(tpl))\n",
    "\n",
    "# Creating atuple with a single element, comma is mandatory\n",
    "tpl = 10,\n",
    "print(tpl, type(tpl))\n"
   ]
  },
  {
   "cell_type": "code",
   "execution_count": 67,
   "id": "f93b30c1",
   "metadata": {
    "ExecuteTime": {
     "end_time": "2022-01-24T15:07:10.771423Z",
     "start_time": "2022-01-24T15:07:10.761611Z"
    }
   },
   "outputs": [
    {
     "name": "stdout",
     "output_type": "stream",
     "text": [
      "10 20 30 40\n"
     ]
    },
    {
     "data": {
      "text/plain": [
       "(10, 20, 30, 40, 50)"
      ]
     },
     "execution_count": 67,
     "metadata": {},
     "output_type": "execute_result"
    }
   ],
   "source": [
    "print(10, 20, 30, 40)\n",
    "10, 20, 30, 40, 50"
   ]
  },
  {
   "cell_type": "code",
   "execution_count": 71,
   "id": "db6056c5",
   "metadata": {
    "ExecuteTime": {
     "end_time": "2022-01-24T15:09:51.965956Z",
     "start_time": "2022-01-24T15:09:51.957118Z"
    }
   },
   "outputs": [],
   "source": [
    "# Methodson Tuple\n",
    "\n",
    "# print(dir(tuple))\n",
    "tpl = (10, 10.20, 10,  10+20j,10,  None, True, 10, 'Python')\n",
    "# print(tpl.count(10))\n",
    "\n",
    "# print(tpl.index(10))\n",
    "\n",
    "# Faster and more secure compared to the list\n",
    "\n"
   ]
  },
  {
   "cell_type": "code",
   "execution_count": 80,
   "id": "0eada375",
   "metadata": {
    "ExecuteTime": {
     "end_time": "2022-01-24T15:17:01.431446Z",
     "start_time": "2022-01-24T15:17:01.423235Z"
    }
   },
   "outputs": [
    {
     "name": "stdout",
     "output_type": "stream",
     "text": [
      "ABC\n",
      "101\n",
      "abc@gmail.com\n",
      "1019018091\n"
     ]
    }
   ],
   "source": [
    "# Packing - assigning multiple values to a single variable\n",
    "\n",
    "# a = 10, 10.20, 20, 200, 300\n",
    "# print(a, type(a))\n",
    "\n",
    "# emp_name = 'ABC'\n",
    "# emp_id = 101\n",
    "# emp_email = 'abc@gmail.com'\n",
    "# emp_phone = 1019018091\n",
    "# emp_details = emp_name, emp_id, emp_email, emp_phone\n",
    "# print(emp_details, type(emp_details))\n",
    "\n",
    "\n",
    "# Tuple unpacking - assigning a tuple to multiple variable\n",
    "emp_name = 'ABC'\n",
    "emp_id = 101\n",
    "emp_email = 'abc@gmail.com'\n",
    "emp_phone = 1019018091\n",
    "emp_details = emp_name, emp_id, emp_email, emp_phone\n",
    "a, b, c, d = emp_details\n",
    "print(a)\n",
    "print(b)\n",
    "print(c)\n",
    "print(d)\n",
    "\n"
   ]
  },
  {
   "cell_type": "code",
   "execution_count": 1,
   "id": "ed6d39dc",
   "metadata": {
    "ExecuteTime": {
     "end_time": "2022-01-24T15:17:52.340993Z",
     "start_time": "2022-01-24T15:17:52.334644Z"
    }
   },
   "outputs": [
    {
     "data": {
      "text/plain": [
       "<generator object <genexpr> at 0x000001A35368A5F0>"
      ]
     },
     "execution_count": 1,
     "metadata": {},
     "output_type": "execute_result"
    }
   ],
   "source": [
    "# Tuple comprehension - Tuple\n",
    "# Does not create a tuple\n",
    "# Generator object\n",
    "\n",
    "(i for i in range(5))\n"
   ]
  }
 ],
 "metadata": {
  "kernelspec": {
   "display_name": "Python 3 (ipykernel)",
   "language": "python",
   "name": "python3"
  },
  "language_info": {
   "codemirror_mode": {
    "name": "ipython",
    "version": 3
   },
   "file_extension": ".py",
   "mimetype": "text/x-python",
   "name": "python",
   "nbconvert_exporter": "python",
   "pygments_lexer": "ipython3",
   "version": "3.9.7"
  }
 },
 "nbformat": 4,
 "nbformat_minor": 5
}
