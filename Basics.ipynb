{
 "cells": [
  {
   "cell_type": "markdown",
   "id": "b270f967",
   "metadata": {},
   "source": [
    "# Python Components"
   ]
  },
  {
   "cell_type": "code",
   "execution_count": 1,
   "id": "88aa7d2a",
   "metadata": {},
   "outputs": [],
   "source": [
    "# Python Components\n",
    "# Literals - Any values\n",
    "    # Int - 10, -10, 0\n",
    "    # Float - 10.20, -10.20, 0.001\n",
    "    # Complex - 10+20j\n",
    "    # Strings - '...', \"...\", '''...''', \"\"\"...\"\"\"\n",
    "    # None\n",
    "    # Boolean - True False\n",
    "\n",
    "#Constants\n",
    "#Variables\n",
    "#Identifiers        \n",
    "#Reserve words\n",
    "#Statements and Expressions\n",
    "#Blocks and Identation\n",
    "#Comments"
   ]
  },
  {
   "cell_type": "code",
   "execution_count": 2,
   "id": "d69bb447",
   "metadata": {},
   "outputs": [
    {
     "name": "stdout",
     "output_type": "stream",
     "text": [
      "<class 'str'>\n",
      "<class 'int'>\n"
     ]
    }
   ],
   "source": [
    "emp_name = 'Abhishek Gupta'\n",
    "emp_loc = 'Bengaluru'\n",
    "emp_pin = 987654\n",
    "emp_age = 30.5\n",
    "print(type(emp_name))\n",
    "print(type(emp_pin))"
   ]
  },
  {
   "cell_type": "code",
   "execution_count": 3,
   "id": "2ef32d34",
   "metadata": {},
   "outputs": [],
   "source": [
    "# Identifiers - Any name\n",
    "# Name of variables, Constants, Functions, class object etc.\n",
    "\n",
    "#Constants and Variables are subset of Identifiers\n",
    "    #1. Allowed Chars->A-Z,a-z,0-9, _\n",
    "    #2. Not Allowed->Special Characters are not allowed\n",
    "    #3. Case Sensitive\n",
    "    #4. Should not start with numbers\n",
    "    #5. All the letters while defining constants should be in capital letters.\n",
    "    #6. We should never use reserve words (words which are already used by python).\n",
    "    #7. You should avoid defining any identifier staarting with __ (double underscore).\n",
    "    #8. While defining the class names, we should use camelCaseNotation or PascalCaseNotation\n"
   ]
  },
  {
   "cell_type": "code",
   "execution_count": 4,
   "id": "8a95b3aa",
   "metadata": {},
   "outputs": [
    {
     "name": "stdout",
     "output_type": "stream",
     "text": [
      "10\n",
      "100\n",
      "1000\n"
     ]
    }
   ],
   "source": [
    "num = 10\n",
    "Num = 100\n",
    "NUM = 1000\n",
    "# 1num\n",
    "print(num)\n",
    "print(Num)\n",
    "print(NUM)"
   ]
  },
  {
   "cell_type": "code",
   "execution_count": 5,
   "id": "b082a796",
   "metadata": {},
   "outputs": [
    {
     "name": "stdout",
     "output_type": "stream",
     "text": [
      "['False', 'None', 'True', '__peg_parser__', 'and', 'as', 'assert', 'async', 'await', 'break', 'class', 'continue', 'def', 'del', 'elif', 'else', 'except', 'finally', 'for', 'from', 'global', 'if', 'import', 'in', 'is', 'lambda', 'nonlocal', 'not', 'or', 'pass', 'raise', 'return', 'try', 'while', 'with', 'yield']\n"
     ]
    }
   ],
   "source": [
    "import keyword\n",
    "print(keyword.kwlist)"
   ]
  },
  {
   "cell_type": "code",
   "execution_count": 6,
   "id": "d0bbbb03",
   "metadata": {},
   "outputs": [],
   "source": [
    "# None = 1000\n",
    "# for = 1000"
   ]
  },
  {
   "cell_type": "code",
   "execution_count": 7,
   "id": "aae5c213",
   "metadata": {},
   "outputs": [
    {
     "name": "stdout",
     "output_type": "stream",
     "text": [
      "<class 'float'>\n",
      "<class 'int'>\n"
     ]
    }
   ],
   "source": [
    "GRAVITATIONAL_CONSTANT = 9.8\n",
    "print(type(GRAVITATIONAL_CONSTANT))\n",
    "GRAVITATIONAL_CONSTANT = 980\n",
    "print(type(GRAVITATIONAL_CONSTANT))"
   ]
  },
  {
   "cell_type": "code",
   "execution_count": 8,
   "id": "3a671cf4",
   "metadata": {},
   "outputs": [],
   "source": [
    "class myFirstClass:    #camelCaseNotation\n",
    "    pass"
   ]
  },
  {
   "cell_type": "code",
   "execution_count": 9,
   "id": "1d2b228c",
   "metadata": {},
   "outputs": [],
   "source": [
    "class MyFirstClass:    #PascalCaseNotation\n",
    "    pass"
   ]
  },
  {
   "cell_type": "code",
   "execution_count": 10,
   "id": "f5a9f417",
   "metadata": {},
   "outputs": [
    {
     "name": "stdout",
     "output_type": "stream",
     "text": [
      "['__abs__', '__add__', '__and__', '__bool__', '__ceil__', '__class__', '__delattr__', '__dir__', '__divmod__', '__doc__', '__eq__', '__float__', '__floor__', '__floordiv__', '__format__', '__ge__', '__getattribute__', '__getnewargs__', '__gt__', '__hash__', '__index__', '__init__', '__init_subclass__', '__int__', '__invert__', '__le__', '__lshift__', '__lt__', '__mod__', '__mul__', '__ne__', '__neg__', '__new__', '__or__', '__pos__', '__pow__', '__radd__', '__rand__', '__rdivmod__', '__reduce__', '__reduce_ex__', '__repr__', '__rfloordiv__', '__rlshift__', '__rmod__', '__rmul__', '__ror__', '__round__', '__rpow__', '__rrshift__', '__rshift__', '__rsub__', '__rtruediv__', '__rxor__', '__setattr__', '__sizeof__', '__str__', '__sub__', '__subclasshook__', '__truediv__', '__trunc__', '__xor__', 'as_integer_ratio', 'bit_length', 'conjugate', 'denominator', 'from_bytes', 'imag', 'numerator', 'real', 'to_bytes']\n"
     ]
    }
   ],
   "source": [
    "print(dir(int))"
   ]
  },
  {
   "cell_type": "code",
   "execution_count": 11,
   "id": "014c13c5",
   "metadata": {},
   "outputs": [
    {
     "name": "stdout",
     "output_type": "stream",
     "text": [
      "10\n",
      "30\n"
     ]
    }
   ],
   "source": [
    "print(abs(-10))\n",
    "print(10+20)"
   ]
  },
  {
   "cell_type": "code",
   "execution_count": 12,
   "id": "2e59245d",
   "metadata": {},
   "outputs": [
    {
     "name": "stdout",
     "output_type": "stream",
     "text": [
      "['__add__', '__class__', '__contains__', '__delattr__', '__dir__', '__doc__', '__eq__', '__format__', '__ge__', '__getattribute__', '__getitem__', '__getnewargs__', '__gt__', '__hash__', '__init__', '__init_subclass__', '__iter__', '__le__', '__len__', '__lt__', '__mod__', '__mul__', '__ne__', '__new__', '__reduce__', '__reduce_ex__', '__repr__', '__rmod__', '__rmul__', '__setattr__', '__sizeof__', '__str__', '__subclasshook__', 'capitalize', 'casefold', 'center', 'count', 'encode', 'endswith', 'expandtabs', 'find', 'format', 'format_map', 'index', 'isalnum', 'isalpha', 'isascii', 'isdecimal', 'isdigit', 'isidentifier', 'islower', 'isnumeric', 'isprintable', 'isspace', 'istitle', 'isupper', 'join', 'ljust', 'lower', 'lstrip', 'maketrans', 'partition', 'removeprefix', 'removesuffix', 'replace', 'rfind', 'rindex', 'rjust', 'rpartition', 'rsplit', 'rstrip', 'split', 'splitlines', 'startswith', 'strip', 'swapcase', 'title', 'translate', 'upper', 'zfill']\n"
     ]
    }
   ],
   "source": [
    "print(dir(str))"
   ]
  },
  {
   "cell_type": "code",
   "execution_count": 13,
   "id": "dfcfdef5",
   "metadata": {},
   "outputs": [
    {
     "name": "stdout",
     "output_type": "stream",
     "text": [
      "['__add__', '__class__', '__class_getitem__', '__contains__', '__delattr__', '__delitem__', '__dir__', '__doc__', '__eq__', '__format__', '__ge__', '__getattribute__', '__getitem__', '__gt__', '__hash__', '__iadd__', '__imul__', '__init__', '__init_subclass__', '__iter__', '__le__', '__len__', '__lt__', '__mul__', '__ne__', '__new__', '__reduce__', '__reduce_ex__', '__repr__', '__reversed__', '__rmul__', '__setattr__', '__setitem__', '__sizeof__', '__str__', '__subclasshook__', 'append', 'clear', 'copy', 'count', 'extend', 'index', 'insert', 'pop', 'remove', 'reverse', 'sort']\n"
     ]
    }
   ],
   "source": [
    "print(dir(list))"
   ]
  },
  {
   "cell_type": "code",
   "execution_count": 14,
   "id": "1f7d62e5",
   "metadata": {},
   "outputs": [],
   "source": [
    "__xyz__ = 100"
   ]
  },
  {
   "cell_type": "code",
   "execution_count": 15,
   "id": "20820d57",
   "metadata": {},
   "outputs": [
    {
     "name": "stdout",
     "output_type": "stream",
     "text": [
      "__main__\n"
     ]
    }
   ],
   "source": [
    "print(__name__)"
   ]
  },
  {
   "cell_type": "code",
   "execution_count": 16,
   "id": "668bc6c6",
   "metadata": {},
   "outputs": [
    {
     "name": "stdout",
     "output_type": "stream",
     "text": [
      "100\n"
     ]
    }
   ],
   "source": [
    "__name__= 100\n",
    "print(__name__)"
   ]
  },
  {
   "cell_type": "code",
   "execution_count": 17,
   "id": "350e37f3",
   "metadata": {},
   "outputs": [
    {
     "name": "stdout",
     "output_type": "stream",
     "text": [
      "200\n"
     ]
    }
   ],
   "source": [
    "a = 100\n",
    "a = 200\n",
    "print(a)"
   ]
  },
  {
   "cell_type": "code",
   "execution_count": 18,
   "id": "32bb3aa5",
   "metadata": {},
   "outputs": [
    {
     "name": "stdout",
     "output_type": "stream",
     "text": [
      "Enter Employee name: Sradha\n",
      "ENter Mobile Number: 9439000000\n",
      "Learnbay\n"
     ]
    }
   ],
   "source": [
    "emp_name = input('Enter Employee name: ')\n",
    "emp_mob = input('ENter Mobile Number: ')\n",
    "EMP_COMP = 'Learnbay'\n",
    "print(EMP_COMP)\n",
    "# EMP_COMP = 'TCS'\n",
    "# print(EMP_COMP)"
   ]
  },
  {
   "cell_type": "code",
   "execution_count": 19,
   "id": "9f86cb55",
   "metadata": {},
   "outputs": [
    {
     "name": "stdout",
     "output_type": "stream",
     "text": [
      "The Zen of Python, by Tim Peters\n",
      "\n",
      "Beautiful is better than ugly.\n",
      "Explicit is better than implicit.\n",
      "Simple is better than complex.\n",
      "Complex is better than complicated.\n",
      "Flat is better than nested.\n",
      "Sparse is better than dense.\n",
      "Readability counts.\n",
      "Special cases aren't special enough to break the rules.\n",
      "Although practicality beats purity.\n",
      "Errors should never pass silently.\n",
      "Unless explicitly silenced.\n",
      "In the face of ambiguity, refuse the temptation to guess.\n",
      "There should be one-- and preferably only one --obvious way to do it.\n",
      "Although that way may not be obvious at first unless you're Dutch.\n",
      "Now is better than never.\n",
      "Although never is often better than *right* now.\n",
      "If the implementation is hard to explain, it's a bad idea.\n",
      "If the implementation is easy to explain, it may be a good idea.\n",
      "Namespaces are one honking great idea -- let's do more of those!\n",
      "['__builtins__', '__cached__', '__doc__', '__file__', '__loader__', '__name__', '__package__', '__spec__', 'c', 'd', 'i', 's']\n"
     ]
    }
   ],
   "source": [
    "import this\n",
    "print(dir(this))"
   ]
  },
  {
   "cell_type": "code",
   "execution_count": 20,
   "id": "05df78a9",
   "metadata": {},
   "outputs": [],
   "source": [
    "# PEP8 - Python Enhancement Protocol 8"
   ]
  },
  {
   "cell_type": "code",
   "execution_count": 21,
   "id": "3e52277e",
   "metadata": {},
   "outputs": [],
   "source": [
    "# Expressions and Statements\n",
    "\n",
    "#Expression- Combination of variables to give some value.\n",
    "#Statement- Doesn't return any value.\n",
    "\n",
    "\n",
    "# Expressions - Gives output\n",
    "# Can be kept inside print()\n",
    "# print(10+20)\n",
    "# print('Python' + \"Class\")\n",
    "# print(len('Python'))\n",
    "# print(10)\n",
    "\n",
    "\n",
    "# Statement - does not give the output\n",
    "# Can not be kept insode print()\n",
    "a = 10\n",
    "if True:pass\n",
    "for i in range(5):pass\n"
   ]
  },
  {
   "cell_type": "code",
   "execution_count": 22,
   "id": "d31fb570",
   "metadata": {},
   "outputs": [
    {
     "name": "stdout",
     "output_type": "stream",
     "text": [
      "peter piper picked a peck of pickled peppers\n",
      "9\n"
     ]
    }
   ],
   "source": [
    "# Blocks and Indentation\n",
    "\n",
    "# Indentation is used to create a block\n",
    "\n",
    "def my_func():\n",
    "    my_str = 'peter piper picked a peck of pickled peppers'\n",
    "    count_p = 0\n",
    "    count_other = 0\n",
    "    for i in my_str:\n",
    "        if i == 'p':\n",
    "            count_p += 1\n",
    "        else:\n",
    "            count_other += 1\n",
    "    print(my_str)\n",
    "    print(count_p)\n",
    "my_func()\n"
   ]
  },
  {
   "cell_type": "code",
   "execution_count": 23,
   "id": "9f9e9905",
   "metadata": {},
   "outputs": [],
   "source": [
    "a = 10\n",
    "b = 20"
   ]
  },
  {
   "cell_type": "code",
   "execution_count": 24,
   "id": "3b120787",
   "metadata": {},
   "outputs": [
    {
     "name": "stdout",
     "output_type": "stream",
     "text": [
      "30\n"
     ]
    }
   ],
   "source": [
    "if True:\n",
    "    print(10+20)\n",
    "    "
   ]
  },
  {
   "cell_type": "code",
   "execution_count": 25,
   "id": "c77e66ca",
   "metadata": {},
   "outputs": [],
   "source": [
    "# Comments - #\n",
    "#1. Used to explain a python code.\n",
    "#2. Make a code more readable.\n",
    "#3. Prevent execution while testing."
   ]
  },
  {
   "cell_type": "code",
   "execution_count": 26,
   "id": "f0b57915",
   "metadata": {},
   "outputs": [
    {
     "ename": "TypeError",
     "evalue": "unsupported operand type(s) for +: 'NoneType' and 'int'",
     "output_type": "error",
     "traceback": [
      "\u001b[1;31m---------------------------------------------------------------------------\u001b[0m",
      "\u001b[1;31mTypeError\u001b[0m                                 Traceback (most recent call last)",
      "\u001b[1;32m~\\AppData\\Local\\Temp/ipykernel_5008/4096322102.py\u001b[0m in \u001b[0;36m<module>\u001b[1;34m\u001b[0m\n\u001b[0;32m      1\u001b[0m \u001b[0ma\u001b[0m \u001b[1;33m=\u001b[0m \u001b[1;32mNone\u001b[0m\u001b[1;33m\u001b[0m\u001b[1;33m\u001b[0m\u001b[0m\n\u001b[1;32m----> 2\u001b[1;33m \u001b[0ma\u001b[0m\u001b[1;33m+\u001b[0m\u001b[1;36m10\u001b[0m\u001b[1;33m\u001b[0m\u001b[1;33m\u001b[0m\u001b[0m\n\u001b[0m",
      "\u001b[1;31mTypeError\u001b[0m: unsupported operand type(s) for +: 'NoneType' and 'int'"
     ]
    }
   ],
   "source": [
    "a = None\n",
    "a+10"
   ]
  },
  {
   "cell_type": "code",
   "execution_count": 27,
   "id": "6407570c",
   "metadata": {},
   "outputs": [
    {
     "data": {
      "text/plain": [
       "'# hsdgvcjdahbfdhjbsv\\n# sdhjkvakbvdasbvdas\\n# jdvasbdasbvdsbvndbsv'"
      ]
     },
     "execution_count": 27,
     "metadata": {},
     "output_type": "execute_result"
    }
   ],
   "source": [
    "'''# hsdgvcjdahbfdhjbsv\n",
    "# sdhjkvakbvdasbvdas\n",
    "# jdvasbdasbvdsbvndbsv'''"
   ]
  },
  {
   "cell_type": "code",
   "execution_count": 28,
   "id": "f5c966ac",
   "metadata": {},
   "outputs": [],
   "source": [
    "# /* ---- */\n",
    "# <-- -->"
   ]
  },
  {
   "cell_type": "markdown",
   "id": "add38ec8",
   "metadata": {},
   "source": [
    "# Python Data Types"
   ]
  },
  {
   "cell_type": "code",
   "execution_count": 29,
   "id": "da38fc85",
   "metadata": {},
   "outputs": [],
   "source": [
    "# Fundamental - Integers, Float, Complex, Boolean , String, None\n",
    "# Derived Data Types - list, Tuple, set, frozenset, Dictionary, Bytes, Bytearray,Range\n",
    " #(derived from fundamental data types)"
   ]
  },
  {
   "cell_type": "code",
   "execution_count": 30,
   "id": "f648f772",
   "metadata": {},
   "outputs": [
    {
     "name": "stdout",
     "output_type": "stream",
     "text": [
      "Help on class int in module builtins:\n",
      "\n",
      "class int(object)\n",
      " |  int([x]) -> integer\n",
      " |  int(x, base=10) -> integer\n",
      " |  \n",
      " |  Convert a number or string to an integer, or return 0 if no arguments\n",
      " |  are given.  If x is a number, return x.__int__().  For floating point\n",
      " |  numbers, this truncates towards zero.\n",
      " |  \n",
      " |  If x is not a number or if base is given, then x must be a string,\n",
      " |  bytes, or bytearray instance representing an integer literal in the\n",
      " |  given base.  The literal can be preceded by '+' or '-' and be surrounded\n",
      " |  by whitespace.  The base defaults to 10.  Valid bases are 0 and 2-36.\n",
      " |  Base 0 means to interpret the base from the string as an integer literal.\n",
      " |  >>> int('0b100', base=0)\n",
      " |  4\n",
      " |  \n",
      " |  Built-in subclasses:\n",
      " |      bool\n",
      " |  \n",
      " |  Methods defined here:\n",
      " |  \n",
      " |  __abs__(self, /)\n",
      " |      abs(self)\n",
      " |  \n",
      " |  __add__(self, value, /)\n",
      " |      Return self+value.\n",
      " |  \n",
      " |  __and__(self, value, /)\n",
      " |      Return self&value.\n",
      " |  \n",
      " |  __bool__(self, /)\n",
      " |      self != 0\n",
      " |  \n",
      " |  __ceil__(...)\n",
      " |      Ceiling of an Integral returns itself.\n",
      " |  \n",
      " |  __divmod__(self, value, /)\n",
      " |      Return divmod(self, value).\n",
      " |  \n",
      " |  __eq__(self, value, /)\n",
      " |      Return self==value.\n",
      " |  \n",
      " |  __float__(self, /)\n",
      " |      float(self)\n",
      " |  \n",
      " |  __floor__(...)\n",
      " |      Flooring an Integral returns itself.\n",
      " |  \n",
      " |  __floordiv__(self, value, /)\n",
      " |      Return self//value.\n",
      " |  \n",
      " |  __format__(self, format_spec, /)\n",
      " |      Default object formatter.\n",
      " |  \n",
      " |  __ge__(self, value, /)\n",
      " |      Return self>=value.\n",
      " |  \n",
      " |  __getattribute__(self, name, /)\n",
      " |      Return getattr(self, name).\n",
      " |  \n",
      " |  __getnewargs__(self, /)\n",
      " |  \n",
      " |  __gt__(self, value, /)\n",
      " |      Return self>value.\n",
      " |  \n",
      " |  __hash__(self, /)\n",
      " |      Return hash(self).\n",
      " |  \n",
      " |  __index__(self, /)\n",
      " |      Return self converted to an integer, if self is suitable for use as an index into a list.\n",
      " |  \n",
      " |  __int__(self, /)\n",
      " |      int(self)\n",
      " |  \n",
      " |  __invert__(self, /)\n",
      " |      ~self\n",
      " |  \n",
      " |  __le__(self, value, /)\n",
      " |      Return self<=value.\n",
      " |  \n",
      " |  __lshift__(self, value, /)\n",
      " |      Return self<<value.\n",
      " |  \n",
      " |  __lt__(self, value, /)\n",
      " |      Return self<value.\n",
      " |  \n",
      " |  __mod__(self, value, /)\n",
      " |      Return self%value.\n",
      " |  \n",
      " |  __mul__(self, value, /)\n",
      " |      Return self*value.\n",
      " |  \n",
      " |  __ne__(self, value, /)\n",
      " |      Return self!=value.\n",
      " |  \n",
      " |  __neg__(self, /)\n",
      " |      -self\n",
      " |  \n",
      " |  __or__(self, value, /)\n",
      " |      Return self|value.\n",
      " |  \n",
      " |  __pos__(self, /)\n",
      " |      +self\n",
      " |  \n",
      " |  __pow__(self, value, mod=None, /)\n",
      " |      Return pow(self, value, mod).\n",
      " |  \n",
      " |  __radd__(self, value, /)\n",
      " |      Return value+self.\n",
      " |  \n",
      " |  __rand__(self, value, /)\n",
      " |      Return value&self.\n",
      " |  \n",
      " |  __rdivmod__(self, value, /)\n",
      " |      Return divmod(value, self).\n",
      " |  \n",
      " |  __repr__(self, /)\n",
      " |      Return repr(self).\n",
      " |  \n",
      " |  __rfloordiv__(self, value, /)\n",
      " |      Return value//self.\n",
      " |  \n",
      " |  __rlshift__(self, value, /)\n",
      " |      Return value<<self.\n",
      " |  \n",
      " |  __rmod__(self, value, /)\n",
      " |      Return value%self.\n",
      " |  \n",
      " |  __rmul__(self, value, /)\n",
      " |      Return value*self.\n",
      " |  \n",
      " |  __ror__(self, value, /)\n",
      " |      Return value|self.\n",
      " |  \n",
      " |  __round__(...)\n",
      " |      Rounding an Integral returns itself.\n",
      " |      Rounding with an ndigits argument also returns an integer.\n",
      " |  \n",
      " |  __rpow__(self, value, mod=None, /)\n",
      " |      Return pow(value, self, mod).\n",
      " |  \n",
      " |  __rrshift__(self, value, /)\n",
      " |      Return value>>self.\n",
      " |  \n",
      " |  __rshift__(self, value, /)\n",
      " |      Return self>>value.\n",
      " |  \n",
      " |  __rsub__(self, value, /)\n",
      " |      Return value-self.\n",
      " |  \n",
      " |  __rtruediv__(self, value, /)\n",
      " |      Return value/self.\n",
      " |  \n",
      " |  __rxor__(self, value, /)\n",
      " |      Return value^self.\n",
      " |  \n",
      " |  __sizeof__(self, /)\n",
      " |      Returns size in memory, in bytes.\n",
      " |  \n",
      " |  __sub__(self, value, /)\n",
      " |      Return self-value.\n",
      " |  \n",
      " |  __truediv__(self, value, /)\n",
      " |      Return self/value.\n",
      " |  \n",
      " |  __trunc__(...)\n",
      " |      Truncating an Integral returns itself.\n",
      " |  \n",
      " |  __xor__(self, value, /)\n",
      " |      Return self^value.\n",
      " |  \n",
      " |  as_integer_ratio(self, /)\n",
      " |      Return integer ratio.\n",
      " |      \n",
      " |      Return a pair of integers, whose ratio is exactly equal to the original int\n",
      " |      and with a positive denominator.\n",
      " |      \n",
      " |      >>> (10).as_integer_ratio()\n",
      " |      (10, 1)\n",
      " |      >>> (-10).as_integer_ratio()\n",
      " |      (-10, 1)\n",
      " |      >>> (0).as_integer_ratio()\n",
      " |      (0, 1)\n",
      " |  \n",
      " |  bit_length(self, /)\n",
      " |      Number of bits necessary to represent self in binary.\n",
      " |      \n",
      " |      >>> bin(37)\n",
      " |      '0b100101'\n",
      " |      >>> (37).bit_length()\n",
      " |      6\n",
      " |  \n",
      " |  conjugate(...)\n",
      " |      Returns self, the complex conjugate of any int.\n",
      " |  \n",
      " |  to_bytes(self, /, length, byteorder, *, signed=False)\n",
      " |      Return an array of bytes representing an integer.\n",
      " |      \n",
      " |      length\n",
      " |        Length of bytes object to use.  An OverflowError is raised if the\n",
      " |        integer is not representable with the given number of bytes.\n",
      " |      byteorder\n",
      " |        The byte order used to represent the integer.  If byteorder is 'big',\n",
      " |        the most significant byte is at the beginning of the byte array.  If\n",
      " |        byteorder is 'little', the most significant byte is at the end of the\n",
      " |        byte array.  To request the native byte order of the host system, use\n",
      " |        `sys.byteorder' as the byte order value.\n",
      " |      signed\n",
      " |        Determines whether two's complement is used to represent the integer.\n",
      " |        If signed is False and a negative integer is given, an OverflowError\n",
      " |        is raised.\n",
      " |  \n",
      " |  ----------------------------------------------------------------------\n",
      " |  Class methods defined here:\n",
      " |  \n",
      " |  from_bytes(bytes, byteorder, *, signed=False) from builtins.type\n",
      " |      Return the integer represented by the given array of bytes.\n",
      " |      \n",
      " |      bytes\n",
      " |        Holds the array of bytes to convert.  The argument must either\n",
      " |        support the buffer protocol or be an iterable object producing bytes.\n",
      " |        Bytes and bytearray are examples of built-in objects that support the\n",
      " |        buffer protocol.\n",
      " |      byteorder\n",
      " |        The byte order used to represent the integer.  If byteorder is 'big',\n",
      " |        the most significant byte is at the beginning of the byte array.  If\n",
      " |        byteorder is 'little', the most significant byte is at the end of the\n",
      " |        byte array.  To request the native byte order of the host system, use\n",
      " |        `sys.byteorder' as the byte order value.\n",
      " |      signed\n",
      " |        Indicates whether two's complement is used to represent the integer.\n",
      " |  \n",
      " |  ----------------------------------------------------------------------\n",
      " |  Static methods defined here:\n",
      " |  \n",
      " |  __new__(*args, **kwargs) from builtins.type\n",
      " |      Create and return a new object.  See help(type) for accurate signature.\n",
      " |  \n",
      " |  ----------------------------------------------------------------------\n",
      " |  Data descriptors defined here:\n",
      " |  \n",
      " |  denominator\n",
      " |      the denominator of a rational number in lowest terms\n",
      " |  \n",
      " |  imag\n",
      " |      the imaginary part of a complex number\n",
      " |  \n",
      " |  numerator\n",
      " |      the numerator of a rational number in lowest terms\n",
      " |  \n",
      " |  real\n",
      " |      the real part of a complex number\n",
      "\n",
      "None\n"
     ]
    }
   ],
   "source": [
    "# Integers - Any value without decimal point\n",
    "# Integer class\n",
    "# Integer object\n",
    "\n",
    "print(help(int))"
   ]
  },
  {
   "cell_type": "code",
   "execution_count": 31,
   "id": "7bfb9fc3",
   "metadata": {},
   "outputs": [
    {
     "name": "stdout",
     "output_type": "stream",
     "text": [
      "10 <class 'int'> 1593561344592\n"
     ]
    }
   ],
   "source": [
    "a = 10\n",
    "print(a, type(a), id(a))"
   ]
  },
  {
   "cell_type": "code",
   "execution_count": 32,
   "id": "2af68993",
   "metadata": {},
   "outputs": [
    {
     "name": "stdout",
     "output_type": "stream",
     "text": [
      "Binary Equivalent = 0b11110001001000000110\n",
      "oct Equivalent = 0o3611006\n",
      "hex Equivalent = 0xf1206\n"
     ]
    }
   ],
   "source": [
    "# Can be represented in Binary, Octal, Hexadecimal formats\n",
    "# Binary - Allowed digits 0 & 1, 0b, bin(x) where x can be any number\n",
    "# Octal - Allowed digits 0 - 7, 0o, oct(x) where x can be any number\n",
    "# Hexadecimal - Allowed digits 0 - 9 & a-f, 0x, hex(x) where x can be any number\n",
    "\n",
    "a = 987654\n",
    "print('Binary Equivalent =', bin(a))\n",
    "print('oct Equivalent =', oct(a))\n",
    "print('hex Equivalent =', hex(a))"
   ]
  },
  {
   "cell_type": "code",
   "execution_count": 33,
   "id": "7e7b4467",
   "metadata": {},
   "outputs": [
    {
     "name": "stdout",
     "output_type": "stream",
     "text": [
      "Decimal Equivalent of 0b11110001001000000110 987654\n",
      "Decimal Equivalent of 0o3611006 987654\n",
      "Decimal Equivalent of 0xf1206 987654\n"
     ]
    }
   ],
   "source": [
    "print('Decimal Equivalent of 0b11110001001000000110', 0b11110001001000000110)\n",
    "print('Decimal Equivalent of 0o3611006', 0o3611006)\n",
    "print('Decimal Equivalent of 0xf1206', 0xf1206)"
   ]
  },
  {
   "cell_type": "code",
   "execution_count": 34,
   "id": "e867c5d1",
   "metadata": {},
   "outputs": [
    {
     "name": "stdout",
     "output_type": "stream",
     "text": [
      "10\n",
      "10\n",
      "10\n",
      "1\n",
      "42\n",
      "96074\n",
      "64664\n",
      "30\n"
     ]
    }
   ],
   "source": [
    "# Only integers can be represented in this format\n",
    "\n",
    "int()\n",
    "print(int(10))\n",
    "print(int('10'))\n",
    "print(int(10.20))\n",
    "print(int(True))\n",
    "print(int(0b101010))\n",
    "print(int(0o273512))\n",
    "print(int(0xfc98))\n",
    "print(int(10+20))"
   ]
  },
  {
   "cell_type": "code",
   "execution_count": 43,
   "id": "f0c89115",
   "metadata": {},
   "outputs": [
    {
     "ename": "ValueError",
     "evalue": "invalid literal for int() with base 10: '10.2'",
     "output_type": "error",
     "traceback": [
      "\u001b[1;31m---------------------------------------------------------------------------\u001b[0m",
      "\u001b[1;31mValueError\u001b[0m                                Traceback (most recent call last)",
      "\u001b[1;32m~\\AppData\\Local\\Temp/ipykernel_5008/1895848166.py\u001b[0m in \u001b[0;36m<module>\u001b[1;34m\u001b[0m\n\u001b[1;32m----> 1\u001b[1;33m \u001b[0mprint\u001b[0m\u001b[1;33m(\u001b[0m\u001b[0mint\u001b[0m\u001b[1;33m(\u001b[0m\u001b[1;34m'10.2'\u001b[0m\u001b[1;33m)\u001b[0m\u001b[1;33m)\u001b[0m\u001b[1;33m\u001b[0m\u001b[1;33m\u001b[0m\u001b[0m\n\u001b[0m\u001b[0;32m      2\u001b[0m \u001b[0mprint\u001b[0m\u001b[1;33m(\u001b[0m\u001b[0mint\u001b[0m\u001b[1;33m(\u001b[0m\u001b[1;36m10\u001b[0m\u001b[1;33m+\u001b[0m\u001b[1;36m20j\u001b[0m\u001b[1;33m)\u001b[0m\u001b[1;33m)\u001b[0m\u001b[1;33m\u001b[0m\u001b[1;33m\u001b[0m\u001b[0m\n\u001b[0;32m      3\u001b[0m \u001b[0mprint\u001b[0m\u001b[1;33m(\u001b[0m\u001b[0mint\u001b[0m\u001b[1;33m(\u001b[0m\u001b[1;34m'ABC'\u001b[0m\u001b[1;33m)\u001b[0m\u001b[1;33m)\u001b[0m\u001b[1;33m\u001b[0m\u001b[1;33m\u001b[0m\u001b[0m\n\u001b[0;32m      4\u001b[0m \u001b[0mprint\u001b[0m\u001b[1;33m(\u001b[0m\u001b[0mint\u001b[0m\u001b[1;33m(\u001b[0m\u001b[1;34m'0b1010'\u001b[0m\u001b[1;33m)\u001b[0m\u001b[1;33m)\u001b[0m\u001b[1;33m\u001b[0m\u001b[1;33m\u001b[0m\u001b[0m\n\u001b[0;32m      5\u001b[0m \u001b[0mprint\u001b[0m\u001b[1;33m(\u001b[0m\u001b[0mint\u001b[0m\u001b[1;33m(\u001b[0m\u001b[1;34m'True'\u001b[0m\u001b[1;33m)\u001b[0m\u001b[1;33m)\u001b[0m\u001b[1;33m\u001b[0m\u001b[1;33m\u001b[0m\u001b[0m\n",
      "\u001b[1;31mValueError\u001b[0m: invalid literal for int() with base 10: '10.2'"
     ]
    }
   ],
   "source": [
    "print(int('10.20'))\n",
    "print(int(10+20j))\n",
    "print(int('ABC'))\n",
    "print(int('0b1010'))\n",
    "print(int('True'))\n"
   ]
  },
  {
   "cell_type": "code",
   "execution_count": 36,
   "id": "3dffbc7c",
   "metadata": {},
   "outputs": [
    {
     "data": {
      "text/plain": [
       "'0o3611006'"
      ]
     },
     "execution_count": 36,
     "metadata": {},
     "output_type": "execute_result"
    }
   ],
   "source": [
    "oct(0xf1206)"
   ]
  },
  {
   "cell_type": "code",
   "execution_count": 37,
   "id": "1951191d",
   "metadata": {},
   "outputs": [
    {
     "ename": "TypeError",
     "evalue": "'float' object cannot be interpreted as an integer",
     "output_type": "error",
     "traceback": [
      "\u001b[1;31m---------------------------------------------------------------------------\u001b[0m",
      "\u001b[1;31mTypeError\u001b[0m                                 Traceback (most recent call last)",
      "\u001b[1;32m~\\AppData\\Local\\Temp/ipykernel_5008/3198568971.py\u001b[0m in \u001b[0;36m<module>\u001b[1;34m\u001b[0m\n\u001b[1;32m----> 1\u001b[1;33m \u001b[0mprint\u001b[0m\u001b[1;33m(\u001b[0m\u001b[0mhex\u001b[0m\u001b[1;33m(\u001b[0m\u001b[1;36m10.0\u001b[0m\u001b[1;33m)\u001b[0m\u001b[1;33m)\u001b[0m\u001b[1;33m\u001b[0m\u001b[1;33m\u001b[0m\u001b[0m\n\u001b[0m",
      "\u001b[1;31mTypeError\u001b[0m: 'float' object cannot be interpreted as an integer"
     ]
    }
   ],
   "source": [
    "print(hex(10.0))"
   ]
  },
  {
   "cell_type": "code",
   "execution_count": 44,
   "id": "4c87fbab",
   "metadata": {},
   "outputs": [
    {
     "data": {
      "text/plain": [
       "80593825139580727197978"
      ]
     },
     "execution_count": 44,
     "metadata": {},
     "output_type": "execute_result"
    }
   ],
   "source": [
    "0x11110001001000000110 + 10"
   ]
  },
  {
   "cell_type": "code",
   "execution_count": 45,
   "id": "48c35144",
   "metadata": {},
   "outputs": [
    {
     "name": "stdout",
     "output_type": "stream",
     "text": [
      "10.2 <class 'float'> 1593642335088\n"
     ]
    }
   ],
   "source": [
    "# Float\n",
    "# Any number with decimal point\n",
    "\n",
    "a = 10.20\n",
    "print(a, type(a), id(a))"
   ]
  },
  {
   "cell_type": "code",
   "execution_count": 46,
   "id": "0928e7d5",
   "metadata": {},
   "outputs": [
    {
     "name": "stdout",
     "output_type": "stream",
     "text": [
      "10.0\n",
      "10.2\n",
      "10.0\n",
      "10.2\n",
      "42.0\n",
      "1.0\n"
     ]
    }
   ],
   "source": [
    "# float()\n",
    "\n",
    "print(float(10))\n",
    "print(float(10.20))\n",
    "print(float('10'))\n",
    "print(float('10.20'))\n",
    "print(float(0b101010))\n",
    "print(float(True))"
   ]
  },
  {
   "cell_type": "code",
   "execution_count": 47,
   "id": "dd29db3d",
   "metadata": {},
   "outputs": [
    {
     "ename": "TypeError",
     "evalue": "can't convert complex to float",
     "output_type": "error",
     "traceback": [
      "\u001b[1;31m---------------------------------------------------------------------------\u001b[0m",
      "\u001b[1;31mTypeError\u001b[0m                                 Traceback (most recent call last)",
      "\u001b[1;32m~\\AppData\\Local\\Temp/ipykernel_5008/597936684.py\u001b[0m in \u001b[0;36m<module>\u001b[1;34m\u001b[0m\n\u001b[1;32m----> 1\u001b[1;33m \u001b[0mprint\u001b[0m\u001b[1;33m(\u001b[0m\u001b[0mfloat\u001b[0m\u001b[1;33m(\u001b[0m\u001b[1;36m10\u001b[0m\u001b[1;33m+\u001b[0m\u001b[1;36m20j\u001b[0m\u001b[1;33m)\u001b[0m\u001b[1;33m)\u001b[0m\u001b[1;33m\u001b[0m\u001b[1;33m\u001b[0m\u001b[0m\n\u001b[0m\u001b[0;32m      2\u001b[0m \u001b[0mprint\u001b[0m\u001b[1;33m(\u001b[0m\u001b[0mfloat\u001b[0m\u001b[1;33m(\u001b[0m\u001b[1;34m'True'\u001b[0m\u001b[1;33m)\u001b[0m\u001b[1;33m)\u001b[0m\u001b[1;33m\u001b[0m\u001b[1;33m\u001b[0m\u001b[0m\n\u001b[0;32m      3\u001b[0m \u001b[0mprint\u001b[0m\u001b[1;33m(\u001b[0m\u001b[0mfloat\u001b[0m\u001b[1;33m(\u001b[0m\u001b[1;34m'0b101010'\u001b[0m\u001b[1;33m)\u001b[0m\u001b[1;33m)\u001b[0m\u001b[1;33m\u001b[0m\u001b[1;33m\u001b[0m\u001b[0m\n\u001b[0;32m      4\u001b[0m \u001b[0mprint\u001b[0m\u001b[1;33m(\u001b[0m\u001b[0mfloat\u001b[0m\u001b[1;33m(\u001b[0m\u001b[1;34m'ABC'\u001b[0m\u001b[1;33m)\u001b[0m\u001b[1;33m)\u001b[0m\u001b[1;33m\u001b[0m\u001b[1;33m\u001b[0m\u001b[0m\n",
      "\u001b[1;31mTypeError\u001b[0m: can't convert complex to float"
     ]
    }
   ],
   "source": [
    "print(float(10+20j))\n",
    "print(float('True'))\n",
    "print(float('0b101010'))\n",
    "print(float('ABC'))"
   ]
  },
  {
   "cell_type": "code",
   "execution_count": 48,
   "id": "159d4aff",
   "metadata": {},
   "outputs": [
    {
     "name": "stdout",
     "output_type": "stream",
     "text": [
      "(-10+20j) <class 'complex'>\n",
      "-10.0\n",
      "20.0\n"
     ]
    }
   ],
   "source": [
    "# Complex - a+bj\n",
    "# Where a is real part\n",
    "# b is imaginary [art\n",
    "# and j is imaginary value\n",
    "#bitwise operator, assignment operator, modulo and comparison operators don't work with complex datatypes\n",
    "\n",
    "a = -10+20j\n",
    "print(a, type(a))\n",
    "print(a.real)\n",
    "print(a.imag)"
   ]
  },
  {
   "cell_type": "code",
   "execution_count": 49,
   "id": "773010a5",
   "metadata": {},
   "outputs": [
    {
     "name": "stdout",
     "output_type": "stream",
     "text": [
      "(10+0j)\n",
      "(10.2+0j)\n",
      "(1+0j)\n",
      "(21+0j)\n",
      "(10.2+0j)\n"
     ]
    }
   ],
   "source": [
    "# complex(real) - Real +0j\n",
    "# Complex(real, imag) - real+imag*j\n",
    "\n",
    "\n",
    "# Note 1 - If first arg is a string then complex function can  not take 2nd args\n",
    "# Note 2 - second argument can never be a string\n",
    "\n",
    "\n",
    "print(complex(10))\n",
    "print(complex(10.20))\n",
    "print(complex(True))\n",
    "print(complex(0b10101))\n",
    "print(complex('10.20'))"
   ]
  },
  {
   "cell_type": "code",
   "execution_count": 50,
   "id": "145521d2",
   "metadata": {},
   "outputs": [
    {
     "name": "stdout",
     "output_type": "stream",
     "text": [
      "(10+20j)\n",
      "(10.2+1j)\n",
      "(1+10j)\n",
      "(21+27427j)\n"
     ]
    }
   ],
   "source": [
    "print(complex(10, 20))\n",
    "print(complex(10.20, True))\n",
    "print(complex(True, 10))\n",
    "print(complex(0b10101, 0o65443))\n",
    "# print(complex('10.20', 100))"
   ]
  },
  {
   "cell_type": "code",
   "execution_count": 51,
   "id": "fea67218",
   "metadata": {},
   "outputs": [
    {
     "name": "stdout",
     "output_type": "stream",
     "text": [
      "Enter your age: 29\n",
      "29 <class 'int'>\n",
      "ENter the lattitude34\n",
      "Enter the logitude56\n",
      "(34+56j) <class 'complex'>\n"
     ]
    }
   ],
   "source": [
    "# Input function\n",
    "# Used to take the input from user\n",
    "# input function converts the data to string type\n",
    "\n",
    "\n",
    "# Typecasting\n",
    "a = int(input('Enter your age: '))\n",
    "print(a, type(a))\n",
    "\n",
    "b = complex(float(input('ENter the lattitude')), float(input('Enter the logitude')))\n",
    "print(b, type(b))\n"
   ]
  },
  {
   "cell_type": "code",
   "execution_count": 52,
   "id": "d37c05c3",
   "metadata": {},
   "outputs": [
    {
     "name": "stdout",
     "output_type": "stream",
     "text": [
      "(10.2,) <class 'tuple'>\n"
     ]
    },
    {
     "data": {
      "text/plain": [
       "True"
      ]
     },
     "execution_count": 52,
     "metadata": {},
     "output_type": "execute_result"
    }
   ],
   "source": [
    "a = eval('(10.20,)')\n",
    "print(a, type(a))\n",
    "\n",
    "\n",
    "eval('\"10.20+20\"')\n",
    "\n",
    "eval('True')"
   ]
  },
  {
   "cell_type": "code",
   "execution_count": 53,
   "id": "7f396a1e",
   "metadata": {},
   "outputs": [
    {
     "name": "stdout",
     "output_type": "stream",
     "text": [
      "Enter your Age: 29\n",
      "Allowed\n",
      "29\n"
     ]
    }
   ],
   "source": [
    "import sys\n",
    "emp_age = eval(input('Enter your Age: '))\n",
    "if type(emp_age) == int:\n",
    "    print('Allowed')\n",
    "    print(emp_age)\n",
    "elif type(emp_age) == float:\n",
    "    print('Allowed with rounding data')\n",
    "    print(round(emp_age))\n",
    "else:\n",
    "    print('Not Alllowed')\n",
    "    sys.exit(0)\n"
   ]
  },
  {
   "cell_type": "code",
   "execution_count": 54,
   "id": "e676e516",
   "metadata": {},
   "outputs": [
    {
     "ename": "ValueError",
     "evalue": "invalid literal for int() with base 10: 'AVC'",
     "output_type": "error",
     "traceback": [
      "\u001b[1;31m---------------------------------------------------------------------------\u001b[0m",
      "\u001b[1;31mValueError\u001b[0m                                Traceback (most recent call last)",
      "\u001b[1;32m~\\AppData\\Local\\Temp/ipykernel_5008/1542487362.py\u001b[0m in \u001b[0;36m<module>\u001b[1;34m\u001b[0m\n\u001b[1;32m----> 1\u001b[1;33m \u001b[0mint\u001b[0m\u001b[1;33m(\u001b[0m\u001b[1;34m'AVC'\u001b[0m\u001b[1;33m)\u001b[0m\u001b[1;33m\u001b[0m\u001b[1;33m\u001b[0m\u001b[0m\n\u001b[0m",
      "\u001b[1;31mValueError\u001b[0m: invalid literal for int() with base 10: 'AVC'"
     ]
    }
   ],
   "source": [
    "int('AVC')"
   ]
  },
  {
   "cell_type": "code",
   "execution_count": 55,
   "id": "8d82dbdb",
   "metadata": {},
   "outputs": [
    {
     "ename": "ValueError",
     "evalue": "invalid literal for int() with base 10: '10.20'",
     "output_type": "error",
     "traceback": [
      "\u001b[1;31m---------------------------------------------------------------------------\u001b[0m",
      "\u001b[1;31mValueError\u001b[0m                                Traceback (most recent call last)",
      "\u001b[1;32m~\\AppData\\Local\\Temp/ipykernel_5008/1899662490.py\u001b[0m in \u001b[0;36m<module>\u001b[1;34m\u001b[0m\n\u001b[1;32m----> 1\u001b[1;33m \u001b[0mint\u001b[0m\u001b[1;33m(\u001b[0m\u001b[1;34m'10.20'\u001b[0m\u001b[1;33m)\u001b[0m\u001b[1;33m\u001b[0m\u001b[1;33m\u001b[0m\u001b[0m\n\u001b[0m",
      "\u001b[1;31mValueError\u001b[0m: invalid literal for int() with base 10: '10.20'"
     ]
    }
   ],
   "source": [
    "int('10.20')"
   ]
  },
  {
   "cell_type": "code",
   "execution_count": 56,
   "id": "f435e7a6",
   "metadata": {},
   "outputs": [
    {
     "data": {
      "text/plain": [
       "35"
      ]
     },
     "execution_count": 56,
     "metadata": {},
     "output_type": "execute_result"
    }
   ],
   "source": [
    "int('35')"
   ]
  },
  {
   "cell_type": "code",
   "execution_count": 57,
   "id": "30efac82",
   "metadata": {},
   "outputs": [
    {
     "ename": "ValueError",
     "evalue": "complex() arg is a malformed string",
     "output_type": "error",
     "traceback": [
      "\u001b[1;31m---------------------------------------------------------------------------\u001b[0m",
      "\u001b[1;31mValueError\u001b[0m                                Traceback (most recent call last)",
      "\u001b[1;32m~\\AppData\\Local\\Temp/ipykernel_5008/390436213.py\u001b[0m in \u001b[0;36m<module>\u001b[1;34m\u001b[0m\n\u001b[1;32m----> 1\u001b[1;33m \u001b[0mcomplex\u001b[0m\u001b[1;33m(\u001b[0m\u001b[1;34m'10,20'\u001b[0m\u001b[1;33m)\u001b[0m\u001b[1;33m\u001b[0m\u001b[1;33m\u001b[0m\u001b[0m\n\u001b[0m",
      "\u001b[1;31mValueError\u001b[0m: complex() arg is a malformed string"
     ]
    }
   ],
   "source": [
    "complex('10,20')"
   ]
  },
  {
   "cell_type": "code",
   "execution_count": 58,
   "id": "bbe39365",
   "metadata": {},
   "outputs": [
    {
     "ename": "TypeError",
     "evalue": "complex() can't take second arg if first is a string",
     "output_type": "error",
     "traceback": [
      "\u001b[1;31m---------------------------------------------------------------------------\u001b[0m",
      "\u001b[1;31mTypeError\u001b[0m                                 Traceback (most recent call last)",
      "\u001b[1;32m~\\AppData\\Local\\Temp/ipykernel_5008/1748463293.py\u001b[0m in \u001b[0;36m<module>\u001b[1;34m\u001b[0m\n\u001b[1;32m----> 1\u001b[1;33m \u001b[0mcomplex\u001b[0m\u001b[1;33m(\u001b[0m\u001b[1;34m'10'\u001b[0m\u001b[1;33m,\u001b[0m \u001b[1;34m'20'\u001b[0m\u001b[1;33m)\u001b[0m\u001b[1;33m\u001b[0m\u001b[1;33m\u001b[0m\u001b[0m\n\u001b[0m",
      "\u001b[1;31mTypeError\u001b[0m: complex() can't take second arg if first is a string"
     ]
    }
   ],
   "source": [
    "complex('10', '20')"
   ]
  },
  {
   "cell_type": "code",
   "execution_count": 59,
   "id": "61f6b17a",
   "metadata": {},
   "outputs": [
    {
     "ename": "TypeError",
     "evalue": "'>' not supported between instances of 'complex' and 'complex'",
     "output_type": "error",
     "traceback": [
      "\u001b[1;31m---------------------------------------------------------------------------\u001b[0m",
      "\u001b[1;31mTypeError\u001b[0m                                 Traceback (most recent call last)",
      "\u001b[1;32m~\\AppData\\Local\\Temp/ipykernel_5008/1395646864.py\u001b[0m in \u001b[0;36m<module>\u001b[1;34m\u001b[0m\n\u001b[0;32m      1\u001b[0m \u001b[1;31m# <, <=, >, >=\u001b[0m\u001b[1;33m\u001b[0m\u001b[1;33m\u001b[0m\u001b[0m\n\u001b[0;32m      2\u001b[0m \u001b[1;33m\u001b[0m\u001b[0m\n\u001b[1;32m----> 3\u001b[1;33m \u001b[1;36m10\u001b[0m\u001b[1;33m+\u001b[0m\u001b[1;36m20j\u001b[0m \u001b[1;33m>\u001b[0m \u001b[1;36m5\u001b[0m\u001b[1;33m+\u001b[0m\u001b[1;36m5j\u001b[0m\u001b[1;33m\u001b[0m\u001b[1;33m\u001b[0m\u001b[0m\n\u001b[0m",
      "\u001b[1;31mTypeError\u001b[0m: '>' not supported between instances of 'complex' and 'complex'"
     ]
    }
   ],
   "source": [
    "# <, <=, >, >=\n",
    "\n",
    "10+20j > 5+5j"
   ]
  },
  {
   "cell_type": "code",
   "execution_count": 60,
   "id": "8fcac7bd",
   "metadata": {},
   "outputs": [],
   "source": [
    "# None Datatype- used to denote the missing values\n",
    "# doesn't take any memory location"
   ]
  },
  {
   "cell_type": "code",
   "execution_count": 61,
   "id": "3d88c2af",
   "metadata": {},
   "outputs": [
    {
     "data": {
      "text/plain": [
       "True"
      ]
     },
     "execution_count": 61,
     "metadata": {},
     "output_type": "execute_result"
    }
   ],
   "source": [
    "id(5) in [id(5)]"
   ]
  },
  {
   "cell_type": "code",
   "execution_count": 62,
   "id": "a6154c54",
   "metadata": {},
   "outputs": [
    {
     "name": "stdout",
     "output_type": "stream",
     "text": [
      "1593561344432\n",
      "[1593561344432]\n"
     ]
    }
   ],
   "source": [
    "print(id(5))\n",
    "print([id(5)])"
   ]
  },
  {
   "cell_type": "code",
   "execution_count": 63,
   "id": "baff0bb0",
   "metadata": {},
   "outputs": [],
   "source": [
    "lst1 = [id(5), 10]"
   ]
  },
  {
   "cell_type": "code",
   "execution_count": 64,
   "id": "47fc6e41",
   "metadata": {},
   "outputs": [
    {
     "data": {
      "text/plain": [
       "True"
      ]
     },
     "execution_count": 64,
     "metadata": {},
     "output_type": "execute_result"
    }
   ],
   "source": [
    "id(5) in lst1"
   ]
  },
  {
   "cell_type": "code",
   "execution_count": 65,
   "id": "116254b7",
   "metadata": {},
   "outputs": [
    {
     "data": {
      "text/plain": [
       "True"
      ]
     },
     "execution_count": 65,
     "metadata": {},
     "output_type": "execute_result"
    }
   ],
   "source": [
    "id(500) in [id(500)]"
   ]
  },
  {
   "cell_type": "code",
   "execution_count": 66,
   "id": "71bff98e",
   "metadata": {},
   "outputs": [
    {
     "name": "stdout",
     "output_type": "stream",
     "text": [
      "1593643323920\n",
      "[1593643324144]\n"
     ]
    }
   ],
   "source": [
    "print(id(500))\n",
    "print([id(500)])"
   ]
  },
  {
   "cell_type": "code",
   "execution_count": 67,
   "id": "442fe07e",
   "metadata": {},
   "outputs": [],
   "source": [
    "# Object Reusability\n",
    "    # Integer Caching - -5 to 256\n",
    "    # String Interning - A-Z, a-z, 0-9, _\n",
    "    # True False None"
   ]
  },
  {
   "cell_type": "code",
   "execution_count": 68,
   "id": "f6f08e0f",
   "metadata": {},
   "outputs": [
    {
     "data": {
      "text/plain": [
       "False"
      ]
     },
     "execution_count": 68,
     "metadata": {},
     "output_type": "execute_result"
    }
   ],
   "source": [
    "id(500) is [id(500)][0]"
   ]
  },
  {
   "cell_type": "code",
   "execution_count": 69,
   "id": "643fc83b",
   "metadata": {},
   "outputs": [
    {
     "name": "stdout",
     "output_type": "stream",
     "text": [
      "<class 'int'>\n",
      "<class 'list'>\n"
     ]
    }
   ],
   "source": [
    "a = id(500)\n",
    "b = [id(500)]\n",
    "print(type(a))\n",
    "print(type(b))"
   ]
  },
  {
   "cell_type": "code",
   "execution_count": 70,
   "id": "147cdf66",
   "metadata": {},
   "outputs": [
    {
     "name": "stdout",
     "output_type": "stream",
     "text": [
      "False\n"
     ]
    }
   ],
   "source": [
    "a = id(500)\n",
    "b = id(500)\n",
    "print(a is b)"
   ]
  },
  {
   "cell_type": "code",
   "execution_count": 71,
   "id": "b2605830",
   "metadata": {},
   "outputs": [
    {
     "data": {
      "text/plain": [
       "False"
      ]
     },
     "execution_count": 71,
     "metadata": {},
     "output_type": "execute_result"
    }
   ],
   "source": [
    "id(500) is [id(500)][0]"
   ]
  },
  {
   "cell_type": "code",
   "execution_count": 72,
   "id": "aabaea6b",
   "metadata": {},
   "outputs": [
    {
     "name": "stdout",
     "output_type": "stream",
     "text": [
      "['__abs__', '__add__', '__and__', '__bool__', '__ceil__', '__class__', '__delattr__', '__dir__', '__divmod__', '__doc__', '__eq__', '__float__', '__floor__', '__floordiv__', '__format__', '__ge__', '__getattribute__', '__getnewargs__', '__gt__', '__hash__', '__index__', '__init__', '__init_subclass__', '__int__', '__invert__', '__le__', '__lshift__', '__lt__', '__mod__', '__mul__', '__ne__', '__neg__', '__new__', '__or__', '__pos__', '__pow__', '__radd__', '__rand__', '__rdivmod__', '__reduce__', '__reduce_ex__', '__repr__', '__rfloordiv__', '__rlshift__', '__rmod__', '__rmul__', '__ror__', '__round__', '__rpow__', '__rrshift__', '__rshift__', '__rsub__', '__rtruediv__', '__rxor__', '__setattr__', '__sizeof__', '__str__', '__sub__', '__subclasshook__', '__truediv__', '__trunc__', '__xor__', 'as_integer_ratio', 'bit_length', 'conjugate', 'denominator', 'from_bytes', 'imag', 'numerator', 'real', 'to_bytes']\n"
     ]
    }
   ],
   "source": [
    "print(dir(int))"
   ]
  },
  {
   "cell_type": "code",
   "execution_count": 73,
   "id": "37f8c5bf",
   "metadata": {},
   "outputs": [
    {
     "data": {
      "text/plain": [
       "1593561344432"
      ]
     },
     "execution_count": 73,
     "metadata": {},
     "output_type": "execute_result"
    }
   ],
   "source": [
    "id(5)"
   ]
  },
  {
   "cell_type": "code",
   "execution_count": 74,
   "id": "781a13d0",
   "metadata": {},
   "outputs": [
    {
     "data": {
      "text/plain": [
       "[1593561344432]"
      ]
     },
     "execution_count": 74,
     "metadata": {},
     "output_type": "execute_result"
    }
   ],
   "source": [
    "[id(5)]"
   ]
  },
  {
   "cell_type": "code",
   "execution_count": 75,
   "id": "15f2da6e",
   "metadata": {},
   "outputs": [
    {
     "name": "stderr",
     "output_type": "stream",
     "text": [
      "<>:1: SyntaxWarning: \"is\" with a literal. Did you mean \"==\"?\n",
      "<>:1: SyntaxWarning: \"is\" with a literal. Did you mean \"==\"?\n",
      "C:\\Users\\SRADHA\\AppData\\Local\\Temp/ipykernel_5008/3104890958.py:1: SyntaxWarning: \"is\" with a literal. Did you mean \"==\"?\n",
      "  4319361824 is 4319361824\n"
     ]
    },
    {
     "data": {
      "text/plain": [
       "True"
      ]
     },
     "execution_count": 75,
     "metadata": {},
     "output_type": "execute_result"
    }
   ],
   "source": [
    "4319361824 is 4319361824"
   ]
  },
  {
   "cell_type": "code",
   "execution_count": 76,
   "id": "eecaa2ea",
   "metadata": {},
   "outputs": [
    {
     "name": "stderr",
     "output_type": "stream",
     "text": [
      "<>:1: SyntaxWarning: \"is\" with a literal. Did you mean \"==\"?\n",
      "<>:1: SyntaxWarning: \"is\" with a literal. Did you mean \"==\"?\n",
      "C:\\Users\\SRADHA\\AppData\\Local\\Temp/ipykernel_5008/3085837870.py:1: SyntaxWarning: \"is\" with a literal. Did you mean \"==\"?\n",
      "  1000 is 1000\n"
     ]
    },
    {
     "data": {
      "text/plain": [
       "True"
      ]
     },
     "execution_count": 76,
     "metadata": {},
     "output_type": "execute_result"
    }
   ],
   "source": [
    "1000 is 1000"
   ]
  },
  {
   "cell_type": "code",
   "execution_count": 77,
   "id": "51e6655b",
   "metadata": {},
   "outputs": [
    {
     "name": "stdout",
     "output_type": "stream",
     "text": [
      "1593643324560\n",
      "1593643325072\n"
     ]
    }
   ],
   "source": [
    "a = 1000\n",
    "b = 1000\n",
    "print(id(a))\n",
    "print(id(b))"
   ]
  },
  {
   "cell_type": "code",
   "execution_count": 78,
   "id": "f0290d23",
   "metadata": {},
   "outputs": [
    {
     "name": "stdout",
     "output_type": "stream",
     "text": [
      "1593643324496\n",
      "1593643324464\n"
     ]
    }
   ],
   "source": [
    "def f1():\n",
    "    return 500\n",
    "\n",
    "def f2():\n",
    "    return 500\n",
    "\n",
    "print(id(f1()))\n",
    "\n",
    "print(id(f2()))"
   ]
  },
  {
   "cell_type": "code",
   "execution_count": 79,
   "id": "2a9dfecb",
   "metadata": {},
   "outputs": [
    {
     "data": {
      "text/plain": [
       "False"
      ]
     },
     "execution_count": 79,
     "metadata": {},
     "output_type": "execute_result"
    }
   ],
   "source": [
    "f1() is f2()"
   ]
  },
  {
   "cell_type": "code",
   "execution_count": 80,
   "id": "fc3f8534",
   "metadata": {},
   "outputs": [
    {
     "name": "stdout",
     "output_type": "stream",
     "text": [
      "1593643324816\n",
      "1593643325040\n"
     ]
    },
    {
     "data": {
      "text/plain": [
       "False"
      ]
     },
     "execution_count": 80,
     "metadata": {},
     "output_type": "execute_result"
    }
   ],
   "source": [
    "a = 1000\n",
    "b = 1000\n",
    "print(id(a))\n",
    "print(id(b))\n",
    "\n",
    "id(a) is id(a)"
   ]
  },
  {
   "cell_type": "code",
   "execution_count": 82,
   "id": "5f5661de",
   "metadata": {},
   "outputs": [
    {
     "name": "stdout",
     "output_type": "stream",
     "text": [
      "Enter a list: [10,20,30,40]\n",
      "[10, 20, 30, 40] <class 'list'>\n"
     ]
    }
   ],
   "source": [
    "lst = eval(input('Enter a list: '))\n",
    "print(lst, type(lst))"
   ]
  },
  {
   "cell_type": "code",
   "execution_count": 83,
   "id": "a33d6bb6",
   "metadata": {},
   "outputs": [
    {
     "data": {
      "text/plain": [
       "['P', 'y', 't', 'h', 'o', 'n']"
      ]
     },
     "execution_count": 83,
     "metadata": {},
     "output_type": "execute_result"
    }
   ],
   "source": [
    "list('Python')"
   ]
  },
  {
   "cell_type": "code",
   "execution_count": 84,
   "id": "d9990965",
   "metadata": {},
   "outputs": [
    {
     "name": "stdout",
     "output_type": "stream",
     "text": [
      "[10, 20, 30, 40] <class 'list'>\n"
     ]
    }
   ],
   "source": [
    "lst = [10,20,30,40]\n",
    "print(lst, type(lst))"
   ]
  },
  {
   "cell_type": "code",
   "execution_count": 85,
   "id": "4948666e",
   "metadata": {},
   "outputs": [
    {
     "data": {
      "text/plain": [
       "[10, 20, 30, 40]"
      ]
     },
     "execution_count": 85,
     "metadata": {},
     "output_type": "execute_result"
    }
   ],
   "source": [
    "list([10,20,30,40])"
   ]
  },
  {
   "cell_type": "code",
   "execution_count": 86,
   "id": "230492f3",
   "metadata": {},
   "outputs": [
    {
     "name": "stdout",
     "output_type": "stream",
     "text": [
      "10.0 <class 'float'>\n"
     ]
    }
   ],
   "source": [
    "a  = eval(\"10.0\")\n",
    "print(a, type(a))"
   ]
  },
  {
   "cell_type": "code",
   "execution_count": 87,
   "id": "fc886537",
   "metadata": {},
   "outputs": [],
   "source": [
    "# eval('')"
   ]
  },
  {
   "cell_type": "code",
   "execution_count": 88,
   "id": "ab002038",
   "metadata": {},
   "outputs": [
    {
     "name": "stdout",
     "output_type": "stream",
     "text": [
      "10 20 30 40\n",
      "10-->20-->30-->40\n",
      "CISCO==HP==JUNYPRE==IBM\n"
     ]
    }
   ],
   "source": [
    "# Output function - print()\n",
    "\n",
    "print(10, 20, 30, 40)\n",
    "print(10, 20, 30, 40, sep = '-->')\n",
    "print('CISCO', 'HP', 'JUNYPRE', 'IBM', sep = '==')"
   ]
  },
  {
   "cell_type": "code",
   "execution_count": 90,
   "id": "82f447fb",
   "metadata": {},
   "outputs": [
    {
     "name": "stdout",
     "output_type": "stream",
     "text": [
      "ENter first number: 45\n",
      "ENter second number: 56\n",
      "The sum of 45 and 56 is 101\n",
      "The sum of 45 and 56 is 101\n"
     ]
    }
   ],
   "source": [
    "# String output formatting\n",
    "num1 = int(input('ENter first number: '))\n",
    "num2 = int(input('ENter second number: '))\n",
    "res = num1 + num2\n",
    "print(f'The sum of {num1} and {num2} is {res}')\n",
    "print('The sum of {} and {} is {}'.format(num1, num2, res))\n"
   ]
  },
  {
   "cell_type": "code",
   "execution_count": 91,
   "id": "cf0e72bc",
   "metadata": {},
   "outputs": [
    {
     "name": "stdout",
     "output_type": "stream",
     "text": [
      "20\t30\t40\t"
     ]
    }
   ],
   "source": [
    "## print(10, end = '\\t')\n",
    "print(20, end = '\\t')\n",
    "print(30, end = '\\t')\n",
    "print(40, end = '\\t')"
   ]
  },
  {
   "cell_type": "code",
   "execution_count": 92,
   "id": "b8a66122",
   "metadata": {},
   "outputs": [],
   "source": [
    "# The sum of 100 and 20 is 120"
   ]
  },
  {
   "cell_type": "code",
   "execution_count": 93,
   "id": "bf2359ae",
   "metadata": {},
   "outputs": [
    {
     "name": "stdout",
     "output_type": "stream",
     "text": [
      "Learnbay\n",
      "\tLearnbay\n",
      "\t\tLearnbay\n",
      "\tLearnbay\n",
      "Learnbay\n"
     ]
    }
   ],
   "source": [
    "# print()\n",
    "\n",
    "# Learnbay\n",
    "#     Learnbay\n",
    "#         Learnbay\n",
    "#     Learnbay\n",
    "# Learnbay\n",
    "\n",
    "print('Learnbay', end = '\\n\\t')\n",
    "print('Learnbay', end = '\\n\\t\\t')\n",
    "print('Learnbay', end = '\\n\\t')\n",
    "print('Learnbay')\n",
    "print('Learnbay')"
   ]
  },
  {
   "cell_type": "code",
   "execution_count": 94,
   "id": "549cd468",
   "metadata": {},
   "outputs": [
    {
     "name": "stdout",
     "output_type": "stream",
     "text": [
      "10\n",
      "20\n",
      "30\n"
     ]
    }
   ],
   "source": [
    "print(10, 20, 30, sep = '\\n')"
   ]
  },
  {
   "cell_type": "code",
   "execution_count": 95,
   "id": "92ceca23",
   "metadata": {},
   "outputs": [
    {
     "name": "stdout",
     "output_type": "stream",
     "text": [
      "33.333333333333336\n",
      "33\n"
     ]
    }
   ],
   "source": [
    "# Arithmetic - +, -, *, /(Float Division), //(Floor Division), %(Modulo), **(Exponent)\n",
    "\n",
    "a = 100\n",
    "b = 3\n",
    "print(a/b)      # Float value - Float division\n",
    "print(a//b)     # Floor value of float division result"
   ]
  },
  {
   "cell_type": "code",
   "execution_count": 96,
   "id": "43cc0731",
   "metadata": {},
   "outputs": [],
   "source": [
    "# Ceil - Highest Nearest Whole number - 11\n",
    "# num = 10.99\n",
    "# Floor - Lowest nearest whole number - 10\n"
   ]
  },
  {
   "cell_type": "code",
   "execution_count": 97,
   "id": "a4bdc65e",
   "metadata": {},
   "outputs": [
    {
     "data": {
      "text/plain": [
       "5"
      ]
     },
     "execution_count": 97,
     "metadata": {},
     "output_type": "execute_result"
    }
   ],
   "source": [
    "import math\n",
    "math.ceil(4.3)"
   ]
  },
  {
   "cell_type": "code",
   "execution_count": 98,
   "id": "36f21635",
   "metadata": {},
   "outputs": [
    {
     "name": "stdout",
     "output_type": "stream",
     "text": [
      "1\n",
      "1000000\n"
     ]
    }
   ],
   "source": [
    "print(a%b)\n",
    "\n",
    "print(a**b)\n"
   ]
  },
  {
   "cell_type": "code",
   "execution_count": 99,
   "id": "635cdfea",
   "metadata": {},
   "outputs": [
    {
     "name": "stdout",
     "output_type": "stream",
     "text": [
      "100\n"
     ]
    }
   ],
   "source": [
    "print(pow(10,2))"
   ]
  },
  {
   "cell_type": "code",
   "execution_count": 100,
   "id": "4569ccc1",
   "metadata": {},
   "outputs": [],
   "source": [
    "# Comparison Operator - <, <=,>, >=\n",
    "# Works with similar data type, Exception int and float\n",
    "# Can be performed between a str and a str\n",
    "# Cannot be performed on complex operators\n",
    "# Cannot be performed on None type.\n",
    "# Returns Boolean value- True, False"
   ]
  },
  {
   "cell_type": "code",
   "execution_count": 101,
   "id": "f41a9672",
   "metadata": {},
   "outputs": [
    {
     "name": "stdout",
     "output_type": "stream",
     "text": [
      "True\n"
     ]
    }
   ],
   "source": [
    "print('Abc'< 'abc')"
   ]
  },
  {
   "cell_type": "code",
   "execution_count": 102,
   "id": "cc09cece",
   "metadata": {},
   "outputs": [
    {
     "name": "stdout",
     "output_type": "stream",
     "text": [
      "True\n",
      "True\n"
     ]
    }
   ],
   "source": [
    "print(10<20)\n",
    "print(10 < 10.20)"
   ]
  },
  {
   "cell_type": "code",
   "execution_count": 103,
   "id": "be61dc48",
   "metadata": {},
   "outputs": [
    {
     "ename": "TypeError",
     "evalue": "'<' not supported between instances of 'NoneType' and 'NoneType'",
     "output_type": "error",
     "traceback": [
      "\u001b[1;31m---------------------------------------------------------------------------\u001b[0m",
      "\u001b[1;31mTypeError\u001b[0m                                 Traceback (most recent call last)",
      "\u001b[1;32m~\\AppData\\Local\\Temp/ipykernel_5008/3739934498.py\u001b[0m in \u001b[0;36m<module>\u001b[1;34m\u001b[0m\n\u001b[1;32m----> 1\u001b[1;33m \u001b[0mprint\u001b[0m\u001b[1;33m(\u001b[0m\u001b[1;32mNone\u001b[0m\u001b[1;33m<\u001b[0m\u001b[1;32mNone\u001b[0m\u001b[1;33m)\u001b[0m\u001b[1;33m\u001b[0m\u001b[1;33m\u001b[0m\u001b[0m\n\u001b[0m",
      "\u001b[1;31mTypeError\u001b[0m: '<' not supported between instances of 'NoneType' and 'NoneType'"
     ]
    }
   ],
   "source": [
    "print(None<None)"
   ]
  },
  {
   "cell_type": "code",
   "execution_count": 104,
   "id": "3c834ccd",
   "metadata": {},
   "outputs": [
    {
     "name": "stdout",
     "output_type": "stream",
     "text": [
      "65\n",
      "61\n",
      "60\n"
     ]
    }
   ],
   "source": [
    "print(ord('A'))\n",
    "print(ord('='))\n",
    "print(ord('<'))\n"
   ]
  },
  {
   "cell_type": "code",
   "execution_count": 105,
   "id": "1cd4596d",
   "metadata": {},
   "outputs": [
    {
     "name": "stdout",
     "output_type": "stream",
     "text": [
      "A\n",
      "=\n",
      "<\n"
     ]
    }
   ],
   "source": [
    "print(chr(65))\n",
    "print(chr(61))\n",
    "print(chr(60))"
   ]
  },
  {
   "cell_type": "code",
   "execution_count": 106,
   "id": "2113b0ed",
   "metadata": {},
   "outputs": [
    {
     "name": "stdout",
     "output_type": "stream",
     "text": [
      "True\n"
     ]
    }
   ],
   "source": [
    "print('A' <= chr(65))"
   ]
  },
  {
   "cell_type": "code",
   "execution_count": 107,
   "id": "42e8204e",
   "metadata": {},
   "outputs": [
    {
     "name": "stdout",
     "output_type": "stream",
     "text": [
      "False\n"
     ]
    }
   ],
   "source": [
    "print('axy' < 'a')"
   ]
  },
  {
   "cell_type": "code",
   "execution_count": 108,
   "id": "d174504f",
   "metadata": {},
   "outputs": [
    {
     "data": {
      "text/plain": [
       "False"
      ]
     },
     "execution_count": 108,
     "metadata": {},
     "output_type": "execute_result"
    }
   ],
   "source": [
    "[100, 2, 3] < [10,20,30]"
   ]
  },
  {
   "cell_type": "code",
   "execution_count": 109,
   "id": "637f8cda",
   "metadata": {},
   "outputs": [
    {
     "ename": "TypeError",
     "evalue": "'<' not supported between instances of 'complex' and 'complex'",
     "output_type": "error",
     "traceback": [
      "\u001b[1;31m---------------------------------------------------------------------------\u001b[0m",
      "\u001b[1;31mTypeError\u001b[0m                                 Traceback (most recent call last)",
      "\u001b[1;32m~\\AppData\\Local\\Temp/ipykernel_5008/1468431282.py\u001b[0m in \u001b[0;36m<module>\u001b[1;34m\u001b[0m\n\u001b[1;32m----> 1\u001b[1;33m \u001b[0mprint\u001b[0m\u001b[1;33m(\u001b[0m\u001b[1;36m10\u001b[0m\u001b[1;33m+\u001b[0m\u001b[1;36m20j\u001b[0m\u001b[1;33m<\u001b[0m\u001b[1;36m5\u001b[0m\u001b[1;33m+\u001b[0m\u001b[1;36m5j\u001b[0m\u001b[1;33m)\u001b[0m\u001b[1;33m\u001b[0m\u001b[1;33m\u001b[0m\u001b[0m\n\u001b[0m",
      "\u001b[1;31mTypeError\u001b[0m: '<' not supported between instances of 'complex' and 'complex'"
     ]
    }
   ],
   "source": [
    "print(10+20j<5+5j)"
   ]
  },
  {
   "cell_type": "code",
   "execution_count": 56,
   "id": "1a43b02b",
   "metadata": {},
   "outputs": [],
   "source": [
    "# Equality Operator ==, !=\n",
    "# Return Boolean Value\n",
    "# Works with different data type\n",
    "# Compares the value and type(excpet int and float)"
   ]
  },
  {
   "cell_type": "code",
   "execution_count": 58,
   "id": "d45044a6",
   "metadata": {},
   "outputs": [
    {
     "name": "stdout",
     "output_type": "stream",
     "text": [
      "True\n"
     ]
    }
   ],
   "source": [
    "print(10==10.0)"
   ]
  },
  {
   "cell_type": "code",
   "execution_count": 59,
   "id": "151677a9",
   "metadata": {},
   "outputs": [
    {
     "name": "stdout",
     "output_type": "stream",
     "text": [
      "False\n"
     ]
    }
   ],
   "source": [
    "print(10 == '10')"
   ]
  },
  {
   "cell_type": "code",
   "execution_count": 60,
   "id": "efed5be3",
   "metadata": {},
   "outputs": [
    {
     "name": "stdout",
     "output_type": "stream",
     "text": [
      "True\n"
     ]
    }
   ],
   "source": [
    "print('10' == '10')"
   ]
  },
  {
   "cell_type": "code",
   "execution_count": 61,
   "id": "26b5a089",
   "metadata": {},
   "outputs": [
    {
     "name": "stdout",
     "output_type": "stream",
     "text": [
      "0.30000000000000004\n"
     ]
    }
   ],
   "source": [
    "print(0.1+0.2)"
   ]
  },
  {
   "cell_type": "code",
   "execution_count": 62,
   "id": "304c6bb9",
   "metadata": {},
   "outputs": [],
   "source": [
    "# https://www.youtube.com/watch?v=PZRI1IfStY0"
   ]
  },
  {
   "cell_type": "code",
   "execution_count": 72,
   "id": "efc75f77",
   "metadata": {},
   "outputs": [
    {
     "name": "stdout",
     "output_type": "stream",
     "text": [
      "0\n",
      "10\n"
     ]
    }
   ],
   "source": [
    "#and - False\n",
    "# False and True = False\n",
    "# True and False = False\n",
    "# False and False = False\n",
    "# True and True = True\n",
    "\n",
    "\n",
    "# #or - True\n",
    "# False or True = True\n",
    "# True or False = True\n",
    "# False or False = False\n",
    "# True or True = True\n",
    "\n",
    "\n",
    "print(0 and 0.0)\n",
    "print(10 or 0)\n"
   ]
  },
  {
   "cell_type": "code",
   "execution_count": 73,
   "id": "14b6375a",
   "metadata": {},
   "outputs": [
    {
     "name": "stdout",
     "output_type": "stream",
     "text": [
      "True\n"
     ]
    }
   ],
   "source": [
    "print((10==10) and (10<20))"
   ]
  },
  {
   "cell_type": "code",
   "execution_count": 74,
   "id": "86c229eb",
   "metadata": {},
   "outputs": [
    {
     "name": "stdout",
     "output_type": "stream",
     "text": [
      "55\n",
      "-3104\n",
      "-4\n"
     ]
    }
   ],
   "source": [
    "# Bitwise Operator - &, |, ^, ~, << ,>>\n",
    "# Works only with integers, integers can be converted to binary values (bit).\n",
    "# Works only with the binary values\n",
    "\n",
    "# & Truth Table\n",
    "# 0 & 0 = 0\n",
    "# 0 & 1 = 0\n",
    "# 1 & 0 = 0\n",
    "# 1 & 1 = 1\n",
    "\n",
    "# | Truth Table\n",
    "# 0 | 0 = 0\n",
    "# 0 | 1 = 1\n",
    "# 1 | 0 = 1\n",
    "# 1 | 1 = 1\n",
    "\n",
    "# ^ Truth Table\n",
    "# 0 & 0 = 0\n",
    "# 0 & 1 = 1\n",
    "# 1 & 0 = 1\n",
    "# 1 & 1 = 0\n",
    "\n",
    "print(39 | 49)"
   ]
  },
  {
   "cell_type": "code",
   "execution_count": 75,
   "id": "413a8983",
   "metadata": {},
   "outputs": [
    {
     "name": "stdout",
     "output_type": "stream",
     "text": [
      "0b110001\n"
     ]
    }
   ],
   "source": [
    "print(bin(49))"
   ]
  },
  {
   "cell_type": "code",
   "execution_count": 76,
   "id": "54e38ddb",
   "metadata": {},
   "outputs": [],
   "source": [
    "# 39 = 100111\n",
    "# 49 = 110001\n",
    "# ============\n",
    "# &  = 100001\n",
    "# |  = 110111"
   ]
  },
  {
   "cell_type": "code",
   "execution_count": 78,
   "id": "e507a77d",
   "metadata": {},
   "outputs": [
    {
     "name": "stdout",
     "output_type": "stream",
     "text": [
      "33\n",
      "55\n",
      "42\n"
     ]
    }
   ],
   "source": [
    "print(0b100001)\n",
    "print(0b110111)\n",
    "\n",
    "print(0b101010)"
   ]
  },
  {
   "cell_type": "code",
   "execution_count": 79,
   "id": "3c0aff93",
   "metadata": {},
   "outputs": [
    {
     "name": "stdout",
     "output_type": "stream",
     "text": [
      "-11\n",
      "8\n",
      "-2\n",
      "-3104\n",
      "-4\n"
     ]
    }
   ],
   "source": [
    "# Bitwise Negation - ~\n",
    "# ~num = -(num+1)\n",
    "\n",
    "print(~10)\n",
    "print(~-9)\n",
    "print(~True)"
   ]
  },
  {
   "cell_type": "code",
   "execution_count": 11,
   "id": "b8c0c55b",
   "metadata": {},
   "outputs": [
    {
     "name": "stdout",
     "output_type": "stream",
     "text": [
      "-3104\n",
      "3104\n"
     ]
    }
   ],
   "source": [
    "# Bitwise Left shift -> <<\n",
    "# num << no of bits => num * (2 ** no of bits)\n",
    "\n",
    "print(-97 << 5)\n",
    "print(97 * 2 ** 5)"
   ]
  },
  {
   "cell_type": "code",
   "execution_count": 82,
   "id": "408e6227",
   "metadata": {},
   "outputs": [
    {
     "name": "stdout",
     "output_type": "stream",
     "text": [
      "-4\n",
      "3\n"
     ]
    }
   ],
   "source": [
    "# Bitwise Left shift -> <<\n",
    "# num << no of bits => num // (2 ** no of bits)\n",
    "\n",
    "print(-97 >> 5)\n",
    "print(97 // 2 ** 5)"
   ]
  },
  {
   "cell_type": "code",
   "execution_count": 83,
   "id": "99f8b1ee",
   "metadata": {},
   "outputs": [],
   "source": [
    "# Ternary Operator\n",
    "# Membership"
   ]
  },
  {
   "cell_type": "code",
   "execution_count": 84,
   "id": "08a55dce",
   "metadata": {},
   "outputs": [],
   "source": [
    "# Compound Assignment Operator - +=, -=, *=, /=, //=, **=, &=, |=, <<=. >>="
   ]
  },
  {
   "cell_type": "code",
   "execution_count": 14,
   "id": "462d0334",
   "metadata": {},
   "outputs": [
    {
     "name": "stdout",
     "output_type": "stream",
     "text": [
      "Enter a number: 7\n",
      "Odd\n"
     ]
    }
   ],
   "source": [
    "# Ternary Operator - expr1 if cond else expr2\n",
    "# expr1 if cond1 else expr2 if cond2 else expr3 if cond3 else expr4 if cond4 else expr5\n",
    "\n",
    "num1 = int(input('Enter a number: '))\n",
    "print('Even' if num1%2 == 0 else 'Odd')"
   ]
  },
  {
   "cell_type": "code",
   "execution_count": 86,
   "id": "4aa2f8ad",
   "metadata": {},
   "outputs": [
    {
     "name": "stdout",
     "output_type": "stream",
     "text": [
      "Enter First Number: 76\n",
      "Enter First Number: 67\n",
      "76\n"
     ]
    }
   ],
   "source": [
    "# Take two number as input from user and print the largest number\n",
    "num1 = int(input('Enter First Number: '))\n",
    "num2 = int(input('Enter First Number: '))\n",
    "print(num1 if num1>num2 else num2)\n",
    "\n",
    "\n",
    "\n",
    "\n",
    "# Take 3 number as input from user and print the largest number\n"
   ]
  },
  {
   "cell_type": "code",
   "execution_count": 87,
   "id": "0c2d577e",
   "metadata": {},
   "outputs": [
    {
     "name": "stdout",
     "output_type": "stream",
     "text": [
      "Even\n"
     ]
    }
   ],
   "source": [
    "if num1%2 == 0:print('Even')"
   ]
  },
  {
   "cell_type": "code",
   "execution_count": 88,
   "id": "d8276e79",
   "metadata": {},
   "outputs": [],
   "source": [
    "# operator Precedence\n",
    "# Operators                                     \tMeaning\n",
    "# ()      \tParentheses\n",
    "# **      \tExponent\n",
    "# +x, -x, ~x\tUnary plus, Unary minus, Bitwise NOT\n",
    "# *, /, //, %\tMultiplication, Division, Floor division, Modulus\n",
    "# +, -    \tAddition, Subtraction\n",
    "# <<, >>  \tBitwise shift operators\n",
    "# &       \tBitwise AND\n",
    "# ^       \tBitwise XOR\n",
    "# |       \tBitwise OR\n",
    "# ==, !=, >, >=, <, <=, is, is not, in, not in  \tComparisons, Identity, Membership operators\n",
    "# not     \tLogical NOT\n",
    "# and     \tLogical AND\n",
    "# or      \tLogical OR"
   ]
  },
  {
   "cell_type": "code",
   "execution_count": 89,
   "id": "0f8795b8",
   "metadata": {},
   "outputs": [
    {
     "data": {
      "text/plain": [
       "-10"
      ]
     },
     "execution_count": 89,
     "metadata": {},
     "output_type": "execute_result"
    }
   ],
   "source": [
    "+-10"
   ]
  },
  {
   "cell_type": "code",
   "execution_count": 90,
   "id": "d1d9bd9d",
   "metadata": {},
   "outputs": [
    {
     "data": {
      "text/plain": [
       "10"
      ]
     },
     "execution_count": 90,
     "metadata": {},
     "output_type": "execute_result"
    }
   ],
   "source": [
    "--10"
   ]
  },
  {
   "cell_type": "code",
   "execution_count": 12,
   "id": "afc567f8",
   "metadata": {},
   "outputs": [],
   "source": [
    "#Identity Operator- is and is not (If the two variables share the same memory location or notb)"
   ]
  },
  {
   "cell_type": "code",
   "execution_count": 13,
   "id": "84d45fe7",
   "metadata": {},
   "outputs": [],
   "source": [
    "#Object Reusability-\n",
    "    # int-> 5 to 256\n",
    "    # None\n",
    "    # True and False\n",
    "    # String-> A-Z, a-z, 0-9,..\n",
    "    \n",
    "#Object reusability won't work for float and complex numbers."
   ]
  },
  {
   "cell_type": "markdown",
   "id": "31d7b366",
   "metadata": {},
   "source": [
    "# Boolean"
   ]
  },
  {
   "cell_type": "code",
   "execution_count": 63,
   "id": "9482bbef",
   "metadata": {},
   "outputs": [
    {
     "name": "stdout",
     "output_type": "stream",
     "text": [
      "2\n",
      "0\n"
     ]
    }
   ],
   "source": [
    "# Boolean - True, False\n",
    "# True == 1\n",
    "# False == 0\n",
    "print(True + True)\n",
    "print(100 * False)\n"
   ]
  },
  {
   "cell_type": "code",
   "execution_count": 64,
   "id": "5593e1a3",
   "metadata": {},
   "outputs": [
    {
     "name": "stdout",
     "output_type": "stream",
     "text": [
      "True\n",
      "True\n",
      "True\n",
      "False\n"
     ]
    }
   ],
   "source": [
    "# Int to boolean - 0 is always False rest all are True\n",
    "# Float to boolean - 0.0 is always False rest all are True\n",
    "# Complex to boolean - 0.0+0.0j is always False rest all are True\n",
    "# String to boolean - '' is always False rest all are True\n",
    "# None is always False\n",
    "# List, Tuple, Set, Dictionary - [], (), (), set() - False, Rest all True\n",
    "\n",
    "print(bool(-20))\n",
    "print(bool(-20.0987))\n",
    "print(bool(0+0.1j))\n",
    "print(bool(None))\n"
   ]
  },
  {
   "cell_type": "code",
   "execution_count": 65,
   "id": "3d1e0246",
   "metadata": {},
   "outputs": [
    {
     "name": "stdout",
     "output_type": "stream",
     "text": [
      "True\n",
      "False\n",
      "True\n"
     ]
    }
   ],
   "source": [
    "print(bool(' '))\n",
    "print(bool(None))\n",
    "\n",
    "print(bool([None]))"
   ]
  },
  {
   "cell_type": "code",
   "execution_count": 68,
   "id": "162dc7fb",
   "metadata": {},
   "outputs": [
    {
     "name": "stdout",
     "output_type": "stream",
     "text": [
      "Enyter First Number: 10\n",
      "True\n"
     ]
    }
   ],
   "source": [
    "a = bool(int(input('Enyter First Number: ')))\n",
    "print(a)\n"
   ]
  },
  {
   "cell_type": "code",
   "execution_count": 67,
   "id": "c63de430",
   "metadata": {},
   "outputs": [
    {
     "data": {
      "text/plain": [
       "True"
      ]
     },
     "execution_count": 67,
     "metadata": {},
     "output_type": "execute_result"
    }
   ],
   "source": [
    "bool('_')"
   ]
  },
  {
   "cell_type": "code",
   "execution_count": 69,
   "id": "0046ca23",
   "metadata": {},
   "outputs": [
    {
     "name": "stdout",
     "output_type": "stream",
     "text": [
      "Enter a list: [10]\n",
      "Length of the list is  1\n"
     ]
    }
   ],
   "source": [
    "# Take a list as input and if list is empty then return empty list does not have length else print the length of list\n",
    "lst = eval(input('Enter a list: '))\n",
    "if 1:\n",
    "    print('Length of the list is ', len(lst))\n",
    "else:\n",
    "    print('Empty list does not have length')\n"
   ]
  },
  {
   "cell_type": "code",
   "execution_count": 151,
   "id": "a1f75300",
   "metadata": {},
   "outputs": [
    {
     "name": "stdout",
     "output_type": "stream",
     "text": [
      "Enter your Age: 29\n",
      "Allowed\n",
      "29\n"
     ]
    }
   ],
   "source": [
    "# Using the try and else block with eval function\n",
    "try:\n",
    "    emp_age = eval(input('Enter your Age: '))\n",
    "    if type(emp_age) == int:\n",
    "        print('Allowed')\n",
    "        print(emp_age)\n",
    "    elif type(emp_age) == float:\n",
    "        print('Allowed with rounding data')\n",
    "        print(round(emp_age))\n",
    "    else:\n",
    "        print('Not Alllowed')\n",
    "        exit()\n",
    "            \n",
    "except Exception as e:\n",
    "    print(e)"
   ]
  },
  {
   "cell_type": "markdown",
   "id": "0870e271",
   "metadata": {},
   "source": [
    "## Typecasting"
   ]
  },
  {
   "cell_type": "code",
   "execution_count": 1,
   "id": "456e0ce8",
   "metadata": {},
   "outputs": [],
   "source": [
    "#Converting one data type to another."
   ]
  },
  {
   "cell_type": "code",
   "execution_count": 2,
   "id": "f9c0462d",
   "metadata": {},
   "outputs": [],
   "source": [
    "#int to float\n",
    "#float to int\n",
    "#str to float\n",
    "#string int"
   ]
  },
  {
   "cell_type": "code",
   "execution_count": 3,
   "id": "d6a0bca6",
   "metadata": {},
   "outputs": [
    {
     "name": "stdout",
     "output_type": "stream",
     "text": [
      "<class 'int'>\n"
     ]
    }
   ],
   "source": [
    "a=3\n",
    "print(type(a))"
   ]
  },
  {
   "cell_type": "code",
   "execution_count": 4,
   "id": "295f878e",
   "metadata": {},
   "outputs": [
    {
     "name": "stdout",
     "output_type": "stream",
     "text": [
      "3.0\n",
      "<class 'float'>\n"
     ]
    }
   ],
   "source": [
    "#way 1\n",
    "a=3\n",
    "print(float(a))\n",
    "print(type(float(a)))"
   ]
  },
  {
   "cell_type": "code",
   "execution_count": 6,
   "id": "c70f00a4",
   "metadata": {},
   "outputs": [
    {
     "ename": "ValueError",
     "evalue": "could not convert string to float: 'abc'",
     "output_type": "error",
     "traceback": [
      "\u001b[1;31m---------------------------------------------------------------------------\u001b[0m",
      "\u001b[1;31mValueError\u001b[0m                                Traceback (most recent call last)",
      "\u001b[1;32m~\\AppData\\Local\\Temp/ipykernel_7632/1477879665.py\u001b[0m in \u001b[0;36m<module>\u001b[1;34m\u001b[0m\n\u001b[0;32m      1\u001b[0m \u001b[0mstr1\u001b[0m\u001b[1;33m=\u001b[0m\u001b[1;34m'abc'\u001b[0m\u001b[1;33m\u001b[0m\u001b[1;33m\u001b[0m\u001b[0m\n\u001b[1;32m----> 2\u001b[1;33m \u001b[0mprint\u001b[0m\u001b[1;33m(\u001b[0m\u001b[0mfloat\u001b[0m\u001b[1;33m(\u001b[0m\u001b[0mstr1\u001b[0m\u001b[1;33m)\u001b[0m\u001b[1;33m)\u001b[0m\u001b[1;33m\u001b[0m\u001b[1;33m\u001b[0m\u001b[0m\n\u001b[0m",
      "\u001b[1;31mValueError\u001b[0m: could not convert string to float: 'abc'"
     ]
    }
   ],
   "source": [
    "str1='abc'\n",
    "print(float(str1))"
   ]
  },
  {
   "cell_type": "code",
   "execution_count": 7,
   "id": "14fcd8a6",
   "metadata": {},
   "outputs": [
    {
     "name": "stdout",
     "output_type": "stream",
     "text": [
      "3\n",
      "<class 'int'>\n"
     ]
    }
   ],
   "source": [
    "a=3.2\n",
    "print(int(a))\n",
    "print(type(int(a)))"
   ]
  },
  {
   "cell_type": "code",
   "execution_count": 8,
   "id": "45d9679a",
   "metadata": {},
   "outputs": [
    {
     "name": "stdout",
     "output_type": "stream",
     "text": [
      "10\n",
      "<class 'int'>\n"
     ]
    }
   ],
   "source": [
    "str1='10'\n",
    "print(int(str1))\n",
    "print(type(int(str1)))"
   ]
  },
  {
   "cell_type": "code",
   "execution_count": 10,
   "id": "6f728619",
   "metadata": {},
   "outputs": [
    {
     "ename": "ValueError",
     "evalue": "invalid literal for int() with base 10: '10.2'",
     "output_type": "error",
     "traceback": [
      "\u001b[1;31m---------------------------------------------------------------------------\u001b[0m",
      "\u001b[1;31mValueError\u001b[0m                                Traceback (most recent call last)",
      "\u001b[1;32m~\\AppData\\Local\\Temp/ipykernel_7632/2969857105.py\u001b[0m in \u001b[0;36m<module>\u001b[1;34m\u001b[0m\n\u001b[0;32m      1\u001b[0m \u001b[0mstr1\u001b[0m\u001b[1;33m=\u001b[0m\u001b[1;34m'10.2'\u001b[0m    \u001b[1;31m# . is taken as a special character\u001b[0m\u001b[1;33m\u001b[0m\u001b[1;33m\u001b[0m\u001b[0m\n\u001b[1;32m----> 2\u001b[1;33m \u001b[0mprint\u001b[0m\u001b[1;33m(\u001b[0m\u001b[0mint\u001b[0m\u001b[1;33m(\u001b[0m\u001b[0mstr1\u001b[0m\u001b[1;33m)\u001b[0m\u001b[1;33m)\u001b[0m\u001b[1;33m\u001b[0m\u001b[1;33m\u001b[0m\u001b[0m\n\u001b[0m\u001b[0;32m      3\u001b[0m \u001b[0mprint\u001b[0m\u001b[1;33m(\u001b[0m\u001b[0mtype\u001b[0m\u001b[1;33m(\u001b[0m\u001b[0mint\u001b[0m\u001b[1;33m(\u001b[0m\u001b[0mstr1\u001b[0m\u001b[1;33m)\u001b[0m\u001b[1;33m)\u001b[0m\u001b[1;33m)\u001b[0m\u001b[1;33m\u001b[0m\u001b[1;33m\u001b[0m\u001b[0m\n",
      "\u001b[1;31mValueError\u001b[0m: invalid literal for int() with base 10: '10.2'"
     ]
    }
   ],
   "source": [
    "str1='10.2'    # . is taken as a special character\n",
    "print(int(str1))\n",
    "print(type(int(str1)))"
   ]
  },
  {
   "cell_type": "code",
   "execution_count": 11,
   "id": "571c8cdc",
   "metadata": {},
   "outputs": [
    {
     "name": "stdout",
     "output_type": "stream",
     "text": [
      "10.2\n",
      "<class 'float'>\n"
     ]
    }
   ],
   "source": [
    "str1='10.2'   \n",
    "print(float(str1))\n",
    "print(type(float(str1)))"
   ]
  },
  {
   "cell_type": "code",
   "execution_count": 12,
   "id": "457f23f1",
   "metadata": {},
   "outputs": [
    {
     "data": {
      "text/plain": [
       "False"
      ]
     },
     "execution_count": 12,
     "metadata": {},
     "output_type": "execute_result"
    }
   ],
   "source": [
    "bool(0)"
   ]
  },
  {
   "cell_type": "code",
   "execution_count": 13,
   "id": "dc333e9c",
   "metadata": {},
   "outputs": [
    {
     "data": {
      "text/plain": [
       "True"
      ]
     },
     "execution_count": 13,
     "metadata": {},
     "output_type": "execute_result"
    }
   ],
   "source": [
    "bool(0.0001)"
   ]
  },
  {
   "cell_type": "markdown",
   "id": "663917b6",
   "metadata": {},
   "source": [
    "# Input and Output function"
   ]
  },
  {
   "cell_type": "code",
   "execution_count": 14,
   "id": "fe2aea7f",
   "metadata": {},
   "outputs": [],
   "source": [
    "#Input Function- Used to take the value from the user"
   ]
  },
  {
   "cell_type": "code",
   "execution_count": 16,
   "id": "918376da",
   "metadata": {},
   "outputs": [
    {
     "name": "stdout",
     "output_type": "stream",
     "text": [
      "Enter your name:Sradha\n",
      "Enter your age:29\n",
      "Sradha\n",
      "29\n"
     ]
    }
   ],
   "source": [
    "name=input('Enter your name:')\n",
    "age=input('Enter your age:')\n",
    "print(name)\n",
    "print(age)"
   ]
  },
  {
   "cell_type": "code",
   "execution_count": 17,
   "id": "2ce87bbf",
   "metadata": {},
   "outputs": [
    {
     "name": "stdout",
     "output_type": "stream",
     "text": [
      "My name is Sradha and my age is 29\n"
     ]
    }
   ],
   "source": [
    "#string format\n",
    "name='Sradha'\n",
    "age=29\n",
    "print(f'My name is {name} and my age is {age}')"
   ]
  },
  {
   "cell_type": "code",
   "execution_count": 18,
   "id": "50533011",
   "metadata": {},
   "outputs": [
    {
     "name": "stdout",
     "output_type": "stream",
     "text": [
      "My name is Sradha and my age is 29\n"
     ]
    }
   ],
   "source": [
    "name='Sradha'\n",
    "age=29\n",
    "print('My name is {} and my age is {}'.format(name,age))"
   ]
  },
  {
   "cell_type": "code",
   "execution_count": null,
   "id": "0530b9a3",
   "metadata": {},
   "outputs": [],
   "source": []
  },
  {
   "cell_type": "code",
   "execution_count": null,
   "id": "f728a7fa",
   "metadata": {},
   "outputs": [],
   "source": []
  }
 ],
 "metadata": {
  "kernelspec": {
   "display_name": "Python 3 (ipykernel)",
   "language": "python",
   "name": "python3"
  },
  "language_info": {
   "codemirror_mode": {
    "name": "ipython",
    "version": 3
   },
   "file_extension": ".py",
   "mimetype": "text/x-python",
   "name": "python",
   "nbconvert_exporter": "python",
   "pygments_lexer": "ipython3",
   "version": "3.9.7"
  }
 },
 "nbformat": 4,
 "nbformat_minor": 5
}
