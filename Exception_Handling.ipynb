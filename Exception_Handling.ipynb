{
 "cells": [
  {
   "cell_type": "code",
   "execution_count": 2,
   "metadata": {},
   "outputs": [
    {
     "data": {
      "text/plain": [
       "'Type of Error\\nWhat is an exception\\nWhy exception required\\nHow to handle th exception\\nUser defined exceptions'"
      ]
     },
     "execution_count": 2,
     "metadata": {},
     "output_type": "execute_result"
    }
   ],
   "source": [
    "# Exception handling in python\n",
    "'''Type of Error\n",
    "What is an exception\n",
    "Why exception required\n",
    "How to handle th exception\n",
    "User defined exceptions'''\n",
    "# Regular Expression in Python"
   ]
  },
  {
   "cell_type": "code",
   "execution_count": 3,
   "metadata": {},
   "outputs": [
    {
     "data": {
      "text/plain": [
       "'Compile time Error\\nRun time Error\\nLogical Error'"
      ]
     },
     "execution_count": 3,
     "metadata": {},
     "output_type": "execute_result"
    }
   ],
   "source": [
    "# Debugging - the process of removing the bugs from your application\n",
    "\n",
    "# Type of Error in a program\n",
    "'''Compile time Error\n",
    "Run time Error\n",
    "Logical Error'''"
   ]
  },
  {
   "cell_type": "code",
   "execution_count": 4,
   "metadata": {},
   "outputs": [
    {
     "ename": "IndentationError",
     "evalue": "unexpected indent (Temp/ipykernel_12168/4148435792.py, line 7)",
     "output_type": "error",
     "traceback": [
      "\u001b[1;36m  File \u001b[1;32m\"C:\\Users\\SRADHA\\AppData\\Local\\Temp/ipykernel_12168/4148435792.py\"\u001b[1;36m, line \u001b[1;32m7\u001b[0m\n\u001b[1;33m    print(a)\u001b[0m\n\u001b[1;37m    ^\u001b[0m\n\u001b[1;31mIndentationError\u001b[0m\u001b[1;31m:\u001b[0m unexpected indent\n"
     ]
    }
   ],
   "source": [
    "a = 10\n",
    "b = 20\n",
    "c = a+b\n",
    "print(c)\n",
    "if a>b:\n",
    "    print(c)\n",
    "        print(a)"
   ]
  },
  {
   "cell_type": "code",
   "execution_count": 5,
   "metadata": {},
   "outputs": [
    {
     "ename": "SyntaxError",
     "evalue": "invalid syntax (Temp/ipykernel_12168/3534660455.py, line 2)",
     "output_type": "error",
     "traceback": [
      "\u001b[1;36m  File \u001b[1;32m\"C:\\Users\\SRADHA\\AppData\\Local\\Temp/ipykernel_12168/3534660455.py\"\u001b[1;36m, line \u001b[1;32m2\u001b[0m\n\u001b[1;33m    OverflowError, ZeroDivisionError etc\u001b[0m\n\u001b[1;37m                                        ^\u001b[0m\n\u001b[1;31mSyntaxError\u001b[0m\u001b[1;31m:\u001b[0m invalid syntax\n"
     ]
    }
   ],
   "source": [
    "# Runtime Errors - caught at the run time and by PVM,Interpreter, NameError, TypeError, ValueError, FileNotFoundError,\n",
    "OverflowError, ZeroDivisionError etc\n",
    ", \n",
    "a = 10\n",
    "b = 20\n",
    "c = a+b\n",
    "print(c)\n",
    "print(d)"
   ]
  },
  {
   "cell_type": "code",
   "execution_count": 6,
   "metadata": {},
   "outputs": [],
   "source": [
    "# Logical Errors - arises due to logic"
   ]
  },
  {
   "cell_type": "code",
   "execution_count": 2,
   "metadata": {},
   "outputs": [
    {
     "name": "stdout",
     "output_type": "stream",
     "text": [
      "sradha\n"
     ]
    },
    {
     "ename": "ZeroDivisionError",
     "evalue": "division by zero",
     "output_type": "error",
     "traceback": [
      "\u001b[1;31m---------------------------------------------------------------------------\u001b[0m",
      "\u001b[1;31mZeroDivisionError\u001b[0m                         Traceback (most recent call last)",
      "\u001b[1;32m~\\AppData\\Local\\Temp/ipykernel_4900/2035217760.py\u001b[0m in \u001b[0;36m<module>\u001b[1;34m\u001b[0m\n\u001b[0;32m      6\u001b[0m \u001b[1;33m\u001b[0m\u001b[0m\n\u001b[0;32m      7\u001b[0m \u001b[1;32mif\u001b[0m \u001b[0ma\u001b[0m\u001b[1;33m<\u001b[0m\u001b[1;36m11\u001b[0m\u001b[1;33m:\u001b[0m\u001b[1;33m\u001b[0m\u001b[1;33m\u001b[0m\u001b[0m\n\u001b[1;32m----> 8\u001b[1;33m     \u001b[0mprint\u001b[0m\u001b[1;33m(\u001b[0m\u001b[0ma\u001b[0m\u001b[1;33m/\u001b[0m\u001b[1;36m0\u001b[0m\u001b[1;33m)\u001b[0m\u001b[1;33m\u001b[0m\u001b[1;33m\u001b[0m\u001b[0m\n\u001b[0m\u001b[0;32m      9\u001b[0m \u001b[0mprint\u001b[0m\u001b[1;33m(\u001b[0m\u001b[1;34m'patra'\u001b[0m\u001b[1;33m)\u001b[0m\u001b[1;33m\u001b[0m\u001b[1;33m\u001b[0m\u001b[0m\n",
      "\u001b[1;31mZeroDivisionError\u001b[0m: division by zero"
     ]
    }
   ],
   "source": [
    "a = 10\n",
    "b = 20\n",
    "\n",
    "\n",
    "print('sradha')\n",
    "\n",
    "if a<11:\n",
    "    print(a/0)\n",
    "print('patra')"
   ]
  },
  {
   "cell_type": "code",
   "execution_count": 8,
   "metadata": {},
   "outputs": [
    {
     "name": "stdout",
     "output_type": "stream",
     "text": [
      "['ArithmeticError', 'AssertionError', 'AttributeError', 'BaseException', 'BlockingIOError', 'BrokenPipeError', 'BufferError', 'BytesWarning', 'ChildProcessError', 'ConnectionAbortedError', 'ConnectionError', 'ConnectionRefusedError', 'ConnectionResetError', 'DeprecationWarning', 'EOFError', 'Ellipsis', 'EnvironmentError', 'Exception', 'False', 'FileExistsError', 'FileNotFoundError', 'FloatingPointError', 'FutureWarning', 'GeneratorExit', 'IOError', 'ImportError', 'ImportWarning', 'IndentationError', 'IndexError', 'InterruptedError', 'IsADirectoryError', 'KeyError', 'KeyboardInterrupt', 'LookupError', 'MemoryError', 'ModuleNotFoundError', 'NameError', 'None', 'NotADirectoryError', 'NotImplemented', 'NotImplementedError', 'OSError', 'OverflowError', 'PendingDeprecationWarning', 'PermissionError', 'ProcessLookupError', 'RecursionError', 'ReferenceError', 'ResourceWarning', 'RuntimeError', 'RuntimeWarning', 'StopAsyncIteration', 'StopIteration', 'SyntaxError', 'SyntaxWarning', 'SystemError', 'SystemExit', 'TabError', 'TimeoutError', 'True', 'TypeError', 'UnboundLocalError', 'UnicodeDecodeError', 'UnicodeEncodeError', 'UnicodeError', 'UnicodeTranslateError', 'UnicodeWarning', 'UserWarning', 'ValueError', 'Warning', 'WindowsError', 'ZeroDivisionError', '__IPYTHON__', '__build_class__', '__debug__', '__doc__', '__import__', '__loader__', '__name__', '__package__', '__spec__', 'abs', 'all', 'any', 'ascii', 'bin', 'bool', 'breakpoint', 'bytearray', 'bytes', 'callable', 'chr', 'classmethod', 'compile', 'complex', 'copyright', 'credits', 'delattr', 'dict', 'dir', 'display', 'divmod', 'enumerate', 'eval', 'exec', 'execfile', 'filter', 'float', 'format', 'frozenset', 'get_ipython', 'getattr', 'globals', 'hasattr', 'hash', 'help', 'hex', 'id', 'input', 'int', 'isinstance', 'issubclass', 'iter', 'len', 'license', 'list', 'locals', 'map', 'max', 'memoryview', 'min', 'next', 'object', 'oct', 'open', 'ord', 'pow', 'print', 'property', 'range', 'repr', 'reversed', 'round', 'runfile', 'set', 'setattr', 'slice', 'sorted', 'staticmethod', 'str', 'sum', 'super', 'tuple', 'type', 'vars', 'zip']\n"
     ]
    }
   ],
   "source": [
    "# list od erros\n",
    "print(dir(__builtins__))"
   ]
  },
  {
   "cell_type": "markdown",
   "metadata": {},
   "source": [
    "# Exceptions"
   ]
  },
  {
   "cell_type": "code",
   "execution_count": 9,
   "metadata": {},
   "outputs": [
    {
     "name": "stdout",
     "output_type": "stream",
     "text": [
      "Enter first Number: 76\n",
      "Enter second Number: 89\n",
      "0.8539325842696629\n"
     ]
    }
   ],
   "source": [
    "# Those error which can be handled using exception handling concept are called exceptions.\n",
    "\n",
    "a = int(input('Enter first Number: '))\n",
    "b = int(input('Enter second Number: '))\n",
    "c = a/b\n",
    "print(c)"
   ]
  },
  {
   "cell_type": "markdown",
   "metadata": {},
   "source": [
    "###### BaseException\n",
    "\n",
    "Exception\n",
    "\n",
    "- ArithmeticError - ZeroDivisionError, FloatingPointError, OverFlowError\n",
    "- AssertionError\n",
    "- SyntaxError\n",
    "- TypeError\n",
    "- EoFError\n",
    "- RuntimeError\n",
    "- ImportError\n",
    "- NameError\n",
    "- AttributeError"
   ]
  },
  {
   "cell_type": "markdown",
   "metadata": {},
   "source": [
    "What problem may arise if we don't handle the exception"
   ]
  },
  {
   "cell_type": "code",
   "execution_count": 18,
   "metadata": {},
   "outputs": [
    {
     "name": "stdout",
     "output_type": "stream",
     "text": [
      "Enter 2 numbers separated by space:- 10 0\n",
      "Division is not possible\n",
      "Executing Finally\n"
     ]
    }
   ],
   "source": [
    "f = open('my_exception.txt', 'w')\n",
    "a,b = [int(i) for i in input('Enter 2 numbers separated by space:- ').split()]\n",
    "try:\n",
    "    c = a/b\n",
    "except:\n",
    "    print('Division is not possible')\n",
    "else: \n",
    "    f.write(f'The division result is {c}')\n",
    "\n",
    "finally:\n",
    "    print('Executing Finally')\n",
    "    f.close()"
   ]
  },
  {
   "cell_type": "code",
   "execution_count": null,
   "metadata": {},
   "outputs": [],
   "source": [
    "# try, except, else,finally"
   ]
  },
  {
   "cell_type": "markdown",
   "metadata": {},
   "source": [
    "## keywords used in exception handling\n",
    "1. try\n",
    "2. except\n",
    "3. else\n",
    "4. finally\n",
    "5. raise\n"
   ]
  },
  {
   "cell_type": "code",
   "execution_count": 4,
   "metadata": {},
   "outputs": [
    {
     "name": "stdout",
     "output_type": "stream",
     "text": [
      "Enter the number4\n",
      "Enter the number0\n"
     ]
    },
    {
     "ename": "ZeroDivisionError",
     "evalue": "division by zero",
     "output_type": "error",
     "traceback": [
      "\u001b[1;31m---------------------------------------------------------------------------\u001b[0m",
      "\u001b[1;31mZeroDivisionError\u001b[0m                         Traceback (most recent call last)",
      "\u001b[1;32m~\\AppData\\Local\\Temp/ipykernel_792/1601287051.py\u001b[0m in \u001b[0;36m<module>\u001b[1;34m\u001b[0m\n\u001b[0;32m      2\u001b[0m \u001b[0mnum2\u001b[0m \u001b[1;33m=\u001b[0m \u001b[0mint\u001b[0m\u001b[1;33m(\u001b[0m\u001b[0minput\u001b[0m\u001b[1;33m(\u001b[0m\u001b[1;34m'Enter the number'\u001b[0m\u001b[1;33m)\u001b[0m\u001b[1;33m)\u001b[0m\u001b[1;33m\u001b[0m\u001b[1;33m\u001b[0m\u001b[0m\n\u001b[0;32m      3\u001b[0m \u001b[1;33m\u001b[0m\u001b[0m\n\u001b[1;32m----> 4\u001b[1;33m \u001b[0mprint\u001b[0m\u001b[1;33m(\u001b[0m\u001b[0mnum1\u001b[0m\u001b[1;33m/\u001b[0m\u001b[0mnum2\u001b[0m\u001b[1;33m)\u001b[0m\u001b[1;33m\u001b[0m\u001b[1;33m\u001b[0m\u001b[0m\n\u001b[0m\u001b[0;32m      5\u001b[0m \u001b[1;33m\u001b[0m\u001b[0m\n\u001b[0;32m      6\u001b[0m \u001b[0mprint\u001b[0m\u001b[1;33m(\u001b[0m\u001b[0mnum1\u001b[0m\u001b[1;33m)\u001b[0m\u001b[1;33m\u001b[0m\u001b[1;33m\u001b[0m\u001b[0m\n",
      "\u001b[1;31mZeroDivisionError\u001b[0m: division by zero"
     ]
    }
   ],
   "source": [
    "num1 = int(input('Enter the number'))\n",
    "num2 = int(input('Enter the number'))\n",
    "\n",
    "print(num1/num2)\n",
    "\n",
    "print(num1)\n",
    "print(num2)"
   ]
  },
  {
   "cell_type": "code",
   "execution_count": 5,
   "metadata": {},
   "outputs": [
    {
     "name": "stdout",
     "output_type": "stream",
     "text": [
      "['In', 'Out', '_', '__', '___', '__builtin__', '__builtins__', '__doc__', '__loader__', '__name__', '__package__', '__spec__', '_dh', '_i', '_i1', '_i2', '_i3', '_i4', '_i5', '_ih', '_ii', '_iii', '_oh', 'a', 'b', 'exit', 'get_ipython', 'num1', 'num2', 'quit']\n"
     ]
    }
   ],
   "source": [
    "print(dir())"
   ]
  },
  {
   "cell_type": "code",
   "execution_count": 7,
   "metadata": {},
   "outputs": [
    {
     "name": "stdout",
     "output_type": "stream",
     "text": [
      "Enter the number5\n",
      "Enter the number0\n",
      "sorry divide by zero not allowed please use other number for num2\n",
      "5\n",
      "0\n"
     ]
    }
   ],
   "source": [
    "# try : only the code which will be going to throw an erro\n",
    "# except : alternate code has to written here if error occured\n",
    "\n",
    "\n",
    "num1 = int(input('Enter the number'))\n",
    "num2 = int(input('Enter the number'))\n",
    "\n",
    "try:\n",
    "    print(num1/num2)  \n",
    "except:\n",
    "    print('sorry divide by zero not allowed please use other number for num2')\n",
    "\n",
    "print(num1)\n",
    "print(num2)"
   ]
  },
  {
   "cell_type": "code",
   "execution_count": 8,
   "metadata": {},
   "outputs": [
    {
     "name": "stdout",
     "output_type": "stream",
     "text": [
      "Enter the number7\n",
      "Enter the number5\n",
      "1.4\n",
      "hola!!!! eveyrthing was correct\n",
      "7\n",
      "5\n"
     ]
    }
   ],
   "source": [
    "# try : only the code which will be going to throw an erro\n",
    "# except : alternate code has to written here if error occured\n",
    "#else : \n",
    "# - program will go into exception block whentry blocks throws an error\n",
    "# - program will go into else block whentry blocks will not throws any error\n",
    "\n",
    "\n",
    "num1 = int(input('Enter the number'))\n",
    "num2 = int(input('Enter the number'))\n",
    "\n",
    "try:\n",
    "    print(num1/num2)\n",
    "except:\n",
    "    print('sorry divide by error not allowed please use other number for num2')\n",
    "else:\n",
    "    print('hola!!!! eveyrthing was correct')\n",
    "    \n",
    "\n",
    "print(num1)\n",
    "print(num2)\n"
   ]
  },
  {
   "cell_type": "code",
   "execution_count": 10,
   "metadata": {},
   "outputs": [
    {
     "name": "stdout",
     "output_type": "stream",
     "text": [
      "Enter the number8\n",
      "Enter the number0\n",
      "sorry divide by zero not allowed please use other number for num2\n",
      "8\n",
      "0\n"
     ]
    }
   ],
   "source": [
    "num1 = int(input('Enter the number'))\n",
    "num2 = int(input('Enter the number'))\n",
    "\n",
    "try:\n",
    "    res = num1/num2\n",
    "    print(res)\n",
    "except:\n",
    "    print('sorry divide by zero not allowed please use other number for num2')\n",
    "print(num1)\n",
    "print(num2)"
   ]
  },
  {
   "cell_type": "code",
   "execution_count": 12,
   "metadata": {},
   "outputs": [
    {
     "name": "stdout",
     "output_type": "stream",
     "text": [
      "sorry divide by zero not allowed please use other number for num2\n",
      "8\n",
      "0\n",
      "afsan\n",
      "khan\n"
     ]
    }
   ],
   "source": [
    "# finally - it will be exceuted whether we have a error or not\n",
    "\n",
    "\n",
    "try:\n",
    "    res = num1/num2\n",
    "    print(res)\n",
    "except:\n",
    "    print('sorry divide by zero not allowed please use other number for num2')\n",
    "finally:\n",
    "    print(num1)\n",
    "    print(num2)\n",
    "    \n",
    "print('afsan')\n",
    "print('khan')"
   ]
  },
  {
   "cell_type": "code",
   "execution_count": 20,
   "metadata": {},
   "outputs": [
    {
     "ename": "SyntaxError",
     "evalue": "unexpected EOF while parsing (<ipython-input-20-104236e2fab2>, line 7)",
     "output_type": "error",
     "traceback": [
      "\u001b[0;36m  File \u001b[0;32m\"<ipython-input-20-104236e2fab2>\"\u001b[0;36m, line \u001b[0;32m7\u001b[0m\n\u001b[0;31m    \u001b[0m\n\u001b[0m    ^\u001b[0m\n\u001b[0;31mSyntaxError\u001b[0m\u001b[0;31m:\u001b[0m unexpected EOF while parsing\n"
     ]
    }
   ],
   "source": [
    "# use try block - should be used only for that part of the code which you are expecting to raise the error\n",
    "\n",
    "a = 10\n",
    "b = 0\n",
    "try:\n",
    "    c = a/b\n",
    "except:\n",
    "    print('Number can not be divided by zero')\n",
    "else:\n",
    "    print(c)\n",
    "finally:\n",
    "    print('Executing finally block')\n",
    "    del a\n",
    "    del b\n",
    "    try:\n",
    "        del c\n",
    "    except:\n",
    "        print('Some Error')\n",
    "\n"
   ]
  },
  {
   "cell_type": "code",
   "execution_count": null,
   "metadata": {},
   "outputs": [],
   "source": [
    "1. except ExceptionClassName:\n",
    "2. except ExceptionClassName as e:\n",
    "3. except (ExceptionClassName1, ExceptionClassName2, ExceptionClassName3 ...):\n",
    "4. except Exception class 1:\n",
    "   except Exception class 2:\n",
    "    ...\n",
    "5. except:"
   ]
  },
  {
   "cell_type": "code",
   "execution_count": 23,
   "metadata": {},
   "outputs": [
    {
     "name": "stdout",
     "output_type": "stream",
     "text": [
      "Number can not be duivided by zero\n",
      "Executing finally block\n",
      "Some Error\n"
     ]
    }
   ],
   "source": [
    "# Order is important - child class exception should always come first and then parent class exceptions\n",
    "\n",
    "a = 10\n",
    "b = 0\n",
    "try:\n",
    "    c = a/b\n",
    "except ZeroDivisionError:\n",
    "    print('Number can not be duivided by zero')\n",
    "    \n",
    "except ArithmeticError:\n",
    "    print('Some Arithmetic Error is raised')\n",
    "else:\n",
    "    print(c)\n",
    "finally:\n",
    "    print('Executing finally block')\n",
    "    del a\n",
    "    del b\n",
    "    try:\n",
    "        del c\n",
    "    except:\n",
    "        print('Some Error')"
   ]
  },
  {
   "cell_type": "code",
   "execution_count": 24,
   "metadata": {},
   "outputs": [
    {
     "name": "stdout",
     "output_type": "stream",
     "text": [
      "The Error is  division by zero\n",
      "Executing finally block\n",
      "Some Error\n"
     ]
    }
   ],
   "source": [
    "a = 10\n",
    "b = 0\n",
    "try:\n",
    "    c = a/b\n",
    "except (ZeroDivisionError,ArithmeticError) as e:\n",
    "    print('The Error is ', e)\n",
    "    \n",
    "\n",
    "else:\n",
    "    print(c)\n",
    "finally:\n",
    "    print('Executing finally block')\n",
    "    del a\n",
    "    del b\n",
    "    try:\n",
    "        del c\n",
    "    except:\n",
    "        print('Some Error')"
   ]
  },
  {
   "cell_type": "code",
   "execution_count": 3,
   "metadata": {},
   "outputs": [
    {
     "name": "stdout",
     "output_type": "stream",
     "text": [
      "unsupported operand type(s) for /: 'int' and 'str'\n",
      "Executing finally block\n",
      "Some Error\n"
     ]
    }
   ],
   "source": [
    "a = 10\n",
    "b = 'A'\n",
    "try:\n",
    "    c = a/b\n",
    "except ZeroDivisionError:\n",
    "    print('Number can not be divided by zero')\n",
    "    \n",
    "except ArithmeticError:\n",
    "    print('Some Arithmetic Error is raised')\n",
    "except Exception as e:\n",
    "    print(e)\n",
    "else:\n",
    "    print(c)\n",
    "finally:\n",
    "    print('Executing finally block')\n",
    "    del a\n",
    "    del b\n",
    "    try:\n",
    "        del c\n",
    "    except:\n",
    "        print('Some Error')"
   ]
  },
  {
   "cell_type": "code",
   "execution_count": null,
   "metadata": {},
   "outputs": [],
   "source": [
    "# class My_Exception_Name(Exception):\n",
    "#     def __init__(self, arg):\n",
    "#         self.msg = arg\n",
    "        \n",
    "# raise My_Exception_Name('msg')\n",
    "\n",
    "# try:\n",
    "#     code which is generating the Error you are expecting\n",
    "# excpet My_Exception_Name as e:\n",
    "#     print(e)"
   ]
  },
  {
   "cell_type": "code",
   "execution_count": 31,
   "metadata": {},
   "outputs": [
    {
     "name": "stdout",
     "output_type": "stream",
     "text": [
      "Name =  ABC Balance is  4500\n",
      "Name =  XYZ Balance is  200\n",
      "Balance amount is less than 2000\n"
     ]
    }
   ],
   "source": [
    "class My_Exception_Name(Exception):\n",
    "    def __init__(self, arg):\n",
    "        self.msg = arg\n",
    "        \n",
    "def check_balance(d):\n",
    "    for k,v in d.items():\n",
    "        print('Name = ', k, 'Balance is ', v)\n",
    "        if v<2000:\n",
    "            raise My_Exception_Name('Balance amount is less than 2000')\n",
    "\n",
    "cust_details = {'ABC':4500, 'XYZ':200, 'MNO':1900}\n",
    "\n",
    "try:\n",
    "    check_balance(cust_details)\n",
    "except My_Exception_Name as e:\n",
    "    print(e)         "
   ]
  },
  {
   "cell_type": "markdown",
   "metadata": {},
   "source": [
    "## Showing error to user"
   ]
  },
  {
   "cell_type": "code",
   "execution_count": 14,
   "metadata": {},
   "outputs": [
    {
     "name": "stdout",
     "output_type": "stream",
     "text": [
      "Enter the number8\n",
      "Enter the number0\n",
      "ZeroDivisonError was occured\n",
      "8\n",
      "0\n"
     ]
    }
   ],
   "source": [
    "# 1st way\n",
    "try:\n",
    "    num1 = int(input('Enter the number'))\n",
    "    num2 = int(input('Enter the number'))\n",
    "    print(num1/num2)  \n",
    "    \n",
    "except ZeroDivisionError :\n",
    "    print('ZeroDivisonError was occured')\n",
    "    \n",
    "except ValueError:\n",
    "    print('Value error occured')\n",
    "\n",
    "print(num1)\n",
    "print(num2)"
   ]
  },
  {
   "cell_type": "code",
   "execution_count": 15,
   "metadata": {},
   "outputs": [
    {
     "name": "stdout",
     "output_type": "stream",
     "text": [
      "Enter the number8\n",
      "Enter the number0\n",
      "division by zero\n",
      "8\n",
      "0\n"
     ]
    }
   ],
   "source": [
    "# 2nd way\n",
    "try:\n",
    "    num1 = int(input('Enter the number'))\n",
    "    num2 = int(input('Enter the number'))\n",
    "    print(num1/num2)  \n",
    "    \n",
    "except ZeroDivisionError as e :\n",
    "    print(e)\n",
    "    \n",
    "except ValueError as e:\n",
    "    print(e)\n",
    "\n",
    "print(num1)\n",
    "print(num2)"
   ]
  },
  {
   "cell_type": "code",
   "execution_count": 16,
   "metadata": {},
   "outputs": [
    {
     "name": "stdout",
     "output_type": "stream",
     "text": [
      "Enter the number8\n",
      "Enter the number0\n",
      "division by zero\n",
      "8\n",
      "0\n"
     ]
    }
   ],
   "source": [
    "# 3rd way\n",
    "try:\n",
    "    num1 = int(input('Enter the number'))\n",
    "    num2 = int(input('Enter the number'))\n",
    "    print(num1/num2)  \n",
    "    \n",
    "except Exception as abc :\n",
    "    print(abc)\n",
    "\n",
    "print(num1)\n",
    "print(num2)"
   ]
  },
  {
   "cell_type": "code",
   "execution_count": 19,
   "metadata": {},
   "outputs": [
    {
     "name": "stdout",
     "output_type": "stream",
     "text": [
      "Enter the number8\n",
      "Enter the number0\n",
      "division by zero\n",
      "8\n",
      "0\n"
     ]
    }
   ],
   "source": [
    "# 4th way\n",
    "try:\n",
    "    num1 = int(input('Enter the number'))\n",
    "    num2 = int(input('Enter the number'))\n",
    "    print(num1/num2)  \n",
    "    \n",
    "except (ZeroDivisionError , ValueError) as e :\n",
    "    print(e)\n",
    "    \n",
    "except:\n",
    "    print('some other error')\n",
    "\n",
    "print(num1)\n",
    "print(num2)"
   ]
  },
  {
   "cell_type": "markdown",
   "metadata": {},
   "source": [
    "## Nested try and except"
   ]
  },
  {
   "cell_type": "code",
   "execution_count": 18,
   "metadata": {},
   "outputs": [
    {
     "name": "stdout",
     "output_type": "stream",
     "text": [
      "Enter the number8\n",
      "Enter the number0\n",
      "Zero divison error\n"
     ]
    }
   ],
   "source": [
    "num1 = int(input('Enter the number'))\n",
    "try:\n",
    "    num2 = int(input('Enter the number'))\n",
    "    try:\n",
    "        print(num1/num2)\n",
    "    except:\n",
    "        print('Zero divison error')\n",
    "\n",
    "except:\n",
    "    print('value error')"
   ]
  },
  {
   "cell_type": "code",
   "execution_count": 20,
   "metadata": {},
   "outputs": [
    {
     "name": "stdout",
     "output_type": "stream",
     "text": [
      "Enter the number8\n",
      "Enter the number0\n",
      "error\n",
      "8\n",
      "0\n"
     ]
    }
   ],
   "source": [
    "# this is not allowed\n",
    "try:\n",
    "    num1 = int(input('Enter the number'))\n",
    "    num2 = int(input('Enter the number'))\n",
    "    print(num1/num2)  \n",
    "    \n",
    "except Exception as e:\n",
    "    print('error')\n",
    "    \n",
    "except ValueError:\n",
    "    print('some other error')\n",
    "\n",
    "print(num1)\n",
    "print(num2)"
   ]
  },
  {
   "cell_type": "code",
   "execution_count": 21,
   "metadata": {},
   "outputs": [],
   "source": [
    "#creating own exception handling\n",
    "class MyException(Exception):\n",
    "    def __init__(self , msg):\n",
    "        self.msg = msg"
   ]
  },
  {
   "cell_type": "code",
   "execution_count": 23,
   "metadata": {},
   "outputs": [
    {
     "name": "stdout",
     "output_type": "stream",
     "text": [
      "Enter the amount8000\n",
      "Transaction was succesfull\n"
     ]
    }
   ],
   "source": [
    "amt = eval(input('Enter the amount'))\n",
    "try:\n",
    "    if amt > 49999:\n",
    "        raise MyException('Over limit')\n",
    "    else:\n",
    "        print('Transaction was succesfull')\n",
    "except Exception as e:\n",
    "    print(e)\n",
    "    try:\n",
    "        pan_card = input('Enter the pancard number')\n",
    "        \n",
    "        if len(pan_card) == 10:\n",
    "            print('thankxs for submitting the pancard , we will review it')\n",
    "        \n",
    "        else:\n",
    "            raise MyException(\"invalid pan number\")\n",
    "    except Exception as e:\n",
    "        print(e)\n",
    "        "
   ]
  },
  {
   "cell_type": "code",
   "execution_count": 24,
   "metadata": {},
   "outputs": [
    {
     "name": "stdout",
     "output_type": "stream",
     "text": [
      "Enter the amount7000\n",
      "Transaction was succesfull\n"
     ]
    }
   ],
   "source": [
    "# gpay\n",
    "\n",
    "class MyException(Exception):\n",
    "    def __init__(self , msg):\n",
    "        self.msg = msg\n",
    "        \n",
    "def submit_pan(pan):\n",
    "    if len(pan_card) == 10:\n",
    "        print('Thanks for submitting the pancard , we will review it')\n",
    "    else:\n",
    "        raise MyException(\"invalid pan number\")\n",
    "        \n",
    "def amount_deposit(amt):\n",
    "    if amt > 49999:\n",
    "        raise MyException('Over limit')\n",
    "    else:\n",
    "        print('Transaction was succesfull')\n",
    "        \n",
    "amt = int(input('Enter the amount'))\n",
    "\n",
    "try:\n",
    "    amount_deposit(amt)\n",
    "except MyException as e:\n",
    "    print(e)\n",
    "    try:\n",
    "       pan_card = input('Enter the pancard number')\n",
    "       submit_pan(pan_card) \n",
    "    except Exception as e:\n",
    "        print(e)\n",
    "        "
   ]
  }
 ],
 "metadata": {
  "kernelspec": {
   "display_name": "Python 3 (ipykernel)",
   "language": "python",
   "name": "python3"
  },
  "language_info": {
   "codemirror_mode": {
    "name": "ipython",
    "version": 3
   },
   "file_extension": ".py",
   "mimetype": "text/x-python",
   "name": "python",
   "nbconvert_exporter": "python",
   "pygments_lexer": "ipython3",
   "version": "3.9.7"
  }
 },
 "nbformat": 4,
 "nbformat_minor": 2
}
