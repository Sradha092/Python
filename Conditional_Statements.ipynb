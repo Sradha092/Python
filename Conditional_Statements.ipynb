{
 "cells": [
  {
   "cell_type": "code",
   "execution_count": null,
   "id": "1abe94d2",
   "metadata": {},
   "outputs": [],
   "source": [
    "# Conditional Statements - else is optional\n",
    "\n",
    "# if\n",
    "# if-else\n",
    "# if-elif-else"
   ]
  },
  {
   "cell_type": "code",
   "execution_count": 2,
   "id": "5b4459dc",
   "metadata": {
    "ExecuteTime": {
     "end_time": "2022-01-17T14:11:03.328334Z",
     "start_time": "2022-01-17T14:11:00.496574Z"
    }
   },
   "outputs": [
    {
     "name": "stdout",
     "output_type": "stream",
     "text": [
      "Enter first number: 8\n",
      "True\n"
     ]
    }
   ],
   "source": [
    "# Write a program which prints True if number is even else prints False\n",
    "\n",
    "num = int(input('Enter first number: '))\n",
    "if num%2 == 0:\n",
    "    print(True)\n",
    "else:\n",
    "    print(False)\n",
    "\n",
    "\n"
   ]
  },
  {
   "cell_type": "code",
   "execution_count": 38,
   "id": "8002d409",
   "metadata": {
    "ExecuteTime": {
     "end_time": "2022-01-17T14:38:50.248934Z",
     "start_time": "2022-01-17T14:38:46.414696Z"
    }
   },
   "outputs": [
    {
     "name": "stdout",
     "output_type": "stream",
     "text": [
      "Enter your age: 'ajhvas'\n",
      "Age is not in correct format\n"
     ]
    }
   ],
   "source": [
    "age = input('Enter your age: ')\n",
    "if type(eval(age)) == float or type(eval(age)) == int:\n",
    "    print(f'age is {int(float(age))}')\n",
    "else:\n",
    "    print('Age is not in correct format')\n",
    "\n",
    "    \n",
    "# age = \"jhsavdja\"\n",
    "# eval('jhsavdja')"
   ]
  },
  {
   "cell_type": "code",
   "execution_count": 12,
   "id": "426b2d81",
   "metadata": {
    "ExecuteTime": {
     "end_time": "2022-01-17T14:19:13.042170Z",
     "start_time": "2022-01-17T14:19:13.028835Z"
    }
   },
   "outputs": [
    {
     "name": "stdout",
     "output_type": "stream",
     "text": [
      "20\n",
      "PythonPython\n",
      "20.4\n",
      "ClassClass\n"
     ]
    }
   ],
   "source": [
    "lst = [10, 'Python', 10.20, 'Class']\n",
    "for i in lst:\n",
    "    if type(i) == str:\n",
    "        print(i*2)\n",
    "    else:\n",
    "        print(i*2)"
   ]
  },
  {
   "cell_type": "code",
   "execution_count": 14,
   "id": "32690f7f",
   "metadata": {
    "ExecuteTime": {
     "end_time": "2022-01-17T14:20:16.403697Z",
     "start_time": "2022-01-17T14:20:14.214229Z"
    }
   },
   "outputs": [
    {
     "name": "stdout",
     "output_type": "stream",
     "text": [
      "Enter first number: 90\n",
      "True\n"
     ]
    }
   ],
   "source": [
    "num = int(input('Enter first number: '))\n",
    "if num%2 == 0:\n",
    "    print(True)"
   ]
  },
  {
   "cell_type": "code",
   "execution_count": 25,
   "id": "c79c8a89",
   "metadata": {
    "ExecuteTime": {
     "end_time": "2022-01-17T14:23:59.647109Z",
     "start_time": "2022-01-17T14:23:57.120868Z"
    }
   },
   "outputs": [
    {
     "name": "stdout",
     "output_type": "stream",
     "text": [
      "Enter first number: 90\n"
     ]
    }
   ],
   "source": [
    "num = int(input('Enter first number: '))\n",
    "if '':\n",
    "    print(True)\n",
    "\n",
    "    "
   ]
  },
  {
   "cell_type": "code",
   "execution_count": 24,
   "id": "9a37a40c",
   "metadata": {
    "ExecuteTime": {
     "end_time": "2022-01-17T14:23:50.588526Z",
     "start_time": "2022-01-17T14:23:50.566092Z"
    }
   },
   "outputs": [
    {
     "data": {
      "text/plain": [
       "False"
      ]
     },
     "execution_count": 24,
     "metadata": {},
     "output_type": "execute_result"
    }
   ],
   "source": [
    "bool('')"
   ]
  },
  {
   "cell_type": "code",
   "execution_count": null,
   "id": "bb22dda6",
   "metadata": {},
   "outputs": [],
   "source": [
    "# We can not have multiple else for one.\n",
    "# One if can have only one else\n",
    "# One if lese may have multiple elif"
   ]
  },
  {
   "cell_type": "code",
   "execution_count": 29,
   "id": "764e4866",
   "metadata": {
    "ExecuteTime": {
     "end_time": "2022-01-17T14:28:59.158821Z",
     "start_time": "2022-01-17T14:28:57.589134Z"
    }
   },
   "outputs": [
    {
     "name": "stdout",
     "output_type": "stream",
     "text": [
      "Enter the number of days[1-7]: 7\n",
      "Sunday\n"
     ]
    }
   ],
   "source": [
    "# When we have multiple conditions to check then we go for if-elif-else\n",
    "\n",
    "day_num = int(input('Enter the number of days[1-7]: '))\n",
    "if day_num == 1:\n",
    "    print('Monday')\n",
    "if day_num == 2:\n",
    "    print('Tuesday')\n",
    "if day_num == 3:\n",
    "    print('Wednesday')\n",
    "if day_num == 4:\n",
    "    print('Thursday')\n",
    "if day_num == 5:\n",
    "    print('Friday')\n",
    "if day_num == 6:\n",
    "    print('Saturday')\n",
    "if day_num == 7:\n",
    "    print('Sunday')\n",
    "else:\n",
    "    print('Number is outside of range')\n",
    "\n",
    "\n"
   ]
  },
  {
   "cell_type": "code",
   "execution_count": 33,
   "id": "e79732ee",
   "metadata": {
    "ExecuteTime": {
     "end_time": "2022-01-17T14:32:33.208885Z",
     "start_time": "2022-01-17T14:32:31.496278Z"
    }
   },
   "outputs": [
    {
     "name": "stdout",
     "output_type": "stream",
     "text": [
      "Enter the number of days[1-7]: 9\n",
      "Number is outside of range\n"
     ]
    }
   ],
   "source": [
    "day_num = int(input('Enter the number of days[1-7]: '))\n",
    "if day_num == 1:\n",
    "    print('Monday')\n",
    "elif day_num == 2:\n",
    "    print('Tuesday')\n",
    "elif day_num == 3:\n",
    "    print('Wednesday')\n",
    "elif day_num == 4:\n",
    "    print('Thursday')\n",
    "elif day_num == 5:\n",
    "    print('Friday')\n",
    "elif day_num == 6:\n",
    "    print('Saturday')\n",
    "elif day_num == 7:\n",
    "    print('Sunday')\n",
    "else:\n",
    "    print('Number is outside of range')"
   ]
  },
  {
   "cell_type": "code",
   "execution_count": 36,
   "id": "b215fd49",
   "metadata": {
    "ExecuteTime": {
     "end_time": "2022-01-17T14:36:47.670975Z",
     "start_time": "2022-01-17T14:36:47.654995Z"
    }
   },
   "outputs": [
    {
     "name": "stdout",
     "output_type": "stream",
     "text": [
      "<class 'str'>\n"
     ]
    },
    {
     "data": {
      "text/plain": [
       "int"
      ]
     },
     "execution_count": 36,
     "metadata": {},
     "output_type": "execute_result"
    }
   ],
   "source": [
    "age = '10.20'\n",
    "print(type(age))\n",
    "type(int(float(age)))\n"
   ]
  },
  {
   "cell_type": "code",
   "execution_count": 41,
   "id": "fb0ec4ba",
   "metadata": {
    "ExecuteTime": {
     "end_time": "2022-01-17T14:59:33.154192Z",
     "start_time": "2022-01-17T14:59:28.830178Z"
    }
   },
   "outputs": [
    {
     "name": "stdout",
     "output_type": "stream",
     "text": [
      "Enter Mark1 85\n",
      "Enter Mark2 85\n",
      "Enter Mark3 85\n",
      "85.0\n",
      "Average : A\n"
     ]
    }
   ],
   "source": [
    "# WAP where we take input for 3 different subjects(MPC) from user and print the grade based on average marks\n",
    "\n",
    "# Average.      Grade\n",
    "# 91-100         A+\n",
    "# 81-90          A\n",
    "# 71-80          B+\n",
    "# 61-70          B\n",
    "# 51-60          C\n",
    "# 41-50          D\n",
    "# <=40           F\n",
    "\n",
    "mark1 = input('Enter Mark1 ')\n",
    "mark2 = input('Enter Mark2 ')\n",
    "mark3 = input('Enter Mark3 ')\n",
    "avg = ((float(mark1)+float(mark2)+float(mark3))/3)\n",
    "print(avg)\n",
    "if avg >90 and avg<=100 :\n",
    "    print('Average : A+')\n",
    "elif 80<avg<=90:\n",
    "    print('Average : A')\n",
    "elif avg >70 and avg<=80 :\n",
    "    print('Average : B+')\n",
    "elif avg >60 and avg<=70 :\n",
    "    print('Average : B')\n",
    "elif avg >50 and avg<=60 :\n",
    "    print('Average : C')\n",
    "elif avg >40 and avg<=50 :\n",
    "    print('Average : D')\n",
    "elif avg <=40 :\n",
    "    print('Average : F')"
   ]
  },
  {
   "cell_type": "code",
   "execution_count": 44,
   "id": "8f36aa8d",
   "metadata": {
    "ExecuteTime": {
     "end_time": "2022-01-17T15:09:07.413812Z",
     "start_time": "2022-01-17T15:09:05.183438Z"
    }
   },
   "outputs": [
    {
     "name": "stdout",
     "output_type": "stream",
     "text": [
      "Enter the Number of Calls In A Month300\n",
      "Bill Amount is :  285.0\n"
     ]
    }
   ],
   "source": [
    "# WAP where user enters the no of calls made in a month.\n",
    "\n",
    "# 1. If no of calls is upto 100 then bill amount is 200.\n",
    "# 2. from 101-150 - 0.75/per call + 200\n",
    "# 3. from 151-200 - 0.60 + \n",
    "# 4. from 201-250 - 0.25\n",
    "# 4. >250 = 0.10\n",
    "\n",
    "no_calls_month = int(input(\"Enter the Number of Calls In A Month\"))\n",
    "if no_calls_month <=100:\n",
    "    print(\"Bill Amount: 200\")\n",
    "elif no_calls_month>=101 and no_calls_month<=150:\n",
    "    print(\"Bill Amount is : \", ((0.75)*(no_calls_month-100)) + 200)\n",
    "elif no_calls_month>=151 and no_calls_month<=200:\n",
    "    print(\"Bill Amount is : \", (0.60 * (no_calls_month-150)) + (0.75)*50 + 200)\n",
    "elif no_calls_month>=201 and no_calls_month<=250:\n",
    "    print(\"Bill Amount is : \", (0.25 * (no_calls_month-200)) + (0.60 * 50) + (0.75)*50 + 200)\n",
    "elif no_calls_month > 250:\n",
    "    print(\"Bill Amount is : \", 0.10 * (no_calls_month-250) + (0.25 * 50) + (0.60 * 50) + (0.75)*50 + 200)"
   ]
  },
  {
   "cell_type": "code",
   "execution_count": 43,
   "id": "e1c533ab",
   "metadata": {
    "ExecuteTime": {
     "end_time": "2022-01-17T15:03:56.953567Z",
     "start_time": "2022-01-17T15:03:56.934278Z"
    }
   },
   "outputs": [
    {
     "data": {
      "text/plain": [
       "283.9"
      ]
     },
     "execution_count": 43,
     "metadata": {},
     "output_type": "execute_result"
    }
   ],
   "source": [
    "200 + (0.75*50) + (0.60*50) + (0.25*50) + (39*0.10)"
   ]
  },
  {
   "cell_type": "code",
   "execution_count": null,
   "id": "821b5efa",
   "metadata": {},
   "outputs": [],
   "source": [
    "# Nested if else\n",
    "\n",
    "# if cond1:\n",
    "#     code1\n",
    "#     code2\n",
    "#     if cond2:\n",
    "#         code3\n",
    "#         code4\n",
    "#         if cond3:\n",
    "#             code5\n",
    "#             code6\n",
    "#         else:\n",
    "#             code7\n",
    "#             code8\n",
    "#     else:\n",
    "#         code9\n",
    "#         code10\n",
    "# else:\n",
    "#     code11\n",
    "#     code12\n",
    "    \n",
    "# if cond1, cond2 and cond3 all are True - Code1-6\n",
    "# if cond1, cond2 is True and cond3 is False - Code1-4, 7-8\n",
    "# if cond1 is True and cond2 and cond3 is False - Code1-2, 9-10\n",
    "# if cond1 is True and cond2 is False and cond3 is True - Code1-2, 9-10\n",
    "# if cond1 is False and cond2 is True and cond3 is True - Code11-22\n",
    "\n"
   ]
  },
  {
   "cell_type": "code",
   "execution_count": 1,
   "id": "15c26c8f",
   "metadata": {
    "ExecuteTime": {
     "end_time": "2022-01-17T15:29:57.462064Z",
     "start_time": "2022-01-17T15:29:57.452520Z"
    }
   },
   "outputs": [
    {
     "name": "stdout",
     "output_type": "stream",
     "text": [
      "Enter an year: 1600\n",
      "1600 is a leap year\n"
     ]
    }
   ],
   "source": [
    "# WAP using nested if else to find out an year is a leap year or not\n",
    "\n",
    "# Leap year - 1600, 2000, 2004, 2020\n",
    "# NonLeap year - 1800, 1900, 1967\n",
    "year = int(input('Enter an year: '))\n",
    "if year%4 == 0:\n",
    "    if year%100 == 0:\n",
    "        if year%400 == 0:\n",
    "            print(f'{year} is a leap year')\n",
    "        else:\n",
    "            print(f'{year} is not a leap Year')\n",
    "    else:\n",
    "        print(f'{year} is a leap year')\n",
    "else:\n",
    "    print(f'{year} is not a leap year')"
   ]
  },
  {
   "cell_type": "code",
   "execution_count": 1,
   "id": "87b6e9b6",
   "metadata": {},
   "outputs": [],
   "source": [
    "if not 10:\n",
    "    print('Hi')"
   ]
  },
  {
   "cell_type": "code",
   "execution_count": 2,
   "id": "8aa83d9b",
   "metadata": {},
   "outputs": [
    {
     "data": {
      "text/plain": [
       "False"
      ]
     },
     "execution_count": 2,
     "metadata": {},
     "output_type": "execute_result"
    }
   ],
   "source": [
    "not 10"
   ]
  }
 ],
 "metadata": {
  "kernelspec": {
   "display_name": "Python 3 (ipykernel)",
   "language": "python",
   "name": "python3"
  },
  "language_info": {
   "codemirror_mode": {
    "name": "ipython",
    "version": 3
   },
   "file_extension": ".py",
   "mimetype": "text/x-python",
   "name": "python",
   "nbconvert_exporter": "python",
   "pygments_lexer": "ipython3",
   "version": "3.9.7"
  }
 },
 "nbformat": 4,
 "nbformat_minor": 5
}
