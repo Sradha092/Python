{
 "cells": [
  {
   "cell_type": "markdown",
   "id": "ea668fa4",
   "metadata": {},
   "source": [
    "### Anonymous Function:Lambda function(Function without a name)\n",
    "### Can take any arguements, but can have only one expression"
   ]
  },
  {
   "cell_type": "code",
   "execution_count": 1,
   "id": "4416d75e",
   "metadata": {},
   "outputs": [],
   "source": [
    "#syntax:\n",
    "#lambda arguements:expression"
   ]
  },
  {
   "cell_type": "code",
   "execution_count": 2,
   "id": "638d2298",
   "metadata": {},
   "outputs": [],
   "source": [
    "# Annonymous function - A function without name\n",
    "\n",
    "# def a():\n",
    "#     a =10\n",
    "\n",
    "# Lambda keyword\n",
    "\n",
    "#lambda param1, param2, param3...:expr"
   ]
  },
  {
   "cell_type": "code",
   "execution_count": 3,
   "id": "7dba5e4f",
   "metadata": {},
   "outputs": [
    {
     "data": {
      "text/plain": [
       "'Even'"
      ]
     },
     "execution_count": 3,
     "metadata": {},
     "output_type": "execute_result"
    }
   ],
   "source": [
    "def odd_even(num):\n",
    "    return 'Even' if num%2 == 0 else 'Odd'\n",
    "odd_even(90)"
   ]
  },
  {
   "cell_type": "code",
   "execution_count": 4,
   "id": "8404441f",
   "metadata": {},
   "outputs": [
    {
     "name": "stdout",
     "output_type": "stream",
     "text": [
      "EVen\n"
     ]
    }
   ],
   "source": [
    "print((lambda num1, num2, num3:'EVen' if num1%2 == 0 else 'Odd')(4, 5, 6))"
   ]
  },
  {
   "cell_type": "code",
   "execution_count": 7,
   "id": "89e9ee32",
   "metadata": {},
   "outputs": [
    {
     "name": "stdout",
     "output_type": "stream",
     "text": [
      "<function f1 at 0x000001F9FCBF2040>\n"
     ]
    }
   ],
   "source": [
    "def f1(num):\n",
    "    a = 10\n",
    "    b = 20\n",
    "    print(a, b)\n",
    "\n",
    "a = f1\n",
    "print(a)"
   ]
  },
  {
   "cell_type": "code",
   "execution_count": 8,
   "id": "9180efaf",
   "metadata": {},
   "outputs": [
    {
     "name": "stdout",
     "output_type": "stream",
     "text": [
      "10 20\n"
     ]
    }
   ],
   "source": [
    "f1(10)"
   ]
  },
  {
   "cell_type": "code",
   "execution_count": 9,
   "id": "32fd43c5",
   "metadata": {},
   "outputs": [
    {
     "name": "stdout",
     "output_type": "stream",
     "text": [
      "EVen\n"
     ]
    }
   ],
   "source": [
    "a = lambda num1, num2, num3:'EVen' if num1%2 == 0 else 'Odd'\n",
    "print(a(4, 5, 6))"
   ]
  },
  {
   "cell_type": "code",
   "execution_count": 10,
   "id": "523ed178",
   "metadata": {},
   "outputs": [
    {
     "data": {
      "text/plain": [
       "25"
      ]
     },
     "execution_count": 10,
     "metadata": {},
     "output_type": "execute_result"
    }
   ],
   "source": [
    "def sum(a,b):\n",
    "    return a+b\n",
    "\n",
    "sum(10,15)"
   ]
  },
  {
   "cell_type": "code",
   "execution_count": 11,
   "id": "57cffd94",
   "metadata": {},
   "outputs": [
    {
     "data": {
      "text/plain": [
       "5"
      ]
     },
     "execution_count": 11,
     "metadata": {},
     "output_type": "execute_result"
    }
   ],
   "source": [
    "(lambda a,b:a+b)(2,3)     #as it is an anonymous function,the function call has no name. Bydefault it has a return statement"
   ]
  },
  {
   "cell_type": "code",
   "execution_count": 12,
   "id": "a99959ab",
   "metadata": {},
   "outputs": [
    {
     "data": {
      "text/plain": [
       "6"
      ]
     },
     "execution_count": 12,
     "metadata": {},
     "output_type": "execute_result"
    }
   ],
   "source": [
    "def multiply(a,b,c):\n",
    "    return a*b*c\n",
    "\n",
    "multiply(1,2,3)"
   ]
  },
  {
   "cell_type": "code",
   "execution_count": 13,
   "id": "500715a8",
   "metadata": {},
   "outputs": [
    {
     "data": {
      "text/plain": [
       "6"
      ]
     },
     "execution_count": 13,
     "metadata": {},
     "output_type": "execute_result"
    }
   ],
   "source": [
    "(lambda a,b,c:a*b*c)(1,2,3)"
   ]
  },
  {
   "cell_type": "code",
   "execution_count": 14,
   "id": "818f78b1",
   "metadata": {},
   "outputs": [],
   "source": [
    "#lambda function is explicitly used in map,reduce and filter function"
   ]
  },
  {
   "cell_type": "code",
   "execution_count": 15,
   "id": "3d980bae",
   "metadata": {},
   "outputs": [
    {
     "data": {
      "text/plain": [
       "False"
      ]
     },
     "execution_count": 15,
     "metadata": {},
     "output_type": "execute_result"
    }
   ],
   "source": [
    "#even or odd\n",
    "(lambda x:x%2==0)(5)"
   ]
  },
  {
   "cell_type": "code",
   "execution_count": 16,
   "id": "b2b45748",
   "metadata": {},
   "outputs": [
    {
     "data": {
      "text/plain": [
       "'Odd'"
      ]
     },
     "execution_count": 16,
     "metadata": {},
     "output_type": "execute_result"
    }
   ],
   "source": [
    "(lambda num:'Even' if num%2==0 else 'Odd')(5)"
   ]
  },
  {
   "cell_type": "markdown",
   "id": "0bb3995a",
   "metadata": {},
   "source": [
    "## Map"
   ]
  },
  {
   "cell_type": "code",
   "execution_count": 17,
   "id": "85a27f05",
   "metadata": {},
   "outputs": [],
   "source": [
    "#accepts two arguements-function and iterables"
   ]
  },
  {
   "cell_type": "code",
   "execution_count": 18,
   "id": "118ca968",
   "metadata": {},
   "outputs": [],
   "source": [
    "# map(func, iterable)\n",
    "# map object\n",
    "# list, for - for realization of the values"
   ]
  },
  {
   "cell_type": "code",
   "execution_count": 19,
   "id": "acb3a796",
   "metadata": {},
   "outputs": [
    {
     "name": "stdout",
     "output_type": "stream",
     "text": [
      "[100, 121, 144, 169, 196, 225, 256, 289, 324, 361, 400]\n"
     ]
    },
    {
     "data": {
      "text/plain": [
       "[10, 11, 12, 13, 14, 15, 16, 17, 18, 19, 20]"
      ]
     },
     "execution_count": 19,
     "metadata": {},
     "output_type": "execute_result"
    }
   ],
   "source": [
    "lst = [10,11,12,13,14,15,16,17,18,19,20]\n",
    "# list of square of each element from lst\n",
    "print(list(map(lambda num: num**2, lst)))\n",
    "list(filter(lambda num:num*2, lst))"
   ]
  },
  {
   "cell_type": "code",
   "execution_count": 20,
   "id": "eacf9594",
   "metadata": {},
   "outputs": [
    {
     "name": "stdout",
     "output_type": "stream",
     "text": [
      "['support', 'sales', 'info', 'careers', 'enquiries', 'news']\n"
     ]
    }
   ],
   "source": [
    "lst_email = ['support@domain.com',\n",
    "'sales@domain.com',\n",
    "'info@domain.com',\n",
    "'careers@domain.com',\n",
    "'enquiries@domain.com',\n",
    "'news@domain.com' ]\n",
    "\n",
    "# 1. Find the user name of each email id \n",
    "print(list(map(lambda ID: ID.split('@')[0] ,lst_email)))"
   ]
  },
  {
   "cell_type": "code",
   "execution_count": 22,
   "id": "44914825",
   "metadata": {},
   "outputs": [
    {
     "data": {
      "text/plain": [
       "['support', 'info', 'careers']"
      ]
     },
     "execution_count": 22,
     "metadata": {},
     "output_type": "execute_result"
    }
   ],
   "source": [
    "lst_email = ['support@domain.com',\n",
    "'sales@domain.com',\n",
    "'info@domain.com',\n",
    "'careers@domain.com',\n",
    "'enquiries@domain.com',\n",
    "'news@domain.com' ]\n",
    "\n",
    "lst_id = [101, None, 901, 899, None, None]\n",
    "\n",
    "# 2. find the user name of all those email id where id is not None\n",
    "\n",
    "a = filter(lambda email:lst_id[lst_email.index(email)], lst_email)\n",
    "list(map(lambda email:email.split('@')[0], a))"
   ]
  },
  {
   "cell_type": "code",
   "execution_count": 23,
   "id": "ac1efa30",
   "metadata": {},
   "outputs": [
    {
     "data": {
      "text/plain": [
       "['sales@domain.com', 'enquiries@domain.com', 'news@domain.com']"
      ]
     },
     "execution_count": 23,
     "metadata": {},
     "output_type": "execute_result"
    }
   ],
   "source": [
    "lst_email = ['support@domain.com',\n",
    "'sales@domain.com',\n",
    "'info@domain.com',\n",
    "'careers@domain.com',\n",
    "'enquiries@domain.com',\n",
    "'news@domain.com' ]\n",
    "\n",
    "lst_id = [101, None, 901, 899, None, None]\n",
    "\n",
    "list(filter(lambda email: not lst_id[lst_email.index(email)],lst_email))"
   ]
  },
  {
   "cell_type": "code",
   "execution_count": 24,
   "id": "2beccb0e",
   "metadata": {},
   "outputs": [],
   "source": [
    "lst_email = ['support@domain.com',\n",
    "'sales@domain.com',\n",
    "'info@domain.com',\n",
    "'careers@domain.com',\n",
    "'enquiries@domain.com',\n",
    "'news@domain.com' ]\n",
    "\n",
    "lst_id = [101, None, 901, 899, None, None]\n",
    "\n",
    "a = filter(lambda email:lst_id[lst_email.index(email)], lst_email)\n",
    "# list(a)"
   ]
  },
  {
   "cell_type": "code",
   "execution_count": 25,
   "id": "e5c5845e",
   "metadata": {},
   "outputs": [
    {
     "name": "stdout",
     "output_type": "stream",
     "text": [
      "['ArithmeticError', 'AssertionError', 'AttributeError', 'BaseException', 'BlockingIOError', 'BrokenPipeError', 'BufferError', 'BytesWarning', 'ChildProcessError', 'ConnectionAbortedError', 'ConnectionError', 'ConnectionRefusedError', 'ConnectionResetError', 'DeprecationWarning', 'EOFError', 'Ellipsis', 'EnvironmentError', 'Exception', 'False', 'FileExistsError', 'FileNotFoundError', 'FloatingPointError', 'FutureWarning', 'GeneratorExit', 'IOError', 'ImportError', 'ImportWarning', 'IndentationError', 'IndexError', 'InterruptedError', 'IsADirectoryError', 'KeyError', 'KeyboardInterrupt', 'LookupError', 'MemoryError', 'ModuleNotFoundError', 'NameError', 'None', 'NotADirectoryError', 'NotImplemented', 'NotImplementedError', 'OSError', 'OverflowError', 'PendingDeprecationWarning', 'PermissionError', 'ProcessLookupError', 'RecursionError', 'ReferenceError', 'ResourceWarning', 'RuntimeError', 'RuntimeWarning', 'StopAsyncIteration', 'StopIteration', 'SyntaxError', 'SyntaxWarning', 'SystemError', 'SystemExit', 'TabError', 'TimeoutError', 'True', 'TypeError', 'UnboundLocalError', 'UnicodeDecodeError', 'UnicodeEncodeError', 'UnicodeError', 'UnicodeTranslateError', 'UnicodeWarning', 'UserWarning', 'ValueError', 'Warning', 'WindowsError', 'ZeroDivisionError', '__IPYTHON__', '__build_class__', '__debug__', '__doc__', '__import__', '__loader__', '__name__', '__package__', '__spec__', 'abs', 'all', 'any', 'ascii', 'bin', 'bool', 'breakpoint', 'bytearray', 'bytes', 'callable', 'chr', 'classmethod', 'compile', 'complex', 'copyright', 'credits', 'delattr', 'dict', 'dir', 'display', 'divmod', 'enumerate', 'eval', 'exec', 'execfile', 'filter', 'float', 'format', 'frozenset', 'get_ipython', 'getattr', 'globals', 'hasattr', 'hash', 'help', 'hex', 'id', 'input', 'int', 'isinstance', 'issubclass', 'iter', 'len', 'license', 'list', 'locals', 'map', 'max', 'memoryview', 'min', 'next', 'object', 'oct', 'open', 'ord', 'pow', 'print', 'property', 'range', 'repr', 'reversed', 'round', 'runfile', 'set', 'setattr', 'slice', 'sorted', 'staticmethod', 'str', 'sum', 'super', 'tuple', 'type', 'vars', 'zip']\n"
     ]
    }
   ],
   "source": [
    "print(dir(__builtins__))"
   ]
  },
  {
   "cell_type": "code",
   "execution_count": 26,
   "id": "5043dad2",
   "metadata": {},
   "outputs": [
    {
     "data": {
      "text/plain": [
       "[33.8, 35.6, 37.4, 39.2, 41.0, 42.8, 44.6]"
      ]
     },
     "execution_count": 26,
     "metadata": {},
     "output_type": "execute_result"
    }
   ],
   "source": [
    "temp=[1,2,3,4,5,6,7]\n",
    "list(map(lambda T:float(9)/5*T+32,temp))"
   ]
  },
  {
   "cell_type": "code",
   "execution_count": 27,
   "id": "11b003b2",
   "metadata": {},
   "outputs": [
    {
     "data": {
      "text/plain": [
       "[10, 20, 30, 40, 50, 60, 70]"
      ]
     },
     "execution_count": 27,
     "metadata": {},
     "output_type": "execute_result"
    }
   ],
   "source": [
    "nums=[1,2,3,4,5,6,7]\n",
    "list(map(lambda num:num*10,nums))"
   ]
  },
  {
   "cell_type": "code",
   "execution_count": 28,
   "id": "bafb0f15",
   "metadata": {},
   "outputs": [],
   "source": [
    "#map is commonly used with lambda functions since the entire purpose of the map function is to reduce the efforts."
   ]
  },
  {
   "cell_type": "code",
   "execution_count": 29,
   "id": "0d41b284",
   "metadata": {},
   "outputs": [],
   "source": [
    "#map function can also be run with 2 or more iterables"
   ]
  },
  {
   "cell_type": "code",
   "execution_count": 30,
   "id": "433832be",
   "metadata": {},
   "outputs": [
    {
     "data": {
      "text/plain": [
       "[3, 6, 9, 12, 15]"
      ]
     },
     "execution_count": 30,
     "metadata": {},
     "output_type": "execute_result"
    }
   ],
   "source": [
    "a=[1,2,3,4,5]\n",
    "b=[1,2,3,4,5]\n",
    "c=[1,2,3,4,5]\n",
    "list(map(lambda x,y,z:x+y+z,a,b,c))"
   ]
  },
  {
   "cell_type": "markdown",
   "id": "d93d71d4",
   "metadata": {},
   "source": [
    "## Reduce"
   ]
  },
  {
   "cell_type": "code",
   "execution_count": 31,
   "id": "8a38f7ac",
   "metadata": {},
   "outputs": [],
   "source": [
    "#syntax:\n",
    "#reduce(function,iterables)\n",
    "#will always take 2 parameters\n",
    "#it always returns a single value at the end"
   ]
  },
  {
   "cell_type": "code",
   "execution_count": 34,
   "id": "9e2f74d8",
   "metadata": {},
   "outputs": [
    {
     "ename": "TypeError",
     "evalue": "sum() missing 1 required positional argument: 'b'",
     "output_type": "error",
     "traceback": [
      "\u001b[1;31m---------------------------------------------------------------------------\u001b[0m",
      "\u001b[1;31mTypeError\u001b[0m                                 Traceback (most recent call last)",
      "\u001b[1;32m~\\AppData\\Local\\Temp/ipykernel_7640/1263644522.py\u001b[0m in \u001b[0;36m<module>\u001b[1;34m\u001b[0m\n\u001b[0;32m      4\u001b[0m \u001b[1;31m# from math import prod\u001b[0m\u001b[1;33m\u001b[0m\u001b[1;33m\u001b[0m\u001b[0m\n\u001b[0;32m      5\u001b[0m \u001b[0mlst\u001b[0m \u001b[1;33m=\u001b[0m \u001b[1;33m[\u001b[0m\u001b[1;36m10\u001b[0m\u001b[1;33m,\u001b[0m\u001b[1;36m11\u001b[0m\u001b[1;33m,\u001b[0m\u001b[1;36m12\u001b[0m\u001b[1;33m,\u001b[0m\u001b[1;36m13\u001b[0m\u001b[1;33m,\u001b[0m\u001b[1;36m14\u001b[0m\u001b[1;33m,\u001b[0m\u001b[1;36m15\u001b[0m\u001b[1;33m,\u001b[0m\u001b[1;36m16\u001b[0m\u001b[1;33m,\u001b[0m\u001b[1;36m17\u001b[0m\u001b[1;33m,\u001b[0m\u001b[1;36m18\u001b[0m\u001b[1;33m,\u001b[0m\u001b[1;36m19\u001b[0m\u001b[1;33m,\u001b[0m\u001b[1;36m20\u001b[0m\u001b[1;33m]\u001b[0m\u001b[1;33m\u001b[0m\u001b[1;33m\u001b[0m\u001b[0m\n\u001b[1;32m----> 6\u001b[1;33m \u001b[0mprint\u001b[0m\u001b[1;33m(\u001b[0m\u001b[0msum\u001b[0m\u001b[1;33m(\u001b[0m\u001b[0mlst\u001b[0m\u001b[1;33m)\u001b[0m\u001b[1;33m)\u001b[0m\u001b[1;33m\u001b[0m\u001b[1;33m\u001b[0m\u001b[0m\n\u001b[0m\u001b[0;32m      7\u001b[0m \u001b[0mprint\u001b[0m\u001b[1;33m(\u001b[0m\u001b[0mmax\u001b[0m\u001b[1;33m(\u001b[0m\u001b[0mlst\u001b[0m\u001b[1;33m)\u001b[0m\u001b[1;33m)\u001b[0m\u001b[1;33m\u001b[0m\u001b[1;33m\u001b[0m\u001b[0m\n\u001b[0;32m      8\u001b[0m \u001b[0mprint\u001b[0m\u001b[1;33m(\u001b[0m\u001b[0mmin\u001b[0m\u001b[1;33m(\u001b[0m\u001b[0mlst\u001b[0m\u001b[1;33m)\u001b[0m\u001b[1;33m)\u001b[0m\u001b[1;33m\u001b[0m\u001b[1;33m\u001b[0m\u001b[0m\n",
      "\u001b[1;31mTypeError\u001b[0m: sum() missing 1 required positional argument: 'b'"
     ]
    }
   ],
   "source": [
    "# Finding the aggregate value - reduce\n",
    "# 3.5 - functools\n",
    "# sum, max, min, prod\n",
    "# from math import prod\n",
    "lst = [10,11,12,13,14,15,16,17,18,19,20]\n",
    "print(sum(lst))\n",
    "print(max(lst))\n",
    "print(min(lst))\n",
    "print(prod(lst))"
   ]
  },
  {
   "cell_type": "code",
   "execution_count": 36,
   "id": "4bf247cf",
   "metadata": {},
   "outputs": [
    {
     "name": "stdout",
     "output_type": "stream",
     "text": [
      "165\n",
      "6704425728000\n"
     ]
    },
    {
     "data": {
      "text/plain": [
       "15"
      ]
     },
     "execution_count": 36,
     "metadata": {},
     "output_type": "execute_result"
    }
   ],
   "source": [
    "# reduce - returns a single value after aggregating\n",
    "# has to be imported from functools module\n",
    "# reduce(func, iterable)\n",
    "from functools import reduce\n",
    "lst = [10,11,12,13,14,15,16,17,18,19,20]\n",
    "print(reduce(lambda x, y:x+y, lst))\n",
    "print(reduce(lambda x, y:x*y, lst))\n",
    "# print(reduce(lambda x, y : x>y, lst))\n",
    "from functools import reduce \n",
    "\n",
    "lst = [10,11,12,13,14,15]\n",
    "\n",
    "reduce (lambda x,y:x+y,lst) \n",
    "\n",
    "reduce (lambda x,y: (y if x>y else x),lst)\n",
    "reduce (lambda x,y: (y if x<y else x),lst)"
   ]
  },
  {
   "cell_type": "code",
   "execution_count": 37,
   "id": "bca0a14c",
   "metadata": {},
   "outputs": [],
   "source": [
    "nums=[1,2,3,4,5,6,7]    #add all the numbers"
   ]
  },
  {
   "cell_type": "code",
   "execution_count": 38,
   "id": "8633cd7d",
   "metadata": {},
   "outputs": [],
   "source": [
    "from functools import reduce"
   ]
  },
  {
   "cell_type": "code",
   "execution_count": 39,
   "id": "38fa74fe",
   "metadata": {},
   "outputs": [
    {
     "data": {
      "text/plain": [
       "28"
      ]
     },
     "execution_count": 39,
     "metadata": {},
     "output_type": "execute_result"
    }
   ],
   "source": [
    "reduce(lambda a,b:a+b,nums)"
   ]
  },
  {
   "cell_type": "code",
   "execution_count": 40,
   "id": "9eab1208",
   "metadata": {},
   "outputs": [
    {
     "data": {
      "text/plain": [
       "7"
      ]
     },
     "execution_count": 40,
     "metadata": {},
     "output_type": "execute_result"
    }
   ],
   "source": [
    "reduce(lambda a,b:a if a>b else b,[1,2,3,4,5,6,7])"
   ]
  },
  {
   "cell_type": "markdown",
   "id": "42bf285c",
   "metadata": {},
   "source": [
    "## Filter"
   ]
  },
  {
   "cell_type": "code",
   "execution_count": 41,
   "id": "21c75ad4",
   "metadata": {},
   "outputs": [],
   "source": [
    "#filter out the elements based on some condition\n",
    "#syntax:filter(function,iterables)\n",
    "#it always takes one parameter"
   ]
  },
  {
   "cell_type": "code",
   "execution_count": 42,
   "id": "cb3574cf",
   "metadata": {},
   "outputs": [
    {
     "data": {
      "text/plain": [
       "[2, 4, 6, 8]"
      ]
     },
     "execution_count": 42,
     "metadata": {},
     "output_type": "execute_result"
    }
   ],
   "source": [
    "a=[1,2,3,4,5,6,7,8,9]\n",
    "list(filter(lambda x:x%2==0,a))"
   ]
  },
  {
   "cell_type": "code",
   "execution_count": 43,
   "id": "1f3dfee5",
   "metadata": {},
   "outputs": [],
   "source": [
    "#only if the function returns True, the element of iterable will be included in the list"
   ]
  },
  {
   "cell_type": "code",
   "execution_count": 44,
   "id": "180c56c5",
   "metadata": {},
   "outputs": [],
   "source": [
    "# filter(func, iterable)\n",
    "# Returns a filter object\n",
    "# filter object - iterator\n",
    "\n",
    "lst = [10, 11, 12, 13, 14, 15, 16, 17, 18, 19]"
   ]
  },
  {
   "cell_type": "code",
   "execution_count": 45,
   "id": "2c289597",
   "metadata": {},
   "outputs": [],
   "source": [
    "def odd_even(num):\n",
    "    if num%2 == 0:\n",
    "        return True\n",
    "    else:\n",
    "        return False"
   ]
  },
  {
   "cell_type": "code",
   "execution_count": 46,
   "id": "e7aa14e2",
   "metadata": {},
   "outputs": [
    {
     "data": {
      "text/plain": [
       "[10, 12, 14, 16, 18]"
      ]
     },
     "execution_count": 46,
     "metadata": {},
     "output_type": "execute_result"
    }
   ],
   "source": [
    "def my_filter(f, l):\n",
    "    out_lst = []\n",
    "    for ele in l:\n",
    "        if f(ele) == True:\n",
    "            out_lst.append(ele)\n",
    "    return out_lst\n",
    "\n",
    "my_filter(odd_even, lst)\n"
   ]
  },
  {
   "cell_type": "code",
   "execution_count": 47,
   "id": "800e8036",
   "metadata": {},
   "outputs": [],
   "source": [
    "# list(filter(lambda num:num%2, lst))"
   ]
  },
  {
   "cell_type": "code",
   "execution_count": 48,
   "id": "3ae6fe7d",
   "metadata": {},
   "outputs": [
    {
     "data": {
      "text/plain": [
       "['support@domain.com', 'info@domain.com', 'careers@domain.com']"
      ]
     },
     "execution_count": 48,
     "metadata": {},
     "output_type": "execute_result"
    }
   ],
   "source": [
    "lst_email = ['support@domain.com',\n",
    "'sales@domain.com',\n",
    "'info@domain.com',\n",
    "'careers@domain.com',\n",
    "'enquiries@domain.com',\n",
    "'news@domain.com' ]\n",
    "\n",
    "lst_id = [101, None, 901, 899, None, None]\n",
    "            \n",
    "# Give the list if all email ids where the length of user name is more than 5    \n",
    "# Give a lsit of all email id for which we have respective id in other list\n",
    "\n",
    "list(filter(lambda email:lst_id[lst_email.index(email)], lst_email))\n",
    "\n"
   ]
  },
  {
   "cell_type": "markdown",
   "id": "ea353847",
   "metadata": {},
   "source": [
    "## Enumerate"
   ]
  },
  {
   "cell_type": "code",
   "execution_count": 49,
   "id": "44720640",
   "metadata": {},
   "outputs": [],
   "source": [
    "#syntax:enumerate(iterable)"
   ]
  },
  {
   "cell_type": "code",
   "execution_count": 50,
   "id": "d55529f3",
   "metadata": {},
   "outputs": [
    {
     "data": {
      "text/plain": [
       "[(0, 1), (1, 2), (2, 3), (3, 4), (4, 5), (5, 6)]"
      ]
     },
     "execution_count": 50,
     "metadata": {},
     "output_type": "execute_result"
    }
   ],
   "source": [
    "list(enumerate([1,2,3,4,5,6]))"
   ]
  },
  {
   "cell_type": "code",
   "execution_count": 51,
   "id": "3f330fdd",
   "metadata": {},
   "outputs": [
    {
     "data": {
      "text/plain": [
       "[(10, 1), (11, 2), (12, 3), (13, 4), (14, 5), (15, 6)]"
      ]
     },
     "execution_count": 51,
     "metadata": {},
     "output_type": "execute_result"
    }
   ],
   "source": [
    "list(enumerate([1,2,3,4,5,6],start=10))"
   ]
  },
  {
   "cell_type": "code",
   "execution_count": 52,
   "id": "bac305b4",
   "metadata": {},
   "outputs": [],
   "source": [
    "lst=['alex@hotmail.com',\n",
    "    'elum@gmail.com',\n",
    "    'akbar.caakaterasu@gmail.com',\n",
    "    'ajmaiea@yahoo.com',\n",
    "    'alizeh@hotmail.com',\n",
    "    'ahmed_g300@yahoo.com',\n",
    "    'ahmadjazlan@gmail.com',\n",
    "    ]\n",
    "\n",
    "#1.filter all the mail ids with domain=@gmail.com\n",
    "#2.A seq of all username of email id-anything written before '@'"
   ]
  },
  {
   "cell_type": "code",
   "execution_count": 53,
   "id": "27eedf21",
   "metadata": {},
   "outputs": [
    {
     "name": "stdout",
     "output_type": "stream",
     "text": [
      "elum@gmail.com-->elum\n",
      "akbar.caakaterasu@gmail.com-->akbar.caakaterasu\n",
      "ahmadjazlan@gmail.com-->ahmadjazlan\n"
     ]
    }
   ],
   "source": [
    "for i in lst:\n",
    "    userid=i.split('@')\n",
    "    if userid[1]=='gmail.com':\n",
    "        print(i,end='-->')\n",
    "        print(userid[0])"
   ]
  },
  {
   "cell_type": "code",
   "execution_count": 54,
   "id": "a2ef5685",
   "metadata": {},
   "outputs": [
    {
     "data": {
      "text/plain": [
       "['elum@gmail.com', 'akbar.caakaterasu@gmail.com', 'ahmadjazlan@gmail.com']"
      ]
     },
     "execution_count": 54,
     "metadata": {},
     "output_type": "execute_result"
    }
   ],
   "source": [
    "#lambda function returns true or false.\n",
    "#sol1\n",
    "list(filter(lambda ids:'gmail.com' in ids,lst))"
   ]
  },
  {
   "cell_type": "code",
   "execution_count": 55,
   "id": "fa51cbe7",
   "metadata": {},
   "outputs": [
    {
     "data": {
      "text/plain": [
       "['alex',\n",
       " 'elum',\n",
       " 'akbar.caakaterasu',\n",
       " 'ajmaiea',\n",
       " 'alizeh',\n",
       " 'ahmed_g300',\n",
       " 'ahmadjazlan']"
      ]
     },
     "execution_count": 55,
     "metadata": {},
     "output_type": "execute_result"
    }
   ],
   "source": [
    "#sol2\n",
    "list(map(lambda ids:ids.split('@')[0],lst))"
   ]
  }
 ],
 "metadata": {
  "kernelspec": {
   "display_name": "Python 3 (ipykernel)",
   "language": "python",
   "name": "python3"
  },
  "language_info": {
   "codemirror_mode": {
    "name": "ipython",
    "version": 3
   },
   "file_extension": ".py",
   "mimetype": "text/x-python",
   "name": "python",
   "nbconvert_exporter": "python",
   "pygments_lexer": "ipython3",
   "version": "3.9.7"
  }
 },
 "nbformat": 4,
 "nbformat_minor": 5
}
