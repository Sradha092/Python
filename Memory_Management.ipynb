{
 "cells": [
  {
   "cell_type": "code",
   "execution_count": 1,
   "id": "6eaf7f63",
   "metadata": {},
   "outputs": [],
   "source": [
    "# Memory Management\n",
    "    #1. Memory Allocation - Raw Memory Allocator, PVM, Object Specific Allocator - \n",
    "    #2. Memory Deallocation - Garbage Collector"
   ]
  },
  {
   "cell_type": "code",
   "execution_count": 3,
   "id": "f17c12d9",
   "metadata": {},
   "outputs": [],
   "source": [
    "#Object - Heap Area - PVM, Object Specific Allocator\n",
    "   # int, float, complex, Boolean, String, List, Tuple, Set, Frozenset, Dictionary etc"
   ]
  },
  {
   "cell_type": "code",
   "execution_count": 4,
   "id": "42be840d",
   "metadata": {},
   "outputs": [
    {
     "name": "stdout",
     "output_type": "stream",
     "text": [
      "28 <class 'int'>\n",
      "64 <class 'int'>\n"
     ]
    }
   ],
   "source": [
    "import sys\n",
    "a = 100\n",
    "print(sys.getsizeof(a), type(a))\n",
    "a = 18297365743125813254712983654182365482317954863512481354856196543286451328549832548136943\n",
    "print(sys.getsizeof(a), type(a))"
   ]
  },
  {
   "cell_type": "code",
   "execution_count": 5,
   "id": "f3eddcb2",
   "metadata": {},
   "outputs": [
    {
     "name": "stdout",
     "output_type": "stream",
     "text": [
      "24 <class 'float'>\n",
      "24 <class 'float'>\n"
     ]
    }
   ],
   "source": [
    "a = 100.20\n",
    "print(sys.getsizeof(a), type(a))\n",
    "a = 1829736574312581325471298365418236548231795486351248135485619654328.64513285498325481369439872365734568273659872340\n",
    "print(sys.getsizeof(a), type(a))"
   ]
  },
  {
   "cell_type": "code",
   "execution_count": 6,
   "id": "43ad7417",
   "metadata": {},
   "outputs": [
    {
     "data": {
      "text/plain": [
       "4436383728"
      ]
     },
     "execution_count": 6,
     "metadata": {},
     "output_type": "execute_result"
    }
   ],
   "source": [
    "4436384176\n",
    "4436383728"
   ]
  },
  {
   "cell_type": "code",
   "execution_count": 10,
   "id": "ba10222a",
   "metadata": {},
   "outputs": [
    {
     "ename": "NameError",
     "evalue": "name 'start_engine' is not defined",
     "output_type": "error",
     "traceback": [
      "\u001b[1;31m---------------------------------------------------------------------------\u001b[0m",
      "\u001b[1;31mNameError\u001b[0m                                 Traceback (most recent call last)",
      "\u001b[1;32m~\\AppData\\Local\\Temp/ipykernel_2160/783540882.py\u001b[0m in \u001b[0;36m<module>\u001b[1;34m\u001b[0m\n\u001b[0;32m      1\u001b[0m \u001b[1;31m# Car\u001b[0m\u001b[1;33m\u001b[0m\u001b[1;33m\u001b[0m\u001b[0m\n\u001b[0;32m      2\u001b[0m \u001b[1;33m\u001b[0m\u001b[0m\n\u001b[1;32m----> 3\u001b[1;33m \u001b[1;32mclass\u001b[0m \u001b[0mCar\u001b[0m\u001b[1;33m:\u001b[0m\u001b[1;33m\u001b[0m\u001b[1;33m\u001b[0m\u001b[0m\n\u001b[0m\u001b[0;32m      4\u001b[0m     \u001b[0mseats\u001b[0m \u001b[1;33m=\u001b[0m \u001b[1;36m4\u001b[0m\u001b[1;33m\u001b[0m\u001b[1;33m\u001b[0m\u001b[0m\n\u001b[0;32m      5\u001b[0m     \u001b[0msteering\u001b[0m \u001b[1;33m=\u001b[0m \u001b[1;36m1\u001b[0m\u001b[1;33m\u001b[0m\u001b[1;33m\u001b[0m\u001b[0m\n",
      "\u001b[1;32m~\\AppData\\Local\\Temp/ipykernel_2160/783540882.py\u001b[0m in \u001b[0;36mCar\u001b[1;34m()\u001b[0m\n\u001b[0;32m      7\u001b[0m     \u001b[0mengine\u001b[0m \u001b[1;33m=\u001b[0m \u001b[1;36m1\u001b[0m\u001b[1;33m\u001b[0m\u001b[1;33m\u001b[0m\u001b[0m\n\u001b[0;32m      8\u001b[0m \u001b[1;33m\u001b[0m\u001b[0m\n\u001b[1;32m----> 9\u001b[1;33m     \u001b[0mstart_engine\u001b[0m\u001b[1;33m(\u001b[0m\u001b[1;33m)\u001b[0m\u001b[1;33m\u001b[0m\u001b[1;33m\u001b[0m\u001b[0m\n\u001b[0m\u001b[0;32m     10\u001b[0m     \u001b[0mstop_engine\u001b[0m\u001b[1;33m(\u001b[0m\u001b[1;33m)\u001b[0m\u001b[1;33m\u001b[0m\u001b[1;33m\u001b[0m\u001b[0m\n\u001b[0;32m     11\u001b[0m     \u001b[0maccelerate\u001b[0m\u001b[1;33m(\u001b[0m\u001b[1;33m)\u001b[0m\u001b[1;33m\u001b[0m\u001b[1;33m\u001b[0m\u001b[0m\n",
      "\u001b[1;31mNameError\u001b[0m: name 'start_engine' is not defined"
     ]
    }
   ],
   "source": [
    "# Car\n",
    "\n",
    "class Car:\n",
    "    seats = 4\n",
    "    steering = 1\n",
    "    wheel= 4\n",
    "    engine = 1\n",
    "    \n",
    "    start_engine()\n",
    "    stop_engine()\n",
    "    accelerate()\n",
    "    apply_break()\n",
    "    \n",
    "audi = Car()"
   ]
  },
  {
   "cell_type": "code",
   "execution_count": 9,
   "id": "dcc79443",
   "metadata": {},
   "outputs": [
    {
     "name": "stdout",
     "output_type": "stream",
     "text": [
      "<class 'int'>\n"
     ]
    }
   ],
   "source": [
    "a = 10\n",
    "print(type(a))"
   ]
  },
  {
   "cell_type": "code",
   "execution_count": 12,
   "id": "c7d83426",
   "metadata": {},
   "outputs": [],
   "source": [
    "a = 10\n",
    "#instance"
   ]
  },
  {
   "cell_type": "code",
   "execution_count": 13,
   "id": "5a5bb0c7",
   "metadata": {},
   "outputs": [
    {
     "name": "stdout",
     "output_type": "stream",
     "text": [
      "2050126121840\n",
      "2050126927184\n",
      "10.0\n"
     ]
    }
   ],
   "source": [
    "a=10.0\n",
    "b=10.0\n",
    "print(id(a))\n",
    "print(id(b))\n",
    "d=5.0\n",
    "c=(d)*2\n",
    "print(c)\n",
    "\n",
    "# here a and c are in different mem address, but when they all are int they are in same mem address"
   ]
  },
  {
   "cell_type": "code",
   "execution_count": 14,
   "id": "aaeecc19",
   "metadata": {},
   "outputs": [
    {
     "name": "stdout",
     "output_type": "stream",
     "text": [
      "True\n",
      "False\n"
     ]
    }
   ],
   "source": [
    "import gc\n",
    "print(gc.isenabled())\n",
    "gc.disable()\n",
    "print(gc.isenabled())"
   ]
  },
  {
   "cell_type": "code",
   "execution_count": null,
   "id": "820a06dc",
   "metadata": {},
   "outputs": [],
   "source": []
  }
 ],
 "metadata": {
  "kernelspec": {
   "display_name": "Python 3 (ipykernel)",
   "language": "python",
   "name": "python3"
  },
  "language_info": {
   "codemirror_mode": {
    "name": "ipython",
    "version": 3
   },
   "file_extension": ".py",
   "mimetype": "text/x-python",
   "name": "python",
   "nbconvert_exporter": "python",
   "pygments_lexer": "ipython3",
   "version": "3.9.7"
  }
 },
 "nbformat": 4,
 "nbformat_minor": 5
}
